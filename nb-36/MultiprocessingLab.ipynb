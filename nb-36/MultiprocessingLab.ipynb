{
 "cells": [
  {
   "cell_type": "markdown",
   "metadata": {
    "deletable": true,
    "editable": true,
    "slideshow": {
     "slide_type": "skip"
    }
   },
   "source": [
    "[Slides](./MultiprocessingLab.slides.html)"
   ]
  },
  {
   "cell_type": "markdown",
   "metadata": {
    "deletable": true,
    "editable": true,
    "slideshow": {
     "slide_type": "slide"
    }
   },
   "source": [
    "# Lab for Multiprocessing with Python\n",
    "\n",
    "- Write a function print_time() that logs the current time each second\n",
    "- Write a program that starts the print_time() function in a process, sleeps for 10s, and then exits (use terminate())"
   ]
  },
  {
   "cell_type": "markdown",
   "metadata": {
    "deletable": true,
    "editable": true,
    "slideshow": {
     "slide_type": "slide"
    }
   },
   "source": [
    "[print_time.py](/edit/examples/Multiprocessing/print_time.py)"
   ]
  },
  {
   "cell_type": "code",
   "execution_count": 1,
   "metadata": {
    "collapsed": false,
    "deletable": true,
    "editable": true
   },
   "outputs": [
    {
     "name": "stdout",
     "output_type": "stream",
     "text": [
      "Wed Mar 15 19:57:12 2017\n",
      "Wed Mar 15 19:57:13 2017\n",
      "Wed Mar 15 19:57:14 2017\n",
      "Wed Mar 15 19:57:15 2017\n",
      "Wed Mar 15 19:57:16 2017\n",
      "Wed Mar 15 19:57:17 2017\n",
      "Wed Mar 15 19:57:18 2017\n",
      "Wed Mar 15 19:57:19 2017\n",
      "Wed Mar 15 19:57:20 2017\n",
      "Wed Mar 15 19:57:21 2017\n"
     ]
    }
   ],
   "source": [
    "!python ../examples/Multiprocessing/print_time.py"
   ]
  }
 ],
 "metadata": {
  "celltoolbar": "Slideshow",
  "kernelspec": {
   "display_name": "Python 3",
   "language": "python",
   "name": "python3"
  },
  "language_info": {
   "codemirror_mode": {
    "name": "ipython",
    "version": 3
   },
   "file_extension": ".py",
   "mimetype": "text/x-python",
   "name": "python",
   "nbconvert_exporter": "python",
   "pygments_lexer": "ipython3",
   "version": "3.6.0"
  }
 },
 "nbformat": 4,
 "nbformat_minor": 0
}
