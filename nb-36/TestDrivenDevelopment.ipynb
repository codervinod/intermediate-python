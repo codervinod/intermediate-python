{
 "cells": [
  {
   "cell_type": "markdown",
   "metadata": {
    "deletable": true,
    "editable": true,
    "slideshow": {
     "slide_type": "skip"
    }
   },
   "source": [
    "[Slides](./TestDrivenDevelopment.slides.html)"
   ]
  },
  {
   "cell_type": "markdown",
   "metadata": {
    "deletable": true,
    "editable": true,
    "slideshow": {
     "slide_type": "slide"
    }
   },
   "source": [
    "# Test-driven Development\n",
    "\n",
    "In this module you'll learn\n",
    "\n",
    "- How you can use test-driven development to build a module test-first\n",
    "- How to use Python's `unittest` framework to build a suite of tests\n"
   ]
  },
  {
   "cell_type": "markdown",
   "metadata": {
    "deletable": true,
    "editable": true,
    "slideshow": {
     "slide_type": "slide"
    }
   },
   "source": [
    "# Test-driven development example\n",
    "\n",
    "Though this is a contrived example, it illustrates the ideas behind test-driven development. Suppose we wish to build a calculator class that adds numbers. Let's start test-first:"
   ]
  },
  {
   "cell_type": "code",
   "execution_count": 1,
   "metadata": {
    "collapsed": true,
    "deletable": true,
    "editable": true
   },
   "outputs": [],
   "source": [
    "import unittest\n",
    "# normally we'd use unittest.main() or nosetests to run our tests. In this case, we're going to \\\n",
    "# manually create our own test loader/runner\n",
    "runner = unittest.runner.TextTestRunner()\n",
    "loader = unittest.TestLoader()"
   ]
  },
  {
   "cell_type": "code",
   "execution_count": 2,
   "metadata": {
    "collapsed": true,
    "deletable": true,
    "editable": true,
    "slideshow": {
     "slide_type": "slide"
    }
   },
   "outputs": [],
   "source": [
    "class TestCalculatorAdd(unittest.TestCase):\n",
    "\n",
    "    def test_calculator_add_returns_correct_result(self):\n",
    "        calc = Calculator()\n",
    "        result = calc.add(2,2)\n",
    "        self.assertEqual(4, result)\n",
    "        \n",
    "def run_test():\n",
    "    runner.run(loader.loadTestsFromTestCase(TestCalculatorAdd))"
   ]
  },
  {
   "cell_type": "code",
   "execution_count": 3,
   "metadata": {
    "collapsed": false,
    "deletable": true,
    "editable": true
   },
   "outputs": [
    {
     "name": "stderr",
     "output_type": "stream",
     "text": [
      "E\n",
      "======================================================================\n",
      "ERROR: test_calculator_add_returns_correct_result (__main__.TestCalculatorAdd)\n",
      "----------------------------------------------------------------------\n",
      "Traceback (most recent call last):\n",
      "  File \"<ipython-input-2-a0494b1df32a>\", line 4, in test_calculator_add_returns_correct_result\n",
      "    calc = Calculator()\n",
      "NameError: name 'Calculator' is not defined\n",
      "\n",
      "----------------------------------------------------------------------\n",
      "Ran 1 test in 0.001s\n",
      "\n",
      "FAILED (errors=1)\n"
     ]
    }
   ],
   "source": [
    "run_test()"
   ]
  },
  {
   "cell_type": "code",
   "execution_count": 4,
   "metadata": {
    "collapsed": false,
    "deletable": true,
    "editable": true,
    "slideshow": {
     "slide_type": "slide"
    }
   },
   "outputs": [
    {
     "name": "stderr",
     "output_type": "stream",
     "text": [
      "F\n",
      "======================================================================\n",
      "FAIL: test_calculator_add_returns_correct_result (__main__.TestCalculatorAdd)\n",
      "----------------------------------------------------------------------\n",
      "Traceback (most recent call last):\n",
      "  File \"<ipython-input-2-a0494b1df32a>\", line 6, in test_calculator_add_returns_correct_result\n",
      "    self.assertEqual(4, result)\n",
      "AssertionError: 4 != None\n",
      "\n",
      "----------------------------------------------------------------------\n",
      "Ran 1 test in 0.001s\n",
      "\n",
      "FAILED (failures=1)\n"
     ]
    }
   ],
   "source": [
    "class Calculator(object):\n",
    "    \n",
    "    def add(self, a, b):\n",
    "        pass\n",
    "    \n",
    "run_test()"
   ]
  },
  {
   "cell_type": "code",
   "execution_count": 5,
   "metadata": {
    "collapsed": false,
    "deletable": true,
    "editable": true,
    "slideshow": {
     "slide_type": "slide"
    }
   },
   "outputs": [
    {
     "name": "stderr",
     "output_type": "stream",
     "text": [
      ".\n",
      "----------------------------------------------------------------------\n",
      "Ran 1 test in 0.001s\n",
      "\n",
      "OK\n"
     ]
    }
   ],
   "source": [
    "class Calculator(object):\n",
    "    \n",
    "    def add(self, a, b):\n",
    "        return a + b\n",
    "    \n",
    "run_test()"
   ]
  },
  {
   "cell_type": "markdown",
   "metadata": {
    "deletable": true,
    "editable": true,
    "slideshow": {
     "slide_type": "slide"
    }
   },
   "source": [
    "## Handling exceptions\n",
    "\n",
    "This works fine, but what about unexpected inputs? Python lets almost anything add, but let's make our calculator \n",
    "more selective:"
   ]
  },
  {
   "cell_type": "code",
   "execution_count": 6,
   "metadata": {
    "collapsed": false,
    "deletable": true,
    "editable": true,
    "slideshow": {
     "slide_type": "slide"
    }
   },
   "outputs": [
    {
     "name": "stderr",
     "output_type": "stream",
     "text": [
      ".F\n",
      "======================================================================\n",
      "FAIL: test_calculator_raises_error_if_both_args_not_numbers (__main__.TestCalculatorAdd)\n",
      "----------------------------------------------------------------------\n",
      "Traceback (most recent call last):\n",
      "  File \"<ipython-input-6-2b0a2fe6752b>\", line 11, in test_calculator_raises_error_if_both_args_not_numbers\n",
      "    self.assertRaises(ValueError, self.calc.add, 'two', 'three')\n",
      "AssertionError: ValueError not raised by add\n",
      "\n",
      "----------------------------------------------------------------------\n",
      "Ran 2 tests in 0.002s\n",
      "\n",
      "FAILED (failures=1)\n"
     ]
    }
   ],
   "source": [
    "class TestCalculatorAdd(unittest.TestCase):\n",
    "\n",
    "    def setUp(self):\n",
    "        self.calc = Calculator()\n",
    "        \n",
    "    def test_calculator_add_returns_correct_result(self):\n",
    "        result = self.calc.add(2,2)\n",
    "        self.assertEqual(4, result)\n",
    "        \n",
    "    def test_calculator_raises_error_if_both_args_not_numbers(self):\n",
    "        self.assertRaises(ValueError, self.calc.add, 'two', 'three')\n",
    "\n",
    "        \n",
    "run_test()"
   ]
  },
  {
   "cell_type": "code",
   "execution_count": 7,
   "metadata": {
    "collapsed": false,
    "deletable": true,
    "editable": true,
    "slideshow": {
     "slide_type": "slide"
    }
   },
   "outputs": [
    {
     "name": "stderr",
     "output_type": "stream",
     "text": [
      "..\n",
      "----------------------------------------------------------------------\n",
      "Ran 2 tests in 0.002s\n",
      "\n",
      "OK\n"
     ]
    }
   ],
   "source": [
    "class Calculator(object):\n",
    "    valid_types = (int, float, complex)\n",
    "    def add(self, x, y):\n",
    "        if not isinstance(x, self.valid_types):\n",
    "            raise ValueError()\n",
    "        if not isinstance(y, self.valid_types):\n",
    "            raise ValueError()\n",
    "        return x + y\n",
    "\n",
    "run_test()"
   ]
  },
  {
   "cell_type": "code",
   "execution_count": 8,
   "metadata": {
    "collapsed": false,
    "deletable": true,
    "editable": true,
    "slideshow": {
     "slide_type": "slide"
    }
   },
   "outputs": [
    {
     "name": "stderr",
     "output_type": "stream",
     "text": [
      "....\n",
      "----------------------------------------------------------------------\n",
      "Ran 4 tests in 0.004s\n",
      "\n",
      "OK\n"
     ]
    }
   ],
   "source": [
    "class TestCalculatorAdd(unittest.TestCase):\n",
    "\n",
    "    def setUp(self):\n",
    "        self.calc = Calculator()\n",
    "        \n",
    "    def test_calculator_add_returns_correct_result(self):\n",
    "        result = self.calc.add(2,2)\n",
    "        self.assertEqual(4, result)\n",
    "        \n",
    "    def test_calculator_raises_error_if_both_args_not_numbers(self):\n",
    "        self.assertRaises(ValueError, self.calc.add, 'two', 'three')\n",
    "\n",
    "    def test_calculator_raises_error_if_x_not_number(self):\n",
    "        self.assertRaises(ValueError, self.calc.add, 'two', 3)\n",
    "\n",
    "    def test_calculator_raises_error_if_y_not_number(self):\n",
    "        self.assertRaises(ValueError, self.calc.add, 2, 'three')\n",
    "\n",
    "        \n",
    "run_test()"
   ]
  },
  {
   "cell_type": "markdown",
   "metadata": {
    "deletable": true,
    "editable": true,
    "slideshow": {
     "slide_type": "slide"
    }
   },
   "source": [
    "# Demonstration of a test suite\n",
    "\n",
    "[Test Files](/tree/examples/TestDrivenDevelopment)"
   ]
  }
 ],
 "metadata": {
  "celltoolbar": "Slideshow",
  "kernelspec": {
   "display_name": "Python 3",
   "language": "python",
   "name": "python3"
  },
  "language_info": {
   "codemirror_mode": {
    "name": "ipython",
    "version": 3
   },
   "file_extension": ".py",
   "mimetype": "text/x-python",
   "name": "python",
   "nbconvert_exporter": "python",
   "pygments_lexer": "ipython3",
   "version": "3.6.0"
  }
 },
 "nbformat": 4,
 "nbformat_minor": 0
}
