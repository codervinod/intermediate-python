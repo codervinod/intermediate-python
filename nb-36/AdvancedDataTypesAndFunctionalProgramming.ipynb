{
 "cells": [
  {
   "cell_type": "markdown",
   "metadata": {},
   "source": [
    "# The Collections Module\n",
    "\n",
    "The collections model contains a number of not-quite-builtin collection types that are nonetheless used very frequently."
   ]
  },
  {
   "cell_type": "code",
   "execution_count": 1,
   "metadata": {
    "collapsed": false
   },
   "outputs": [],
   "source": [
    "import collections"
   ]
  },
  {
   "cell_type": "markdown",
   "metadata": {},
   "source": [
    "## namedtuple\n",
    "\n",
    "tuples are nice, but it's sometimes hard to remember the meaning of each position. `namedtuple` lets you refer to tuple positions by name as well as position."
   ]
  },
  {
   "cell_type": "code",
   "execution_count": 2,
   "metadata": {
    "collapsed": false
   },
   "outputs": [
    {
     "data": {
      "text/plain": [
       "Point(x=2, y=3)"
      ]
     },
     "execution_count": 2,
     "metadata": {},
     "output_type": "execute_result"
    }
   ],
   "source": [
    "Point = collections.namedtuple('Point', 'x y')\n",
    "pt = Point(2, 3)\n",
    "pt"
   ]
  },
  {
   "cell_type": "markdown",
   "metadata": {},
   "source": [
    "You can retrieve values from a `namedtuple` by index or by value:"
   ]
  },
  {
   "cell_type": "code",
   "execution_count": 3,
   "metadata": {
    "collapsed": false
   },
   "outputs": [
    {
     "name": "stdout",
     "output_type": "stream",
     "text": [
      "by index: 2\n",
      "by name: 2\n"
     ]
    }
   ],
   "source": [
    "print('by index:', pt[0])\n",
    "print('by name:', pt.x)"
   ]
  },
  {
   "cell_type": "markdown",
   "metadata": {},
   "source": [
    "You can also easily convert between a `dict` and a `namedtuple`:"
   ]
  },
  {
   "cell_type": "code",
   "execution_count": 4,
   "metadata": {
    "collapsed": false
   },
   "outputs": [
    {
     "data": {
      "text/plain": [
       "{'x': 2, 'y': 3}"
      ]
     },
     "execution_count": 4,
     "metadata": {},
     "output_type": "execute_result"
    }
   ],
   "source": [
    "dict(pt._asdict())"
   ]
  },
  {
   "cell_type": "code",
   "execution_count": 5,
   "metadata": {
    "collapsed": false
   },
   "outputs": [
    {
     "data": {
      "text/plain": [
       "Point(x=5, y=9)"
      ]
     },
     "execution_count": 5,
     "metadata": {},
     "output_type": "execute_result"
    }
   ],
   "source": [
    "dct = {'x': 5, 'y': 9}\n",
    "Point(**dct)"
   ]
  },
  {
   "cell_type": "markdown",
   "metadata": {},
   "source": [
    "## OrderedDict\n",
    "\n",
    "`OrderedDict` provides a dict-like object that remembers the order of its keys (generally, the order of keys and values in `dict` objects are unstable)."
   ]
  },
  {
   "cell_type": "code",
   "execution_count": 6,
   "metadata": {
    "collapsed": false
   },
   "outputs": [
    {
     "data": {
      "text/plain": [
       "OrderedDict([('first', 1), ('second', 2), ('third', 3)])"
      ]
     },
     "execution_count": 6,
     "metadata": {},
     "output_type": "execute_result"
    }
   ],
   "source": [
    "od = collections.OrderedDict()\n",
    "od['first'] = 1\n",
    "od['second'] = 2\n",
    "od['third'] = 3\n",
    "od"
   ]
  },
  {
   "cell_type": "markdown",
   "metadata": {},
   "source": [
    "`namedtuple._asdict()` actually returns an `OrderedDict` since `namedtuple`s are, in fact, ordered:"
   ]
  },
  {
   "cell_type": "code",
   "execution_count": 7,
   "metadata": {
    "collapsed": false
   },
   "outputs": [
    {
     "data": {
      "text/plain": [
       "OrderedDict([('x', 2), ('y', 3)])"
      ]
     },
     "execution_count": 7,
     "metadata": {},
     "output_type": "execute_result"
    }
   ],
   "source": [
    "pt._asdict()"
   ]
  },
  {
   "cell_type": "markdown",
   "metadata": {},
   "source": [
    "## defaultdict\n",
    "\n",
    "`defaultdict` provides a `dict` subclass that is never missing a key. To use it, you supply a \"default factory\" function which the object will return (and set) when you try to look up a missing key:"
   ]
  },
  {
   "cell_type": "code",
   "execution_count": 8,
   "metadata": {
    "collapsed": false
   },
   "outputs": [
    {
     "data": {
      "text/plain": [
       "defaultdict(<function __main__.default_factory>, {'x': 1, 'y': 2})"
      ]
     },
     "execution_count": 8,
     "metadata": {},
     "output_type": "execute_result"
    }
   ],
   "source": [
    "def default_factory():\n",
    "    return 'NotFound'\n",
    "\n",
    "dd = collections.defaultdict(default_factory)\n",
    "dd['x'] = 1\n",
    "dd['y'] = 2\n",
    "dd"
   ]
  },
  {
   "cell_type": "code",
   "execution_count": 9,
   "metadata": {
    "collapsed": false
   },
   "outputs": [
    {
     "data": {
      "text/plain": [
       "'NotFound'"
      ]
     },
     "execution_count": 9,
     "metadata": {},
     "output_type": "execute_result"
    }
   ],
   "source": [
    "dd['z']"
   ]
  },
  {
   "cell_type": "code",
   "execution_count": 10,
   "metadata": {
    "collapsed": false,
    "scrolled": true
   },
   "outputs": [
    {
     "data": {
      "text/plain": [
       "defaultdict(<function __main__.default_factory>,\n",
       "            {'x': 1, 'y': 2, 'z': 'NotFound'})"
      ]
     },
     "execution_count": 10,
     "metadata": {},
     "output_type": "execute_result"
    }
   ],
   "source": [
    "dd"
   ]
  },
  {
   "cell_type": "code",
   "execution_count": 11,
   "metadata": {
    "collapsed": false
   },
   "outputs": [
    {
     "data": {
      "text/plain": [
       "Counter({'even': 5, 'odd': 5})"
      ]
     },
     "execution_count": 11,
     "metadata": {},
     "output_type": "execute_result"
    }
   ],
   "source": [
    "seq = range(10)\n",
    "even_odd = collections.Counter()\n",
    "# even_odd = {}\n",
    "for x in seq:\n",
    "    if x % 2 == 0:\n",
    "        even_odd['even'] += 1\n",
    "    else:\n",
    "        even_odd['odd'] += 1\n",
    "even_odd"
   ]
  },
  {
   "cell_type": "code",
   "execution_count": null,
   "metadata": {
    "collapsed": true
   },
   "outputs": [],
   "source": []
  },
  {
   "cell_type": "markdown",
   "metadata": {},
   "source": [
    "`defaultdict` is often useful when performing aggregations. For instance, we might have a list of names and phone numbers, and want to collect the phone numbers for an individual:"
   ]
  },
  {
   "cell_type": "code",
   "execution_count": 12,
   "metadata": {
    "collapsed": false
   },
   "outputs": [],
   "source": [
    "raw_data = [\n",
    "    ('Rick', '111-222-3333'),\n",
    "    ('Kelby', '444-555-6666'),\n",
    "    ('Rick', '777-888-9999')\n",
    "]\n",
    "grouped = collections.defaultdict(list)    # list() returns an empty list"
   ]
  },
  {
   "cell_type": "code",
   "execution_count": 13,
   "metadata": {
    "collapsed": false
   },
   "outputs": [
    {
     "name": "stdout",
     "output_type": "stream",
     "text": [
      "defaultdict(<class 'list'>, {'Rick': ['111-222-3333', '777-888-9999'], 'Kelby': ['444-555-6666']})\n"
     ]
    }
   ],
   "source": [
    "for name, number in raw_data:\n",
    "    grouped[name].append(number)\n",
    "print(grouped)"
   ]
  },
  {
   "cell_type": "markdown",
   "metadata": {},
   "source": [
    "# Functional Programming\n",
    "\n",
    "In `defaultdict`, we saw an example of passing a function as a parameter to another function. In Python, functions are *first-class objects*, meaning that you can use them wherever you can use other objects. Using a function as a \"factory\" parameter for `defaultdict` is one example.\n",
    "\n",
    "Python provides three useful builtin functions (`map`, `filter`, and `reduce`) for functional programming, and one keyword `lambda`."
   ]
  },
  {
   "cell_type": "markdown",
   "metadata": {},
   "source": [
    "## lambda\n",
    "\n",
    "The `lambda` keyword allows you to define simple, single-expression functions as an expression:"
   ]
  },
  {
   "cell_type": "code",
   "execution_count": 14,
   "metadata": {
    "collapsed": false
   },
   "outputs": [
    {
     "data": {
      "text/plain": [
       "12"
      ]
     },
     "execution_count": 14,
     "metadata": {},
     "output_type": "execute_result"
    }
   ],
   "source": [
    "double_me = lambda x: x * 2\n",
    "double_me(6)"
   ]
  },
  {
   "cell_type": "markdown",
   "metadata": {},
   "source": [
    "`lambda` is especially useful when used as a parameter to a function:"
   ]
  },
  {
   "cell_type": "code",
   "execution_count": 15,
   "metadata": {
    "collapsed": false
   },
   "outputs": [
    {
     "data": {
      "text/plain": [
       "defaultdict(<function __main__.<lambda>>, {'x': 1, 'y': 2})"
      ]
     },
     "execution_count": 15,
     "metadata": {},
     "output_type": "execute_result"
    }
   ],
   "source": [
    "dd = collections.defaultdict(lambda: 'NotFound')\n",
    "dd['x'] = 1\n",
    "dd['y'] = 2\n",
    "dd"
   ]
  },
  {
   "cell_type": "markdown",
   "metadata": {},
   "source": [
    "## map()\n",
    "\n",
    "The `map()` builtin applies a function to each element of a sequence and returns a list of the results:"
   ]
  },
  {
   "cell_type": "code",
   "execution_count": 16,
   "metadata": {
    "collapsed": false
   },
   "outputs": [
    {
     "data": {
      "text/plain": [
       "range(0, 5)"
      ]
     },
     "execution_count": 16,
     "metadata": {},
     "output_type": "execute_result"
    }
   ],
   "source": [
    "my_list = range(5)\n",
    "my_list"
   ]
  },
  {
   "cell_type": "code",
   "execution_count": 17,
   "metadata": {
    "collapsed": false
   },
   "outputs": [
    {
     "data": {
      "text/plain": [
       "<map at 0x10257f828>"
      ]
     },
     "execution_count": 17,
     "metadata": {},
     "output_type": "execute_result"
    }
   ],
   "source": [
    "map(lambda x: x**2, my_list)"
   ]
  },
  {
   "cell_type": "markdown",
   "metadata": {},
   "source": [
    "We can also apply `map` to multiple sequences with a multi-parameter function:"
   ]
  },
  {
   "cell_type": "code",
   "execution_count": 18,
   "metadata": {
    "collapsed": false
   },
   "outputs": [
    {
     "data": {
      "text/plain": [
       "<map at 0x10257f128>"
      ]
     },
     "execution_count": 18,
     "metadata": {},
     "output_type": "execute_result"
    }
   ],
   "source": [
    "map(lambda x, y: x+y, my_list, my_list)"
   ]
  },
  {
   "cell_type": "markdown",
   "metadata": {},
   "source": [
    "## filter()\n",
    "\n",
    "The `filter()` builtin allows us to return only elements of a list that match a certain predicate function:"
   ]
  },
  {
   "cell_type": "code",
   "execution_count": 19,
   "metadata": {
    "collapsed": false
   },
   "outputs": [
    {
     "data": {
      "text/plain": [
       "<filter at 0x10257f240>"
      ]
     },
     "execution_count": 19,
     "metadata": {},
     "output_type": "execute_result"
    }
   ],
   "source": [
    "filter(lambda x: x % 2 == 0, my_list)    # Filter out even numbers"
   ]
  },
  {
   "cell_type": "markdown",
   "metadata": {},
   "source": [
    "## reduce()\n",
    "\n",
    "The `reduce()`, or `functools.reduce()` in Python 3, builtin allows us to apply a \"reduction\" operation that uses a function to combine elements of a sequence into a single value. For instance, we could compute the sum of a list using `reduce()` as follows:"
   ]
  },
  {
   "cell_type": "code",
   "execution_count": 20,
   "metadata": {
    "collapsed": false
   },
   "outputs": [
    {
     "data": {
      "text/plain": [
       "10"
      ]
     },
     "execution_count": 20,
     "metadata": {},
     "output_type": "execute_result"
    }
   ],
   "source": [
    "from functools import reduce\n",
    "\n",
    "reduce(lambda acc, val: acc + val, my_list)"
   ]
  },
  {
   "cell_type": "markdown",
   "metadata": {},
   "source": [
    "# The operator module\n",
    "\n",
    "While `lambda` is handy, sometimes it's verbose. For times like this, we can use the `operator` module, which provides functions representing Python built-in operators (e.g. `operator.add` for `+`). We could re-write the example above as follows:"
   ]
  },
  {
   "cell_type": "code",
   "execution_count": 21,
   "metadata": {
    "collapsed": false
   },
   "outputs": [
    {
     "data": {
      "text/plain": [
       "10"
      ]
     },
     "execution_count": 21,
     "metadata": {},
     "output_type": "execute_result"
    }
   ],
   "source": [
    "from operator import add\n",
    "reduce(add, my_list)"
   ]
  },
  {
   "cell_type": "markdown",
   "metadata": {},
   "source": [
    "Combining these ideas, we could then define a `dot_product` function using `map` and `reduce` as follows:"
   ]
  },
  {
   "cell_type": "code",
   "execution_count": 22,
   "metadata": {
    "collapsed": false
   },
   "outputs": [
    {
     "data": {
      "text/plain": [
       "32"
      ]
     },
     "execution_count": 22,
     "metadata": {},
     "output_type": "execute_result"
    }
   ],
   "source": [
    "from operator import add, mul\n",
    "\n",
    "def dot_product(xs, ys):\n",
    "    return reduce(add, map(mul, xs, ys))\n",
    "\n",
    "dot_product([1, 2, 3], [4, 5, 6])"
   ]
  },
  {
   "cell_type": "markdown",
   "metadata": {},
   "source": [
    "(Please don't do this, however, as `reduce(add...)` is much slower than the builtin `sum()`, and `numpy` has built-in dot products anyway.)"
   ]
  },
  {
   "cell_type": "markdown",
   "metadata": {},
   "source": [
    "# Functional Closures and Decorators\n",
    "\n",
    "Python has a feature known as *lexical scoping*. This means that when a function references a name that is not local to the function, it attempts to resolve that name where the function was initially *defined*. A simple example is when using global names:\n"
   ]
  },
  {
   "cell_type": "code",
   "execution_count": 23,
   "metadata": {
    "collapsed": false
   },
   "outputs": [
    {
     "name": "stdout",
     "output_type": "stream",
     "text": [
      "5\n"
     ]
    }
   ],
   "source": [
    "x = 5\n",
    "def print_x():\n",
    "    print(x)\n",
    "    \n",
    "print_x()"
   ]
  },
  {
   "cell_type": "markdown",
   "metadata": {},
   "source": [
    "A more interesting case is when you define a function *within* another function. In this case, Python will search each enclosing function for the name being referenced, starting from the inside. Using this feature, we can make a \"function factory\" that returns functions with certain values \"bound\" to where the function was defined. We call such a function a **closure**. For instance:"
   ]
  },
  {
   "cell_type": "code",
   "execution_count": 24,
   "metadata": {
    "collapsed": true
   },
   "outputs": [],
   "source": [
    "def make_adder(x):\n",
    "    def adder(y):\n",
    "        return x + y\n",
    "    return adder\n",
    "add5 = make_adder(5)\n",
    "add6 = make_adder(6)"
   ]
  },
  {
   "cell_type": "code",
   "execution_count": 25,
   "metadata": {
    "collapsed": false
   },
   "outputs": [
    {
     "data": {
      "text/plain": [
       "15"
      ]
     },
     "execution_count": 25,
     "metadata": {},
     "output_type": "execute_result"
    }
   ],
   "source": [
    "add5(10)"
   ]
  },
  {
   "cell_type": "code",
   "execution_count": 26,
   "metadata": {
    "collapsed": false
   },
   "outputs": [
    {
     "data": {
      "text/plain": [
       "18"
      ]
     },
     "execution_count": 26,
     "metadata": {},
     "output_type": "execute_result"
    }
   ],
   "source": [
    "add6(12)"
   ]
  },
  {
   "cell_type": "markdown",
   "metadata": {},
   "source": [
    "## Function wrappers and decorators\n",
    "\n",
    "A specific case where closures are frequently seen is in building *function wrappers*. For instance, we may wish to log each invocation of a function:"
   ]
  },
  {
   "cell_type": "code",
   "execution_count": 27,
   "metadata": {
    "collapsed": false
   },
   "outputs": [
    {
     "name": "stdout",
     "output_type": "stream",
     "text": [
      "Calling <function make_adder.<locals>.adder at 0x102578e18>((4,), {})\n"
     ]
    },
    {
     "data": {
      "text/plain": [
       "9"
      ]
     },
     "execution_count": 27,
     "metadata": {},
     "output_type": "execute_result"
    }
   ],
   "source": [
    "def logging(f):\n",
    "    def wrapper(*args, **kwargs):\n",
    "        print('Calling %r(%r, %r)' % (f, args, kwargs))\n",
    "        return f(*args, **kwargs)\n",
    "    return wrapper\n",
    "\n",
    "logging_add5 = logging(add5)\n",
    "logging_add5(4)"
   ]
  },
  {
   "cell_type": "markdown",
   "metadata": {},
   "source": [
    "This case is so common that it has its own term (*decorator*), and its own syntax. Suppose we had defined our logging decorator before another function that we wanted to wrap:"
   ]
  },
  {
   "cell_type": "code",
   "execution_count": 28,
   "metadata": {
    "collapsed": false
   },
   "outputs": [
    {
     "name": "stdout",
     "output_type": "stream",
     "text": [
      "Calling <function wrapped_function at 0x1025fe7b8>((), {})\n",
      "Calling wrapped function\n"
     ]
    }
   ],
   "source": [
    "def wrapped_function():\n",
    "    print('Calling wrapped function')\n",
    "    \n",
    "wrapped_function = logging(wrapped_function)\n",
    "\n",
    "wrapped_function()"
   ]
  },
  {
   "cell_type": "markdown",
   "metadata": {},
   "source": [
    "A \"nicer\" way to write the above is to use the *decorator syntax*:"
   ]
  },
  {
   "cell_type": "code",
   "execution_count": 29,
   "metadata": {
    "collapsed": false
   },
   "outputs": [
    {
     "name": "stdout",
     "output_type": "stream",
     "text": [
      "Calling <function wrapped_function at 0x102578d08>((), {})\n",
      "Calling wrapped function\n"
     ]
    }
   ],
   "source": [
    "@logging\n",
    "def wrapped_function():\n",
    "    print('Calling wrapped function')\n",
    "    \n",
    "wrapped_function()"
   ]
  },
  {
   "cell_type": "code",
   "execution_count": 30,
   "metadata": {
    "collapsed": true
   },
   "outputs": [],
   "source": [
    "@logging\n",
    "def myfun():\n",
    "    '''This is a docstring'''\n",
    "    print('hi')\n",
    "    "
   ]
  },
  {
   "cell_type": "code",
   "execution_count": 31,
   "metadata": {
    "collapsed": false
   },
   "outputs": [
    {
     "name": "stdout",
     "output_type": "stream",
     "text": [
      "Help on function wrapper in module __main__:\n",
      "\n",
      "wrapper(*args, **kwargs)\n",
      "\n"
     ]
    }
   ],
   "source": [
    "help(myfun)"
   ]
  },
  {
   "cell_type": "markdown",
   "metadata": {},
   "source": [
    "## functools.wraps\n",
    "\n",
    "The Python standard library `functools` provides a number of useful functions for functional programming. One of these is the `@wraps` decorator. It is useful when defining decorators to ensure that the function signature, docstring, etc. is copied onto the wrapper:"
   ]
  },
  {
   "cell_type": "code",
   "execution_count": 32,
   "metadata": {
    "collapsed": false
   },
   "outputs": [],
   "source": [
    "from functools import wraps\n",
    "\n",
    "def logging_message(message):\n",
    "    def decorator(f):\n",
    "        @wraps(f)\n",
    "        def wrapper(*args, **kwargs):\n",
    "            'Wrapper docstring'\n",
    "            print('%s: %r(%r, %r)' % (message, f, args, kwargs))\n",
    "            return f(*args, **kwargs)\n",
    "        return wrapper\n",
    "    return decorator\n",
    "\n"
   ]
  },
  {
   "cell_type": "code",
   "execution_count": 33,
   "metadata": {
    "collapsed": false
   },
   "outputs": [
    {
     "name": "stdout",
     "output_type": "stream",
     "text": [
      "<function func at 0x1025fef28>\n",
      "Func docstring\n",
      "Help on function func in module __main__:\n",
      "\n",
      "func()\n",
      "    Func docstring\n",
      "\n",
      "None\n"
     ]
    }
   ],
   "source": [
    "@logging_message('Calling it now!')\n",
    "def func():\n",
    "    'Func docstring'\n",
    "    print('Running it now!')\n",
    "    \n",
    "print(func)\n",
    "print(func.__doc__)\n",
    "print(help(func))"
   ]
  },
  {
   "cell_type": "code",
   "execution_count": 34,
   "metadata": {
    "collapsed": false
   },
   "outputs": [
    {
     "name": "stdout",
     "output_type": "stream",
     "text": [
      "Calling it now!: <function func at 0x1025feea0>((), {})\n",
      "Running it now!\n"
     ]
    }
   ],
   "source": [
    "func()"
   ]
  },
  {
   "cell_type": "markdown",
   "metadata": {},
   "source": [
    "### Exercises:\n",
    "- Create a counter with a `defaultdict` by setting the `default_factory` to `int`. Use your counter to count the number of times each letter appears in this sentence: \n",
    "    - `a quick brown fox jumps over the lazy dog`\n",
    "\n",
    "\n",
    "- Create a function called `printer` that takes a string and prints it. Then create a wrapper that will print the number of times each letter appears in the string passed in to `printer`, followed by the string.\n",
    "\n",
    "\n",
    "- Use the wrapper as a decorator on your `printer` function. "
   ]
  },
  {
   "cell_type": "code",
   "execution_count": 35,
   "metadata": {
    "collapsed": false
   },
   "outputs": [
    {
     "name": "stdout",
     "output_type": "stream",
     "text": [
      "('h', 2)\n",
      "('e', 3)\n",
      "('l', 2)\n",
      "('o', 1)\n",
      "(',', 1)\n",
      "('t', 1)\n",
      "('r', 1)\n"
     ]
    }
   ],
   "source": [
    "def counter(sentence='a quick brown fox jumps over the lazy dog'):\n",
    "    count = collections.defaultdict(int)\n",
    "\n",
    "    for letter in sentence.lower().replace(' ', ''):\n",
    "        count[letter] += 1\n",
    "\n",
    "    for i in count.items():\n",
    "        print(i)\n",
    "counter('Hello, there')"
   ]
  },
  {
   "cell_type": "code",
   "execution_count": 36,
   "metadata": {
    "collapsed": false
   },
   "outputs": [],
   "source": [
    "# Wrapper counter\n",
    "def printer(text):\n",
    "    print(text)\n",
    "\n",
    "\n",
    "def count(f):\n",
    "    def wrapper(*args, **kwargs):\n",
    "        sentence = args[0]\n",
    "        sentence = sentence.lower().replace(' ', '')\n",
    "        counter = collections.defaultdict(int)\n",
    "\n",
    "        for letter in sentence:\n",
    "            counter[letter] += 1\n",
    "\n",
    "        for l, c in counter.items():\n",
    "            print('{}: {}'.format(l, c))\n",
    "        return f(*args, **kwargs)\n",
    "    return wrapper\n"
   ]
  },
  {
   "cell_type": "code",
   "execution_count": 37,
   "metadata": {
    "collapsed": true
   },
   "outputs": [],
   "source": [
    "wrapped_print = count(printer)"
   ]
  },
  {
   "cell_type": "code",
   "execution_count": 38,
   "metadata": {
    "collapsed": false
   },
   "outputs": [
    {
     "name": "stdout",
     "output_type": "stream",
     "text": [
      "m: 1\n",
      "e: 2\n",
      "s: 2\n",
      "a: 1\n",
      "g: 1\n",
      "message\n"
     ]
    }
   ],
   "source": [
    "wrapped_print('message')"
   ]
  },
  {
   "cell_type": "code",
   "execution_count": 39,
   "metadata": {
    "collapsed": true
   },
   "outputs": [],
   "source": [
    "@count\n",
    "def printer(text):\n",
    "    print(text)\n"
   ]
  },
  {
   "cell_type": "code",
   "execution_count": 40,
   "metadata": {
    "collapsed": false
   },
   "outputs": [
    {
     "name": "stdout",
     "output_type": "stream",
     "text": [
      "m: 1\n",
      "e: 2\n",
      "s: 2\n",
      "a: 1\n",
      "g: 1\n",
      "message\n"
     ]
    }
   ],
   "source": [
    "printer('message')"
   ]
  },
  {
   "cell_type": "code",
   "execution_count": null,
   "metadata": {
    "collapsed": true
   },
   "outputs": [],
   "source": []
  }
 ],
 "metadata": {
  "kernelspec": {
   "display_name": "Python 3",
   "language": "python",
   "name": "python3"
  },
  "language_info": {
   "codemirror_mode": {
    "name": "ipython",
    "version": 3
   },
   "file_extension": ".py",
   "mimetype": "text/x-python",
   "name": "python",
   "nbconvert_exporter": "python",
   "pygments_lexer": "ipython3",
   "version": "3.6.0"
  }
 },
 "nbformat": 4,
 "nbformat_minor": 0
}
