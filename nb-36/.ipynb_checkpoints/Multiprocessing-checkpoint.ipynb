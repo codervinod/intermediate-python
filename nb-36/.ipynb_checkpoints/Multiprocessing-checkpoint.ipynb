{
 "cells": [
  {
   "cell_type": "markdown",
   "metadata": {
    "deletable": true,
    "editable": true
   },
   "source": [
    "[Slides](./Multiprocessing.slides.html)"
   ]
  },
  {
   "cell_type": "markdown",
   "metadata": {
    "deletable": true,
    "editable": true,
    "slideshow": {
     "slide_type": "slide"
    }
   },
   "source": [
    "# Multiprocessing with Python\n",
    "\n",
    "In this module, you'll learn\n",
    "\n",
    "- How to use the multiprocessing module \n",
    "- How to use multiprocessing's support for synchronization and communication"
   ]
  },
  {
   "cell_type": "markdown",
   "metadata": {
    "deletable": true,
    "editable": true,
    "slideshow": {
     "slide_type": "slide"
    }
   },
   "source": [
    "# Multiprocessing\n",
    "\n",
    "- Based on Threading\n",
    "- No GIL\n",
    "- Requires “module” programming, even in main script"
   ]
  },
  {
   "cell_type": "markdown",
   "metadata": {
    "deletable": true,
    "editable": true
   },
   "source": [
    "## Multiprocessing demonstration\n",
    "\n",
    "[processing1.py](/edit/examples/Multiprocessing/processing1.py)"
   ]
  },
  {
   "cell_type": "code",
   "execution_count": 1,
   "metadata": {
    "collapsed": false,
    "deletable": true,
    "editable": true,
    "scrolled": true
   },
   "outputs": [
    {
     "name": "stdout",
     "output_type": "stream",
     "text": [
      "MainProcess (53924): Starting procs\n",
      "MainProcess (53924): Starting process 0\n",
      "MainProcess (53924): Starting process 1\n",
      "MainProcess (53924): Starting process 2\n",
      "Process-1 (53925): Enter\n",
      "Process-1 (53925): (0,0)\n",
      "MainProcess (53924): Starting process 3\n",
      "Process-2 (53926): Enter\n",
      "Process-2 (53926): (1,0)\n",
      "MainProcess (53924): All procs started\n",
      "Process-3 (53927): Enter\n",
      "Process-3 (53927): (2,0)\n",
      "Process-4 (53929): Enter\n",
      "Process-4 (53929): (3,0)\n",
      "Process-1 (53925): (0,1)\n",
      "Process-2 (53926): (1,1)\n",
      "Process-3 (53927): (2,1)\n",
      "Process-4 (53929): (3,1)\n",
      "Process-1 (53925): (0,2)\n",
      "Process-2 (53926): (1,2)\n",
      "Process-3 (53927): (2,2)\n",
      "Process-4 (53929): (3,2)\n",
      "Process-1 (53925): (0,3)\n",
      "Process-2 (53926): (1,3)\n",
      "Process-3 (53927): (2,3)\n",
      "Process-4 (53929): (3,3)\n",
      "Process-1 (53925): Exit\n",
      "Process-2 (53926): Exit\n",
      "Process-3 (53927): Exit\n",
      "Process-4 (53929): Exit\n"
     ]
    }
   ],
   "source": [
    "!python ../examples/Multiprocessing/processing1.py"
   ]
  },
  {
   "cell_type": "markdown",
   "metadata": {
    "deletable": true,
    "editable": true
   },
   "source": [
    "## Multiprocessing demonstration (with join())\n",
    "\n",
    "[processing2.py](/edit/examples/Multiprocessing/processing2.py)"
   ]
  },
  {
   "cell_type": "code",
   "execution_count": 2,
   "metadata": {
    "collapsed": false,
    "deletable": true,
    "editable": true,
    "scrolled": false
   },
   "outputs": [
    {
     "name": "stdout",
     "output_type": "stream",
     "text": [
      "MainProcess (53932): Starting procs\n",
      "MainProcess (53932): Starting process 0\n",
      "MainProcess (53932): Starting process 1\n",
      "Process-1 (53933): Enter\n",
      "MainProcess (53932): Starting process 2\n",
      "Process-2 (53934): Enter\n",
      "MainProcess (53932): Starting process 3\n",
      "Process-3 (53935): Enter\n",
      "MainProcess (53932): All procs started\n",
      "MainProcess (53932): Join process 0\n",
      "Process-4 (53936): Enter\n",
      "Process-1 (53933): (0,0)\n",
      "Process-2 (53934): (1,0)\n",
      "Process-3 (53935): (2,0)\n",
      "Process-4 (53936): (3,0)\n",
      "Process-1 (53933): (0,1)\n",
      "Process-2 (53934): (1,1)\n",
      "Process-3 (53935): (2,1)\n",
      "Process-4 (53936): (3,1)\n",
      "Process-1 (53933): (0,2)\n",
      "Process-2 (53934): (1,2)\n",
      "Process-3 (53935): (2,2)\n",
      "Process-4 (53936): (3,2)\n",
      "Process-1 (53933): (0,3)\n",
      "Process-1 (53933): Exit\n",
      "Process-2 (53934): (1,3)\n",
      "Process-3 (53935): (2,3)\n",
      "Process-2 (53934): Exit\n",
      "Process-3 (53935): Exit\n",
      "MainProcess (53932): Join process 1\n",
      "MainProcess (53932): Join process 2\n",
      "Process-4 (53936): (3,3)\n",
      "Process-4 (53936): Exit\n",
      "MainProcess (53932): Join process 3\n",
      "MainProcess (53932): All procs joined\n"
     ]
    }
   ],
   "source": [
    "!python ../examples/Multiprocessing/processing2.py"
   ]
  },
  {
   "cell_type": "markdown",
   "metadata": {
    "deletable": true,
    "editable": true,
    "slideshow": {
     "slide_type": "slide"
    }
   },
   "source": [
    "# Multiprocess synchronization and communication\n",
    "\n",
    "- Lock, Condition, Semaphore, Event\n",
    "- Queue & Pipe\n",
    "- Shared Memory"
   ]
  },
  {
   "cell_type": "markdown",
   "metadata": {
    "deletable": true,
    "editable": true
   },
   "source": [
    "## Lock demonstration\n",
    "\n",
    "[lock1.py](/edit/examples/Multiprocessing/lock1.py)"
   ]
  },
  {
   "cell_type": "code",
   "execution_count": 3,
   "metadata": {
    "collapsed": false,
    "deletable": true,
    "editable": true,
    "scrolled": true
   },
   "outputs": [
    {
     "name": "stdout",
     "output_type": "stream",
     "text": [
      "MainProcess: Starting procs\n",
      "MainProcess: Starting proc 0\n",
      "MainProcess: Starting proc 1\n",
      "MainProcess: Starting proc 2\n",
      "Process-1: Enter\n",
      "MainProcess: Starting proc 3\n",
      "MainProcess: All procs started\n",
      "Process-1: 0\n",
      "Process-1: 1\n",
      "Process-1: 2\n",
      "Process-1: 3\n",
      "Process-1: Exit\n",
      "Process-2: Enter\n",
      "Process-2: 0\n",
      "Process-2: 1\n",
      "Process-2: 2\n",
      "Process-2: 3\n",
      "Process-2: Exit\n",
      "Process-3: Enter\n",
      "Process-3: 0\n",
      "Process-3: 1\n",
      "Process-3: 2\n",
      "Process-3: 3\n",
      "Process-3: Exit\n",
      "Process-4: Enter\n",
      "Process-4: 0\n",
      "Process-4: 1\n",
      "Process-4: 2\n",
      "Process-4: 3\n",
      "Process-4: Exit\n"
     ]
    }
   ],
   "source": [
    "!python ../examples/Multiprocessing/lock1.py"
   ]
  },
  {
   "cell_type": "markdown",
   "metadata": {
    "deletable": true,
    "editable": true
   },
   "source": [
    "## Queue demonstration\n",
    "\n",
    "[queue-test.py](/edit/examples/Multiprocessing/queue-test.py)"
   ]
  },
  {
   "cell_type": "code",
   "execution_count": 4,
   "metadata": {
    "collapsed": false,
    "deletable": true,
    "editable": true,
    "scrolled": true
   },
   "outputs": [
    {
     "name": "stdout",
     "output_type": "stream",
     "text": [
      "Process-1: >>> 0\n",
      "Process-1: >>> 1\n",
      "Process-1: >>> 2\n",
      "Process-2: <<< 0\n",
      "Process-2: <<< 1\n",
      "Process-2: <<< 2\n",
      "Process-1: >>> 3\n",
      "Process-2: <<< 3\n",
      "Process-1: >>> 4\n",
      "Process-2: <<< 4\n",
      "Process-1: >>> 5\n",
      "Process-2: <<< 5\n",
      "Process-1: >>> 6\n",
      "Process-2: <<< 6\n",
      "Process-1: >>> 7\n",
      "Process-2: <<< 7\n",
      "Process-1: >>> 8\n",
      "Process-2: <<< 8\n",
      "Process-1: >>> 9\n",
      "Process-2: <<< 9\n"
     ]
    }
   ],
   "source": [
    "!python ../examples/Multiprocessing/queue-test.py"
   ]
  },
  {
   "cell_type": "markdown",
   "metadata": {
    "deletable": true,
    "editable": true
   },
   "source": [
    "## Shared memory demonstration\n",
    "\n",
    "[shared_memory.py](/edit/examples/Multiprocessing/shared_memory.py)"
   ]
  },
  {
   "cell_type": "code",
   "execution_count": 5,
   "metadata": {
    "collapsed": false,
    "deletable": true,
    "editable": true,
    "scrolled": true
   },
   "outputs": [
    {
     "name": "stdout",
     "output_type": "stream",
     "text": [
      "INFO:root:Before process, num.value = 0.0\r\n",
      "INFO:root:Before process, arr = [0, 1, 2, 3, 4, 5, 6, 7, 8, 9]\r\n",
      "INFO:root:Running target function\r\n",
      "INFO:root:After process, num.value = 3.141592653589793\r\n",
      "INFO:root:After process, arr = [0, -1, -2, -3, -4, -5, -6, -7, -8, -9]\r\n"
     ]
    }
   ],
   "source": [
    "!python ../examples/Multiprocessing/shared_memory.py"
   ]
  },
  {
   "cell_type": "code",
   "execution_count": null,
   "metadata": {
    "collapsed": true,
    "deletable": true,
    "editable": true
   },
   "outputs": [],
   "source": []
  }
 ],
 "metadata": {
  "celltoolbar": "Slideshow",
  "kernelspec": {
   "display_name": "Python 3",
   "language": "python",
   "name": "python3"
  },
  "language_info": {
   "codemirror_mode": {
    "name": "ipython",
    "version": 3
   },
   "file_extension": ".py",
   "mimetype": "text/x-python",
   "name": "python",
   "nbconvert_exporter": "python",
   "pygments_lexer": "ipython3",
   "version": "3.6.0"
  }
 },
 "nbformat": 4,
 "nbformat_minor": 0
}
