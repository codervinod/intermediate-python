{
 "cells": [
  {
   "cell_type": "markdown",
   "metadata": {
    "deletable": true,
    "editable": true,
    "slideshow": {
     "slide_type": "slide"
    }
   },
   "source": [
    "# Lab for generators and Iterators\n",
    "\n",
    "Assume we have a tree structure represented with nested tuples:"
   ]
  },
  {
   "cell_type": "code",
   "execution_count": 1,
   "metadata": {
    "collapsed": true,
    "deletable": true,
    "editable": true
   },
   "outputs": [],
   "source": [
    "mytree = ('root',\n",
    "          ('child-L',\n",
    "           ('child-LL', (), ()),\n",
    "           ('child-LR', (), ())),\n",
    "          ('child-R',\n",
    "           ('child-RL', (), ()),\n",
    "           ('child-RR', (), ())))\n"
   ]
  },
  {
   "cell_type": "markdown",
   "metadata": {
    "deletable": true,
    "editable": true
   },
   "source": [
    "- Write a generator that will yield the nodes of a tree and their depth in post-order\n",
    "- Write a loop that uses that generator to *print* the nodes of a tree in post-order"
   ]
  },
  {
   "cell_type": "markdown",
   "metadata": {
    "deletable": true,
    "editable": true,
    "slideshow": {
     "slide_type": "slide"
    }
   },
   "source": [
    "Write a generator that will yield the nodes of a tree and their depth in post-order"
   ]
  },
  {
   "cell_type": "code",
   "execution_count": 2,
   "metadata": {
    "collapsed": true,
    "deletable": true,
    "editable": true
   },
   "outputs": [],
   "source": [
    "def postorder_tree_iter(node, level=0):\n",
    "    if node:\n",
    "        value, left, right = node\n",
    "        for item in postorder_tree_iter(left, level+1):\n",
    "            yield item\n",
    "        for item in postorder_tree_iter(right, level+1):\n",
    "            yield item\n",
    "        yield level, value"
   ]
  },
  {
   "cell_type": "markdown",
   "metadata": {
    "deletable": true,
    "editable": true,
    "slideshow": {
     "slide_type": "slide"
    }
   },
   "source": [
    "Write a loop that uses that generator to *print* the nodes of a tree in post-order"
   ]
  },
  {
   "cell_type": "code",
   "execution_count": 3,
   "metadata": {
    "collapsed": false,
    "deletable": true,
    "editable": true
   },
   "outputs": [
    {
     "name": "stdout",
     "output_type": "stream",
     "text": [
      "   child-LL\n",
      "   child-LR\n",
      "  child-L\n",
      "   child-RL\n",
      "   child-RR\n",
      "  child-R\n",
      " root\n"
     ]
    }
   ],
   "source": [
    "for level, node in postorder_tree_iter(mytree):\n",
    "    print(' ' * level, node)"
   ]
  },
  {
   "cell_type": "code",
   "execution_count": null,
   "metadata": {
    "collapsed": true
   },
   "outputs": [],
   "source": []
  }
 ],
 "metadata": {
  "celltoolbar": "Slideshow",
  "kernelspec": {
   "display_name": "Python 3",
   "language": "python",
   "name": "python3"
  },
  "language_info": {
   "codemirror_mode": {
    "name": "ipython",
    "version": 3
   },
   "file_extension": ".py",
   "mimetype": "text/x-python",
   "name": "python",
   "nbconvert_exporter": "python",
   "pygments_lexer": "ipython3",
   "version": "3.6.0"
  }
 },
 "nbformat": 4,
 "nbformat_minor": 0
}
