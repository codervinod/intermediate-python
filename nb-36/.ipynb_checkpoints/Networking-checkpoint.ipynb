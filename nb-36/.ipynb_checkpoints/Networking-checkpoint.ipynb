{
 "cells": [
  {
   "cell_type": "markdown",
   "metadata": {
    "deletable": true,
    "editable": true,
    "slideshow": {
     "slide_type": "skip"
    }
   },
   "source": [
    "[Slides](./Networking.slides.html)"
   ]
  },
  {
   "cell_type": "markdown",
   "metadata": {
    "deletable": true,
    "editable": true,
    "slideshow": {
     "slide_type": "slide"
    }
   },
   "source": [
    "# Networking\n",
    "\n",
    "Python has support for both high-level network protocols (HTTP/HTTPS/FTP/SMTP) as well as low-level protocols (sockets).\n",
    "\n",
    "In this module you'll learn\n",
    "\n",
    "- How to use `urllib`/`urllib2` to fetch web resources\n",
    "- How to send email using the `smtplib` and `email` modules\n",
    "- How to do basic socket programming in Python\n",
    "- How you might build a REST API client in Python"
   ]
  },
  {
   "cell_type": "markdown",
   "metadata": {
    "deletable": true,
    "editable": true,
    "slideshow": {
     "slide_type": "slide"
    }
   },
   "source": [
    "## Fetching web resources with urllib/urllib2\n",
    "\n",
    "The `urllib` and `urllib2` standard library modules allow you to open a URL (almost) just like a file. For example:"
   ]
  },
  {
   "cell_type": "code",
   "execution_count": 14,
   "metadata": {
    "collapsed": false,
    "deletable": true,
    "editable": true
   },
   "outputs": [],
   "source": [
    "import urllib\n",
    "import urllib.request as urllib2\n",
    "from urllib.parse import urlencode"
   ]
  },
  {
   "cell_type": "code",
   "execution_count": 9,
   "metadata": {
    "collapsed": false,
    "deletable": true,
    "editable": true
   },
   "outputs": [
    {
     "data": {
      "text/plain": [
       "69868"
      ]
     },
     "execution_count": 9,
     "metadata": {},
     "output_type": "execute_result"
    }
   ],
   "source": [
    "resp = urllib2.urlopen('http://www.bloomberg.net')\n",
    "html = resp.read()\n",
    "len(html)"
   ]
  },
  {
   "cell_type": "markdown",
   "metadata": {
    "collapsed": false,
    "deletable": true,
    "editable": true,
    "slideshow": {
     "slide_type": "slide"
    }
   },
   "source": [
    "You can also POST data to a URL using a `Request` and get the response:"
   ]
  },
  {
   "cell_type": "code",
   "execution_count": 17,
   "metadata": {
    "collapsed": false,
    "deletable": true,
    "editable": true,
    "scrolled": true
   },
   "outputs": [
    {
     "name": "stdout",
     "output_type": "stream",
     "text": [
      "b'<TITLE>CGI script output</TITLE>\\n<h1>What you submitted</h1>\\n<table><tbody>\\n<tr><th>state</th><td>Georgia</td></tr>\\n<tr><th>name</th><td>Rick Copeland</td></tr>\\n</tbody></table>\\n<a href=\"/\">Return to index</a>\\n'\n"
     ]
    }
   ],
   "source": [
    "url = 'http://localhost:8000/cgi-bin/print_request.py'\n",
    "values = {'name' : 'Rick Copeland',\n",
    "          'state' : 'Georgia' }\n",
    "\n",
    "data = urlencode(values).encode('utf-8')\n",
    "req = urllib2.Request(url, data)\n",
    "response = urllib2.urlopen(req)\n",
    "print(response.read())"
   ]
  },
  {
   "cell_type": "code",
   "execution_count": 19,
   "metadata": {
    "collapsed": false,
    "deletable": true,
    "editable": true,
    "slideshow": {
     "slide_type": "slide"
    }
   },
   "outputs": [
    {
     "name": "stdout",
     "output_type": "stream",
     "text": [
      "b'name=Rick+Copeland&state=Georgia'\n"
     ]
    }
   ],
   "source": [
    "print(data)"
   ]
  },
  {
   "cell_type": "code",
   "execution_count": 22,
   "metadata": {
    "collapsed": false,
    "deletable": true,
    "editable": true,
    "slideshow": {
     "slide_type": "-"
    }
   },
   "outputs": [
    {
     "name": "stdout",
     "output_type": "stream",
     "text": [
      "b'{\"state\": \"Georgia\", \"HTTP_METHOD\": \"POST\", \"name\": \"Rick Copeland\"}\\n'\n"
     ]
    }
   ],
   "source": [
    "url = 'http://localhost:8000/cgi-bin/print_json.py'\n",
    "values = {'name' : 'Rick Copeland',\n",
    "          'state' : 'Georgia' }\n",
    "\n",
    "data = urlencode(values).encode('utf-8')\n",
    "req = urllib2.Request(url, data)\n",
    "response = urllib2.urlopen(req)\n",
    "print(response.read())"
   ]
  },
  {
   "cell_type": "markdown",
   "metadata": {
    "deletable": true,
    "editable": true,
    "slideshow": {
     "slide_type": "slide"
    }
   },
   "source": [
    "You can also pass query parameters to a request using `urlencode`:"
   ]
  },
  {
   "cell_type": "code",
   "execution_count": 27,
   "metadata": {
    "collapsed": false,
    "deletable": true,
    "editable": true
   },
   "outputs": [
    {
     "data": {
      "text/plain": [
       "'name=Rick+Copeland&state=Georgia'"
      ]
     },
     "execution_count": 27,
     "metadata": {},
     "output_type": "execute_result"
    }
   ],
   "source": [
    "encoded_values = urlencode(values)\n",
    "encoded_values"
   ]
  },
  {
   "cell_type": "code",
   "execution_count": 29,
   "metadata": {
    "collapsed": false,
    "deletable": true,
    "editable": true
   },
   "outputs": [
    {
     "name": "stdout",
     "output_type": "stream",
     "text": [
      "b'{\"state\": \"Georgia\", \"HTTP_METHOD\": \"GET\", \"name\": \"Rick Copeland\"}\\n'\n"
     ]
    }
   ],
   "source": [
    "print(urllib2.urlopen(url + '?' + encoded_values).read())"
   ]
  },
  {
   "cell_type": "markdown",
   "metadata": {
    "deletable": true,
    "editable": true,
    "slideshow": {
     "slide_type": "slide"
    }
   },
   "source": [
    "## Sending email with `smtplib`\n",
    "\n",
    "It's frequently useful to send emails from long-running scripts; Python makes this easy with `smtplib`:"
   ]
  },
  {
   "cell_type": "code",
   "execution_count": 30,
   "metadata": {
    "collapsed": true,
    "deletable": true,
    "editable": true
   },
   "outputs": [],
   "source": [
    "import smtplib"
   ]
  },
  {
   "cell_type": "markdown",
   "metadata": {
    "deletable": true,
    "editable": true
   },
   "source": [
    "Most of the time, you'll be connecting to either your ISP's SMTP server, or some other server with authentication. In order to avoid exposing my password and such, I'll just use a local proxy server to print some debugging information:\n",
    "\n",
    "(You can run the proxy with `python -m smtpd -nd`)"
   ]
  },
  {
   "cell_type": "code",
   "execution_count": 31,
   "metadata": {
    "collapsed": false,
    "deletable": true,
    "editable": true,
    "slideshow": {
     "slide_type": "slide"
    }
   },
   "outputs": [
    {
     "name": "stderr",
     "output_type": "stream",
     "text": [
      "send: 'ehlo 81.1.168.192.in-addr.arpa\\r\\n'\n",
      "reply: b'502 Error: command \"EHLO\" not implemented\\r\\n'\n",
      "reply: retcode (502); Msg: b'Error: command \"EHLO\" not implemented'\n",
      "send: 'helo 81.1.168.192.in-addr.arpa\\r\\n'\n",
      "reply: b'250 81.1.168.192.in-addr.arpa\\r\\n'\n",
      "reply: retcode (250); Msg: b'81.1.168.192.in-addr.arpa'\n",
      "send: 'mail FROM:<rick@arborian.com>\\r\\n'\n",
      "reply: b'250 Ok\\r\\n'\n",
      "reply: retcode (250); Msg: b'Ok'\n",
      "send: 'rcpt TO:<rick446@usa.net>\\r\\n'\n",
      "reply: b'250 Ok\\r\\n'\n",
      "reply: retcode (250); Msg: b'Ok'\n",
      "send: 'data\\r\\n'\n",
      "reply: b'354 End data with <CR><LF>.<CR><LF>\\r\\n'\n",
      "reply: retcode (354); Msg: b'End data with <CR><LF>.<CR><LF>'\n",
      "data: (354, b'End data with <CR><LF>.<CR><LF>')\n",
      "send: b'Subject: This is a test\\r\\nFrom: <rick@arborian.com>\\r\\nTo: <rick446@usa.net>\\r\\n\\r\\nTest message\\r\\n.\\r\\n'\n",
      "reply: b'250 Ok\\r\\n'\n",
      "reply: retcode (250); Msg: b'Ok'\n",
      "data: (250, b'Ok')\n"
     ]
    },
    {
     "data": {
      "text/plain": [
       "{}"
      ]
     },
     "execution_count": 31,
     "metadata": {},
     "output_type": "execute_result"
    }
   ],
   "source": [
    "conn = smtplib.SMTP('localhost', 8025)\n",
    "conn.set_debuglevel(1)\n",
    "# conn.login(username, password)\n",
    "addr_from = 'rick@arborian.com'\n",
    "addr_to = 'rick446@usa.net'\n",
    "msg = '''Subject: This is a test\n",
    "From: <{}>\n",
    "To: <{}>\n",
    "\n",
    "Test message\n",
    "'''.format(addr_from, addr_to)\n",
    "conn.sendmail(addr_from, [addr_to], msg)"
   ]
  },
  {
   "cell_type": "markdown",
   "metadata": {
    "deletable": true,
    "editable": true,
    "slideshow": {
     "slide_type": "slide"
    }
   },
   "source": [
    "If you're going to be putting together more complicated emails, the `email` module is extremely useful (for multipart messages, attachments, etc.):"
   ]
  },
  {
   "cell_type": "code",
   "execution_count": 32,
   "metadata": {
    "collapsed": true,
    "deletable": true,
    "editable": true
   },
   "outputs": [],
   "source": [
    "from email.mime.text import MIMEText"
   ]
  },
  {
   "cell_type": "code",
   "execution_count": 33,
   "metadata": {
    "collapsed": false,
    "deletable": true,
    "editable": true
   },
   "outputs": [
    {
     "name": "stderr",
     "output_type": "stream",
     "text": [
      "send: 'mail FROM:<rick@arborian.com>\\r\\n'\n",
      "reply: b'250 Ok\\r\\n'\n",
      "reply: retcode (250); Msg: b'Ok'\n",
      "send: 'rcpt TO:<rick446@usa.net>\\r\\n'\n",
      "reply: b'250 Ok\\r\\n'\n",
      "reply: retcode (250); Msg: b'Ok'\n",
      "send: 'data\\r\\n'\n",
      "reply: b'354 End data with <CR><LF>.<CR><LF>\\r\\n'\n",
      "reply: retcode (354); Msg: b'End data with <CR><LF>.<CR><LF>'\n",
      "data: (354, b'End data with <CR><LF>.<CR><LF>')\n",
      "send: b'Content-Type: text/plain; charset=\"us-ascii\"\\r\\nMIME-Version: 1.0\\r\\nContent-Transfer-Encoding: 7bit\\r\\nSubject: This is a test message\\r\\nFrom: rick@arborian.com\\r\\nTo: rick446@usa.net\\r\\n\\r\\nThis is a text message\\r\\n.\\r\\n'\n",
      "reply: b'250 Ok\\r\\n'\n",
      "reply: retcode (250); Msg: b'Ok'\n",
      "data: (250, b'Ok')\n"
     ]
    },
    {
     "data": {
      "text/plain": [
       "{}"
      ]
     },
     "execution_count": 33,
     "metadata": {},
     "output_type": "execute_result"
    }
   ],
   "source": [
    "msg = MIMEText('This is a text message')\n",
    "msg['Subject'] = 'This is a test message'\n",
    "msg['From'] = addr_from\n",
    "msg['To'] = addr_to\n",
    "conn.sendmail(addr_from, [addr_to], msg.as_string())"
   ]
  },
  {
   "cell_type": "code",
   "execution_count": 34,
   "metadata": {
    "collapsed": false,
    "deletable": true,
    "editable": true
   },
   "outputs": [
    {
     "name": "stderr",
     "output_type": "stream",
     "text": [
      "send: 'quit\\r\\n'\n",
      "reply: b'221 Bye\\r\\n'\n",
      "reply: retcode (221); Msg: b'Bye'\n"
     ]
    },
    {
     "data": {
      "text/plain": [
       "(221, b'Bye')"
      ]
     },
     "execution_count": 34,
     "metadata": {},
     "output_type": "execute_result"
    }
   ],
   "source": [
    "conn.quit()"
   ]
  },
  {
   "cell_type": "markdown",
   "metadata": {
    "deletable": true,
    "editable": true,
    "slideshow": {
     "slide_type": "slide"
    }
   },
   "source": [
    "# Socket programmming\n",
    "\n",
    "If you want to use a protocol that Python doesn't support natively (or just want to use your own protocol), you can always use the lower-level `socket` module in the standard library:"
   ]
  },
  {
   "cell_type": "code",
   "execution_count": 35,
   "metadata": {
    "collapsed": true,
    "deletable": true,
    "editable": true
   },
   "outputs": [],
   "source": [
    "import socket"
   ]
  },
  {
   "cell_type": "code",
   "execution_count": 40,
   "metadata": {
    "collapsed": true,
    "deletable": true,
    "editable": true
   },
   "outputs": [],
   "source": [
    "# sock = socket.socket(socket.AF_INET, socket.SOCK_STREAM)\n",
    "sock = socket.socket()"
   ]
  },
  {
   "cell_type": "code",
   "execution_count": 41,
   "metadata": {
    "collapsed": false,
    "deletable": true,
    "editable": true
   },
   "outputs": [
    {
     "name": "stdout",
     "output_type": "stream",
     "text": [
      "766\n"
     ]
    }
   ],
   "source": [
    "sock.connect(('www.bloomberg.com', 80))\n",
    "http_req = b'''GET / HTTP/1.1\n",
    "Host: www.bloomberg.com\n",
    "User-Agent: Intermediate-Python/1.0\n",
    "Accept: */*\n",
    "\n",
    "'''\n",
    "sock.sendall(http_req)\n",
    "response = sock.recv(1024)\n",
    "sock.close()\n",
    "print(len(response))"
   ]
  },
  {
   "cell_type": "code",
   "execution_count": 42,
   "metadata": {
    "collapsed": false,
    "deletable": true,
    "editable": true,
    "slideshow": {
     "slide_type": "slide"
    }
   },
   "outputs": [
    {
     "name": "stdout",
     "output_type": "stream",
     "text": [
      "b\"HTTP/1.1 301 Moved Permanently\\r\\nServer: Apache\\r\\nContent-Security-Policy: upgrade-insecure-requests\\r\\nX-Content-Security-Policy: upgrade-insecure-requests\\r\\nLocation: https://www.bloomberg.com/\\r\\nContent-Type: text/html; charset=iso-8859-1\\r\\nVary: Accept-Encoding\\r\\nContent-Encoding: gzip\\r\\nContent-Length: 193\\r\\nCache-Control: max-age=68\\r\\nExpires: Thu, 16 Mar 2017 03:14:50 GMT\\r\\nDate: Thu, 16 Mar 2017 03:13:42 GMT\\r\\nConnection: keep-alive\\r\\nSet-Cookie: ak_rg=US; expires=Thu, 23-Mar-2017 03:13:42 GMT; path=/\\r\\nSet-Cookie: ak_co=US; expires=Thu, 23-Mar-2017 03:13:42 GMT; path=/\\r\\n\\r\\n\\x1f\\x8b\\x08\\x00\\x00\\x00\\x00\\x00\\x00\\x03m\\x8e\\xb1\\x0e\\x82@\\x10D{\\xbeb\\xa5\\x97\\x05\\xed\\xccz\\x85\\x80\\xd1\\x04\\x94\\xe2,,\\x0fX=\\x13\\x8e#xJ\\xfc{\\x01[\\xcb\\x99y;\\xb3\\xb4H\\xce\\xb1\\xbc\\x16)\\x1cd\\x9eAq\\xd9e\\xc7\\x18\\xfc%\\xe21\\x95{\\xc4D&\\xbfd\\x15\\x84\\x88\\xe9\\xc9\\x17\\x1eig\\x1aA\\x9aU=\\n\\xf7p\\r\\x8bu\\x18An\\xdf\\\\C\\xc1\\xbdQ-\\xb7\\xae\\xf9\\x10\\xfeB\\x8fp\\x86\\xa9\\xb4\\xf5g\\xba\\x8f\\xc4\\x1fvt=\\xea\\x84\\xd4\\x0c\\xb5\\xad^f\\xb4A\\xab'\\x98\\x19%\\x05\\xba\\xe7\\xdb\\xd6\\xd7\\xceu\\xcf\\r\\xe20\\x0cA\\xd9XkJ\\xee\\xefAe\\r\\xfaBs\\xcf\\x84J\\x04\\x84\\xdd\\xb4:\\xef\\x8d\\xcd\\xd3\\xbf\\xde\\x17\\x12\\xeb\\x14n\\xea\\x00\\x00\\x00\"\n"
     ]
    }
   ],
   "source": [
    "print(response)"
   ]
  },
  {
   "cell_type": "markdown",
   "metadata": {
    "deletable": true,
    "editable": true,
    "slideshow": {
     "slide_type": "slide"
    }
   },
   "source": [
    "You can, of course, also build a socket server:"
   ]
  },
  {
   "cell_type": "code",
   "execution_count": 43,
   "metadata": {
    "collapsed": false,
    "deletable": true,
    "editable": true
   },
   "outputs": [
    {
     "name": "stdout",
     "output_type": "stream",
     "text": [
      "Got a connection from ('127.0.0.1', 52315)\n",
      "b'Hello\\n'\n"
     ]
    }
   ],
   "source": [
    "sock_srv = socket.socket()\n",
    "sock_srv.bind(('127.0.0.1', 8042))\n",
    "sock_srv.listen(1)\n",
    "sock_conn, cli_addr = sock_srv.accept()\n",
    "print('Got a connection from', cli_addr)\n",
    "msg = sock_conn.recv(1024)\n",
    "print(msg)\n",
    "sock_conn.sendall(msg)\n",
    "sock_conn.close()"
   ]
  },
  {
   "cell_type": "markdown",
   "metadata": {
    "deletable": true,
    "editable": true
   },
   "source": [
    "Normally, you'd do something more like the following:"
   ]
  },
  {
   "cell_type": "code",
   "execution_count": 45,
   "metadata": {
    "collapsed": false,
    "deletable": true,
    "editable": true,
    "slideshow": {
     "slide_type": "slide"
    }
   },
   "outputs": [
    {
     "name": "stdout",
     "output_type": "stream",
     "text": [
      "Handling connection fromClosing server socket\n",
      " ('127.0.0.1', 52322)\n",
      "Got b'Hello'\n",
      "Got b'there'\n",
      "Exiting handler\n"
     ]
    }
   ],
   "source": [
    "import threading\n",
    "\n",
    "def handle_echo_connection(sock, addr):\n",
    "    print('Handling connection from', addr)\n",
    "    while True:\n",
    "        msg = sock.recv(1024)\n",
    "        if not msg:\n",
    "            break\n",
    "        print('Got', msg.rstrip())\n",
    "        sock.sendall(msg)\n",
    "    sock.close()\n",
    "    print('Exiting handler')\n",
    "        \n",
    "sock_srv = socket.socket()\n",
    "sock_srv.bind(('127.0.0.1', 8043))\n",
    "sock_srv.listen(1)\n",
    "\n",
    "while True:\n",
    "    sock_conn, cli_addr = sock_srv.accept()\n",
    "    thd = threading.Thread(target=handle_echo_connection, args=(sock_conn, cli_addr))\n",
    "    thd.setDaemon(True)\n",
    "    thd.start()\n",
    "    break   # normally we'd keep looping\n",
    "\n",
    "print('Closing server socket')\n",
    "sock_srv.close()"
   ]
  },
  {
   "cell_type": "markdown",
   "metadata": {
    "deletable": true,
    "editable": true,
    "slideshow": {
     "slide_type": "slide"
    }
   },
   "source": [
    "## Building a simple JSON REST API client\n",
    "\n",
    "We're going to use a simple in-memory key/value store with a few endpoints:\n",
    "\n",
    " - GET / - return a list of collection names\n",
    " - GET /{cname} - return a list of ids for documents in a collection\n",
    " - POST /{cname} - insert a document (with auto-generated id) in a collection\n",
    " - DELETE /{cname} - drop a collection\n",
    " - GET /{cname}/{id} - return a document\n",
    " - PUT /{cname}/{id} - insert/replace a document\n",
    " - DELETE /{cname}/{id} - delete a document"
   ]
  },
  {
   "cell_type": "code",
   "execution_count": 47,
   "metadata": {
    "collapsed": false,
    "deletable": true,
    "editable": true,
    "slideshow": {
     "slide_type": "slide"
    }
   },
   "outputs": [],
   "source": [
    "import json\n",
    "\n",
    "class Database(object):\n",
    "    \n",
    "    def __init__(self, url):\n",
    "        self._url = url\n",
    "        \n",
    "    def collections(self):\n",
    "        resp = json.load(urllib2.urlopen(self._url))\n",
    "        return resp"
   ]
  },
  {
   "cell_type": "code",
   "execution_count": 49,
   "metadata": {
    "collapsed": false,
    "deletable": true,
    "editable": true
   },
   "outputs": [
    {
     "data": {
      "text/plain": [
       "{'collections': []}"
      ]
     },
     "execution_count": 49,
     "metadata": {},
     "output_type": "execute_result"
    }
   ],
   "source": [
    "db = Database('http://localhost:5000')\n",
    "db.collections()"
   ]
  },
  {
   "cell_type": "markdown",
   "metadata": {
    "deletable": true,
    "editable": true,
    "slideshow": {
     "slide_type": "slide"
    }
   },
   "source": [
    "Unfortunately, `urllib2` requests are a little broken when it comes to HTTP methods, so we'll have to subclass them:"
   ]
  },
  {
   "cell_type": "code",
   "execution_count": 50,
   "metadata": {
    "collapsed": true,
    "deletable": true,
    "editable": true
   },
   "outputs": [],
   "source": [
    "class PUT(urllib2.Request):\n",
    "    def get_method(self):\n",
    "        return 'PUT'\n",
    "\n",
    "class DELETE(urllib2.Request):\n",
    "    def get_method(self):\n",
    "        return 'DELETE'"
   ]
  },
  {
   "cell_type": "code",
   "execution_count": 57,
   "metadata": {
    "collapsed": true,
    "deletable": true,
    "editable": true,
    "slideshow": {
     "slide_type": "slide"
    }
   },
   "outputs": [],
   "source": [
    "class Database(object):\n",
    "    \n",
    "    def __init__(self, url):\n",
    "        self._url = url\n",
    "        \n",
    "    def collections(self):\n",
    "        resp = json.load(urllib2.urlopen(self._url))\n",
    "        return resp\n",
    "    \n",
    "    def _href_collection(self, cname):\n",
    "        return '%s/%s' % (self._url, cname)\n",
    "    \n",
    "    def __getitem__(self, cname):\n",
    "        return Collection(self._href_collection(cname))\n",
    "    \n",
    "    def __delitem__(self, cname):\n",
    "        req = DELETE(self._href_collection(cname))\n",
    "        return json.load(urllib2.urlopen(req))\n",
    "\n",
    "class Collection(object):\n",
    "    \n",
    "    def __init__(self, url):\n",
    "        self._url = url\n",
    "        \n",
    "    def documents(self):\n",
    "        resp = json.load(urllib2.urlopen(self._url))\n",
    "        return resp\n",
    "    \n",
    "    def drop(self):\n",
    "        req = DELETE(self._url)\n",
    "        return json.load(urllib2.urlopen(req))\n",
    "    \n",
    "    def insert(self, doc):\n",
    "        return json.load(urllib2.urlopen(\n",
    "            self._url, json.dumps(doc).encode('utf-8')))\n",
    "    \n",
    "    def _href_doc(self, id):\n",
    "        return '%s/%s' % (self._url, id)\n",
    "    \n",
    "    def __getitem__(self, id):\n",
    "        return json.load(urllib2.urlopen(self._href_doc(id)))\n",
    "    \n",
    "    def __setitem__(self, id, value):\n",
    "        req = PUT(\n",
    "            self._href_doc(id), \n",
    "            json.dumps(value).encode('utf-8'), \n",
    "            {'Content-Type': 'application/json'})\n",
    "        return json.load(urllib2.urlopen(req))\n",
    "    \n",
    "    def __delitem__(self, id):\n",
    "        req = DELETE(self._href_doc(id))\n",
    "        response = urllib2.urlopen(req)\n",
    "        return json.load(response)\n",
    "    \n",
    "    "
   ]
  },
  {
   "cell_type": "code",
   "execution_count": 58,
   "metadata": {
    "collapsed": false,
    "deletable": true,
    "editable": true,
    "slideshow": {
     "slide_type": "slide"
    }
   },
   "outputs": [
    {
     "data": {
      "text/plain": [
       "{'collections': [{'cname': 'foo', 'href': '/foo'}]}"
      ]
     },
     "execution_count": 58,
     "metadata": {},
     "output_type": "execute_result"
    }
   ],
   "source": [
    "db = Database('http://localhost:5000')\n",
    "coll = db['foo']\n",
    "coll['0'] = {'name': 'Foo'}\n",
    "db.collections()"
   ]
  },
  {
   "cell_type": "code",
   "execution_count": 59,
   "metadata": {
    "collapsed": false,
    "deletable": true,
    "editable": true
   },
   "outputs": [
    {
     "data": {
      "text/plain": [
       "{'docs': [{'href': '/foo/0', 'id': '0'}]}"
      ]
     },
     "execution_count": 59,
     "metadata": {},
     "output_type": "execute_result"
    }
   ],
   "source": [
    "coll.documents()"
   ]
  },
  {
   "cell_type": "code",
   "execution_count": 60,
   "metadata": {
    "collapsed": false,
    "deletable": true,
    "editable": true
   },
   "outputs": [
    {
     "data": {
      "text/plain": [
       "{'href': '/foo/K81Ai6RnAqGshf5K', 'id': 'K81Ai6RnAqGshf5K'}"
      ]
     },
     "execution_count": 60,
     "metadata": {},
     "output_type": "execute_result"
    }
   ],
   "source": [
    "coll.insert({'name': 'Bar'})"
   ]
  },
  {
   "cell_type": "code",
   "execution_count": 61,
   "metadata": {
    "collapsed": false,
    "deletable": true,
    "editable": true,
    "slideshow": {
     "slide_type": "slide"
    }
   },
   "outputs": [
    {
     "data": {
      "text/plain": [
       "{'0': '/foo/0', 'K81Ai6RnAqGshf5K': '/foo/K81Ai6RnAqGshf5K'}"
      ]
     },
     "execution_count": 61,
     "metadata": {},
     "output_type": "execute_result"
    }
   ],
   "source": [
    "docs = coll.documents()\n",
    "docs = dict((d['id'], d['href']) for d in docs['docs'])\n",
    "docs"
   ]
  },
  {
   "cell_type": "code",
   "execution_count": 62,
   "metadata": {
    "collapsed": false,
    "deletable": true,
    "editable": true
   },
   "outputs": [
    {
     "data": {
      "text/plain": [
       "{'name': 'Foo'}"
      ]
     },
     "execution_count": 62,
     "metadata": {},
     "output_type": "execute_result"
    }
   ],
   "source": [
    "coll[0]"
   ]
  },
  {
   "cell_type": "code",
   "execution_count": 63,
   "metadata": {
    "collapsed": false,
    "deletable": true,
    "editable": true
   },
   "outputs": [],
   "source": [
    "del db['foo']['0']"
   ]
  },
  {
   "cell_type": "code",
   "execution_count": 64,
   "metadata": {
    "collapsed": false,
    "deletable": true,
    "editable": true
   },
   "outputs": [
    {
     "data": {
      "text/plain": [
       "{'docs': [{'href': '/foo/K81Ai6RnAqGshf5K', 'id': 'K81Ai6RnAqGshf5K'}]}"
      ]
     },
     "execution_count": 64,
     "metadata": {},
     "output_type": "execute_result"
    }
   ],
   "source": [
    "coll.documents()"
   ]
  },
  {
   "cell_type": "code",
   "execution_count": 65,
   "metadata": {
    "collapsed": false,
    "deletable": true,
    "editable": true,
    "slideshow": {
     "slide_type": "slide"
    }
   },
   "outputs": [
    {
     "data": {
      "text/plain": [
       "{}"
      ]
     },
     "execution_count": 65,
     "metadata": {},
     "output_type": "execute_result"
    }
   ],
   "source": [
    "coll.drop()"
   ]
  },
  {
   "cell_type": "code",
   "execution_count": 66,
   "metadata": {
    "collapsed": false,
    "deletable": true,
    "editable": true
   },
   "outputs": [
    {
     "data": {
      "text/plain": [
       "{'collections': []}"
      ]
     },
     "execution_count": 66,
     "metadata": {},
     "output_type": "execute_result"
    }
   ],
   "source": [
    "db.collections()"
   ]
  },
  {
   "cell_type": "markdown",
   "metadata": {
    "deletable": true,
    "editable": true,
    "slideshow": {
     "slide_type": "slide"
    }
   },
   "source": [
    "Python Requests library (3rd party) simplifies many of these tasks.\n",
    "\n",
    "http://docs.python-requests.org/en/master/"
   ]
  }
 ],
 "metadata": {
  "celltoolbar": "Slideshow",
  "kernelspec": {
   "display_name": "Python 3",
   "language": "python",
   "name": "python3"
  },
  "language_info": {
   "codemirror_mode": {
    "name": "ipython",
    "version": 3
   },
   "file_extension": ".py",
   "mimetype": "text/x-python",
   "name": "python",
   "nbconvert_exporter": "python",
   "pygments_lexer": "ipython3",
   "version": "3.6.0"
  }
 },
 "nbformat": 4,
 "nbformat_minor": 0
}
