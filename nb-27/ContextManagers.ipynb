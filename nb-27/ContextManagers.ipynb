{
 "cells": [
  {
   "cell_type": "markdown",
   "metadata": {},
   "source": [
    "# Context Managers"
   ]
  },
  {
   "cell_type": "code",
   "execution_count": 72,
   "metadata": {},
   "outputs": [
    {
     "name": "stdout",
     "output_type": "stream",
     "text": [
      "##\n",
      "# Host Database\n",
      "#\n",
      "# localhost is used to configure the loopback interface\n",
      "# when the system is booting.  Do not change this entry.\n",
      "##\n",
      "127.0.0.1\tlocalhost\n",
      "255.255.255.255\tbroadcasthost\n",
      "::1             localhost \n",
      "fe80::1%lo0\tlocalhost\n",
      "# 192.168.11.3\taragorn\n",
      "# 208.113.226.104 www.ricksresources.com\n",
      "\n",
      "<closed file '/etc/hosts', mode 'r' at 0x10e72b660>\n"
     ]
    }
   ],
   "source": [
    "with open('/etc/hosts') as fp:\n",
    "    print fp.read()\n",
    "print fp"
   ]
  },
  {
   "cell_type": "code",
   "execution_count": 73,
   "metadata": {},
   "outputs": [
    {
     "name": "stdout",
     "output_type": "stream",
     "text": [
      "handle keyerror\n",
      "<closed file '/etc/hosts', mode 'r' at 0x10e6c3270>\n"
     ]
    }
   ],
   "source": [
    "try:\n",
    "    with open('/etc/hosts') as fp:\n",
    "        raise KeyError()\n",
    "        print fp.read()\n",
    "except KeyError:\n",
    "    print 'handle keyerror'\n",
    "\n",
    "print fp"
   ]
  },
  {
   "cell_type": "code",
   "execution_count": 12,
   "metadata": {
    "collapsed": true
   },
   "outputs": [],
   "source": [
    "with open('/etc/hosts') as fp_i, open('/tmp/hosts', 'w') as fp_o:\n",
    "    while True:\n",
    "        block = fp_i.read(8192)\n",
    "        if not block:\n",
    "            break\n",
    "        fp_o.write(block)\n",
    "    # fp_o.write(fp_i.read())"
   ]
  },
  {
   "cell_type": "code",
   "execution_count": 13,
   "metadata": {},
   "outputs": [
    {
     "name": "stdout",
     "output_type": "stream",
     "text": [
      "##\n",
      "# Host Database\n",
      "#\n",
      "# localhost is used to configure the loopback interface\n",
      "# when the system is booting.  Do not change this entry.\n",
      "##\n",
      "127.0.0.1\tlocalhost\n",
      "255.255.255.255\tbroadcasthost\n",
      "::1             localhost \n",
      "fe80::1%lo0\tlocalhost\n",
      "# 192.168.11.3\taragorn\n",
      "# 208.113.226.104 www.ricksresources.com\n",
      "\n"
     ]
    }
   ],
   "source": [
    "with open('/tmp/hosts') as fp:\n",
    "    print fp.read()"
   ]
  },
  {
   "cell_type": "markdown",
   "metadata": {},
   "source": [
    "## Context manager protocol"
   ]
  },
  {
   "cell_type": "code",
   "execution_count": 28,
   "metadata": {
    "collapsed": true
   },
   "outputs": [],
   "source": [
    "class CM(object):\n",
    "    def __enter__(self):\n",
    "        print 'Entering CM'\n",
    "        return self\n",
    "    def __exit__(self, ex_type, ex_val, ex_tb):\n",
    "        print 'Exiting CM'\n",
    "        if ex_type == KeyError: \n",
    "            # Re-raise same exception\n",
    "            return False\n",
    "        # Don't re-raise\n",
    "        print 'Swallowing %s inside CM' % ex_type\n",
    "        return True"
   ]
  },
  {
   "cell_type": "code",
   "execution_count": 29,
   "metadata": {},
   "outputs": [
    {
     "name": "stdout",
     "output_type": "stream",
     "text": [
      "Entering CM\n",
      "Inside with statement <__main__.CM object at 0x10e653650>\n",
      "Exiting CM\n",
      "Swallowing None inside CM\n"
     ]
    }
   ],
   "source": [
    "with CM() as cm:\n",
    "    print 'Inside with statement', cm"
   ]
  },
  {
   "cell_type": "code",
   "execution_count": 30,
   "metadata": {},
   "outputs": [
    {
     "name": "stdout",
     "output_type": "stream",
     "text": [
      "Entering CM\n",
      "About to raise KeyError\n",
      "Exiting CM\n",
      "Catching KeyError outside CM\n"
     ]
    }
   ],
   "source": [
    "try:\n",
    "    with CM():\n",
    "        print 'About to raise KeyError'\n",
    "        raise KeyError()\n",
    "except KeyError:\n",
    "    print 'Catching KeyError outside CM'"
   ]
  },
  {
   "cell_type": "code",
   "execution_count": 31,
   "metadata": {},
   "outputs": [
    {
     "name": "stdout",
     "output_type": "stream",
     "text": [
      "Entering CM\n",
      "About to raise ValueError\n",
      "Exiting CM\n",
      "Swallowing <type 'exceptions.ValueError'> inside CM\n"
     ]
    }
   ],
   "source": [
    "with CM():\n",
    "    print 'About to raise ValueError'\n",
    "    raise ValueError()"
   ]
  },
  {
   "cell_type": "markdown",
   "metadata": {},
   "source": [
    "### Exercises\n",
    "\n",
    "- Write a context manager that logs the entry and exit of a block of code \n",
    "- Write a context manager that prints out balanced XML nodes. Use the test code below.\n",
    "\n",
    "Test code:\n",
    "\n",
    "    with node('html'):\n",
    "        with node('body'):\n",
    "            with node('h1'):\n",
    "                 print 'Page Title'\n",
    "\n",
    "You should see the following result:\n",
    "\n",
    "    <html>\n",
    "    <body>\n",
    "    <h1>\n",
    "    Page Title\n",
    "    </h1>\n",
    "    </body>\n",
    "    </html>"
   ]
  },
  {
   "cell_type": "code",
   "execution_count": 2,
   "metadata": {},
   "outputs": [
    {
     "name": "stdout",
     "output_type": "stream",
     "text": [
      "<html>\n",
      "<body>\n",
      "<h1>\n",
      "Page Title\n",
      "</h1>\n",
      "</body>\n",
      "</html>\n"
     ]
    }
   ],
   "source": [
    "class node(object):\n",
    "    def __init__(self, text):\n",
    "        self.text = text\n",
    "    def __enter__(self):\n",
    "        print \"<{0}>\".format(self.text)\n",
    "    def __exit__(self, ex_type, ex_value, ex_tb):\n",
    "        print \"</{0}>\".format(self.text)\n",
    "        return True\n",
    "    \n",
    "with node('html'):\n",
    "    with node('body'):\n",
    "        with node('h1'):\n",
    "             print 'Page Title'"
   ]
  },
  {
   "cell_type": "code",
   "execution_count": 63,
   "metadata": {
    "collapsed": true
   },
   "outputs": [],
   "source": []
  },
  {
   "cell_type": "code",
   "execution_count": 64,
   "metadata": {},
   "outputs": [
    {
     "name": "stdout",
     "output_type": "stream",
     "text": [
      "Enter my_cm\n",
      "Inside block\n",
      "Exit my_cm\n"
     ]
    }
   ],
   "source": [
    "with my_context_manager('my_cm'):\n",
    "    print 'Inside block'"
   ]
  },
  {
   "cell_type": "code",
   "execution_count": 70,
   "metadata": {
    "collapsed": true
   },
   "outputs": [],
   "source": [
    "@contextlib.contextmanager\n",
    "def node(name):\n",
    "    print '<{}>'.format(name)\n",
    "    yield\n",
    "    print '</' + name + '>'"
   ]
  },
  {
   "cell_type": "code",
   "execution_count": 71,
   "metadata": {},
   "outputs": [
    {
     "name": "stdout",
     "output_type": "stream",
     "text": [
      "<html>\n",
      "<body>\n",
      "<h1>\n",
      "Page Title\n",
      "</h1>\n",
      "</body>\n",
      "</html>\n"
     ]
    }
   ],
   "source": [
    "with node('html'):\n",
    "    with node('body'):\n",
    "        with node('h1'):\n",
    "             print 'Page Title'"
   ]
  },
  {
   "cell_type": "markdown",
   "metadata": {},
   "source": [
    "Enter my_cm\n",
    "Inside block\n",
    "Exit my_cm"
   ]
  },
  {
   "cell_type": "markdown",
   "metadata": {},
   "source": [
    "## Contextlib"
   ]
  },
  {
   "cell_type": "code",
   "execution_count": 32,
   "metadata": {
    "collapsed": true
   },
   "outputs": [],
   "source": [
    "import contextlib"
   ]
  },
  {
   "cell_type": "code",
   "execution_count": 36,
   "metadata": {
    "collapsed": true
   },
   "outputs": [],
   "source": [
    "@contextlib.contextmanager\n",
    "def so_much_easier():\n",
    "    print 'Entering block'\n",
    "    try:\n",
    "        yield 'this is yielded'\n",
    "        print 'Exiting block cleanly'\n",
    "    except:\n",
    "        print 'Exiting block with exception'"
   ]
  },
  {
   "cell_type": "code",
   "execution_count": 39,
   "metadata": {
    "collapsed": true
   },
   "outputs": [],
   "source": [
    "contextlib.GeneratorContextManager??"
   ]
  },
  {
   "cell_type": "code",
   "execution_count": 37,
   "metadata": {},
   "outputs": [
    {
     "name": "stdout",
     "output_type": "stream",
     "text": [
      "Entering block\n",
      "Inside block this is yielded\n",
      "Exiting block cleanly\n"
     ]
    }
   ],
   "source": [
    "with so_much_easier() as msg:\n",
    "    print 'Inside block', msg"
   ]
  },
  {
   "cell_type": "code",
   "execution_count": 35,
   "metadata": {},
   "outputs": [
    {
     "name": "stdout",
     "output_type": "stream",
     "text": [
      "Entering block\n",
      "Raising ValueError\n",
      "Exiting block with exception\n"
     ]
    }
   ],
   "source": [
    "with so_much_easier():\n",
    "    print 'Raising ValueError'\n",
    "    raise ValueError()"
   ]
  },
  {
   "cell_type": "markdown",
   "metadata": {},
   "source": [
    "`contextlib` also provides a facility to support the `with` statement with context manager-like\n",
    "objects that don't actually support the protocol, but *do* have a `close()` method:"
   ]
  },
  {
   "cell_type": "code",
   "execution_count": 40,
   "metadata": {
    "collapsed": true
   },
   "outputs": [],
   "source": [
    "class MyClass(object):\n",
    "    def __init__(self):\n",
    "        print 'Perform some resource acquisition'\n",
    "    def close(self):\n",
    "        print 'Close the resource'"
   ]
  },
  {
   "cell_type": "code",
   "execution_count": 41,
   "metadata": {},
   "outputs": [
    {
     "name": "stdout",
     "output_type": "stream",
     "text": [
      "Perform some resource acquisition\n",
      "myobj is <__main__.MyClass object at 0x10e70bad0>\n",
      "Close the resource\n"
     ]
    }
   ],
   "source": [
    "with contextlib.closing(MyClass()) as myobj:\n",
    "    print 'myobj is', myobj"
   ]
  },
  {
   "cell_type": "code",
   "execution_count": 44,
   "metadata": {},
   "outputs": [
    {
     "name": "stdout",
     "output_type": "stream",
     "text": [
      "Perform some resource acquisition\n",
      "raising ValueError\n",
      "Close the resource\n",
      "handling exception\n"
     ]
    }
   ],
   "source": [
    "try:\n",
    "    with contextlib.closing(MyClass()) as myobj:\n",
    "        print 'raising ValueError'\n",
    "        raise ValueError()\n",
    "except:\n",
    "    print 'handling exception'\n",
    "        "
   ]
  },
  {
   "cell_type": "markdown",
   "metadata": {},
   "source": [
    "### Exercises \n",
    "\n",
    "- Update your context managers from the previous exercise to use the `@contextmanager` decorator"
   ]
  },
  {
   "cell_type": "code",
   "execution_count": 7,
   "metadata": {},
   "outputs": [
    {
     "name": "stdout",
     "output_type": "stream",
     "text": [
      "<html>\n",
      "<body>\n",
      "<h1>\n",
      "Page Title\n",
      "<\\h1>\n",
      "<\\body>\n",
      "<\\html>\n"
     ]
    }
   ],
   "source": [
    "from contextlib import contextmanager\n",
    "\n",
    "@contextmanager\n",
    "def node(text):\n",
    "    print \"<{0}>\".format(text)\n",
    "    try:\n",
    "        yield \n",
    "    except:\n",
    "        pass\n",
    "    finally:\n",
    "        print \"<\\{0}>\".format(text)\n",
    " \n",
    "with node('html'):\n",
    "    with node('body'):\n",
    "        with node('h1'):\n",
    "             print 'Page Title'"
   ]
  },
  {
   "cell_type": "code",
   "execution_count": 11,
   "metadata": {},
   "outputs": [
    {
     "name": "stdout",
     "output_type": "stream",
     "text": [
      "Entering my_ctm\n",
      "Line1\n",
      "Line2\n",
      "Exiting my_ctm\n"
     ]
    }
   ],
   "source": [
    "@contextmanager\n",
    "def logging(text):\n",
    "    print \"Entering {0}\".format(text)\n",
    "    try:\n",
    "        yield\n",
    "    except:\n",
    "        pass\n",
    "    finally:\n",
    "        print \"Exiting {0}\".format(text)\n",
    "    \n",
    "with logging(\"my_ctm\"):\n",
    "    print \"Line1\"\n",
    "    print \"Line2\""
   ]
  },
  {
   "cell_type": "code",
   "execution_count": null,
   "metadata": {
    "collapsed": true
   },
   "outputs": [],
   "source": []
  }
 ],
 "metadata": {
  "kernelspec": {
   "display_name": "Python 2",
   "language": "python",
   "name": "python2"
  },
  "language_info": {
   "codemirror_mode": {
    "name": "ipython",
    "version": 2
   },
   "file_extension": ".py",
   "mimetype": "text/x-python",
   "name": "python",
   "nbconvert_exporter": "python",
   "pygments_lexer": "ipython2",
   "version": "2.7.10"
  }
 },
 "nbformat": 4,
 "nbformat_minor": 1
}
