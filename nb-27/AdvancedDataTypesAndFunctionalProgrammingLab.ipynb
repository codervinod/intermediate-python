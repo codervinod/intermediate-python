{
 "cells": [
  {
   "cell_type": "markdown",
   "metadata": {
    "slideshow": {
     "slide_type": "slide"
    }
   },
   "source": [
    "# Lab for Advanced Data Types and Functional Programming:\n",
    "- Create a counter with a `defaultdict` by setting the `default_factory` to `int`. Use your counter to count the number of times each letter appears in this sentence: \n",
    "    - `a quick brown fox jumps over the lazy dog`\n",
    "\n",
    "\n",
    "- Create a function called `printer` that takes a string and prints it. Then create a wrapper that will print the number of times each letter appears in the string passed in to `printer`, followed by the string.\n",
    "\n",
    "\n",
    "- Use the wrapper as a decorator on your `printer` function. "
   ]
  },
  {
   "cell_type": "markdown",
   "metadata": {
    "slideshow": {
     "slide_type": "slide"
    }
   },
   "source": [
    "Create a counter with a `defaultdict` by setting the `default_factory` to `int`. Use your counter to count the number of times each letter appears in this sentence: \n",
    "  - `a quick brown fox jumps over the lazy dog`"
   ]
  },
  {
   "cell_type": "code",
   "execution_count": 3,
   "metadata": {
    "collapsed": true
   },
   "outputs": [],
   "source": [
    "from collections import defaultdict\n",
    "\n",
    "def counter(sentence='a quick brown fox jumps over the lazy dog'):\n",
    "    count = defaultdict(int)\n",
    "\n",
    "    for letter in sentence.lower().replace(' ', ''):\n",
    "        count[letter] += 1\n",
    "\n",
    "    for i in count.items():\n",
    "        print i\n"
   ]
  },
  {
   "cell_type": "code",
   "execution_count": 4,
   "metadata": {
    "collapsed": false,
    "slideshow": {
     "slide_type": "fragment"
    }
   },
   "outputs": [
    {
     "name": "stdout",
     "output_type": "stream",
     "text": [
      "('a', 2)\n",
      "('c', 1)\n",
      "('b', 1)\n",
      "('e', 2)\n",
      "('d', 1)\n",
      "('g', 1)\n",
      "('f', 1)\n",
      "('i', 1)\n",
      "('h', 1)\n",
      "('k', 1)\n",
      "('j', 1)\n",
      "('m', 1)\n",
      "('l', 1)\n",
      "('o', 4)\n",
      "('n', 1)\n",
      "('q', 1)\n",
      "('p', 1)\n",
      "('s', 1)\n",
      "('r', 2)\n",
      "('u', 2)\n",
      "('t', 1)\n",
      "('w', 1)\n",
      "('v', 1)\n",
      "('y', 1)\n",
      "('x', 1)\n",
      "('z', 1)\n"
     ]
    }
   ],
   "source": [
    "counter()"
   ]
  },
  {
   "cell_type": "markdown",
   "metadata": {
    "slideshow": {
     "slide_type": "slide"
    }
   },
   "source": [
    "Create a function called `printer` that takes a string and prints it. Then create a wrapper that will print the number of times each letter appears in the string passed in to `printer`, followed by the string."
   ]
  },
  {
   "cell_type": "code",
   "execution_count": 5,
   "metadata": {
    "collapsed": true
   },
   "outputs": [],
   "source": [
    "def printer(text):\n",
    "    print text\n",
    "\n",
    "def count(f):\n",
    "    def wrapper(*args, **kwargs):\n",
    "        sentence = args[0]\n",
    "        sentence = sentence.lower().replace(' ', '')\n",
    "        counter = defaultdict(int)\n",
    "\n",
    "        for letter in sentence:\n",
    "            counter[letter] += 1\n",
    "\n",
    "        for l, c in counter.items():\n",
    "            print '{}: {}'.format(l, c)\n",
    "        return f(*args, **kwargs)\n",
    "    return wrapper"
   ]
  },
  {
   "cell_type": "code",
   "execution_count": 6,
   "metadata": {
    "collapsed": false,
    "scrolled": true,
    "slideshow": {
     "slide_type": "fragment"
    }
   },
   "outputs": [
    {
     "name": "stdout",
     "output_type": "stream",
     "text": [
      "a: 1\n",
      "g: 1\n",
      "i: 3\n",
      "h: 1\n",
      "n: 1\n",
      "s: 3\n",
      "r: 1\n",
      "t: 2\n",
      "This is a string\n"
     ]
    }
   ],
   "source": [
    "counted_printer = count(printer)\n",
    "counted_printer('This is a string')"
   ]
  },
  {
   "cell_type": "markdown",
   "metadata": {
    "slideshow": {
     "slide_type": "slide"
    }
   },
   "source": [
    "Use the wrapper as a decorator on your `printer` function. "
   ]
  },
  {
   "cell_type": "code",
   "execution_count": 9,
   "metadata": {
    "collapsed": true,
    "slideshow": {
     "slide_type": "-"
    }
   },
   "outputs": [],
   "source": [
    "@count\n",
    "def printer(text):\n",
    "    print text"
   ]
  },
  {
   "cell_type": "code",
   "execution_count": 10,
   "metadata": {
    "collapsed": false,
    "slideshow": {
     "slide_type": "fragment"
    }
   },
   "outputs": [
    {
     "name": "stdout",
     "output_type": "stream",
     "text": [
      "a: 1\n",
      "g: 1\n",
      "i: 3\n",
      "h: 1\n",
      "n: 1\n",
      "s: 3\n",
      "r: 1\n",
      "t: 2\n",
      "This is a string\n"
     ]
    }
   ],
   "source": [
    "printer('This is a string')"
   ]
  }
 ],
 "metadata": {
  "celltoolbar": "Slideshow",
  "kernelspec": {
   "display_name": "Python 2",
   "language": "python",
   "name": "python2"
  },
  "language_info": {
   "codemirror_mode": {
    "name": "ipython",
    "version": 2
   },
   "file_extension": ".py",
   "mimetype": "text/x-python",
   "name": "python",
   "nbconvert_exporter": "python",
   "pygments_lexer": "ipython2",
   "version": "2.7.11"
  }
 },
 "nbformat": 4,
 "nbformat_minor": 0
}
