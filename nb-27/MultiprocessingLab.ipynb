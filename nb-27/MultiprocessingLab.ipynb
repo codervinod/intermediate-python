{
 "cells": [
  {
   "cell_type": "markdown",
   "metadata": {
    "slideshow": {
     "slide_type": "skip"
    }
   },
   "source": [
    "[Slides](./MultiprocessingLab.slides.html)"
   ]
  },
  {
   "cell_type": "markdown",
   "metadata": {
    "slideshow": {
     "slide_type": "slide"
    }
   },
   "source": [
    "# Lab for Multiprocessing with Python\n",
    "\n",
    "- Write a function print_time() that logs the current time each second\n",
    "- Write a program that starts the print_time() function in a process, sleeps for 10s, and then exits (use terminate())"
   ]
  },
  {
   "cell_type": "markdown",
   "metadata": {
    "slideshow": {
     "slide_type": "slide"
    }
   },
   "source": [
    "[print_time.py](/edit/examples/Multiprocessing/print_time.py)"
   ]
  },
  {
   "cell_type": "code",
   "execution_count": 1,
   "metadata": {
    "collapsed": false
   },
   "outputs": [
    {
     "name": "stdout",
     "output_type": "stream",
     "text": [
      "Thu Mar 16 16:26:16 2017\n",
      "Thu Mar 16 16:26:17 2017\n",
      "Thu Mar 16 16:26:18 2017\n",
      "Thu Mar 16 16:26:19 2017\n",
      "Thu Mar 16 16:26:20 2017\n",
      "Thu Mar 16 16:26:21 2017\n",
      "Thu Mar 16 16:26:22 2017\n",
      "Thu Mar 16 16:26:23 2017\n",
      "Thu Mar 16 16:26:24 2017\n",
      "Thu Mar 16 16:26:25 2017\n"
     ]
    }
   ],
   "source": [
    "!python ../examples/Multiprocessing/print_time.py"
   ]
  },
  {
   "cell_type": "code",
   "execution_count": 2,
   "metadata": {
    "collapsed": false
   },
   "outputs": [
    {
     "name": "stdout",
     "output_type": "stream",
     "text": [
      "{'foo': <class '__main__.RegisteredClass'>}\n"
     ]
    }
   ],
   "source": [
    "class Registry(object):\n",
    "    _d = {}\n",
    "    \n",
    "    @classmethod\n",
    "    def register(cls, name):\n",
    "        def deco(other_cls):\n",
    "            cls._d[name] = other_cls\n",
    "            return other_cls\n",
    "        return deco\n",
    "    \n",
    "    \n",
    "    \n",
    "@Registry.register('foo')\n",
    "class RegisteredClass(Registry):\n",
    "    pass\n",
    "\n",
    "print Registry._d\n",
    "        "
   ]
  },
  {
   "cell_type": "code",
   "execution_count": null,
   "metadata": {
    "collapsed": true
   },
   "outputs": [],
   "source": []
  }
 ],
 "metadata": {
  "celltoolbar": "Slideshow",
  "kernelspec": {
   "display_name": "Python 2",
   "language": "python",
   "name": "python2"
  },
  "language_info": {
   "codemirror_mode": {
    "name": "ipython",
    "version": 2
   },
   "file_extension": ".py",
   "mimetype": "text/x-python",
   "name": "python",
   "nbconvert_exporter": "python",
   "pygments_lexer": "ipython2",
   "version": "2.7.11"
  }
 },
 "nbformat": 4,
 "nbformat_minor": 0
}
