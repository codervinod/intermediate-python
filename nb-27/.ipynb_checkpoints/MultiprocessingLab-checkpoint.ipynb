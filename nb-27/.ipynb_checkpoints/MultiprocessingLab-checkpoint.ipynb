{
 "cells": [
  {
   "cell_type": "markdown",
   "metadata": {
    "slideshow": {
     "slide_type": "skip"
    }
   },
   "source": [
    "[Slides](./MultiprocessingLab.slides.html)"
   ]
  },
  {
   "cell_type": "markdown",
   "metadata": {
    "slideshow": {
     "slide_type": "slide"
    }
   },
   "source": [
    "# Lab for Multiprocessing with Python\n",
    "\n",
    "- Write a function print_time() that logs the current time each second\n",
    "- Write a program that starts the print_time() function in a process, sleeps for 10s, and then exits (use terminate())"
   ]
  },
  {
   "cell_type": "markdown",
   "metadata": {
    "slideshow": {
     "slide_type": "slide"
    }
   },
   "source": [
    "[print_time.py](/edit/examples/Multiprocessing/print_time.py)"
   ]
  },
  {
   "cell_type": "code",
   "execution_count": 1,
   "metadata": {
    "collapsed": false
   },
   "outputs": [
    {
     "name": "stdout",
     "output_type": "stream",
     "text": [
      "Wed Mar 15 19:56:03 2017\n",
      "Wed Mar 15 19:56:04 2017\n",
      "Wed Mar 15 19:56:05 2017\n",
      "Wed Mar 15 19:56:06 2017\n",
      "Wed Mar 15 19:56:07 2017\n",
      "Wed Mar 15 19:56:08 2017\n",
      "Wed Mar 15 19:56:09 2017\n",
      "Wed Mar 15 19:56:10 2017\n",
      "Wed Mar 15 19:56:11 2017\n",
      "Wed Mar 15 19:56:12 2017\n"
     ]
    }
   ],
   "source": [
    "!python ../examples/Multiprocessing/print_time.py"
   ]
  }
 ],
 "metadata": {
  "celltoolbar": "Slideshow",
  "kernelspec": {
   "display_name": "Python 2",
   "language": "python",
   "name": "python2"
  },
  "language_info": {
   "codemirror_mode": {
    "name": "ipython",
    "version": 2
   },
   "file_extension": ".py",
   "mimetype": "text/x-python",
   "name": "python",
   "nbconvert_exporter": "python",
   "pygments_lexer": "ipython2",
   "version": "2.7.11"
  }
 },
 "nbformat": 4,
 "nbformat_minor": 0
}
