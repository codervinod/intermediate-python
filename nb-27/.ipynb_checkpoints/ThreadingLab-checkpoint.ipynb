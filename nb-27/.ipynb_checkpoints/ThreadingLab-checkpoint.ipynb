{
 "cells": [
  {
   "cell_type": "markdown",
   "metadata": {
    "slideshow": {
     "slide_type": "skip"
    }
   },
   "source": [
    "[Slides](./ThreadingLab.slides.html)"
   ]
  },
  {
   "cell_type": "markdown",
   "metadata": {
    "slideshow": {
     "slide_type": "slide"
    }
   },
   "source": [
    "# Lab for Threading\n",
    "\n",
    "- Write a function print_time() that logs the current time each second\n",
    "- Write a program that starts the print_time() function in a thread, sleeps for 10s, and then exits (use setDaemon())\n",
    "- **\"extra credit\"**: Write a log() function that prints a message  atomically without using the logging module"
   ]
  },
  {
   "cell_type": "code",
   "execution_count": null,
   "metadata": {
    "collapsed": true
   },
   "outputs": [],
   "source": [
    "# This will be useful in the first part\n",
    "import time\n",
    "time.sleep(1)"
   ]
  },
  {
   "cell_type": "markdown",
   "metadata": {
    "slideshow": {
     "slide_type": "slide"
    }
   },
   "source": [
    "Write a function print_time() that logs the current time each second"
   ]
  },
  {
   "cell_type": "code",
   "execution_count": null,
   "metadata": {
    "collapsed": true
   },
   "outputs": [],
   "source": [
    "import time\n",
    "import threading\n",
    "\n",
    "def print_time():\n",
    "    while True:\n",
    "        print time.ctime()\n",
    "        time.sleep(1)\n"
   ]
  },
  {
   "cell_type": "markdown",
   "metadata": {
    "slideshow": {
     "slide_type": "slide"
    }
   },
   "source": [
    "Write a program that starts the print_time() function in a thread, sleeps for 10s, and then exits (use setDaemon())"
   ]
  },
  {
   "cell_type": "code",
   "execution_count": null,
   "metadata": {
    "collapsed": false
   },
   "outputs": [],
   "source": [
    "# Don't run this cell -- it will run forever because it's in the Notebook\n",
    "\n",
    "t = threading.Thread(target=print_time)\n",
    "t.setDaemon(True)\n",
    "t.start()\n",
    "\n",
    "time.sleep(10)\n"
   ]
  },
  {
   "cell_type": "code",
   "execution_count": 1,
   "metadata": {
    "collapsed": false
   },
   "outputs": [
    {
     "name": "stdout",
     "output_type": "stream",
     "text": [
      "Thu Mar 16 16:08:53 2017\n",
      "Thu Mar 16 16:08:54 2017\n",
      "Thu Mar 16 16:08:55 2017\n",
      "Thu Mar 16 16:08:56 2017\n",
      "Thu Mar 16 16:08:57 2017\n",
      "Thu Mar 16 16:08:58 2017\n",
      "Thu Mar 16 16:08:59 2017\n",
      "Thu Mar 16 16:09:00 2017\n",
      "Thu Mar 16 16:09:01 2017\n",
      "Thu Mar 16 16:09:02 2017\n"
     ]
    }
   ],
   "source": [
    "!python ../examples/Threading/print_time.py"
   ]
  },
  {
   "cell_type": "markdown",
   "metadata": {
    "slideshow": {
     "slide_type": "slide"
    }
   },
   "source": [
    "Write a log() function that prints a message  atomically without using the logging module"
   ]
  },
  {
   "cell_type": "code",
   "execution_count": 10,
   "metadata": {
    "collapsed": true
   },
   "outputs": [],
   "source": [
    "import sys\n",
    "import time\n",
    "import threading\n",
    "\n",
    "log_mutex = threading.Lock()\n",
    "\n",
    "def log(message, *args):\n",
    "    with log_mutex:\n",
    "        slow_log(message, *args)\n",
    "\n",
    "def slow_log(message, *args):\n",
    "    message = message % args\n",
    "    for ch in message:\n",
    "        sys.stdout.write(ch)\n",
    "        time.sleep(0.01)\n",
    "        sys.stdout.flush()\n",
    "    sys.stdout.write('\\n')\n",
    "    sys.stdout.flush()"
   ]
  },
  {
   "cell_type": "code",
   "execution_count": 11,
   "metadata": {
    "collapsed": false,
    "slideshow": {
     "slide_type": "fragment"
    }
   },
   "outputs": [
    {
     "name": "stdout",
     "output_type": "stream",
     "text": [
      "(x,y) is (0, 0)\n",
      "(x,y) is (0, 1)\n",
      "(x,y) is (0, 2)\n",
      "(x,y) is (0, 3)\n",
      "(x,y) is (1, 0)\n",
      "(x,y) is (2, 0)\n",
      "(x,y) is (3, 0)\n",
      "(x,y) is (3, 1)\n",
      "(x,y) is (3, 2)\n",
      "(x,y) is (3, 3)\n",
      "(x,y) is (2, 1)\n",
      "(x,y) is (2, 2)\n",
      "(x,y) is (1, 1)\n",
      "(x,y) is (2, 3)\n",
      "(x,y) is (1, 2)\n",
      "(x,y) is (1, 3)\n"
     ]
    }
   ],
   "source": [
    "def target(x):\n",
    "    for y in range(4):\n",
    "        log('(x,y) is (%d, %d)',x,y)\n",
    "\n",
    "threads = [ threading.Thread(target=target, args=(x,))\n",
    "            for x in range(4) ]\n",
    "\n",
    "for t in threads:\n",
    "    t.start()\n"
   ]
  },
  {
   "cell_type": "code",
   "execution_count": null,
   "metadata": {
    "collapsed": true
   },
   "outputs": [],
   "source": []
  }
 ],
 "metadata": {
  "celltoolbar": "Slideshow",
  "kernelspec": {
   "display_name": "Python 2",
   "language": "python",
   "name": "python2"
  },
  "language_info": {
   "codemirror_mode": {
    "name": "ipython",
    "version": 2
   },
   "file_extension": ".py",
   "mimetype": "text/x-python",
   "name": "python",
   "nbconvert_exporter": "python",
   "pygments_lexer": "ipython2",
   "version": "2.7.11"
  }
 },
 "nbformat": 4,
 "nbformat_minor": 0
}
