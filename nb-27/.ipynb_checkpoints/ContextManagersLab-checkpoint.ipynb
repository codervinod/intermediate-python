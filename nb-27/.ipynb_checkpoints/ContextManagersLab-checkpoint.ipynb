{
 "cells": [
  {
   "cell_type": "markdown",
   "metadata": {
    "slideshow": {
     "slide_type": "skip"
    }
   },
   "source": [
    "[Slides](./ContextManagersLab.slides.html)"
   ]
  },
  {
   "cell_type": "markdown",
   "metadata": {
    "slideshow": {
     "slide_type": "slide"
    }
   },
   "source": [
    "# Lab for Context Managers\n",
    "\n",
    "- Write a context manager that logs the entry and exit of a block of code \n",
    "- Write a context manager that prints out balanced XML nodes. Use the test code below.\n",
    "- Update these context managers to use the `@contextmanager` decorator\n",
    "\n",
    "Test code:\n",
    "\n",
    "    with node('html'):\n",
    "        with node('body'):\n",
    "            with node('h1'):\n",
    "                 print 'Page Title'\n",
    "\n",
    "You should see the following result:\n",
    "\n",
    "    <html>\n",
    "    <body>\n",
    "    <h1>\n",
    "    Page Title\n",
    "    </h1>\n",
    "    </body>\n",
    "    </html>"
   ]
  },
  {
   "cell_type": "markdown",
   "metadata": {
    "slideshow": {
     "slide_type": "slide"
    }
   },
   "source": [
    "Write a context manager that logs the entry and exit of a block of code "
   ]
  },
  {
   "cell_type": "code",
   "execution_count": 7,
   "metadata": {
    "collapsed": true
   },
   "outputs": [],
   "source": [
    "class log_block(object):\n",
    "\n",
    "    def __enter__(self):\n",
    "        print 'Enter'\n",
    "\n",
    "    def __exit__(self, ex_type, ex_value, ex_tb):\n",
    "        if ex_type is None:\n",
    "            print 'Exit (no exception)'\n",
    "        else:\n",
    "            print 'Exit (with exception %s)' % ex_type\n",
    "            return True   # swallow the exception, do not re-raise"
   ]
  },
  {
   "cell_type": "code",
   "execution_count": 8,
   "metadata": {
    "collapsed": false,
    "slideshow": {
     "slide_type": "fragment"
    }
   },
   "outputs": [
    {
     "name": "stdout",
     "output_type": "stream",
     "text": [
      "This is before the with statement\n",
      "Enter\n",
      "Now inside the block\n",
      "still inside block\n",
      "Exit (no exception)\n"
     ]
    }
   ],
   "source": [
    "print 'This is before the with statement'\n",
    "\n",
    "with log_block():\n",
    "    print 'Now inside the block'\n",
    "    print 'still inside block'\n",
    "    "
   ]
  },
  {
   "cell_type": "code",
   "execution_count": 9,
   "metadata": {
    "collapsed": false,
    "slideshow": {
     "slide_type": "fragment"
    }
   },
   "outputs": [
    {
     "name": "stdout",
     "output_type": "stream",
     "text": [
      "Enter\n",
      "Now inside the 2nd block\n",
      "still inside 2nd block\n",
      "Exit (with exception <type 'exceptions.ValueError'>)\n"
     ]
    }
   ],
   "source": [
    "with log_block():\n",
    "    print 'Now inside the 2nd block'\n",
    "    print 'still inside 2nd block'\n",
    "    raise ValueError\n"
   ]
  },
  {
   "cell_type": "markdown",
   "metadata": {
    "slideshow": {
     "slide_type": "slide"
    }
   },
   "source": [
    "Write a context manager that prints out balanced XML nodes. Use the test code below."
   ]
  },
  {
   "cell_type": "code",
   "execution_count": 10,
   "metadata": {
    "collapsed": true
   },
   "outputs": [],
   "source": [
    "class node(object):\n",
    "\n",
    "    def __init__(self, name):\n",
    "        self.name = name\n",
    "\n",
    "    def __enter__(self):\n",
    "        print '<%s>' % self.name\n",
    "\n",
    "    def __exit__(self, ex_type, ex_value, ex_tb):\n",
    "        print '</%s>' % self.name\n"
   ]
  },
  {
   "cell_type": "code",
   "execution_count": 11,
   "metadata": {
    "collapsed": false,
    "slideshow": {
     "slide_type": "fragment"
    }
   },
   "outputs": [
    {
     "name": "stdout",
     "output_type": "stream",
     "text": [
      "<html>\n",
      "<body>\n",
      "<h1>\n",
      "Page Title\n",
      "</h1>\n",
      "</body>\n",
      "</html>\n"
     ]
    }
   ],
   "source": [
    "with node('html'):\n",
    "    with node('body'):\n",
    "        with node('h1'):\n",
    "             print 'Page Title'"
   ]
  },
  {
   "cell_type": "markdown",
   "metadata": {
    "slideshow": {
     "slide_type": "slide"
    }
   },
   "source": [
    "Update these context managers to use the `@contextmanager` decorator"
   ]
  },
  {
   "cell_type": "code",
   "execution_count": 15,
   "metadata": {
    "collapsed": true
   },
   "outputs": [],
   "source": [
    "from contextlib import contextmanager\n",
    "\n",
    "@contextmanager\n",
    "def log_block():\n",
    "    print 'Enter'\n",
    "    try:\n",
    "        yield\n",
    "    except Exception as err:\n",
    "        print 'Exit (with exception %s)' % type(err)\n",
    "    else:\n",
    "        print 'Exit (no exception)'"
   ]
  },
  {
   "cell_type": "code",
   "execution_count": 16,
   "metadata": {
    "collapsed": false,
    "slideshow": {
     "slide_type": "fragment"
    }
   },
   "outputs": [
    {
     "name": "stdout",
     "output_type": "stream",
     "text": [
      "Enter\n",
      "Now inside the block\n",
      "still inside block\n",
      "Exit (no exception)\n"
     ]
    }
   ],
   "source": [
    "with log_block():\n",
    "    print 'Now inside the block'\n",
    "    print 'still inside block'\n",
    "    "
   ]
  },
  {
   "cell_type": "code",
   "execution_count": 17,
   "metadata": {
    "collapsed": false,
    "slideshow": {
     "slide_type": "fragment"
    }
   },
   "outputs": [
    {
     "name": "stdout",
     "output_type": "stream",
     "text": [
      "Enter\n",
      "Now inside the 2nd block\n",
      "still inside 2nd block\n",
      "Exit (with exception <type 'exceptions.ValueError'>)\n"
     ]
    }
   ],
   "source": [
    "with log_block():\n",
    "    print 'Now inside the 2nd block'\n",
    "    print 'still inside 2nd block'\n",
    "    raise ValueError"
   ]
  },
  {
   "cell_type": "code",
   "execution_count": 18,
   "metadata": {
    "collapsed": true,
    "slideshow": {
     "slide_type": "slide"
    }
   },
   "outputs": [],
   "source": [
    "@contextmanager\n",
    "def node(name):\n",
    "    print '<%s>' % name\n",
    "    yield None\n",
    "    print '</%s>' % name\n"
   ]
  },
  {
   "cell_type": "code",
   "execution_count": 19,
   "metadata": {
    "collapsed": false,
    "slideshow": {
     "slide_type": "fragment"
    }
   },
   "outputs": [
    {
     "name": "stdout",
     "output_type": "stream",
     "text": [
      "<html>\n",
      "<body>\n",
      "<h1>\n",
      "Page title\n",
      "</h1>\n",
      "</body>\n",
      "</html>\n"
     ]
    }
   ],
   "source": [
    "htmlnode = node('html')\n",
    "bodynode = node('body')\n",
    "h1node = node('h1')\n",
    "\n",
    "with htmlnode:\n",
    "    with bodynode:\n",
    "        with h1node:\n",
    "            print 'Page title'\n",
    "\n"
   ]
  },
  {
   "cell_type": "code",
   "execution_count": 21,
   "metadata": {
    "collapsed": false,
    "slideshow": {
     "slide_type": "fragment"
    }
   },
   "outputs": [
    {
     "name": "stdout",
     "output_type": "stream",
     "text": [
      "<html>\n",
      "<body>\n",
      "<h1>\n",
      "Page Title\n",
      "</h1>\n",
      "</body>\n",
      "</html>\n"
     ]
    }
   ],
   "source": [
    "with node('html'):\n",
    "    with node('body'):\n",
    "        with node('h1'):\n",
    "             print 'Page Title'\n",
    "\n"
   ]
  }
 ],
 "metadata": {
  "celltoolbar": "Slideshow",
  "kernelspec": {
   "display_name": "Python 2",
   "language": "python",
   "name": "python2"
  },
  "language_info": {
   "codemirror_mode": {
    "name": "ipython",
    "version": 2
   },
   "file_extension": ".py",
   "mimetype": "text/x-python",
   "name": "python",
   "nbconvert_exporter": "python",
   "pygments_lexer": "ipython2",
   "version": "2.7.11"
  }
 },
 "nbformat": 4,
 "nbformat_minor": 0
}
