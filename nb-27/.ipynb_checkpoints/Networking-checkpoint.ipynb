{
 "cells": [
  {
   "cell_type": "markdown",
   "metadata": {
    "slideshow": {
     "slide_type": "skip"
    }
   },
   "source": [
    "[Slides](./Networking.slides.html)"
   ]
  },
  {
   "cell_type": "markdown",
   "metadata": {
    "slideshow": {
     "slide_type": "slide"
    }
   },
   "source": [
    "# Networking\n",
    "\n",
    "Python has support for both high-level network protocols (HTTP/HTTPS/FTP/SMTP) as well as low-level protocols (sockets).\n",
    "\n",
    "In this module you'll learn\n",
    "\n",
    "- How to use `urllib`/`urllib2` to fetch web resources\n",
    "- How to send email using the `smtplib` and `email` modules\n",
    "- How to do basic socket programming in Python\n",
    "- How you might build a REST API client in Python"
   ]
  },
  {
   "cell_type": "markdown",
   "metadata": {
    "slideshow": {
     "slide_type": "slide"
    }
   },
   "source": [
    "## Fetching web resources with urllib/urllib2\n",
    "\n",
    "The `urllib` and `urllib2` standard library modules allow you to open a URL (almost) just like a file. For example:"
   ]
  },
  {
   "cell_type": "code",
   "execution_count": 1,
   "metadata": {
    "collapsed": true
   },
   "outputs": [],
   "source": [
    "import urllib\n",
    "import urllib2"
   ]
  },
  {
   "cell_type": "code",
   "execution_count": 3,
   "metadata": {
    "collapsed": false
   },
   "outputs": [
    {
     "data": {
      "text/plain": [
       "69868"
      ]
     },
     "execution_count": 3,
     "metadata": {},
     "output_type": "execute_result"
    }
   ],
   "source": [
    "resp = urllib2.urlopen('http://www.bloomberg.net')\n",
    "html = resp.read()\n",
    "len(html)"
   ]
  },
  {
   "cell_type": "markdown",
   "metadata": {
    "collapsed": false,
    "slideshow": {
     "slide_type": "slide"
    }
   },
   "source": [
    "You can also POST data to a URL using a `Request` and get the response:"
   ]
  },
  {
   "cell_type": "code",
   "execution_count": 4,
   "metadata": {
    "collapsed": false,
    "scrolled": true
   },
   "outputs": [
    {
     "name": "stdout",
     "output_type": "stream",
     "text": [
      "<TITLE>CGI script output</TITLE>\n",
      "<h1>What you submitted</h1>\n",
      "<table><tbody>\n",
      "<tr><th>state</th><td>Georgia</td></tr>\n",
      "<tr><th>name</th><td>Rick Copeland</td></tr>\n",
      "</tbody></table>\n",
      "<a href=\"/\">Return to index</a>\n",
      "\n"
     ]
    }
   ],
   "source": [
    "url = 'http://localhost:8000/cgi-bin/print_request.py'\n",
    "values = {'name' : 'Rick Copeland',\n",
    "          'state' : 'Georgia' }\n",
    "\n",
    "data = urllib.urlencode(values)\n",
    "req = urllib2.Request(url, data)\n",
    "response = urllib2.urlopen(req)\n",
    "print response.read()"
   ]
  },
  {
   "cell_type": "code",
   "execution_count": 5,
   "metadata": {
    "collapsed": false,
    "slideshow": {
     "slide_type": "slide"
    }
   },
   "outputs": [
    {
     "name": "stdout",
     "output_type": "stream",
     "text": [
      "state=Georgia&name=Rick+Copeland\n"
     ]
    }
   ],
   "source": [
    "print data"
   ]
  },
  {
   "cell_type": "code",
   "execution_count": 6,
   "metadata": {
    "collapsed": false,
    "slideshow": {
     "slide_type": "-"
    }
   },
   "outputs": [
    {
     "name": "stdout",
     "output_type": "stream",
     "text": [
      "{\"state\": \"Georgia\", \"HTTP_METHOD\": \"POST\", \"name\": \"Rick Copeland\"}\n",
      "\n"
     ]
    }
   ],
   "source": [
    "url = 'http://localhost:8000/cgi-bin/print_json.py'\n",
    "values = {'name' : 'Rick Copeland',\n",
    "          'state' : 'Georgia' }\n",
    "\n",
    "data = urllib.urlencode(values)\n",
    "req = urllib2.Request(url, data)\n",
    "response = urllib2.urlopen(req)\n",
    "print response.read()"
   ]
  },
  {
   "cell_type": "markdown",
   "metadata": {
    "slideshow": {
     "slide_type": "slide"
    }
   },
   "source": [
    "You can also pass query parameters to a request using `urlencode`:"
   ]
  },
  {
   "cell_type": "code",
   "execution_count": 7,
   "metadata": {
    "collapsed": false
   },
   "outputs": [
    {
     "data": {
      "text/plain": [
       "'state=Georgia&name=Rick+Copeland'"
      ]
     },
     "execution_count": 7,
     "metadata": {},
     "output_type": "execute_result"
    }
   ],
   "source": [
    "encoded_values = urllib.urlencode(values)\n",
    "encoded_values"
   ]
  },
  {
   "cell_type": "code",
   "execution_count": 8,
   "metadata": {
    "collapsed": false
   },
   "outputs": [
    {
     "name": "stdout",
     "output_type": "stream",
     "text": [
      "{\"state\": \"Georgia\", \"HTTP_METHOD\": \"GET\", \"name\": \"Rick Copeland\"}\n",
      "\n"
     ]
    }
   ],
   "source": [
    "print urllib2.urlopen(url + '?' + encoded_values).read()"
   ]
  },
  {
   "cell_type": "markdown",
   "metadata": {
    "slideshow": {
     "slide_type": "slide"
    }
   },
   "source": [
    "## Sending email with `smtplib`\n",
    "\n",
    "It's frequently useful to send emails from long-running scripts; Python makes this easy with `smtplib`:"
   ]
  },
  {
   "cell_type": "code",
   "execution_count": 8,
   "metadata": {
    "collapsed": true
   },
   "outputs": [],
   "source": [
    "import smtplib"
   ]
  },
  {
   "cell_type": "markdown",
   "metadata": {},
   "source": [
    "Most of the time, you'll be connecting to either your ISP's SMTP server, or some other server with authentication. In order to avoid exposing my password and such, I'll just use a local proxy server to print some debugging information:\n",
    "\n",
    "(You can run the proxy with `python -m smtpd -nd`)"
   ]
  },
  {
   "cell_type": "code",
   "execution_count": 9,
   "metadata": {
    "collapsed": false,
    "slideshow": {
     "slide_type": "slide"
    }
   },
   "outputs": [
    {
     "name": "stderr",
     "output_type": "stream",
     "text": [
      "send: 'ehlo 12.43.168.192.in-addr.arpa\\r\\n'\n",
      "reply: '502 Error: command \"EHLO\" not implemented\\r\\n'\n",
      "reply: retcode (502); Msg: Error: command \"EHLO\" not implemented\n",
      "send: 'helo 12.43.168.192.in-addr.arpa\\r\\n'\n",
      "reply: '250 12.43.168.192.in-addr.arpa\\r\\n'\n",
      "reply: retcode (250); Msg: 12.43.168.192.in-addr.arpa\n",
      "send: 'mail FROM:<rick@arborian.com>\\r\\n'\n",
      "reply: '250 Ok\\r\\n'\n",
      "reply: retcode (250); Msg: Ok\n",
      "send: 'rcpt TO:<rick446@usa.net>\\r\\n'\n",
      "reply: '250 Ok\\r\\n'\n",
      "reply: retcode (250); Msg: Ok\n",
      "send: 'data\\r\\n'\n",
      "reply: '354 End data with <CR><LF>.<CR><LF>\\r\\n'\n",
      "reply: retcode (354); Msg: End data with <CR><LF>.<CR><LF>\n",
      "data: (354, 'End data with <CR><LF>.<CR><LF>')\n",
      "send: 'Subject: This is a test\\r\\nFrom: <rick@arborian.com>\\r\\nTo: <rick446@usa.net>\\r\\n\\r\\nTest message\\r\\n.\\r\\n'\n",
      "reply: '250 Ok\\r\\n'\n",
      "reply: retcode (250); Msg: Ok\n",
      "data: (250, 'Ok')\n"
     ]
    },
    {
     "data": {
      "text/plain": [
       "{}"
      ]
     },
     "execution_count": 9,
     "metadata": {},
     "output_type": "execute_result"
    }
   ],
   "source": [
    "conn = smtplib.SMTP('localhost', 8025)\n",
    "conn.set_debuglevel(1)\n",
    "# conn.login(username, password)\n",
    "addr_from = 'rick@arborian.com'\n",
    "addr_to = 'rick446@usa.net'\n",
    "msg = '''Subject: This is a test\n",
    "From: <{}>\n",
    "To: <{}>\n",
    "\n",
    "Test message\n",
    "'''.format(addr_from, addr_to)\n",
    "conn.sendmail(addr_from, [addr_to], msg)"
   ]
  },
  {
   "cell_type": "markdown",
   "metadata": {
    "slideshow": {
     "slide_type": "slide"
    }
   },
   "source": [
    "If you're going to be putting together more complicated emails, the `email` module is extremely useful (for multipart messages, attachments, etc.):"
   ]
  },
  {
   "cell_type": "code",
   "execution_count": 10,
   "metadata": {
    "collapsed": true
   },
   "outputs": [],
   "source": [
    "from email.mime.text import MIMEText"
   ]
  },
  {
   "cell_type": "code",
   "execution_count": 11,
   "metadata": {
    "collapsed": false
   },
   "outputs": [
    {
     "name": "stderr",
     "output_type": "stream",
     "text": [
      "send: 'mail FROM:<rick@arborian.com>\\r\\n'\n",
      "reply: '250 Ok\\r\\n'\n",
      "reply: retcode (250); Msg: Ok\n",
      "send: 'rcpt TO:<rick446@usa.net>\\r\\n'\n",
      "reply: '250 Ok\\r\\n'\n",
      "reply: retcode (250); Msg: Ok\n",
      "send: 'data\\r\\n'\n",
      "reply: '354 End data with <CR><LF>.<CR><LF>\\r\\n'\n",
      "reply: retcode (354); Msg: End data with <CR><LF>.<CR><LF>\n",
      "data: (354, 'End data with <CR><LF>.<CR><LF>')\n",
      "send: 'Content-Type: text/plain; charset=\"us-ascii\"\\r\\nMIME-Version: 1.0\\r\\nContent-Transfer-Encoding: 7bit\\r\\nSubject: This is a test message\\r\\nFrom: rick@arborian.com\\r\\nTo: rick446@usa.net\\r\\n\\r\\nThis is a text message\\r\\n.\\r\\n'\n",
      "reply: '250 Ok\\r\\n'\n",
      "reply: retcode (250); Msg: Ok\n",
      "data: (250, 'Ok')\n"
     ]
    },
    {
     "data": {
      "text/plain": [
       "{}"
      ]
     },
     "execution_count": 11,
     "metadata": {},
     "output_type": "execute_result"
    }
   ],
   "source": [
    "msg = MIMEText('This is a text message')\n",
    "msg['Subject'] = 'This is a test message'\n",
    "msg['From'] = addr_from\n",
    "msg['To'] = addr_to\n",
    "conn.sendmail(addr_from, [addr_to], msg.as_string())"
   ]
  },
  {
   "cell_type": "code",
   "execution_count": 12,
   "metadata": {
    "collapsed": false
   },
   "outputs": [
    {
     "name": "stderr",
     "output_type": "stream",
     "text": [
      "send: 'quit\\r\\n'\n",
      "reply: '221 Bye\\r\\n'\n",
      "reply: retcode (221); Msg: Bye\n"
     ]
    },
    {
     "data": {
      "text/plain": [
       "(221, 'Bye')"
      ]
     },
     "execution_count": 12,
     "metadata": {},
     "output_type": "execute_result"
    }
   ],
   "source": [
    "conn.quit()"
   ]
  },
  {
   "cell_type": "markdown",
   "metadata": {
    "slideshow": {
     "slide_type": "slide"
    }
   },
   "source": [
    "# Socket programmming\n",
    "\n",
    "If you want to use a protocol that Python doesn't support natively (or just want to use your own protocol), you can always use the lower-level `socket` module in the standard library:"
   ]
  },
  {
   "cell_type": "code",
   "execution_count": 13,
   "metadata": {
    "collapsed": true
   },
   "outputs": [],
   "source": [
    "import socket"
   ]
  },
  {
   "cell_type": "code",
   "execution_count": 15,
   "metadata": {
    "collapsed": true
   },
   "outputs": [],
   "source": [
    "# sock = socket.socket(socket.AF_INET, socket.SOCK_STREAM)\n",
    "sock = socket.socket()"
   ]
  },
  {
   "cell_type": "code",
   "execution_count": 16,
   "metadata": {
    "collapsed": false
   },
   "outputs": [
    {
     "name": "stdout",
     "output_type": "stream",
     "text": [
      "767\n"
     ]
    }
   ],
   "source": [
    "sock.connect(('www.bloomberg.com', 80))\n",
    "http_req = '''GET / HTTP/1.1\n",
    "Host: www.bloomberg.com\n",
    "User-Agent: Intermediate-Python/1.0\n",
    "Accept: */*\n",
    "\n",
    "'''\n",
    "sock.sendall(http_req)\n",
    "response = sock.recv(1024)\n",
    "sock.close()\n",
    "print len(response)"
   ]
  },
  {
   "cell_type": "code",
   "execution_count": 17,
   "metadata": {
    "collapsed": false,
    "slideshow": {
     "slide_type": "slide"
    }
   },
   "outputs": [
    {
     "name": "stdout",
     "output_type": "stream",
     "text": [
      "HTTP/1.1 301 Moved Permanently\r\n",
      "Server: Apache\r\n",
      "Content-Security-Policy: upgrade-insecure-requests\r\n",
      "X-Content-Security-Policy: upgrade-insecure-requests\r\n",
      "Location: https://www.bloomberg.com/\r\n",
      "Content-Type: text/html; charset=iso-8859-1\r\n",
      "Vary: Accept-Encoding\r\n",
      "Content-Encoding: gzip\r\n",
      "Content-Length: 193\r\n",
      "Cache-Control: max-age=100\r\n",
      "Expires: Thu, 16 Mar 2017 20:57:42 GMT\r\n",
      "Date: Thu, 16 Mar 2017 20:56:02 GMT\r\n",
      "Connection: keep-alive\r\n",
      "Set-Cookie: ak_rg=US; expires=Thu, 23-Mar-2017 20:56:02 GMT; path=/\r\n",
      "Set-Cookie: ak_co=US; expires=Thu, 23-Mar-2017 20:56:02 GMT; path=/\r\n",
      "\r\n",
      "\u001f�\b\u0000\u0000\u0000\u0000\u0000\u0000\u0003m��\u000e�@\u0010D{�b��\u0005��z���\u0004��,,\u000fX=\u0013�#xJ�{\u0001[˙y;��Hα�\u0016)\u001c",
      "d�Aq�e�\u0018�%�1�{�D&�d\u0015����\u0017\u001e",
      "ig\u001aA�U=\n",
      "�p\r",
      "�u\u0018An�\\C��Q-���\u0010�B�p����g���\u001fvt=��\f",
      "��^f�A�'�\u0019%\u0005������u�\r",
      "�0\f",
      "A�XkJ��Ae\r",
      "�BsτJ\u0004�ݴ:��ӿ�\u0017\u0012�\u0014n�\u0000\u0000\u0000\n"
     ]
    }
   ],
   "source": [
    "print response"
   ]
  },
  {
   "cell_type": "markdown",
   "metadata": {
    "slideshow": {
     "slide_type": "slide"
    }
   },
   "source": [
    "You can, of course, also build a socket server:"
   ]
  },
  {
   "cell_type": "code",
   "execution_count": 19,
   "metadata": {
    "collapsed": false,
    "scrolled": true
   },
   "outputs": [
    {
     "ename": "error",
     "evalue": "[Errno 48] Address already in use",
     "output_type": "error",
     "traceback": [
      "\u001b[0;31m---------------------------------------------------------------------------\u001b[0m",
      "\u001b[0;31merror\u001b[0m                                     Traceback (most recent call last)",
      "\u001b[0;32m<ipython-input-19-07ac86a4b33b>\u001b[0m in \u001b[0;36m<module>\u001b[0;34m()\u001b[0m\n\u001b[1;32m      1\u001b[0m \u001b[0msock_srv\u001b[0m \u001b[0;34m=\u001b[0m \u001b[0msocket\u001b[0m\u001b[0;34m.\u001b[0m\u001b[0msocket\u001b[0m\u001b[0;34m(\u001b[0m\u001b[0;34m)\u001b[0m\u001b[0;34m\u001b[0m\u001b[0m\n\u001b[0;32m----> 2\u001b[0;31m \u001b[0msock_srv\u001b[0m\u001b[0;34m.\u001b[0m\u001b[0mbind\u001b[0m\u001b[0;34m(\u001b[0m\u001b[0;34m(\u001b[0m\u001b[0;34m'127.0.0.1'\u001b[0m\u001b[0;34m,\u001b[0m \u001b[0;36m8042\u001b[0m\u001b[0;34m)\u001b[0m\u001b[0;34m)\u001b[0m\u001b[0;34m\u001b[0m\u001b[0m\n\u001b[0m\u001b[1;32m      3\u001b[0m \u001b[0msock_srv\u001b[0m\u001b[0;34m.\u001b[0m\u001b[0mlisten\u001b[0m\u001b[0;34m(\u001b[0m\u001b[0;36m1\u001b[0m\u001b[0;34m)\u001b[0m\u001b[0;34m\u001b[0m\u001b[0m\n\u001b[1;32m      4\u001b[0m \u001b[0msock_conn\u001b[0m\u001b[0;34m,\u001b[0m \u001b[0mcli_addr\u001b[0m \u001b[0;34m=\u001b[0m \u001b[0msock_srv\u001b[0m\u001b[0;34m.\u001b[0m\u001b[0maccept\u001b[0m\u001b[0;34m(\u001b[0m\u001b[0;34m)\u001b[0m\u001b[0;34m\u001b[0m\u001b[0m\n\u001b[1;32m      5\u001b[0m \u001b[0;32mprint\u001b[0m \u001b[0;34m'Got a connection from'\u001b[0m\u001b[0;34m,\u001b[0m \u001b[0mcli_addr\u001b[0m\u001b[0;34m\u001b[0m\u001b[0m\n",
      "\u001b[0;32m/usr/local/Cellar/python/2.7.11/Frameworks/Python.framework/Versions/2.7/lib/python2.7/socket.pyc\u001b[0m in \u001b[0;36mmeth\u001b[0;34m(name, self, *args)\u001b[0m\n\u001b[1;32m    226\u001b[0m \u001b[0;34m\u001b[0m\u001b[0m\n\u001b[1;32m    227\u001b[0m \u001b[0;32mdef\u001b[0m \u001b[0mmeth\u001b[0m\u001b[0;34m(\u001b[0m\u001b[0mname\u001b[0m\u001b[0;34m,\u001b[0m\u001b[0mself\u001b[0m\u001b[0;34m,\u001b[0m\u001b[0;34m*\u001b[0m\u001b[0margs\u001b[0m\u001b[0;34m)\u001b[0m\u001b[0;34m:\u001b[0m\u001b[0;34m\u001b[0m\u001b[0m\n\u001b[0;32m--> 228\u001b[0;31m     \u001b[0;32mreturn\u001b[0m \u001b[0mgetattr\u001b[0m\u001b[0;34m(\u001b[0m\u001b[0mself\u001b[0m\u001b[0;34m.\u001b[0m\u001b[0m_sock\u001b[0m\u001b[0;34m,\u001b[0m\u001b[0mname\u001b[0m\u001b[0;34m)\u001b[0m\u001b[0;34m(\u001b[0m\u001b[0;34m*\u001b[0m\u001b[0margs\u001b[0m\u001b[0;34m)\u001b[0m\u001b[0;34m\u001b[0m\u001b[0m\n\u001b[0m\u001b[1;32m    229\u001b[0m \u001b[0;34m\u001b[0m\u001b[0m\n\u001b[1;32m    230\u001b[0m \u001b[0;32mfor\u001b[0m \u001b[0m_m\u001b[0m \u001b[0;32min\u001b[0m \u001b[0m_socketmethods\u001b[0m\u001b[0;34m:\u001b[0m\u001b[0;34m\u001b[0m\u001b[0m\n",
      "\u001b[0;31merror\u001b[0m: [Errno 48] Address already in use"
     ]
    }
   ],
   "source": [
    "sock_srv = socket.socket()\n",
    "sock_srv.bind(('127.0.0.1', 8042))\n",
    "sock_srv.listen(1)\n",
    "sock_conn, cli_addr = sock_srv.accept()\n",
    "print 'Got a connection from', cli_addr\n",
    "msg = sock_conn.recv(1024)\n",
    "print msg\n",
    "sock_conn.sendall(msg)\n",
    "sock_conn.close()"
   ]
  },
  {
   "cell_type": "code",
   "execution_count": null,
   "metadata": {
    "collapsed": true
   },
   "outputs": [],
   "source": []
  },
  {
   "cell_type": "markdown",
   "metadata": {},
   "source": [
    "Normally, you'd do something more like the following:"
   ]
  },
  {
   "cell_type": "code",
   "execution_count": 19,
   "metadata": {
    "collapsed": false,
    "slideshow": {
     "slide_type": "slide"
    }
   },
   "outputs": [
    {
     "name": "stdout",
     "output_type": "stream",
     "text": [
      "Handling connection from ('127.0.0.1', 52153)Closing server socket\n",
      "\n",
      "Got Hello\n",
      "Got There\n",
      "Exiting handler\n"
     ]
    }
   ],
   "source": [
    "import threading\n",
    "\n",
    "def handle_echo_connection(sock, addr):\n",
    "    print 'Handling connection from', addr\n",
    "    while True:\n",
    "        msg = sock.recv(1024)\n",
    "        if not msg:\n",
    "            break\n",
    "        print 'Got', msg.rstrip()\n",
    "        sock.sendall(msg)\n",
    "    sock.close()\n",
    "    print 'Exiting handler'\n",
    "        \n",
    "sock_srv = socket.socket()\n",
    "sock_srv.bind(('127.0.0.1', 8043))\n",
    "sock_srv.listen(1)\n",
    "\n",
    "while True:\n",
    "    sock_conn, cli_addr = sock_srv.accept()\n",
    "    thd = threading.Thread(target=handle_echo_connection, args=(sock_conn, cli_addr))\n",
    "    thd.setDaemon(True)\n",
    "    thd.start()\n",
    "    break   # normally we'd keep looping\n",
    "\n",
    "print 'Closing server socket'\n",
    "sock_srv.close()"
   ]
  },
  {
   "cell_type": "markdown",
   "metadata": {
    "slideshow": {
     "slide_type": "slide"
    }
   },
   "source": [
    "## Building a simple JSON REST API client\n",
    "\n",
    "We're going to use a simple in-memory key/value store with a few endpoints:\n",
    "\n",
    " - GET / - return a list of collection names\n",
    " - GET /{cname} - return a list of ids for documents in a collection\n",
    " - POST /{cname} - insert a document (with auto-generated id) in a collection\n",
    " - DELETE /{cname} - drop a collection\n",
    " - GET /{cname}/{id} - return a document\n",
    " - PUT /{cname}/{id} - insert/replace a document\n",
    " - DELETE /{cname}/{id} - delete a document"
   ]
  },
  {
   "cell_type": "code",
   "execution_count": 20,
   "metadata": {
    "collapsed": true,
    "slideshow": {
     "slide_type": "slide"
    }
   },
   "outputs": [],
   "source": [
    "import json\n",
    "import httplib\n",
    "\n",
    "class Database(object):\n",
    "    \n",
    "    def __init__(self, url):\n",
    "        self._url = url\n",
    "        \n",
    "    def collections(self):\n",
    "        resp = json.load(urllib2.urlopen(self._url))\n",
    "        return resp"
   ]
  },
  {
   "cell_type": "code",
   "execution_count": 21,
   "metadata": {
    "collapsed": false
   },
   "outputs": [
    {
     "data": {
      "text/plain": [
       "{u'collections': []}"
      ]
     },
     "execution_count": 21,
     "metadata": {},
     "output_type": "execute_result"
    }
   ],
   "source": [
    "db = Database('http://localhost:5000')\n",
    "db.collections()"
   ]
  },
  {
   "cell_type": "markdown",
   "metadata": {
    "slideshow": {
     "slide_type": "slide"
    }
   },
   "source": [
    "Unfortunately, `urllib2` requests are a little broken when it comes to HTTP methods, so we'll have to subclass them:"
   ]
  },
  {
   "cell_type": "code",
   "execution_count": 22,
   "metadata": {
    "collapsed": true
   },
   "outputs": [],
   "source": [
    "class PUT(urllib2.Request):\n",
    "    def get_method(self):\n",
    "        return 'PUT'\n",
    "\n",
    "class DELETE(urllib2.Request):\n",
    "    def get_method(self):\n",
    "        return 'DELETE'"
   ]
  },
  {
   "cell_type": "code",
   "execution_count": 23,
   "metadata": {
    "collapsed": true,
    "slideshow": {
     "slide_type": "slide"
    }
   },
   "outputs": [],
   "source": [
    "class Database(object):\n",
    "    \n",
    "    def __init__(self, url):\n",
    "        self._url = url\n",
    "        \n",
    "    def collections(self):\n",
    "        resp = json.load(urllib2.urlopen(self._url))\n",
    "        return resp\n",
    "    \n",
    "    def _href_collection(self, cname):\n",
    "        return '%s/%s' % (self._url, cname)\n",
    "    \n",
    "    def __getitem__(self, cname):\n",
    "        return Collection(self._href_collection(cname))\n",
    "    \n",
    "    def __delitem__(self, cname):\n",
    "        req = DELETE(self._href_collection(cname))\n",
    "        return json.load(urllib2.urlopen(req))\n",
    "\n",
    "class Collection(object):\n",
    "    \n",
    "    def __init__(self, url):\n",
    "        self._url = url\n",
    "        \n",
    "    def documents(self):\n",
    "        resp = json.load(urllib2.urlopen(self._url))\n",
    "        return resp\n",
    "    \n",
    "    def drop(self):\n",
    "        req = DELETE(self._url)\n",
    "        return json.load(urllib2.urlopen(req))\n",
    "    \n",
    "    def insert(self, doc):\n",
    "        return json.load(urllib2.urlopen(\n",
    "            self._url, json.dumps(doc)))\n",
    "    \n",
    "    def _href_doc(self, id):\n",
    "        return '%s/%s' % (self._url, id)\n",
    "    \n",
    "    def __getitem__(self, id):\n",
    "        return json.load(urllib2.urlopen(self._href_doc(id)))\n",
    "    \n",
    "    def __setitem__(self, id, value):\n",
    "        req = PUT(\n",
    "            self._href_doc(id), \n",
    "            json.dumps(value), \n",
    "            {'Content-Type': 'application/json'})\n",
    "        return json.load(urllib2.urlopen(req))\n",
    "    \n",
    "    def __delitem__(self, id):\n",
    "        req = DELETE(self._href_doc(id))\n",
    "        response = urllib2.urlopen(req)\n",
    "        return json.load(response)\n",
    "    \n",
    "    "
   ]
  },
  {
   "cell_type": "code",
   "execution_count": 24,
   "metadata": {
    "collapsed": false,
    "slideshow": {
     "slide_type": "slide"
    }
   },
   "outputs": [
    {
     "data": {
      "text/plain": [
       "{u'collections': [{u'cname': u'foo', u'href': u'/foo'}]}"
      ]
     },
     "execution_count": 24,
     "metadata": {},
     "output_type": "execute_result"
    }
   ],
   "source": [
    "db = Database('http://localhost:5000')\n",
    "coll = db['foo']\n",
    "coll['0'] = {'name': 'Foo'}\n",
    "db.collections()"
   ]
  },
  {
   "cell_type": "code",
   "execution_count": 25,
   "metadata": {
    "collapsed": false
   },
   "outputs": [
    {
     "data": {
      "text/plain": [
       "{u'docs': [{u'href': u'/foo/0', u'id': u'0'}]}"
      ]
     },
     "execution_count": 25,
     "metadata": {},
     "output_type": "execute_result"
    }
   ],
   "source": [
    "coll.documents()"
   ]
  },
  {
   "cell_type": "code",
   "execution_count": 26,
   "metadata": {
    "collapsed": false
   },
   "outputs": [
    {
     "data": {
      "text/plain": [
       "{u'href': u'/foo/0KmYIrnT0uNgjfq+', u'id': u'0KmYIrnT0uNgjfq+'}"
      ]
     },
     "execution_count": 26,
     "metadata": {},
     "output_type": "execute_result"
    }
   ],
   "source": [
    "coll.insert({'name': 'Bar'})"
   ]
  },
  {
   "cell_type": "code",
   "execution_count": 27,
   "metadata": {
    "collapsed": false,
    "slideshow": {
     "slide_type": "slide"
    }
   },
   "outputs": [
    {
     "data": {
      "text/plain": [
       "{u'0': u'/foo/0', u'0KmYIrnT0uNgjfq+': u'/foo/0KmYIrnT0uNgjfq+'}"
      ]
     },
     "execution_count": 27,
     "metadata": {},
     "output_type": "execute_result"
    }
   ],
   "source": [
    "docs = coll.documents()\n",
    "docs = dict((d['id'], d['href']) for d in docs['docs'])\n",
    "docs"
   ]
  },
  {
   "cell_type": "code",
   "execution_count": 28,
   "metadata": {
    "collapsed": false
   },
   "outputs": [
    {
     "data": {
      "text/plain": [
       "{u'name': u'Foo'}"
      ]
     },
     "execution_count": 28,
     "metadata": {},
     "output_type": "execute_result"
    }
   ],
   "source": [
    "coll[0]"
   ]
  },
  {
   "cell_type": "code",
   "execution_count": 29,
   "metadata": {
    "collapsed": false
   },
   "outputs": [],
   "source": [
    "del db['foo']['0']"
   ]
  },
  {
   "cell_type": "code",
   "execution_count": 30,
   "metadata": {
    "collapsed": false
   },
   "outputs": [
    {
     "data": {
      "text/plain": [
       "{u'docs': [{u'href': u'/foo/0KmYIrnT0uNgjfq+', u'id': u'0KmYIrnT0uNgjfq+'}]}"
      ]
     },
     "execution_count": 30,
     "metadata": {},
     "output_type": "execute_result"
    }
   ],
   "source": [
    "coll.documents()"
   ]
  },
  {
   "cell_type": "code",
   "execution_count": 31,
   "metadata": {
    "collapsed": false,
    "slideshow": {
     "slide_type": "slide"
    }
   },
   "outputs": [
    {
     "data": {
      "text/plain": [
       "{}"
      ]
     },
     "execution_count": 31,
     "metadata": {},
     "output_type": "execute_result"
    }
   ],
   "source": [
    "coll.drop()"
   ]
  },
  {
   "cell_type": "code",
   "execution_count": 32,
   "metadata": {
    "collapsed": false
   },
   "outputs": [
    {
     "data": {
      "text/plain": [
       "{u'collections': []}"
      ]
     },
     "execution_count": 32,
     "metadata": {},
     "output_type": "execute_result"
    }
   ],
   "source": [
    "db.collections()"
   ]
  },
  {
   "cell_type": "markdown",
   "metadata": {
    "slideshow": {
     "slide_type": "slide"
    }
   },
   "source": [
    "Python Requests library (3rd party) simplifies many of these tasks.\n",
    "\n",
    "http://docs.python-requests.org/en/master/"
   ]
  }
 ],
 "metadata": {
  "celltoolbar": "Slideshow",
  "kernelspec": {
   "display_name": "Python 2",
   "language": "python",
   "name": "python2"
  },
  "language_info": {
   "codemirror_mode": {
    "name": "ipython",
    "version": 2
   },
   "file_extension": ".py",
   "mimetype": "text/x-python",
   "name": "python",
   "nbconvert_exporter": "python",
   "pygments_lexer": "ipython2",
   "version": "2.7.11"
  }
 },
 "nbformat": 4,
 "nbformat_minor": 0
}
