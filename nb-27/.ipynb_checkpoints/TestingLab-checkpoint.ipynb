{
 "cells": [
  {
   "cell_type": "markdown",
   "metadata": {
    "slideshow": {
     "slide_type": "skip"
    }
   },
   "source": [
    "[Slides](./TestingLab.slides.html)"
   ]
  },
  {
   "cell_type": "markdown",
   "metadata": {
    "slideshow": {
     "slide_type": "slide"
    }
   },
   "source": [
    "# Lab for Test-Driven Development\n",
    "\n",
    "Write a test suite for this telephone directory class"
   ]
  },
  {
   "cell_type": "code",
   "execution_count": 3,
   "metadata": {
    "collapsed": true
   },
   "outputs": [],
   "source": [
    "class Directory(object):\n",
    "\n",
    "    def __init__(self):\n",
    "        self._directory = {}\n",
    "\n",
    "    def add_number(self, name, number):\n",
    "        '''\n",
    "        >>> d = Directory()\n",
    "        >>> d.add_number('Frogs', 42)\n",
    "        >>> d.lookup_number('Frogs')\n",
    "        41\n",
    "        '''\n",
    "        self._directory[name] = number\n",
    "\n",
    "    def remove_number(self, name):\n",
    "        del self._directory[name]\n",
    "\n",
    "    def lookup_number(self, name):\n",
    "        return self._directory[name]\n",
    "\n",
    "    def __repr__(self):\n",
    "        l = ['<Directory>']\n",
    "        for name, number in self._directory.items():\n",
    "            l.append('    %s: %s' % (name, number))\n",
    "        l.append('</Directory>')\n",
    "        return '\\n'.join(l)"
   ]
  },
  {
   "cell_type": "code",
   "execution_count": 8,
   "metadata": {
    "collapsed": true,
    "slideshow": {
     "slide_type": "skip"
    }
   },
   "outputs": [],
   "source": [
    "import sys\n",
    "sys.path.append('../004-Testing')"
   ]
  },
  {
   "cell_type": "code",
   "execution_count": 9,
   "metadata": {
    "collapsed": false,
    "slideshow": {
     "slide_type": "slide"
    }
   },
   "outputs": [],
   "source": [
    "import unittest\n",
    "import directory\n",
    "\n",
    "class TestEmptyDirectory(unittest.TestCase):\n",
    "\n",
    "    def setUp(self):\n",
    "        self.d = directory.Directory()\n",
    "\n",
    "    def test_add_number(self):\n",
    "        self.d.add_number('name', '111.111.1111')\n",
    "        self.assertEqual(\n",
    "            self.d.lookup_number('name'),\n",
    "            '111.111.1111')\n",
    "\n",
    "    def test_lookup_unknown_number(self):\n",
    "        self.assertRaises(KeyError, self.d.lookup_number, 'name')\n",
    "\n",
    "    def test_remove_unknown_number(self):\n",
    "        with self.assertRaises(KeyError) as err:\n",
    "            self.d.remove_number('name')\n",
    "        self.assertEqual(str(err.exception), \"'name'\")\n",
    "\n",
    "    def test_repr_has_two_lines(self):\n",
    "        d_repr = repr(self.d)\n",
    "        self.assertEqual(len(d_repr.splitlines()), 2)"
   ]
  },
  {
   "cell_type": "code",
   "execution_count": 10,
   "metadata": {
    "collapsed": false,
    "slideshow": {
     "slide_type": "fragment"
    }
   },
   "outputs": [
    {
     "name": "stderr",
     "output_type": "stream",
     "text": [
      "....\n",
      "----------------------------------------------------------------------\n",
      "Ran 4 tests in 0.002s\n",
      "\n",
      "OK\n"
     ]
    },
    {
     "ename": "SystemExit",
     "evalue": "False",
     "output_type": "error",
     "traceback": [
      "An exception has occurred, use %tb to see the full traceback.\n",
      "\u001b[0;31mSystemExit\u001b[0m\u001b[0;31m:\u001b[0m False\n"
     ]
    },
    {
     "name": "stderr",
     "output_type": "stream",
     "text": [
      "To exit: use 'exit', 'quit', or Ctrl-D.\n"
     ]
    }
   ],
   "source": [
    "unittest.main(argv=['tests'])"
   ]
  },
  {
   "cell_type": "code",
   "execution_count": 11,
   "metadata": {
    "collapsed": false,
    "slideshow": {
     "slide_type": "slide"
    }
   },
   "outputs": [],
   "source": [
    "class TestNonemptyDirectory(unittest.TestCase):\n",
    "\n",
    "    def setUp(self):\n",
    "        self.d = directory.Directory()\n",
    "        self.d.add_number('name', '111.111.1111')\n",
    "\n",
    "    def test_lookup_number(self):\n",
    "        self.assertEqual(\n",
    "            self.d.lookup_number('name'),\n",
    "            '111.111.1111')\n",
    "\n",
    "    def test_remove_number(self):\n",
    "        self.d.remove_number('name')\n",
    "        self.assertRaises(KeyError, self.d.lookup_number, 'name')\n",
    "\n",
    "    def test_repr_has_three_lines(self):\n",
    "        d_repr = repr(self.d)\n",
    "        self.assertEqual(len(d_repr.splitlines()), 3)"
   ]
  },
  {
   "cell_type": "code",
   "execution_count": 12,
   "metadata": {
    "collapsed": false,
    "slideshow": {
     "slide_type": "fragment"
    }
   },
   "outputs": [
    {
     "name": "stderr",
     "output_type": "stream",
     "text": [
      ".......\n",
      "----------------------------------------------------------------------\n",
      "Ran 7 tests in 0.004s\n",
      "\n",
      "OK\n"
     ]
    },
    {
     "ename": "SystemExit",
     "evalue": "False",
     "output_type": "error",
     "traceback": [
      "An exception has occurred, use %tb to see the full traceback.\n",
      "\u001b[0;31mSystemExit\u001b[0m\u001b[0;31m:\u001b[0m False\n"
     ]
    },
    {
     "name": "stderr",
     "output_type": "stream",
     "text": [
      "To exit: use 'exit', 'quit', or Ctrl-D.\n"
     ]
    }
   ],
   "source": [
    "unittest.main(argv=['tests'])"
   ]
  }
 ],
 "metadata": {
  "celltoolbar": "Slideshow",
  "kernelspec": {
   "display_name": "Python 2",
   "language": "python",
   "name": "python2"
  },
  "language_info": {
   "codemirror_mode": {
    "name": "ipython",
    "version": 2
   },
   "file_extension": ".py",
   "mimetype": "text/x-python",
   "name": "python",
   "nbconvert_exporter": "python",
   "pygments_lexer": "ipython2",
   "version": "2.7.11"
  }
 },
 "nbformat": 4,
 "nbformat_minor": 0
}
