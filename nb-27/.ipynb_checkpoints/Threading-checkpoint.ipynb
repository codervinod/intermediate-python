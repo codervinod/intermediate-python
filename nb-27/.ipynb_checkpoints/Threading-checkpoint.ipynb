{
 "cells": [
  {
   "cell_type": "markdown",
   "metadata": {
    "slideshow": {
     "slide_type": "skip"
    }
   },
   "source": [
    "[Slides](./Threading.slides.html)"
   ]
  },
  {
   "cell_type": "markdown",
   "metadata": {
    "slideshow": {
     "slide_type": "slide"
    }
   },
   "source": [
    "# Threading\n",
    "\n",
    "In this module, you'll learn\n",
    "\n",
    "- How much (or little) concurrency you can get with Python threads\n",
    "- How to use threads and timers\n",
    "- How to use synchronization primitives with threading\n"
   ]
  },
  {
   "cell_type": "markdown",
   "metadata": {
    "slideshow": {
     "slide_type": "slide"
    }
   },
   "source": [
    "# Threading: the Global Interpreter Lock\n",
    "\n",
    "- Only one Python thread active at a time\n",
    "- C libraries can release the GIL\n",
    "  - I/O libraries, NumPy, etc.\n",
    "- Python threads are real OS threads\n",
    "- “Interesting” behavior on multicore systems"
   ]
  },
  {
   "cell_type": "markdown",
   "metadata": {
    "slideshow": {
     "slide_type": "slide"
    }
   },
   "source": [
    "# Python Threads\n",
    "\n",
    "`threading.Thread(target, args=(), kwargs=None)`\n",
    "- target - Python function to call\n",
    "- args, kwargs - arguments to function\n",
    "- can also subclass & override run()\n"
   ]
  },
  {
   "cell_type": "markdown",
   "metadata": {
    "slideshow": {
     "slide_type": "slide"
    }
   },
   "source": [
    "## Basic threading example\n",
    "\n",
    "[threading1.py](/edit/examples/Threading/threading1.py)"
   ]
  },
  {
   "cell_type": "code",
   "execution_count": 2,
   "metadata": {
    "collapsed": false
   },
   "outputs": [
    {
     "name": "stdout",
     "output_type": "stream",
     "text": [
      "INFO:main:Starting threads\r\n",
      "INFO:main:Starting thread 0\r\n",
      "INFO:thread-0:Enter\r\n",
      "INFO:thread-0:0\r\n",
      "INFO:thread-0:1\r\n",
      "INFO:main:Starting thread 1\r\n",
      "INFO:thread-0:2\r\n",
      "INFO:thread-1:Enter\r\n",
      "INFO:main:Starting thread 2\r\n",
      "INFO:thread-0:3\r\n",
      "INFO:thread-1:0\r\n",
      "INFO:thread-0:Exit\r\n",
      "INFO:thread-1:1\r\n",
      "INFO:thread-2:Enter\r\n",
      "INFO:thread-1:2\r\n",
      "INFO:main:Starting thread 3\r\n",
      "INFO:thread-2:0\r\n",
      "INFO:thread-1:3\r\n",
      "INFO:main:All threads started\r\n",
      "INFO:thread-2:1\r\n",
      "INFO:thread-1:Exit\r\n",
      "INFO:thread-3:Enter\r\n",
      "INFO:thread-2:2\r\n",
      "INFO:thread-3:0\r\n",
      "INFO:thread-2:3\r\n",
      "INFO:thread-3:1\r\n",
      "INFO:thread-2:Exit\r\n",
      "INFO:thread-3:2\r\n",
      "INFO:thread-3:3\r\n",
      "INFO:thread-3:Exit\r\n"
     ]
    }
   ],
   "source": [
    "!python ../examples/Threading/threading1.py"
   ]
  },
  {
   "cell_type": "markdown",
   "metadata": {
    "slideshow": {
     "slide_type": "slide"
    }
   },
   "source": [
    "## Thread.join() demonstration\n",
    "\n",
    "[threading2.py](/edit/examples/Threading/threading2.py)"
   ]
  },
  {
   "cell_type": "code",
   "execution_count": 3,
   "metadata": {
    "collapsed": false
   },
   "outputs": [
    {
     "name": "stdout",
     "output_type": "stream",
     "text": [
      "INFO:main:Starting threads\r\n",
      "INFO:main:Starting thread 0\r\n",
      "INFO:thread-0:Enter\r\n",
      "INFO:thread-0:0\r\n",
      "INFO:thread-0:1\r\n",
      "INFO:thread-0:2\r\n",
      "INFO:thread-0:3\r\n",
      "INFO:thread-0:Exit\r\n",
      "INFO:main:Joined thread 0\r\n",
      "INFO:main:Starting thread 1\r\n",
      "INFO:thread-1:Enter\r\n",
      "INFO:thread-1:0\r\n",
      "INFO:thread-1:1\r\n",
      "INFO:thread-1:2\r\n",
      "INFO:thread-1:3\r\n",
      "INFO:thread-1:Exit\r\n",
      "INFO:main:Joined thread 1\r\n",
      "INFO:main:Starting thread 2\r\n",
      "INFO:thread-2:Enter\r\n",
      "INFO:thread-2:0\r\n",
      "INFO:thread-2:1\r\n",
      "INFO:thread-2:2\r\n",
      "INFO:thread-2:3\r\n",
      "INFO:thread-2:Exit\r\n",
      "INFO:main:Joined thread 2\r\n",
      "INFO:main:Starting thread 3\r\n",
      "INFO:thread-3:Enter\r\n",
      "INFO:thread-3:0\r\n",
      "INFO:thread-3:1\r\n",
      "INFO:thread-3:2\r\n",
      "INFO:thread-3:3\r\n",
      "INFO:thread-3:Exit\r\n",
      "INFO:main:Joined thread 3\r\n",
      "INFO:main:All threads started\r\n"
     ]
    }
   ],
   "source": [
    "!python ../examples/Threading/threading2.py"
   ]
  },
  {
   "cell_type": "markdown",
   "metadata": {
    "slideshow": {
     "slide_type": "slide"
    }
   },
   "source": [
    "## Thread.setDaemon() demonstration\n",
    "\n",
    "[threading3.py](/edit/examples/Threading/threading3.py)"
   ]
  },
  {
   "cell_type": "code",
   "execution_count": 4,
   "metadata": {
    "collapsed": false
   },
   "outputs": [
    {
     "name": "stdout",
     "output_type": "stream",
     "text": [
      "MainThread: Daemonizing threads\r\n",
      "MainThread: Starting threads\r\n",
      "MainThread: Starting thread 0\r\n",
      "Thread-1: Enter\r\n",
      "Thread-1: 0\r\n",
      "Thread-1: 1\r\n",
      "Thread-1: 2\r\n",
      "Thread-1: 3\r\n",
      "Thread-1: Exit\r\n",
      "MainThread: Starting thread 1\r\n",
      "Thread-2: Enter\r\n",
      "Thread-2: 0\r\n",
      "Thread-2: 1\r\n",
      "Thread-2: 2\r\n",
      "Thread-2: 3\r\n",
      "Thread-2: Exit\r\n",
      "MainThread: Starting thread 2\r\n",
      "Thread-3: Enter\r\n",
      "MainThread: Starting thread 3\r\n",
      "Thread-3: 0\r\n",
      "Thread-3: 1\r\n",
      "Thread-3: 2\r\n",
      "MainThread: All threads started\r\n",
      "Thread-4: Enter\r\n",
      "Thread-3: 3\r\n",
      "Thread-3: Exit\r\n",
      "Thread-4: 0\r\n"
     ]
    }
   ],
   "source": [
    "!python ../examples/Threading/threading3.py"
   ]
  },
  {
   "cell_type": "markdown",
   "metadata": {
    "slideshow": {
     "slide_type": "slide"
    }
   },
   "source": [
    "`threading.Timer`\n",
    "\n",
    "Simple subclass that sleeps and then runs its target"
   ]
  },
  {
   "cell_type": "markdown",
   "metadata": {
    "slideshow": {
     "slide_type": "slide"
    }
   },
   "source": [
    "## Timer demonstration\n",
    "\n",
    "[timer.py](/edit/examples/Threading/timer.py)"
   ]
  },
  {
   "cell_type": "code",
   "execution_count": 5,
   "metadata": {
    "collapsed": false
   },
   "outputs": [
    {
     "name": "stdout",
     "output_type": "stream",
     "text": [
      "MainThread: Main program complete\n",
      "Thread-1: Hello, World\n"
     ]
    }
   ],
   "source": [
    "!python ../examples/Threading/timer.py"
   ]
  },
  {
   "cell_type": "markdown",
   "metadata": {
    "slideshow": {
     "slide_type": "slide"
    }
   },
   "source": [
    "## Timer cancellation demonstration\n",
    "\n",
    "[timer2.py](/edit/examples/Threading/timer2.py)"
   ]
  },
  {
   "cell_type": "code",
   "execution_count": 6,
   "metadata": {
    "collapsed": false
   },
   "outputs": [
    {
     "name": "stdout",
     "output_type": "stream",
     "text": [
      "MainThread: Main program complete\r\n"
     ]
    }
   ],
   "source": [
    "!python ../examples/Threading/timer2.py"
   ]
  },
  {
   "cell_type": "markdown",
   "metadata": {
    "slideshow": {
     "slide_type": "slide"
    }
   },
   "source": [
    "# Thread Synchronization\n",
    "\n",
    "- Lock & RLock (mutual exclusion)\n",
    "- Semaphore (atomic counter)\n",
    "- Condition\n",
    "- Event\n",
    "- Queue"
   ]
  },
  {
   "cell_type": "markdown",
   "metadata": {
    "slideshow": {
     "slide_type": "slide"
    }
   },
   "source": [
    "## Lock demonstration\n",
    "\n",
    "[lock1.py](/edit/examples/Threading/lock1.py)"
   ]
  },
  {
   "cell_type": "code",
   "execution_count": 7,
   "metadata": {
    "collapsed": false,
    "scrolled": true
   },
   "outputs": [
    {
     "name": "stdout",
     "output_type": "stream",
     "text": [
      "MainThread: Starting threads\r\n",
      "MainThread: Starting thread 0\r\n",
      "Thread-1: Enter\r\n",
      "MainThread: Starting thread 1\r\n",
      "Thread-1: 0\r\n",
      "Thread-1: 1\r\n",
      "Thread-1: 2\r\n",
      "Thread-1: 3\r\n",
      "MainThread: Starting thread 2\r\n",
      "Thread-1: Exit\r\n",
      "Thread-2: Enter\r\n",
      "Thread-2: 0\r\n",
      "Thread-2: 1\r\n",
      "Thread-2: 2\r\n",
      "Thread-2: 3\r\n",
      "Thread-2: Exit\r\n",
      "Thread-3: Enter\r\n",
      "Thread-3: 0\r\n",
      "Thread-3: 1\r\n",
      "Thread-3: 2\r\n",
      "Thread-3: 3\r\n",
      "MainThread: Starting thread 3\r\n",
      "Thread-3: Exit\r\n",
      "MainThread: All threads started\r\n",
      "Thread-4: Enter\r\n",
      "Thread-4: 0\r\n",
      "Thread-4: 1\r\n",
      "Thread-4: 2\r\n",
      "Thread-4: 3\r\n",
      "Thread-4: Exit\r\n"
     ]
    }
   ],
   "source": [
    "!python ../examples/Threading/lock1.py"
   ]
  },
  {
   "cell_type": "markdown",
   "metadata": {
    "slideshow": {
     "slide_type": "slide"
    }
   },
   "source": [
    "## Context locking demonstration\n",
    "\n",
    "[lock2.py](/edit/examples/Threading/lock2.py)"
   ]
  },
  {
   "cell_type": "code",
   "execution_count": 8,
   "metadata": {
    "collapsed": false,
    "scrolled": true
   },
   "outputs": [
    {
     "name": "stdout",
     "output_type": "stream",
     "text": [
      "MainThread: Starting threads\r\n",
      "MainThread: Starting thread 0\r\n",
      "Thread-1: Enter\r\n",
      "MainThread: Starting thread 1\r\n",
      "Thread-1: 0\r\n",
      "Thread-1: 1\r\n",
      "Thread-1: 2\r\n",
      "Thread-1: 3\r\n",
      "Thread-1: Exit\r\n",
      "Thread-2: Enter\r\n",
      "MainThread: Starting thread 2\r\n",
      "Thread-2: 0\r\n",
      "MainThread: Starting thread 3\r\n",
      "Thread-2: 1\r\n",
      "Thread-2: 2\r\n",
      "MainThread: All threads started\r\n",
      "Thread-2: 3\r\n",
      "Thread-2: Exit\r\n",
      "Thread-3: Enter\r\n",
      "Thread-3: 0\r\n",
      "Thread-3: 1\r\n",
      "Thread-3: 2\r\n",
      "Thread-3: 3\r\n",
      "Thread-3: Exit\r\n",
      "Thread-4: Enter\r\n",
      "Thread-4: 0\r\n",
      "Thread-4: 1\r\n",
      "Thread-4: 2\r\n",
      "Thread-4: 3\r\n",
      "Thread-4: Exit\r\n"
     ]
    }
   ],
   "source": [
    "!python ../examples/Threading/lock2.py"
   ]
  },
  {
   "cell_type": "markdown",
   "metadata": {
    "slideshow": {
     "slide_type": "slide"
    }
   },
   "source": [
    "## Semaphore demonstration\n",
    "\n",
    "[sem1.py](/edit/examples/Threading/sem1.py)"
   ]
  },
  {
   "cell_type": "code",
   "execution_count": 9,
   "metadata": {
    "collapsed": false,
    "scrolled": false
   },
   "outputs": [
    {
     "name": "stdout",
     "output_type": "stream",
     "text": [
      "Thread-1: Enter\n",
      "Thread-2: Enter\n",
      "Thread-3: Enter\n",
      "Thread-4: Enter\n",
      "Thread-1: Exit\n",
      "Thread-2: Exit\n",
      "Thread-5: Enter\n",
      "Thread-4: Exit\n",
      "Thread-6: Enter\n",
      "Thread-3: Exit\n",
      "Thread-8: Enter\n",
      "Thread-7: Enter\n",
      "Thread-5: Exit\n",
      "Thread-6: Exit\n",
      "Thread-9: Enter\n",
      "Thread-8: Exit\n",
      "Thread-10: Enter\n",
      "Thread-7: Exit\n",
      "Thread-9: Exit\n",
      "Thread-10: Exit\n"
     ]
    }
   ],
   "source": [
    "!python ../examples/Threading/sem1.py"
   ]
  },
  {
   "cell_type": "markdown",
   "metadata": {
    "slideshow": {
     "slide_type": "slide"
    }
   },
   "source": [
    "## Condition demonstration\n",
    "\n",
    "[condition.py](/edit/examples/Threading/condition.py)"
   ]
  },
  {
   "cell_type": "code",
   "execution_count": 10,
   "metadata": {
    "collapsed": false,
    "scrolled": false
   },
   "outputs": [
    {
     "name": "stdout",
     "output_type": "stream",
     "text": [
      "MainThread: Setting thread_to_run = 0\n",
      "Thread-1: Running thread 0\n",
      "Thread-1: Now done\n",
      "MainThread: Setting thread_to_run = 1\n",
      "Thread-2: Running thread 1\n",
      "Thread-2: Now done\n",
      "MainThread: Setting thread_to_run = 2\n",
      "Thread-3: Running thread 2\n",
      "Thread-3: Now done\n",
      "MainThread: Setting thread_to_run = 3\n",
      "Thread-4: Running thread 3\n",
      "Thread-4: Now done\n",
      "MainThread: Setting thread_to_run = 4\n",
      "Thread-5: Running thread 4\n",
      "Thread-5: Now done\n",
      "MainThread: Setting thread_to_run = 5\n",
      "Thread-6: Running thread 5\n",
      "Thread-6: Now done\n",
      "MainThread: Setting thread_to_run = 6\n",
      "Thread-7: Running thread 6\n",
      "Thread-7: Now done\n",
      "MainThread: Setting thread_to_run = 7\n",
      "Thread-8: Running thread 7\n",
      "Thread-8: Now done\n",
      "MainThread: Setting thread_to_run = 8\n",
      "Thread-9: Running thread 8\n",
      "Thread-9: Now done\n",
      "MainThread: Setting thread_to_run = 9\n",
      "Thread-10: Running thread 9\n",
      "Thread-10: Now done\n"
     ]
    }
   ],
   "source": [
    "!python ../examples/Threading/condition.py"
   ]
  },
  {
   "cell_type": "markdown",
   "metadata": {
    "slideshow": {
     "slide_type": "slide"
    }
   },
   "source": [
    "## Event demonstration\n",
    "\n",
    "[event.py](/edit/examples/Threading/event.py)"
   ]
  },
  {
   "cell_type": "code",
   "execution_count": 11,
   "metadata": {
    "collapsed": false,
    "scrolled": false
   },
   "outputs": [
    {
     "name": "stdout",
     "output_type": "stream",
     "text": [
      "Thread-1: Target waiting\n",
      "Thread-2: Timer running\n",
      "Thread-1: Target running\n"
     ]
    }
   ],
   "source": [
    "!python ../examples/Threading/event.py"
   ]
  },
  {
   "cell_type": "markdown",
   "metadata": {
    "slideshow": {
     "slide_type": "slide"
    }
   },
   "source": [
    "## Queue demonstration\n",
    "\n",
    "[queue-test.py](/edit/examples/Threading/queue-test.py)"
   ]
  },
  {
   "cell_type": "code",
   "execution_count": 12,
   "metadata": {
    "collapsed": false,
    "scrolled": false
   },
   "outputs": [
    {
     "name": "stdout",
     "output_type": "stream",
     "text": [
      "Thread-1: >>> 0\n",
      "Thread-1: >>> 1\n",
      "Thread-1: >>> 2\n",
      "Thread-2: <<< 0\n",
      "Thread-2: <<< 1\n",
      "Thread-2: <<< 2\n",
      "Thread-1: >>> 3\n",
      "Thread-2: <<< 3\n",
      "Thread-1: >>> 4\n",
      "Thread-2: <<< 4\n",
      "Thread-1: >>> 5\n",
      "Thread-2: <<< 5\n",
      "Thread-1: >>> 6\n",
      "Thread-2: <<< 6\n",
      "Thread-1: >>> 7\n",
      "Thread-2: <<< 7\n",
      "Thread-1: >>> 8\n",
      "Thread-2: <<< 8\n",
      "Thread-1: >>> 9\n",
      "Thread-2: <<< 9\n"
     ]
    }
   ],
   "source": [
    "!python ../examples/Threading/queue-test.py"
   ]
  },
  {
   "cell_type": "code",
   "execution_count": null,
   "metadata": {
    "collapsed": true
   },
   "outputs": [],
   "source": []
  }
 ],
 "metadata": {
  "celltoolbar": "Slideshow",
  "kernelspec": {
   "display_name": "Python 2",
   "language": "python",
   "name": "python2"
  },
  "language_info": {
   "codemirror_mode": {
    "name": "ipython",
    "version": 2
   },
   "file_extension": ".py",
   "mimetype": "text/x-python",
   "name": "python",
   "nbconvert_exporter": "python",
   "pygments_lexer": "ipython2",
   "version": "2.7.11"
  }
 },
 "nbformat": 4,
 "nbformat_minor": 0
}
