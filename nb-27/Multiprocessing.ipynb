{
 "cells": [
  {
   "cell_type": "markdown",
   "metadata": {},
   "source": [
    "[Slides](./Multiprocessing.slides.html)"
   ]
  },
  {
   "cell_type": "markdown",
   "metadata": {
    "slideshow": {
     "slide_type": "slide"
    }
   },
   "source": [
    "# Multiprocessing with Python\n",
    "\n",
    "In this module, you'll learn\n",
    "\n",
    "- How to use the multiprocessing module \n",
    "- How to use multiprocessing's support for synchronization and communication"
   ]
  },
  {
   "cell_type": "markdown",
   "metadata": {
    "slideshow": {
     "slide_type": "slide"
    }
   },
   "source": [
    "# Multiprocessing\n",
    "\n",
    "- Based on Threading\n",
    "- No GIL\n",
    "- Requires “module” programming, even in main script"
   ]
  },
  {
   "cell_type": "markdown",
   "metadata": {},
   "source": [
    "## Multiprocessing demonstration\n",
    "\n",
    "[processing1.py](/edit/examples/Multiprocessing/processing1.py)"
   ]
  },
  {
   "cell_type": "code",
   "execution_count": 1,
   "metadata": {
    "collapsed": false,
    "scrolled": true
   },
   "outputs": [
    {
     "name": "stdout",
     "output_type": "stream",
     "text": [
      "MainProcess (70784): Starting procs\n",
      "MainProcess (70784): Starting process 0\n",
      "MainProcess (70784): Starting process 1\n",
      "Process-1 (70785): Enter\n",
      "Process-1 (70785): (0,0)\n",
      "MainProcess (70784): Starting process 2\n",
      "Process-2 (70786): Enter\n",
      "Process-2 (70786): (1,0)\n",
      "MainProcess (70784): Starting process 3\n",
      "Process-3 (70787): Enter\n",
      "Process-3 (70787): (2,0)\n",
      "MainProcess (70784): All procs started\n",
      "Process-4 (70788): Enter\n",
      "Process-4 (70788): (3,0)\n",
      "Process-2 (70786): (1,1)\n",
      "Process-1 (70785): (0,1)\n",
      "Process-3 (70787): (2,1)\n",
      "Process-4 (70788): (3,1)\n",
      "Process-3 (70787): (2,2)\n",
      "Process-1 (70785): (0,2)\n",
      "Process-2 (70786): (1,2)\n",
      "Process-4 (70788): (3,2)\n",
      "Process-3 (70787): (2,3)\n",
      "Process-1 (70785): (0,3)\n",
      "Process-2 (70786): (1,3)\n",
      "Process-4 (70788): (3,3)\n",
      "Process-2 (70786): Exit\n",
      "Process-3 (70787): Exit\n",
      "Process-1 (70785): Exit\n",
      "Process-4 (70788): Exit\n"
     ]
    }
   ],
   "source": [
    "!python ../examples/Multiprocessing/processing1.py"
   ]
  },
  {
   "cell_type": "markdown",
   "metadata": {},
   "source": [
    "## Multiprocessing demonstration (with join())\n",
    "\n",
    "[processing2.py](/edit/examples/Multiprocessing/processing2.py)"
   ]
  },
  {
   "cell_type": "code",
   "execution_count": 2,
   "metadata": {
    "collapsed": false,
    "scrolled": false
   },
   "outputs": [
    {
     "name": "stdout",
     "output_type": "stream",
     "text": [
      "MainProcess (70827): Starting procs\n",
      "MainProcess (70827): Starting process 0\n",
      "MainProcess (70827): Starting process 1\n",
      "Process-1 (70828): Enter\n",
      "MainProcess (70827): Starting process 2\n",
      "Process-2 (70829): Enter\n",
      "MainProcess (70827): Starting process 3\n",
      "Process-3 (70830): Enter\n",
      "MainProcess (70827): All procs started\n",
      "MainProcess (70827): Join process 0\n",
      "Process-4 (70831): Enter\n",
      "Process-1 (70828): (0,0)\n",
      "Process-2 (70829): (1,0)\n",
      "Process-3 (70830): (2,0)\n",
      "Process-4 (70831): (3,0)\n",
      "Process-1 (70828): (0,1)\n",
      "Process-2 (70829): (1,1)\n",
      "Process-4 (70831): (3,1)\n",
      "Process-3 (70830): (2,1)\n",
      "Process-2 (70829): (1,2)\n",
      "Process-1 (70828): (0,2)\n",
      "Process-4 (70831): (3,2)\n",
      "Process-3 (70830): (2,2)\n",
      "Process-1 (70828): (0,3)\n",
      "Process-2 (70829): (1,3)\n",
      "Process-1 (70828): Exit\n",
      "Process-2 (70829): Exit\n",
      "Process-4 (70831): (3,3)\n",
      "Process-3 (70830): (2,3)\n",
      "Process-3 (70830): Exit\n",
      "Process-4 (70831): Exit\n",
      "MainProcess (70827): Join process 1\n",
      "MainProcess (70827): Join process 2\n",
      "MainProcess (70827): Join process 3\n",
      "MainProcess (70827): All procs joined\n"
     ]
    }
   ],
   "source": [
    "!python ../examples/Multiprocessing/processing2.py"
   ]
  },
  {
   "cell_type": "markdown",
   "metadata": {
    "slideshow": {
     "slide_type": "slide"
    }
   },
   "source": [
    "# Multiprocess synchronization and communication\n",
    "\n",
    "- Lock, Condition, Semaphore, Event\n",
    "- Queue & Pipe\n",
    "- Shared Memory"
   ]
  },
  {
   "cell_type": "markdown",
   "metadata": {},
   "source": [
    "## Lock demonstration\n",
    "\n",
    "[lock1.py](/edit/examples/Multiprocessing/lock1.py)"
   ]
  },
  {
   "cell_type": "code",
   "execution_count": 3,
   "metadata": {
    "collapsed": false,
    "scrolled": true
   },
   "outputs": [
    {
     "name": "stdout",
     "output_type": "stream",
     "text": [
      "MainProcess: Starting procs\n",
      "MainProcess: Starting proc 0\n",
      "MainProcess: Starting proc 1\n",
      "Process-1: Enter\n",
      "MainProcess: Starting proc 2\n",
      "MainProcess: Starting proc 3\n",
      "MainProcess: All procs started\n",
      "Process-1: 0\n",
      "Process-1: 1\n",
      "Process-1: 2\n",
      "Process-1: 3\n",
      "Process-1: Exit\n",
      "Process-2: Enter\n",
      "Process-2: 0\n",
      "Process-2: 1\n",
      "Process-2: 2\n",
      "Process-2: 3\n",
      "Process-2: Exit\n",
      "Process-3: Enter\n",
      "Process-3: 0\n",
      "Process-3: 1\n",
      "Process-3: 2\n",
      "Process-3: 3\n",
      "Process-3: Exit\n",
      "Process-4: Enter\n",
      "Process-4: 0\n",
      "Process-4: 1\n",
      "Process-4: 2\n",
      "Process-4: 3\n",
      "Process-4: Exit\n"
     ]
    }
   ],
   "source": [
    "!python ../examples/Multiprocessing/lock1.py"
   ]
  },
  {
   "cell_type": "markdown",
   "metadata": {},
   "source": [
    "## Queue demonstration\n",
    "\n",
    "[queue-test.py](/edit/examples/Multiprocessing/queue-test.py)"
   ]
  },
  {
   "cell_type": "code",
   "execution_count": 4,
   "metadata": {
    "collapsed": false,
    "scrolled": true
   },
   "outputs": [
    {
     "name": "stdout",
     "output_type": "stream",
     "text": [
      "Process-1: >>> 0\n",
      "Process-1: >>> 1\n",
      "Process-1: >>> 2\n",
      "Process-2: <<< 0\n",
      "Process-2: <<< 1\n",
      "Process-1: >>> 3\n",
      "Process-2: <<< 2\n",
      "Process-2: <<< 3\n",
      "Process-1: >>> 4\n",
      "Process-2: <<< 4\n",
      "Process-1: >>> 5\n",
      "Process-2: <<< 5\n",
      "Process-1: >>> 6\n",
      "Process-2: <<< 6\n",
      "Process-1: >>> 7\n",
      "Process-2: <<< 7\n",
      "Process-1: >>> 8\n",
      "Process-2: <<< 8\n",
      "Process-1: >>> 9\n",
      "Process-2: <<< 9\n"
     ]
    }
   ],
   "source": [
    "!python ../examples/Multiprocessing/queue-test.py"
   ]
  },
  {
   "cell_type": "markdown",
   "metadata": {},
   "source": [
    "## Shared memory demonstration\n",
    "\n",
    "[shared_memory.py](/edit/examples/Multiprocessing/shared_memory.py)"
   ]
  },
  {
   "cell_type": "code",
   "execution_count": 5,
   "metadata": {
    "collapsed": false,
    "scrolled": true
   },
   "outputs": [
    {
     "name": "stdout",
     "output_type": "stream",
     "text": [
      "INFO:root:Before process, num.value = 0.0\r\n",
      "INFO:root:Before process, arr = [0, 1, 2, 3, 4, 5, 6, 7, 8, 9]\r\n",
      "INFO:root:Running target function\r\n",
      "INFO:root:After process, num.value = 3.14159265359\r\n",
      "INFO:root:After process, arr = [0, -1, -2, -3, -4, -5, -6, -7, -8, -9]\r\n"
     ]
    }
   ],
   "source": [
    "!python ../examples/Multiprocessing/shared_memory.py"
   ]
  },
  {
   "cell_type": "code",
   "execution_count": null,
   "metadata": {
    "collapsed": true
   },
   "outputs": [],
   "source": []
  }
 ],
 "metadata": {
  "celltoolbar": "Slideshow",
  "kernelspec": {
   "display_name": "Python 2",
   "language": "python",
   "name": "python2"
  },
  "language_info": {
   "codemirror_mode": {
    "name": "ipython",
    "version": 2
   },
   "file_extension": ".py",
   "mimetype": "text/x-python",
   "name": "python",
   "nbconvert_exporter": "python",
   "pygments_lexer": "ipython2",
   "version": "2.7.11"
  }
 },
 "nbformat": 4,
 "nbformat_minor": 0
}
