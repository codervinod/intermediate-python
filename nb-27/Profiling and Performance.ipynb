{
 "cells": [
  {
   "cell_type": "markdown",
   "metadata": {},
   "source": [
    "# Micro-benchmarks and timeit"
   ]
  },
  {
   "cell_type": "code",
   "execution_count": 1,
   "metadata": {
    "collapsed": true
   },
   "outputs": [],
   "source": [
    "import StringIO, cStringIO\n",
    "\n",
    "def build_concat(strings):\n",
    "    result = ''\n",
    "    for s in strings:\n",
    "        result += s\n",
    "    return result\n",
    "\n",
    "def build_join(strings):\n",
    "    return ''.join(strings)\n",
    "\n",
    "def build_sio(strings):\n",
    "    sio = StringIO.StringIO()\n",
    "    for s in strings:\n",
    "        sio.write(s)\n",
    "    return sio.getvalue()\n",
    "\n",
    "def build_csio(strings):\n",
    "    sio = cStringIO.StringIO()\n",
    "    for s in strings:\n",
    "        sio.write(s)\n",
    "    return sio.getvalue()\n",
    "\n",
    "strings = [str(i) for i in range(1000)]"
   ]
  },
  {
   "cell_type": "code",
   "execution_count": 2,
   "metadata": {
    "collapsed": false
   },
   "outputs": [
    {
     "data": {
      "text/plain": [
       "True"
      ]
     },
     "execution_count": 2,
     "metadata": {},
     "output_type": "execute_result"
    }
   ],
   "source": [
    "build_concat(strings) == build_join(strings) == build_sio(strings) == build_csio(strings)"
   ]
  },
  {
   "cell_type": "code",
   "execution_count": 3,
   "metadata": {
    "collapsed": true
   },
   "outputs": [],
   "source": [
    "import timeit"
   ]
  },
  {
   "cell_type": "code",
   "execution_count": 9,
   "metadata": {
    "collapsed": false
   },
   "outputs": [
    {
     "name": "stdout",
     "output_type": "stream",
     "text": [
      "('concat', 0.6744589805603027)\n",
      "('join', 0.09292483329772949)\n",
      "('sio', 7.163503885269165)\n",
      "('csio', 2.6579480171203613)\n"
     ]
    }
   ],
   "source": [
    "for fname in ('concat', 'join', 'sio', 'csio'):\n",
    "    elapsed = timeit.timeit(\n",
    "        'build_%s(strings)' % fname, \n",
    "        In[1], number=10000)\n",
    "    print(fname, elapsed)"
   ]
  },
  {
   "cell_type": "markdown",
   "metadata": {},
   "source": [
    "## Jupyter Notebook (and IPython) provide a nice helper\n",
    "\n",
    "We can use `%timeit` (or usually just `timeit`) to run a version of `timeit` in IPython"
   ]
  },
  {
   "cell_type": "code",
   "execution_count": 10,
   "metadata": {
    "collapsed": false
   },
   "outputs": [
    {
     "name": "stdout",
     "output_type": "stream",
     "text": [
      "10000 loops, best of 3: 69 µs per loop\n"
     ]
    }
   ],
   "source": [
    "%timeit build_concat(strings)"
   ]
  },
  {
   "cell_type": "code",
   "execution_count": 11,
   "metadata": {
    "collapsed": false
   },
   "outputs": [
    {
     "name": "stdout",
     "output_type": "stream",
     "text": [
      "100000 loops, best of 3: 9.35 µs per loop\n"
     ]
    }
   ],
   "source": [
    "%timeit build_join(strings)"
   ]
  },
  {
   "cell_type": "code",
   "execution_count": 12,
   "metadata": {
    "collapsed": false
   },
   "outputs": [
    {
     "name": "stdout",
     "output_type": "stream",
     "text": [
      "1000 loops, best of 3: 690 µs per loop\n"
     ]
    }
   ],
   "source": [
    "%timeit build_sio(strings)"
   ]
  },
  {
   "cell_type": "code",
   "execution_count": 13,
   "metadata": {
    "collapsed": false
   },
   "outputs": [
    {
     "name": "stdout",
     "output_type": "stream",
     "text": [
      "1000 loops, best of 3: 287 µs per loop\n"
     ]
    }
   ],
   "source": [
    "%timeit build_csio(strings)"
   ]
  },
  {
   "cell_type": "markdown",
   "metadata": {},
   "source": [
    "## Results of our microbenchmark\n",
    "\n",
    "- `''.join()` is the fastest, around 7x faster than concatenating strings\n",
    "- `cStringIO` is around 2-3x faster than `StringIO`, is around 30x slower than `''.join`\n",
    "- You should use `''.join` when you need to build a big string from a list of strings"
   ]
  },
  {
   "cell_type": "markdown",
   "metadata": {},
   "source": [
    "# Profiling Python Code\n",
    "\n",
    "You can profile an entire script by running it via `python -m cProfile` to get summary information about the whole thing:"
   ]
  },
  {
   "cell_type": "code",
   "execution_count": 17,
   "metadata": {
    "collapsed": false
   },
   "outputs": [
    {
     "name": "stdout",
     "output_type": "stream",
     "text": [
      "import re\r\n",
      "re.compile(\"foo|bar\")\r\n"
     ]
    }
   ],
   "source": [
    "!cat ../examples/Profiling/profiletest.py"
   ]
  },
  {
   "cell_type": "code",
   "execution_count": 19,
   "metadata": {
    "collapsed": false
   },
   "outputs": [
    {
     "name": "stdout",
     "output_type": "stream",
     "text": [
      "         195 function calls (190 primitive calls) in 0.000 seconds\r\n",
      "\r\n",
      "   Ordered by: standard name\r\n",
      "\r\n",
      "   ncalls  tottime  percall  cumtime  percall filename:lineno(function)\r\n",
      "        1    0.000    0.000    0.000    0.000 profiletest.py:1(<module>)\r\n",
      "        1    0.000    0.000    0.000    0.000 re.py:192(compile)\r\n",
      "        1    0.000    0.000    0.000    0.000 re.py:230(_compile)\r\n",
      "        1    0.000    0.000    0.000    0.000 sre_compile.py:228(_compile_charset)\r\n",
      "        1    0.000    0.000    0.000    0.000 sre_compile.py:256(_optimize_charset)\r\n",
      "        1    0.000    0.000    0.000    0.000 sre_compile.py:433(_compile_info)\r\n",
      "        2    0.000    0.000    0.000    0.000 sre_compile.py:546(isstring)\r\n",
      "        1    0.000    0.000    0.000    0.000 sre_compile.py:552(_code)\r\n",
      "        1    0.000    0.000    0.000    0.000 sre_compile.py:567(compile)\r\n",
      "      3/1    0.000    0.000    0.000    0.000 sre_compile.py:64(_compile)\r\n",
      "        5    0.000    0.000    0.000    0.000 sre_parse.py:137(__len__)\r\n",
      "       12    0.000    0.000    0.000    0.000 sre_parse.py:141(__getitem__)\r\n",
      "        7    0.000    0.000    0.000    0.000 sre_parse.py:149(append)\r\n",
      "      3/1    0.000    0.000    0.000    0.000 sre_parse.py:151(getwidth)\r\n",
      "        1    0.000    0.000    0.000    0.000 sre_parse.py:189(__init__)\r\n",
      "       10    0.000    0.000    0.000    0.000 sre_parse.py:193(__next)\r\n",
      "        2    0.000    0.000    0.000    0.000 sre_parse.py:206(match)\r\n",
      "        8    0.000    0.000    0.000    0.000 sre_parse.py:212(get)\r\n",
      "        1    0.000    0.000    0.000    0.000 sre_parse.py:317(_parse_sub)\r\n",
      "        2    0.000    0.000    0.000    0.000 sre_parse.py:395(_parse)\r\n",
      "        1    0.000    0.000    0.000    0.000 sre_parse.py:67(__init__)\r\n",
      "        1    0.000    0.000    0.000    0.000 sre_parse.py:706(parse)\r\n",
      "        3    0.000    0.000    0.000    0.000 sre_parse.py:92(__init__)\r\n",
      "        1    0.000    0.000    0.000    0.000 {_sre.compile}\r\n",
      "       15    0.000    0.000    0.000    0.000 {isinstance}\r\n",
      "    39/38    0.000    0.000    0.000    0.000 {len}\r\n",
      "        2    0.000    0.000    0.000    0.000 {max}\r\n",
      "       48    0.000    0.000    0.000    0.000 {method 'append' of 'list' objects}\r\n",
      "        1    0.000    0.000    0.000    0.000 {method 'disable' of '_lsprof.Profiler' objects}\r\n",
      "        5    0.000    0.000    0.000    0.000 {method 'find' of 'bytearray' objects}\r\n",
      "        1    0.000    0.000    0.000    0.000 {method 'items' of 'dict' objects}\r\n",
      "        8    0.000    0.000    0.000    0.000 {min}\r\n",
      "        6    0.000    0.000    0.000    0.000 {ord}\r\n",
      "\r\n",
      "\r\n"
     ]
    }
   ],
   "source": [
    "!python -m cProfile ../examples/Profiling/profiletest.py"
   ]
  },
  {
   "cell_type": "code",
   "execution_count": 20,
   "metadata": {
    "collapsed": false
   },
   "outputs": [
    {
     "name": "stdout",
     "output_type": "stream",
     "text": [
      "         195 function calls (190 primitive calls) in 0.000 seconds\r\n",
      "\r\n",
      "   Ordered by: internal time\r\n",
      "\r\n",
      "   ncalls  tottime  percall  cumtime  percall filename:lineno(function)\r\n",
      "      3/1    0.000    0.000    0.000    0.000 sre_compile.py:64(_compile)\r\n",
      "      3/1    0.000    0.000    0.000    0.000 sre_parse.py:151(getwidth)\r\n",
      "        2    0.000    0.000    0.000    0.000 sre_parse.py:395(_parse)\r\n",
      "        1    0.000    0.000    0.000    0.000 re.py:230(_compile)\r\n",
      "        1    0.000    0.000    0.000    0.000 sre_compile.py:433(_compile_info)\r\n",
      "        1    0.000    0.000    0.000    0.000 sre_compile.py:552(_code)\r\n",
      "        1    0.000    0.000    0.000    0.000 sre_parse.py:317(_parse_sub)\r\n",
      "       10    0.000    0.000    0.000    0.000 sre_parse.py:193(__next)\r\n",
      "        1    0.000    0.000    0.000    0.000 sre_parse.py:706(parse)\r\n",
      "        1    0.000    0.000    0.000    0.000 sre_compile.py:567(compile)\r\n",
      "        1    0.000    0.000    0.000    0.000 profiletest.py:1(<module>)\r\n",
      "        1    0.000    0.000    0.000    0.000 sre_compile.py:256(_optimize_charset)\r\n",
      "       48    0.000    0.000    0.000    0.000 {method 'append' of 'list' objects}\r\n",
      "       15    0.000    0.000    0.000    0.000 {isinstance}\r\n",
      "       12    0.000    0.000    0.000    0.000 sre_parse.py:141(__getitem__)\r\n",
      "    39/38    0.000    0.000    0.000    0.000 {len}\r\n",
      "        1    0.000    0.000    0.000    0.000 sre_compile.py:228(_compile_charset)\r\n",
      "        8    0.000    0.000    0.000    0.000 {min}\r\n",
      "        7    0.000    0.000    0.000    0.000 sre_parse.py:149(append)\r\n",
      "        2    0.000    0.000    0.000    0.000 sre_compile.py:546(isstring)\r\n",
      "        1    0.000    0.000    0.000    0.000 {_sre.compile}\r\n",
      "        8    0.000    0.000    0.000    0.000 sre_parse.py:212(get)\r\n",
      "        1    0.000    0.000    0.000    0.000 re.py:192(compile)\r\n",
      "        5    0.000    0.000    0.000    0.000 {method 'find' of 'bytearray' objects}\r\n",
      "        1    0.000    0.000    0.000    0.000 sre_parse.py:189(__init__)\r\n",
      "        6    0.000    0.000    0.000    0.000 {ord}\r\n",
      "        3    0.000    0.000    0.000    0.000 sre_parse.py:92(__init__)\r\n",
      "        1    0.000    0.000    0.000    0.000 sre_parse.py:67(__init__)\r\n",
      "        5    0.000    0.000    0.000    0.000 sre_parse.py:137(__len__)\r\n",
      "        2    0.000    0.000    0.000    0.000 {max}\r\n",
      "        2    0.000    0.000    0.000    0.000 sre_parse.py:206(match)\r\n",
      "        1    0.000    0.000    0.000    0.000 {method 'items' of 'dict' objects}\r\n",
      "        1    0.000    0.000    0.000    0.000 {method 'disable' of '_lsprof.Profiler' objects}\r\n",
      "\r\n",
      "\r\n"
     ]
    }
   ],
   "source": [
    "!python -m cProfile -s time ../examples/Profiling/profiletest.py"
   ]
  },
  {
   "cell_type": "markdown",
   "metadata": {},
   "source": [
    "### Direct profiling\n",
    "\n",
    "We can also profile just a few Python statements or a function:"
   ]
  },
  {
   "cell_type": "code",
   "execution_count": 21,
   "metadata": {
    "collapsed": true
   },
   "outputs": [],
   "source": [
    "import re\n",
    "import cProfile"
   ]
  },
  {
   "cell_type": "code",
   "execution_count": 22,
   "metadata": {
    "collapsed": false,
    "scrolled": true
   },
   "outputs": [
    {
     "name": "stdout",
     "output_type": "stream",
     "text": [
      "         195 function calls (190 primitive calls) in 0.000 seconds\n",
      "\n",
      "   Ordered by: standard name\n",
      "\n",
      "   ncalls  tottime  percall  cumtime  percall filename:lineno(function)\n",
      "        1    0.000    0.000    0.000    0.000 <string>:1(<module>)\n",
      "        1    0.000    0.000    0.000    0.000 re.py:192(compile)\n",
      "        1    0.000    0.000    0.000    0.000 re.py:230(_compile)\n",
      "        1    0.000    0.000    0.000    0.000 sre_compile.py:228(_compile_charset)\n",
      "        1    0.000    0.000    0.000    0.000 sre_compile.py:256(_optimize_charset)\n",
      "        1    0.000    0.000    0.000    0.000 sre_compile.py:433(_compile_info)\n",
      "        2    0.000    0.000    0.000    0.000 sre_compile.py:546(isstring)\n",
      "        1    0.000    0.000    0.000    0.000 sre_compile.py:552(_code)\n",
      "        1    0.000    0.000    0.000    0.000 sre_compile.py:567(compile)\n",
      "      3/1    0.000    0.000    0.000    0.000 sre_compile.py:64(_compile)\n",
      "        5    0.000    0.000    0.000    0.000 sre_parse.py:137(__len__)\n",
      "       12    0.000    0.000    0.000    0.000 sre_parse.py:141(__getitem__)\n",
      "        7    0.000    0.000    0.000    0.000 sre_parse.py:149(append)\n",
      "      3/1    0.000    0.000    0.000    0.000 sre_parse.py:151(getwidth)\n",
      "        1    0.000    0.000    0.000    0.000 sre_parse.py:189(__init__)\n",
      "       10    0.000    0.000    0.000    0.000 sre_parse.py:193(__next)\n",
      "        2    0.000    0.000    0.000    0.000 sre_parse.py:206(match)\n",
      "        8    0.000    0.000    0.000    0.000 sre_parse.py:212(get)\n",
      "        1    0.000    0.000    0.000    0.000 sre_parse.py:317(_parse_sub)\n",
      "        2    0.000    0.000    0.000    0.000 sre_parse.py:395(_parse)\n",
      "        1    0.000    0.000    0.000    0.000 sre_parse.py:67(__init__)\n",
      "        1    0.000    0.000    0.000    0.000 sre_parse.py:706(parse)\n",
      "        3    0.000    0.000    0.000    0.000 sre_parse.py:92(__init__)\n",
      "        1    0.000    0.000    0.000    0.000 {_sre.compile}\n",
      "       15    0.000    0.000    0.000    0.000 {isinstance}\n",
      "    39/38    0.000    0.000    0.000    0.000 {len}\n",
      "        2    0.000    0.000    0.000    0.000 {max}\n",
      "       48    0.000    0.000    0.000    0.000 {method 'append' of 'list' objects}\n",
      "        1    0.000    0.000    0.000    0.000 {method 'disable' of '_lsprof.Profiler' objects}\n",
      "        5    0.000    0.000    0.000    0.000 {method 'find' of 'bytearray' objects}\n",
      "        1    0.000    0.000    0.000    0.000 {method 'items' of 'dict' objects}\n",
      "        8    0.000    0.000    0.000    0.000 {min}\n",
      "        6    0.000    0.000    0.000    0.000 {ord}\n",
      "\n",
      "\n"
     ]
    }
   ],
   "source": [
    "cProfile.run('re.compile(\"foo|bar\")')"
   ]
  },
  {
   "cell_type": "markdown",
   "metadata": {},
   "source": [
    "We can also save the statistics to a file for analysis later:"
   ]
  },
  {
   "cell_type": "code",
   "execution_count": 23,
   "metadata": {
    "collapsed": true
   },
   "outputs": [],
   "source": [
    "cProfile.run('re.compile(\"foo|bar\")', 're-stats')"
   ]
  },
  {
   "cell_type": "markdown",
   "metadata": {},
   "source": [
    "For analysis, we use the `pstats` module:"
   ]
  },
  {
   "cell_type": "code",
   "execution_count": 24,
   "metadata": {
    "collapsed": true
   },
   "outputs": [],
   "source": [
    "import pstats"
   ]
  },
  {
   "cell_type": "code",
   "execution_count": 25,
   "metadata": {
    "collapsed": true
   },
   "outputs": [],
   "source": [
    "p = pstats.Stats('re-stats')"
   ]
  },
  {
   "cell_type": "code",
   "execution_count": 26,
   "metadata": {
    "collapsed": false
   },
   "outputs": [
    {
     "name": "stdout",
     "output_type": "stream",
     "text": [
      "Sat Apr 15 16:03:07 2017    re-stats\n",
      "\n",
      "         4 function calls in 0.000 seconds\n",
      "\n",
      "   Random listing order was used\n",
      "\n",
      "   ncalls  tottime  percall  cumtime  percall filename:lineno(function)\n",
      "        1    0.000    0.000    0.000    0.000 /Users/rick446/.virtualenvs/intermediate-python/lib/python2.7/re.py:192(compile)\n",
      "        1    0.000    0.000    0.000    0.000 {method 'disable' of '_lsprof.Profiler' objects}\n",
      "        1    0.000    0.000    0.000    0.000 /Users/rick446/.virtualenvs/intermediate-python/lib/python2.7/re.py:230(_compile)\n",
      "        1    0.000    0.000    0.000    0.000 <string>:1(<module>)\n",
      "\n",
      "\n"
     ]
    },
    {
     "data": {
      "text/plain": [
       "<pstats.Stats instance at 0x105cfbcf8>"
      ]
     },
     "execution_count": 26,
     "metadata": {},
     "output_type": "execute_result"
    }
   ],
   "source": [
    "p.print_stats()"
   ]
  },
  {
   "cell_type": "code",
   "execution_count": 28,
   "metadata": {
    "collapsed": false
   },
   "outputs": [
    {
     "name": "stdout",
     "output_type": "stream",
     "text": [
      "Sat Apr 15 16:03:07 2017    re-stats\n",
      "\n",
      "         4 function calls in 0.000 seconds\n",
      "\n",
      "   Random listing order was used\n",
      "\n",
      "   ncalls  tottime  percall  cumtime  percall filename:lineno(function)\n",
      "        1    0.000    0.000    0.000    0.000 re.py:192(compile)\n",
      "        1    0.000    0.000    0.000    0.000 {method 'disable' of '_lsprof.Profiler' objects}\n",
      "        1    0.000    0.000    0.000    0.000 re.py:230(_compile)\n",
      "        1    0.000    0.000    0.000    0.000 <string>:1(<module>)\n",
      "\n",
      "\n"
     ]
    },
    {
     "data": {
      "text/plain": [
       "<pstats.Stats instance at 0x105cfbcf8>"
      ]
     },
     "execution_count": 28,
     "metadata": {},
     "output_type": "execute_result"
    }
   ],
   "source": [
    "p.strip_dirs()\n",
    "p.print_stats()"
   ]
  },
  {
   "cell_type": "code",
   "execution_count": 29,
   "metadata": {
    "collapsed": false
   },
   "outputs": [
    {
     "data": {
      "text/plain": [
       "<pstats.Stats instance at 0x105cfbcf8>"
      ]
     },
     "execution_count": 29,
     "metadata": {},
     "output_type": "execute_result"
    }
   ],
   "source": [
    "p.sort_stats('time')"
   ]
  },
  {
   "cell_type": "code",
   "execution_count": 30,
   "metadata": {
    "collapsed": false
   },
   "outputs": [
    {
     "name": "stdout",
     "output_type": "stream",
     "text": [
      "Sat Apr 15 16:03:07 2017    re-stats\n",
      "\n",
      "         4 function calls in 0.000 seconds\n",
      "\n",
      "   Ordered by: internal time\n",
      "\n",
      "   ncalls  tottime  percall  cumtime  percall filename:lineno(function)\n",
      "        1    0.000    0.000    0.000    0.000 re.py:230(_compile)\n",
      "        1    0.000    0.000    0.000    0.000 <string>:1(<module>)\n",
      "        1    0.000    0.000    0.000    0.000 re.py:192(compile)\n",
      "        1    0.000    0.000    0.000    0.000 {method 'disable' of '_lsprof.Profiler' objects}\n",
      "\n",
      "\n"
     ]
    },
    {
     "data": {
      "text/plain": [
       "<pstats.Stats instance at 0x105cfbcf8>"
      ]
     },
     "execution_count": 30,
     "metadata": {},
     "output_type": "execute_result"
    }
   ],
   "source": [
    "p.print_stats()"
   ]
  },
  {
   "cell_type": "code",
   "execution_count": 31,
   "metadata": {
    "collapsed": false
   },
   "outputs": [
    {
     "name": "stdout",
     "output_type": "stream",
     "text": [
      "Sat Apr 15 16:03:07 2017    re-stats\n",
      "\n",
      "         4 function calls in 0.000 seconds\n",
      "\n",
      "   Ordered by: internal time\n",
      "\n",
      "   ncalls  tottime  percall  cumtime  percall filename:lineno(function)\n",
      "        1    0.000    0.000    0.000    0.000 re.py:230(_compile)\n",
      "        1    0.000    0.000    0.000    0.000 <string>:1(<module>)\n",
      "        1    0.000    0.000    0.000    0.000 re.py:192(compile)\n",
      "        1    0.000    0.000    0.000    0.000 {method 'disable' of '_lsprof.Profiler' objects}\n",
      "\n",
      "\n"
     ]
    },
    {
     "data": {
      "text/plain": [
       "<pstats.Stats instance at 0x105cfbcf8>"
      ]
     },
     "execution_count": 31,
     "metadata": {},
     "output_type": "execute_result"
    }
   ],
   "source": [
    "p.print_stats(10)"
   ]
  },
  {
   "cell_type": "markdown",
   "metadata": {},
   "source": [
    "IPython also has a magic function to help us here, as well:"
   ]
  },
  {
   "cell_type": "code",
   "execution_count": 35,
   "metadata": {
    "collapsed": false
   },
   "outputs": [
    {
     "name": "stdout",
     "output_type": "stream",
     "text": [
      " "
     ]
    }
   ],
   "source": [
    "prun re.compile('foo|bar')"
   ]
  },
  {
   "cell_type": "markdown",
   "metadata": {},
   "source": [
    "# Instrumenting high-performance code\n",
    "\n",
    "There are times when we want to profile, but we don't want to incur the performance penalty. For instance, we might want to see the profile of a running production system, without impacting its performance in a major way.\n",
    "\n",
    "For that, we can profile a _sample_ of the calls to a function."
   ]
  },
  {
   "cell_type": "code",
   "execution_count": 36,
   "metadata": {
    "collapsed": true
   },
   "outputs": [],
   "source": [
    "import random\n",
    "import functools\n",
    "\n",
    "def instrument(profiler, probability=0.10):\n",
    "    '''Profile some of the calls to the decorated function.\n",
    "    \n",
    "    The default probability of profiling a call is 10%.\n",
    "    '''\n",
    "    def decorator(func):\n",
    "        @functools.wraps(func)\n",
    "        def wrapper(*args, **kwargs):\n",
    "            if random.random() < probability:\n",
    "                try:\n",
    "                    profiler.enable()\n",
    "                    return func(*args, **kwargs)\n",
    "                finally:\n",
    "                    profiler.disable()\n",
    "            else:\n",
    "                return func(*args, **kwargs)\n",
    "        return wrapper\n",
    "    return decorator"
   ]
  },
  {
   "cell_type": "code",
   "execution_count": 37,
   "metadata": {
    "collapsed": true
   },
   "outputs": [],
   "source": [
    "import cProfile\n",
    "prof = cProfile.Profile()"
   ]
  },
  {
   "cell_type": "code",
   "execution_count": 38,
   "metadata": {
    "collapsed": true
   },
   "outputs": [],
   "source": [
    "@instrument(prof, 0.25)\n",
    "def build_join(strings):\n",
    "    return ''.join(strings)"
   ]
  },
  {
   "cell_type": "code",
   "execution_count": 39,
   "metadata": {
    "collapsed": true
   },
   "outputs": [],
   "source": [
    "for x in xrange(10000):\n",
    "    build_join(strings)"
   ]
  },
  {
   "cell_type": "code",
   "execution_count": 40,
   "metadata": {
    "collapsed": false
   },
   "outputs": [
    {
     "name": "stdout",
     "output_type": "stream",
     "text": [
      "         7509 function calls in 0.024 seconds\n",
      "\n",
      "   Ordered by: standard name\n",
      "\n",
      "   ncalls  tottime  percall  cumtime  percall filename:lineno(function)\n",
      "     2503    0.001    0.000    0.024    0.000 <ipython-input-38-f3bd122e11df>:1(build_join)\n",
      "     2503    0.000    0.000    0.000    0.000 {method 'disable' of '_lsprof.Profiler' objects}\n",
      "     2503    0.023    0.000    0.023    0.000 {method 'join' of 'str' objects}\n",
      "\n",
      "\n"
     ]
    }
   ],
   "source": [
    "prof.print_stats()"
   ]
  },
  {
   "cell_type": "markdown",
   "metadata": {},
   "source": [
    "# Lab\n",
    "\n",
    "Using timeit, compare the performance of searching text using a compiled versus an uncompiled regular expression:"
   ]
  },
  {
   "cell_type": "code",
   "execution_count": 41,
   "metadata": {
    "collapsed": true
   },
   "outputs": [],
   "source": [
    "text = '''The quick brown fox jumps over the lazy dog'''"
   ]
  },
  {
   "cell_type": "code",
   "execution_count": 42,
   "metadata": {
    "collapsed": true
   },
   "outputs": [],
   "source": [
    "import re\n",
    "pattern = 'fox'\n",
    "re_fox = re.compile(pattern)"
   ]
  },
  {
   "cell_type": "markdown",
   "metadata": {},
   "source": [
    "Use cProfile and pstats to profile a function that uses an uncompiled `re.search` to search the text"
   ]
  },
  {
   "cell_type": "markdown",
   "metadata": {},
   "source": [
    "Instrument the function with the above decorator, and use %timeit to compare the profiling overhead between profiling 1% of the time and 100% of the time"
   ]
  }
 ],
 "metadata": {
  "kernelspec": {
   "display_name": "Python 2",
   "language": "python",
   "name": "python2"
  },
  "language_info": {
   "codemirror_mode": {
    "name": "ipython",
    "version": 2
   },
   "file_extension": ".py",
   "mimetype": "text/x-python",
   "name": "python",
   "nbconvert_exporter": "python",
   "pygments_lexer": "ipython2",
   "version": "2.7.11"
  }
 },
 "nbformat": 4,
 "nbformat_minor": 0
}
