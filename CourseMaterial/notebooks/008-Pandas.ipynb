{
 "cells": [
  {
   "cell_type": "markdown",
   "metadata": {},
   "source": [
    "# Convenient data manipulation using Pandas\n",
    "\n",
    "Although NumPy and SciPy provide useful functionality for manipulating numerical data, the semantic meaning of the data can be easily lost. Pandas provides a few versatile data structures and functionality to keep things together."
   ]
  },
  {
   "cell_type": "code",
   "execution_count": 1,
   "metadata": {
    "collapsed": true
   },
   "outputs": [],
   "source": [
    "%matplotlib inline\n",
    "import numpy as np\n",
    "import matplotlib as mpl\n",
    "import matplotlib.pyplot as plt\n",
    "import pandas as pd"
   ]
  },
  {
   "cell_type": "markdown",
   "metadata": {},
   "source": [
    "## The DataFrame"
   ]
  },
  {
   "cell_type": "code",
   "execution_count": 2,
   "metadata": {
    "collapsed": false
   },
   "outputs": [
    {
     "data": {
      "text/plain": [
       "pandas.core.frame.DataFrame"
      ]
     },
     "execution_count": 2,
     "metadata": {},
     "output_type": "execute_result"
    }
   ],
   "source": [
    "df = pd.read_csv('http://ichart.finance.yahoo.com/table.csv?d=6&e=1&f=2009&g=d&a=7&b=19&c=2004&ignore=.csv&s=IBM')\n",
    "type(df)"
   ]
  },
  {
   "cell_type": "code",
   "execution_count": 4,
   "metadata": {
    "collapsed": false
   },
   "outputs": [
    {
     "data": {
      "text/html": [
       "<div>\n",
       "<table border=\"1\" class=\"dataframe\">\n",
       "  <thead>\n",
       "    <tr style=\"text-align: right;\">\n",
       "      <th></th>\n",
       "      <th>Date</th>\n",
       "      <th>Open</th>\n",
       "      <th>High</th>\n",
       "      <th>Low</th>\n",
       "      <th>Close</th>\n",
       "      <th>Volume</th>\n",
       "      <th>Adj Close</th>\n",
       "    </tr>\n",
       "  </thead>\n",
       "  <tbody>\n",
       "    <tr>\n",
       "      <th>0</th>\n",
       "      <td>2009-07-01</td>\n",
       "      <td>105.000000</td>\n",
       "      <td>106.269997</td>\n",
       "      <td>104.730003</td>\n",
       "      <td>104.839996</td>\n",
       "      <td>5537300</td>\n",
       "      <td>90.502904</td>\n",
       "    </tr>\n",
       "    <tr>\n",
       "      <th>1</th>\n",
       "      <td>2009-06-30</td>\n",
       "      <td>105.690002</td>\n",
       "      <td>106.029999</td>\n",
       "      <td>103.809998</td>\n",
       "      <td>104.419998</td>\n",
       "      <td>7512600</td>\n",
       "      <td>90.140341</td>\n",
       "    </tr>\n",
       "    <tr>\n",
       "      <th>2</th>\n",
       "      <td>2009-06-29</td>\n",
       "      <td>105.989998</td>\n",
       "      <td>106.180000</td>\n",
       "      <td>105.160004</td>\n",
       "      <td>105.830002</td>\n",
       "      <td>4681800</td>\n",
       "      <td>91.357524</td>\n",
       "    </tr>\n",
       "    <tr>\n",
       "      <th>3</th>\n",
       "      <td>2009-06-26</td>\n",
       "      <td>106.500000</td>\n",
       "      <td>106.500000</td>\n",
       "      <td>105.050003</td>\n",
       "      <td>105.680000</td>\n",
       "      <td>5127900</td>\n",
       "      <td>91.228035</td>\n",
       "    </tr>\n",
       "  </tbody>\n",
       "</table>\n",
       "</div>"
      ],
      "text/plain": [
       "         Date        Open        High         Low       Close   Volume  \\\n",
       "0  2009-07-01  105.000000  106.269997  104.730003  104.839996  5537300   \n",
       "1  2009-06-30  105.690002  106.029999  103.809998  104.419998  7512600   \n",
       "2  2009-06-29  105.989998  106.180000  105.160004  105.830002  4681800   \n",
       "3  2009-06-26  106.500000  106.500000  105.050003  105.680000  5127900   \n",
       "\n",
       "   Adj Close  \n",
       "0  90.502904  \n",
       "1  90.140341  \n",
       "2  91.357524  \n",
       "3  91.228035  "
      ]
     },
     "execution_count": 4,
     "metadata": {},
     "output_type": "execute_result"
    }
   ],
   "source": [
    "df[:4]"
   ]
  },
  {
   "cell_type": "code",
   "execution_count": 5,
   "metadata": {
    "collapsed": false
   },
   "outputs": [
    {
     "data": {
      "text/html": [
       "<div>\n",
       "<table border=\"1\" class=\"dataframe\">\n",
       "  <thead>\n",
       "    <tr style=\"text-align: right;\">\n",
       "      <th></th>\n",
       "      <th>Date</th>\n",
       "      <th>Open</th>\n",
       "      <th>High</th>\n",
       "      <th>Low</th>\n",
       "      <th>Close</th>\n",
       "      <th>Volume</th>\n",
       "      <th>Adj Close</th>\n",
       "    </tr>\n",
       "  </thead>\n",
       "  <tbody>\n",
       "    <tr>\n",
       "      <th>0</th>\n",
       "      <td>2009-07-01</td>\n",
       "      <td>105.000000</td>\n",
       "      <td>106.269997</td>\n",
       "      <td>104.730003</td>\n",
       "      <td>104.839996</td>\n",
       "      <td>5537300</td>\n",
       "      <td>90.502904</td>\n",
       "    </tr>\n",
       "    <tr>\n",
       "      <th>1</th>\n",
       "      <td>2009-06-30</td>\n",
       "      <td>105.690002</td>\n",
       "      <td>106.029999</td>\n",
       "      <td>103.809998</td>\n",
       "      <td>104.419998</td>\n",
       "      <td>7512600</td>\n",
       "      <td>90.140341</td>\n",
       "    </tr>\n",
       "    <tr>\n",
       "      <th>2</th>\n",
       "      <td>2009-06-29</td>\n",
       "      <td>105.989998</td>\n",
       "      <td>106.180000</td>\n",
       "      <td>105.160004</td>\n",
       "      <td>105.830002</td>\n",
       "      <td>4681800</td>\n",
       "      <td>91.357524</td>\n",
       "    </tr>\n",
       "    <tr>\n",
       "      <th>3</th>\n",
       "      <td>2009-06-26</td>\n",
       "      <td>106.500000</td>\n",
       "      <td>106.500000</td>\n",
       "      <td>105.050003</td>\n",
       "      <td>105.680000</td>\n",
       "      <td>5127900</td>\n",
       "      <td>91.228035</td>\n",
       "    </tr>\n",
       "    <tr>\n",
       "      <th>4</th>\n",
       "      <td>2009-06-25</td>\n",
       "      <td>103.699997</td>\n",
       "      <td>106.790001</td>\n",
       "      <td>103.510002</td>\n",
       "      <td>106.059998</td>\n",
       "      <td>6900600</td>\n",
       "      <td>91.556067</td>\n",
       "    </tr>\n",
       "  </tbody>\n",
       "</table>\n",
       "</div>"
      ],
      "text/plain": [
       "         Date        Open        High         Low       Close   Volume  \\\n",
       "0  2009-07-01  105.000000  106.269997  104.730003  104.839996  5537300   \n",
       "1  2009-06-30  105.690002  106.029999  103.809998  104.419998  7512600   \n",
       "2  2009-06-29  105.989998  106.180000  105.160004  105.830002  4681800   \n",
       "3  2009-06-26  106.500000  106.500000  105.050003  105.680000  5127900   \n",
       "4  2009-06-25  103.699997  106.790001  103.510002  106.059998  6900600   \n",
       "\n",
       "   Adj Close  \n",
       "0  90.502904  \n",
       "1  90.140341  \n",
       "2  91.357524  \n",
       "3  91.228035  \n",
       "4  91.556067  "
      ]
     },
     "execution_count": 5,
     "metadata": {},
     "output_type": "execute_result"
    }
   ],
   "source": [
    "df.head()"
   ]
  },
  {
   "cell_type": "code",
   "execution_count": 6,
   "metadata": {
    "collapsed": true
   },
   "outputs": [],
   "source": [
    "df = pd.read_csv(\n",
    "    'http://ichart.finance.yahoo.com/table.csv?d=6&e=1&f=2009&g=d&a=7&b=19&c=2004&ignore=.csv&s=IBM',\n",
    "    parse_dates='Date', index_col='Date')\n"
   ]
  },
  {
   "cell_type": "code",
   "execution_count": 7,
   "metadata": {
    "collapsed": false
   },
   "outputs": [
    {
     "data": {
      "text/html": [
       "<div>\n",
       "<table border=\"1\" class=\"dataframe\">\n",
       "  <thead>\n",
       "    <tr style=\"text-align: right;\">\n",
       "      <th></th>\n",
       "      <th>Open</th>\n",
       "      <th>High</th>\n",
       "      <th>Low</th>\n",
       "      <th>Close</th>\n",
       "      <th>Volume</th>\n",
       "      <th>Adj Close</th>\n",
       "    </tr>\n",
       "    <tr>\n",
       "      <th>Date</th>\n",
       "      <th></th>\n",
       "      <th></th>\n",
       "      <th></th>\n",
       "      <th></th>\n",
       "      <th></th>\n",
       "      <th></th>\n",
       "    </tr>\n",
       "  </thead>\n",
       "  <tbody>\n",
       "    <tr>\n",
       "      <th>2009-07-01</th>\n",
       "      <td>105.000000</td>\n",
       "      <td>106.269997</td>\n",
       "      <td>104.730003</td>\n",
       "      <td>104.839996</td>\n",
       "      <td>5537300</td>\n",
       "      <td>90.502904</td>\n",
       "    </tr>\n",
       "    <tr>\n",
       "      <th>2009-06-30</th>\n",
       "      <td>105.690002</td>\n",
       "      <td>106.029999</td>\n",
       "      <td>103.809998</td>\n",
       "      <td>104.419998</td>\n",
       "      <td>7512600</td>\n",
       "      <td>90.140341</td>\n",
       "    </tr>\n",
       "    <tr>\n",
       "      <th>2009-06-29</th>\n",
       "      <td>105.989998</td>\n",
       "      <td>106.180000</td>\n",
       "      <td>105.160004</td>\n",
       "      <td>105.830002</td>\n",
       "      <td>4681800</td>\n",
       "      <td>91.357524</td>\n",
       "    </tr>\n",
       "    <tr>\n",
       "      <th>2009-06-26</th>\n",
       "      <td>106.500000</td>\n",
       "      <td>106.500000</td>\n",
       "      <td>105.050003</td>\n",
       "      <td>105.680000</td>\n",
       "      <td>5127900</td>\n",
       "      <td>91.228035</td>\n",
       "    </tr>\n",
       "  </tbody>\n",
       "</table>\n",
       "</div>"
      ],
      "text/plain": [
       "                  Open        High         Low       Close   Volume  Adj Close\n",
       "Date                                                                          \n",
       "2009-07-01  105.000000  106.269997  104.730003  104.839996  5537300  90.502904\n",
       "2009-06-30  105.690002  106.029999  103.809998  104.419998  7512600  90.140341\n",
       "2009-06-29  105.989998  106.180000  105.160004  105.830002  4681800  91.357524\n",
       "2009-06-26  106.500000  106.500000  105.050003  105.680000  5127900  91.228035"
      ]
     },
     "execution_count": 7,
     "metadata": {},
     "output_type": "execute_result"
    }
   ],
   "source": [
    "df[:4]"
   ]
  },
  {
   "cell_type": "code",
   "execution_count": 8,
   "metadata": {
    "collapsed": false
   },
   "outputs": [
    {
     "data": {
      "text/plain": [
       "pandas.core.series.Series"
      ]
     },
     "execution_count": 8,
     "metadata": {},
     "output_type": "execute_result"
    }
   ],
   "source": [
    "type(df['Open'])"
   ]
  },
  {
   "cell_type": "code",
   "execution_count": 9,
   "metadata": {
    "collapsed": false
   },
   "outputs": [
    {
     "data": {
      "text/plain": [
       "pandas.core.frame.DataFrame"
      ]
     },
     "execution_count": 9,
     "metadata": {},
     "output_type": "execute_result"
    }
   ],
   "source": [
    "type(df)"
   ]
  },
  {
   "cell_type": "code",
   "execution_count": 10,
   "metadata": {
    "collapsed": false
   },
   "outputs": [
    {
     "data": {
      "text/plain": [
       "<matplotlib.axes._subplots.AxesSubplot at 0x1045d5e10>"
      ]
     },
     "execution_count": 10,
     "metadata": {},
     "output_type": "execute_result"
    },
    {
     "data": {
      "image/png": "[encoded data removed]",
      "text/plain": [
       "<matplotlib.figure.Figure at 0x104563390>"
      ]
     },
     "metadata": {},
     "output_type": "display_data"
    }
   ],
   "source": [
    "df['Close'].plot()"
   ]
  },
  {
   "cell_type": "code",
   "execution_count": 11,
   "metadata": {
    "collapsed": false
   },
   "outputs": [
    {
     "data": {
      "text/html": [
       "<div>\n",
       "<table border=\"1\" class=\"dataframe\">\n",
       "  <thead>\n",
       "    <tr style=\"text-align: right;\">\n",
       "      <th></th>\n",
       "      <th>Open</th>\n",
       "      <th>High</th>\n",
       "      <th>Low</th>\n",
       "      <th>Close</th>\n",
       "      <th>Volume</th>\n",
       "      <th>Adj Close</th>\n",
       "    </tr>\n",
       "    <tr>\n",
       "      <th>Date</th>\n",
       "      <th></th>\n",
       "      <th></th>\n",
       "      <th></th>\n",
       "      <th></th>\n",
       "      <th></th>\n",
       "      <th></th>\n",
       "    </tr>\n",
       "  </thead>\n",
       "  <tbody>\n",
       "    <tr>\n",
       "      <th>2009-07-01</th>\n",
       "      <td>105.000000</td>\n",
       "      <td>106.269997</td>\n",
       "      <td>104.730003</td>\n",
       "      <td>104.839996</td>\n",
       "      <td>5537300</td>\n",
       "      <td>90.502904</td>\n",
       "    </tr>\n",
       "    <tr>\n",
       "      <th>2009-06-30</th>\n",
       "      <td>105.690002</td>\n",
       "      <td>106.029999</td>\n",
       "      <td>103.809998</td>\n",
       "      <td>104.419998</td>\n",
       "      <td>7512600</td>\n",
       "      <td>90.140341</td>\n",
       "    </tr>\n",
       "    <tr>\n",
       "      <th>2009-06-29</th>\n",
       "      <td>105.989998</td>\n",
       "      <td>106.180000</td>\n",
       "      <td>105.160004</td>\n",
       "      <td>105.830002</td>\n",
       "      <td>4681800</td>\n",
       "      <td>91.357524</td>\n",
       "    </tr>\n",
       "    <tr>\n",
       "      <th>2009-06-26</th>\n",
       "      <td>106.500000</td>\n",
       "      <td>106.500000</td>\n",
       "      <td>105.050003</td>\n",
       "      <td>105.680000</td>\n",
       "      <td>5127900</td>\n",
       "      <td>91.228035</td>\n",
       "    </tr>\n",
       "    <tr>\n",
       "      <th>2009-06-25</th>\n",
       "      <td>103.699997</td>\n",
       "      <td>106.790001</td>\n",
       "      <td>103.510002</td>\n",
       "      <td>106.059998</td>\n",
       "      <td>6900600</td>\n",
       "      <td>91.556067</td>\n",
       "    </tr>\n",
       "  </tbody>\n",
       "</table>\n",
       "</div>"
      ],
      "text/plain": [
       "                  Open        High         Low       Close   Volume  Adj Close\n",
       "Date                                                                          \n",
       "2009-07-01  105.000000  106.269997  104.730003  104.839996  5537300  90.502904\n",
       "2009-06-30  105.690002  106.029999  103.809998  104.419998  7512600  90.140341\n",
       "2009-06-29  105.989998  106.180000  105.160004  105.830002  4681800  91.357524\n",
       "2009-06-26  106.500000  106.500000  105.050003  105.680000  5127900  91.228035\n",
       "2009-06-25  103.699997  106.790001  103.510002  106.059998  6900600  91.556067"
      ]
     },
     "execution_count": 11,
     "metadata": {},
     "output_type": "execute_result"
    }
   ],
   "source": [
    "df.head()"
   ]
  },
  {
   "cell_type": "code",
   "execution_count": 12,
   "metadata": {
    "collapsed": false
   },
   "outputs": [
    {
     "data": {
      "image/png": "[encoded data removed]",
      "text/plain": [
       "<matplotlib.figure.Figure at 0x104f469d0>"
      ]
     },
     "metadata": {},
     "output_type": "display_data"
    }
   ],
   "source": [
    "from matplotlib.finance import candlestick_ohlc\n",
    "from matplotlib.dates import DateFormatter, WeekdayLocator,\\\n",
    "    DayLocator, MONDAY\n",
    "    \n",
    "def candlestick_plot(df):\n",
    "    df_lower_cols = df.copy()\n",
    "    df_lower_cols.columns = [colname.lower() for colname in df_lower_cols.columns]\n",
    "    to_plot = df_lower_cols[['open', 'high', 'low', 'close']]\n",
    "    seconds_since_epoch = to_plot.index.astype(np.int64) // 1e9\n",
    "    to_plot.insert(0, 'Date', 1 + seconds_since_epoch / (24 * 60 * 60))\n",
    "\n",
    "    fig, ax = plt.subplots()\n",
    "\n",
    "    mondays = WeekdayLocator(MONDAY)        # major ticks on the mondays\n",
    "    alldays = DayLocator()              # minor ticks on the days\n",
    "    weekFormatter = DateFormatter('%b %d')  # e.g., Jan 12\n",
    "    dayFormatter = DateFormatter('%d')      # e.g., 12\n",
    "\n",
    "    ax.xaxis.set_major_locator(mondays)\n",
    "    ax.xaxis.set_minor_locator(alldays)\n",
    "    ax.xaxis.set_major_formatter(weekFormatter)\n",
    "\n",
    "    candlestick_ohlc(ax, to_plot.values, width=0.6)\n",
    "\n",
    "    ax.xaxis_date()\n",
    "    ax.autoscale_view()\n",
    "    plt.setp(plt.gca().get_xticklabels(), rotation=45, horizontalalignment='right')\n",
    "\n",
    "    plt.show()\n",
    "    \n",
    "candlestick_plot(df[-20:])\n"
   ]
  },
  {
   "cell_type": "markdown",
   "metadata": {},
   "source": [
    "But suppose you don't have open/high/low/close data. Maybe you just have a list of trades:"
   ]
  },
  {
   "cell_type": "code",
   "execution_count": 13,
   "metadata": {
    "collapsed": false
   },
   "outputs": [
    {
     "data": {
      "text/plain": [
       "<matplotlib.axes._subplots.AxesSubplot at 0x104e27810>"
      ]
     },
     "execution_count": 13,
     "metadata": {},
     "output_type": "execute_result"
    },
    {
     "data": {
      "image/png": "[encoded data removed]",
      "text/plain": [
       "<matplotlib.figure.Figure at 0x104f7bfd0>"
      ]
     },
     "metadata": {},
     "output_type": "display_data"
    }
   ],
   "source": [
    "samples = 14 * 24 * 60 * 60      # per-second data\n",
    "deltas = pd.Series(\n",
    "    np.r_[100, np.random.randn(samples-1)], \n",
    "    index=pd.date_range('1/1/2000', periods=samples, freq='S'))\n",
    "trades = deltas.cumsum()\n",
    "trades[::3600].plot()"
   ]
  },
  {
   "cell_type": "code",
   "execution_count": 14,
   "metadata": {
    "collapsed": false
   },
   "outputs": [
    {
     "data": {
      "text/html": [
       "<div>\n",
       "<table border=\"1\" class=\"dataframe\">\n",
       "  <thead>\n",
       "    <tr style=\"text-align: right;\">\n",
       "      <th></th>\n",
       "      <th>Trades</th>\n",
       "    </tr>\n",
       "  </thead>\n",
       "  <tbody>\n",
       "    <tr>\n",
       "      <th>2000-01-01 00:00:00</th>\n",
       "      <td>100.000000</td>\n",
       "    </tr>\n",
       "    <tr>\n",
       "      <th>2000-01-01 00:00:01</th>\n",
       "      <td>99.521299</td>\n",
       "    </tr>\n",
       "    <tr>\n",
       "      <th>2000-01-01 00:00:02</th>\n",
       "      <td>98.622442</td>\n",
       "    </tr>\n",
       "    <tr>\n",
       "      <th>2000-01-01 00:00:03</th>\n",
       "      <td>99.580004</td>\n",
       "    </tr>\n",
       "    <tr>\n",
       "      <th>2000-01-01 00:00:04</th>\n",
       "      <td>99.284584</td>\n",
       "    </tr>\n",
       "  </tbody>\n",
       "</table>\n",
       "</div>"
      ],
      "text/plain": [
       "                         Trades\n",
       "2000-01-01 00:00:00  100.000000\n",
       "2000-01-01 00:00:01   99.521299\n",
       "2000-01-01 00:00:02   98.622442\n",
       "2000-01-01 00:00:03   99.580004\n",
       "2000-01-01 00:00:04   99.284584"
      ]
     },
     "execution_count": 14,
     "metadata": {},
     "output_type": "execute_result"
    }
   ],
   "source": [
    "df2 = pd.DataFrame({'Trades': trades})\n",
    "df2[:5]"
   ]
  },
  {
   "cell_type": "code",
   "execution_count": 15,
   "metadata": {
    "collapsed": false
   },
   "outputs": [
    {
     "data": {
      "text/html": [
       "<div>\n",
       "<table border=\"1\" class=\"dataframe\">\n",
       "  <thead>\n",
       "    <tr style=\"text-align: right;\">\n",
       "      <th></th>\n",
       "      <th>open</th>\n",
       "      <th>high</th>\n",
       "      <th>low</th>\n",
       "      <th>close</th>\n",
       "    </tr>\n",
       "  </thead>\n",
       "  <tbody>\n",
       "    <tr>\n",
       "      <th>2000-01-01</th>\n",
       "      <td>100.000000</td>\n",
       "      <td>212.610569</td>\n",
       "      <td>-108.187426</td>\n",
       "      <td>176.317704</td>\n",
       "    </tr>\n",
       "    <tr>\n",
       "      <th>2000-01-02</th>\n",
       "      <td>176.889656</td>\n",
       "      <td>228.971398</td>\n",
       "      <td>-288.148477</td>\n",
       "      <td>98.646859</td>\n",
       "    </tr>\n",
       "    <tr>\n",
       "      <th>2000-01-03</th>\n",
       "      <td>97.821001</td>\n",
       "      <td>377.864660</td>\n",
       "      <td>-4.745025</td>\n",
       "      <td>101.510310</td>\n",
       "    </tr>\n",
       "    <tr>\n",
       "      <th>2000-01-04</th>\n",
       "      <td>101.389324</td>\n",
       "      <td>340.237513</td>\n",
       "      <td>-153.863134</td>\n",
       "      <td>-120.798761</td>\n",
       "    </tr>\n",
       "    <tr>\n",
       "      <th>2000-01-05</th>\n",
       "      <td>-122.611008</td>\n",
       "      <td>145.020489</td>\n",
       "      <td>-256.991789</td>\n",
       "      <td>-3.603175</td>\n",
       "    </tr>\n",
       "  </tbody>\n",
       "</table>\n",
       "</div>"
      ],
      "text/plain": [
       "                  open        high         low       close\n",
       "2000-01-01  100.000000  212.610569 -108.187426  176.317704\n",
       "2000-01-02  176.889656  228.971398 -288.148477   98.646859\n",
       "2000-01-03   97.821001  377.864660   -4.745025  101.510310\n",
       "2000-01-04  101.389324  340.237513 -153.863134 -120.798761\n",
       "2000-01-05 -122.611008  145.020489 -256.991789   -3.603175"
      ]
     },
     "execution_count": 15,
     "metadata": {},
     "output_type": "execute_result"
    }
   ],
   "source": [
    "df3 = df2['Trades'].resample('D').ohlc()\n",
    "df3.head()"
   ]
  },
  {
   "cell_type": "code",
   "execution_count": 16,
   "metadata": {
    "collapsed": false,
    "scrolled": true
   },
   "outputs": [
    {
     "data": {
      "image/png": "[encoded data removed]",
      "text/plain": [
       "<matplotlib.figure.Figure at 0x104eb2e10>"
      ]
     },
     "metadata": {},
     "output_type": "display_data"
    }
   ],
   "source": [
    "candlestick_plot(df3)"
   ]
  },
  {
   "cell_type": "markdown",
   "metadata": {},
   "source": [
    "## Pivoting and hierarchical indexes\n",
    "\n",
    "Pandas also provides the ability to look at rows and columns in a hierarchical way:"
   ]
  },
  {
   "cell_type": "code",
   "execution_count": 17,
   "metadata": {
    "collapsed": false
   },
   "outputs": [],
   "source": [
    "dates = pd.date_range('1/1/2000', periods=365, freq='W')\n",
    "regions = np.array(list('NESW'))\n",
    "stores_per_region = np.arange(4)\n",
    "total_stores = dates.size * regions.size * stores_per_region.size\n",
    "num_sales_per_store = np.random.poisson(4, total_stores)\n",
    "vol_sales_per_store = np.random.normal(20, 2.0, total_stores) * num_sales_per_store"
   ]
  },
  {
   "cell_type": "code",
   "execution_count": 20,
   "metadata": {
    "collapsed": false
   },
   "outputs": [],
   "source": [
    "ind = pd.MultiIndex.from_product([dates, regions, stores_per_region], names=['date', 'region', 'store'])"
   ]
  },
  {
   "cell_type": "code",
   "execution_count": 21,
   "metadata": {
    "collapsed": false
   },
   "outputs": [
    {
     "data": {
      "text/html": [
       "<div>\n",
       "<table border=\"1\" class=\"dataframe\">\n",
       "  <thead>\n",
       "    <tr style=\"text-align: right;\">\n",
       "      <th></th>\n",
       "      <th></th>\n",
       "      <th></th>\n",
       "      <th>Orders</th>\n",
       "      <th>Volume</th>\n",
       "    </tr>\n",
       "    <tr>\n",
       "      <th>date</th>\n",
       "      <th>region</th>\n",
       "      <th>store</th>\n",
       "      <th></th>\n",
       "      <th></th>\n",
       "    </tr>\n",
       "  </thead>\n",
       "  <tbody>\n",
       "    <tr>\n",
       "      <th rowspan=\"6\" valign=\"top\">2000-01-02</th>\n",
       "      <th rowspan=\"4\" valign=\"top\">N</th>\n",
       "      <th>0</th>\n",
       "      <td>4</td>\n",
       "      <td>87.768912</td>\n",
       "    </tr>\n",
       "    <tr>\n",
       "      <th>1</th>\n",
       "      <td>2</td>\n",
       "      <td>41.238936</td>\n",
       "    </tr>\n",
       "    <tr>\n",
       "      <th>2</th>\n",
       "      <td>5</td>\n",
       "      <td>105.195520</td>\n",
       "    </tr>\n",
       "    <tr>\n",
       "      <th>3</th>\n",
       "      <td>4</td>\n",
       "      <td>80.652166</td>\n",
       "    </tr>\n",
       "    <tr>\n",
       "      <th rowspan=\"2\" valign=\"top\">E</th>\n",
       "      <th>0</th>\n",
       "      <td>6</td>\n",
       "      <td>121.016801</td>\n",
       "    </tr>\n",
       "    <tr>\n",
       "      <th>1</th>\n",
       "      <td>1</td>\n",
       "      <td>18.703388</td>\n",
       "    </tr>\n",
       "  </tbody>\n",
       "</table>\n",
       "</div>"
      ],
      "text/plain": [
       "                         Orders      Volume\n",
       "date       region store                    \n",
       "2000-01-02 N      0           4   87.768912\n",
       "                  1           2   41.238936\n",
       "                  2           5  105.195520\n",
       "                  3           4   80.652166\n",
       "           E      0           6  121.016801\n",
       "                  1           1   18.703388"
      ]
     },
     "execution_count": 21,
     "metadata": {},
     "output_type": "execute_result"
    }
   ],
   "source": [
    "df = pd.DataFrame({'Volume': vol_sales_per_store, 'Orders': num_sales_per_store}, index=ind)\n",
    "df[:6]"
   ]
  },
  {
   "cell_type": "code",
   "execution_count": 22,
   "metadata": {
    "collapsed": false
   },
   "outputs": [
    {
     "data": {
      "text/html": [
       "<div>\n",
       "<table border=\"1\" class=\"dataframe\">\n",
       "  <thead>\n",
       "    <tr>\n",
       "      <th></th>\n",
       "      <th colspan=\"10\" halign=\"left\">Orders</th>\n",
       "      <th>...</th>\n",
       "      <th colspan=\"10\" halign=\"left\">Volume</th>\n",
       "    </tr>\n",
       "    <tr>\n",
       "      <th>region</th>\n",
       "      <th colspan=\"4\" halign=\"left\">N</th>\n",
       "      <th colspan=\"4\" halign=\"left\">E</th>\n",
       "      <th colspan=\"2\" halign=\"left\">S</th>\n",
       "      <th>...</th>\n",
       "      <th colspan=\"2\" halign=\"left\">E</th>\n",
       "      <th colspan=\"4\" halign=\"left\">S</th>\n",
       "      <th colspan=\"4\" halign=\"left\">W</th>\n",
       "    </tr>\n",
       "    <tr>\n",
       "      <th>store</th>\n",
       "      <th>0</th>\n",
       "      <th>1</th>\n",
       "      <th>2</th>\n",
       "      <th>3</th>\n",
       "      <th>0</th>\n",
       "      <th>1</th>\n",
       "      <th>2</th>\n",
       "      <th>3</th>\n",
       "      <th>0</th>\n",
       "      <th>1</th>\n",
       "      <th>...</th>\n",
       "      <th>2</th>\n",
       "      <th>3</th>\n",
       "      <th>0</th>\n",
       "      <th>1</th>\n",
       "      <th>2</th>\n",
       "      <th>3</th>\n",
       "      <th>0</th>\n",
       "      <th>1</th>\n",
       "      <th>2</th>\n",
       "      <th>3</th>\n",
       "    </tr>\n",
       "    <tr>\n",
       "      <th>date</th>\n",
       "      <th></th>\n",
       "      <th></th>\n",
       "      <th></th>\n",
       "      <th></th>\n",
       "      <th></th>\n",
       "      <th></th>\n",
       "      <th></th>\n",
       "      <th></th>\n",
       "      <th></th>\n",
       "      <th></th>\n",
       "      <th></th>\n",
       "      <th></th>\n",
       "      <th></th>\n",
       "      <th></th>\n",
       "      <th></th>\n",
       "      <th></th>\n",
       "      <th></th>\n",
       "      <th></th>\n",
       "      <th></th>\n",
       "      <th></th>\n",
       "      <th></th>\n",
       "    </tr>\n",
       "  </thead>\n",
       "  <tbody>\n",
       "    <tr>\n",
       "      <th>2000-01-02</th>\n",
       "      <td>4.0</td>\n",
       "      <td>2.0</td>\n",
       "      <td>5.0</td>\n",
       "      <td>4.0</td>\n",
       "      <td>6.0</td>\n",
       "      <td>1.0</td>\n",
       "      <td>3.0</td>\n",
       "      <td>4.0</td>\n",
       "      <td>5.0</td>\n",
       "      <td>5.0</td>\n",
       "      <td>...</td>\n",
       "      <td>39.507201</td>\n",
       "      <td>77.315081</td>\n",
       "      <td>107.557495</td>\n",
       "      <td>109.912264</td>\n",
       "      <td>55.345300</td>\n",
       "      <td>108.379036</td>\n",
       "      <td>91.374831</td>\n",
       "      <td>69.196067</td>\n",
       "      <td>103.990321</td>\n",
       "      <td>43.006224</td>\n",
       "    </tr>\n",
       "    <tr>\n",
       "      <th>2000-01-09</th>\n",
       "      <td>4.0</td>\n",
       "      <td>4.0</td>\n",
       "      <td>5.0</td>\n",
       "      <td>3.0</td>\n",
       "      <td>4.0</td>\n",
       "      <td>4.0</td>\n",
       "      <td>4.0</td>\n",
       "      <td>5.0</td>\n",
       "      <td>3.0</td>\n",
       "      <td>6.0</td>\n",
       "      <td>...</td>\n",
       "      <td>71.369364</td>\n",
       "      <td>104.231171</td>\n",
       "      <td>57.572160</td>\n",
       "      <td>122.956390</td>\n",
       "      <td>89.634939</td>\n",
       "      <td>149.696833</td>\n",
       "      <td>80.802868</td>\n",
       "      <td>120.601734</td>\n",
       "      <td>38.406391</td>\n",
       "      <td>138.340525</td>\n",
       "    </tr>\n",
       "    <tr>\n",
       "      <th>2000-01-16</th>\n",
       "      <td>1.0</td>\n",
       "      <td>6.0</td>\n",
       "      <td>6.0</td>\n",
       "      <td>4.0</td>\n",
       "      <td>3.0</td>\n",
       "      <td>4.0</td>\n",
       "      <td>6.0</td>\n",
       "      <td>4.0</td>\n",
       "      <td>7.0</td>\n",
       "      <td>3.0</td>\n",
       "      <td>...</td>\n",
       "      <td>131.523898</td>\n",
       "      <td>82.841584</td>\n",
       "      <td>125.680873</td>\n",
       "      <td>55.256393</td>\n",
       "      <td>38.043489</td>\n",
       "      <td>67.636135</td>\n",
       "      <td>15.631156</td>\n",
       "      <td>54.636342</td>\n",
       "      <td>93.553699</td>\n",
       "      <td>171.985398</td>\n",
       "    </tr>\n",
       "    <tr>\n",
       "      <th>2000-01-23</th>\n",
       "      <td>4.0</td>\n",
       "      <td>1.0</td>\n",
       "      <td>6.0</td>\n",
       "      <td>2.0</td>\n",
       "      <td>7.0</td>\n",
       "      <td>4.0</td>\n",
       "      <td>6.0</td>\n",
       "      <td>2.0</td>\n",
       "      <td>1.0</td>\n",
       "      <td>8.0</td>\n",
       "      <td>...</td>\n",
       "      <td>114.112074</td>\n",
       "      <td>40.575940</td>\n",
       "      <td>19.616010</td>\n",
       "      <td>141.758406</td>\n",
       "      <td>111.466330</td>\n",
       "      <td>37.007188</td>\n",
       "      <td>66.440465</td>\n",
       "      <td>112.442190</td>\n",
       "      <td>234.920307</td>\n",
       "      <td>117.609239</td>\n",
       "    </tr>\n",
       "    <tr>\n",
       "      <th>2000-01-30</th>\n",
       "      <td>9.0</td>\n",
       "      <td>4.0</td>\n",
       "      <td>2.0</td>\n",
       "      <td>8.0</td>\n",
       "      <td>2.0</td>\n",
       "      <td>4.0</td>\n",
       "      <td>3.0</td>\n",
       "      <td>3.0</td>\n",
       "      <td>5.0</td>\n",
       "      <td>2.0</td>\n",
       "      <td>...</td>\n",
       "      <td>65.883626</td>\n",
       "      <td>59.117936</td>\n",
       "      <td>99.802168</td>\n",
       "      <td>34.662137</td>\n",
       "      <td>78.148154</td>\n",
       "      <td>105.372839</td>\n",
       "      <td>133.567807</td>\n",
       "      <td>41.398561</td>\n",
       "      <td>135.589202</td>\n",
       "      <td>86.524048</td>\n",
       "    </tr>\n",
       "    <tr>\n",
       "      <th>2000-02-06</th>\n",
       "      <td>5.0</td>\n",
       "      <td>0.0</td>\n",
       "      <td>1.0</td>\n",
       "      <td>2.0</td>\n",
       "      <td>6.0</td>\n",
       "      <td>3.0</td>\n",
       "      <td>5.0</td>\n",
       "      <td>5.0</td>\n",
       "      <td>1.0</td>\n",
       "      <td>2.0</td>\n",
       "      <td>...</td>\n",
       "      <td>100.944103</td>\n",
       "      <td>95.202072</td>\n",
       "      <td>22.186300</td>\n",
       "      <td>40.301506</td>\n",
       "      <td>122.736789</td>\n",
       "      <td>17.608936</td>\n",
       "      <td>83.298753</td>\n",
       "      <td>77.027362</td>\n",
       "      <td>63.293676</td>\n",
       "      <td>138.735323</td>\n",
       "    </tr>\n",
       "  </tbody>\n",
       "</table>\n",
       "<p>6 rows × 32 columns</p>\n",
       "</div>"
      ],
      "text/plain": [
       "           Orders                                                  ...      \\\n",
       "region          N                   E                   S          ...       \n",
       "store           0    1    2    3    0    1    2    3    0    1     ...       \n",
       "date                                                               ...       \n",
       "2000-01-02    4.0  2.0  5.0  4.0  6.0  1.0  3.0  4.0  5.0  5.0     ...       \n",
       "2000-01-09    4.0  4.0  5.0  3.0  4.0  4.0  4.0  5.0  3.0  6.0     ...       \n",
       "2000-01-16    1.0  6.0  6.0  4.0  3.0  4.0  6.0  4.0  7.0  3.0     ...       \n",
       "2000-01-23    4.0  1.0  6.0  2.0  7.0  4.0  6.0  2.0  1.0  8.0     ...       \n",
       "2000-01-30    9.0  4.0  2.0  8.0  2.0  4.0  3.0  3.0  5.0  2.0     ...       \n",
       "2000-02-06    5.0  0.0  1.0  2.0  6.0  3.0  5.0  5.0  1.0  2.0     ...       \n",
       "\n",
       "                Volume                                                  \\\n",
       "region               E                       S                           \n",
       "store                2           3           0           1           2   \n",
       "date                                                                     \n",
       "2000-01-02   39.507201   77.315081  107.557495  109.912264   55.345300   \n",
       "2000-01-09   71.369364  104.231171   57.572160  122.956390   89.634939   \n",
       "2000-01-16  131.523898   82.841584  125.680873   55.256393   38.043489   \n",
       "2000-01-23  114.112074   40.575940   19.616010  141.758406  111.466330   \n",
       "2000-01-30   65.883626   59.117936   99.802168   34.662137   78.148154   \n",
       "2000-02-06  100.944103   95.202072   22.186300   40.301506  122.736789   \n",
       "\n",
       "                                                                        \n",
       "region                           W                                      \n",
       "store                3           0           1           2           3  \n",
       "date                                                                    \n",
       "2000-01-02  108.379036   91.374831   69.196067  103.990321   43.006224  \n",
       "2000-01-09  149.696833   80.802868  120.601734   38.406391  138.340525  \n",
       "2000-01-16   67.636135   15.631156   54.636342   93.553699  171.985398  \n",
       "2000-01-23   37.007188   66.440465  112.442190  234.920307  117.609239  \n",
       "2000-01-30  105.372839  133.567807   41.398561  135.589202   86.524048  \n",
       "2000-02-06   17.608936   83.298753   77.027362   63.293676  138.735323  \n",
       "\n",
       "[6 rows x 32 columns]"
      ]
     },
     "execution_count": 22,
     "metadata": {},
     "output_type": "execute_result"
    }
   ],
   "source": [
    "df2 = df.unstack(['region', 'store'])\n",
    "df2[:6]"
   ]
  },
  {
   "cell_type": "code",
   "execution_count": 23,
   "metadata": {
    "collapsed": false
   },
   "outputs": [
    {
     "data": {
      "text/plain": [
       "date\n",
       "2000-01-02    4.0\n",
       "2000-01-09    3.0\n",
       "2000-01-16    4.0\n",
       "2000-01-23    2.0\n",
       "2000-01-30    8.0\n",
       "2000-02-06    2.0\n",
       "Freq: W-SUN, Name: (Orders, N, 3), dtype: float64"
      ]
     },
     "execution_count": 23,
     "metadata": {},
     "output_type": "execute_result"
    }
   ],
   "source": [
    "df2['Orders', 'N', 3][:6]"
   ]
  },
  {
   "cell_type": "code",
   "execution_count": 24,
   "metadata": {
    "collapsed": false,
    "scrolled": true
   },
   "outputs": [
    {
     "data": {
      "text/html": [
       "<div>\n",
       "<table border=\"1\" class=\"dataframe\">\n",
       "  <thead>\n",
       "    <tr style=\"text-align: right;\">\n",
       "      <th></th>\n",
       "      <th>date</th>\n",
       "      <th>region</th>\n",
       "      <th>store</th>\n",
       "      <th>Orders</th>\n",
       "      <th>Volume</th>\n",
       "    </tr>\n",
       "  </thead>\n",
       "  <tbody>\n",
       "    <tr>\n",
       "      <th>0</th>\n",
       "      <td>2000-01-02</td>\n",
       "      <td>N</td>\n",
       "      <td>0</td>\n",
       "      <td>4</td>\n",
       "      <td>87.768912</td>\n",
       "    </tr>\n",
       "    <tr>\n",
       "      <th>1</th>\n",
       "      <td>2000-01-02</td>\n",
       "      <td>N</td>\n",
       "      <td>1</td>\n",
       "      <td>2</td>\n",
       "      <td>41.238936</td>\n",
       "    </tr>\n",
       "    <tr>\n",
       "      <th>2</th>\n",
       "      <td>2000-01-02</td>\n",
       "      <td>N</td>\n",
       "      <td>2</td>\n",
       "      <td>5</td>\n",
       "      <td>105.195520</td>\n",
       "    </tr>\n",
       "    <tr>\n",
       "      <th>3</th>\n",
       "      <td>2000-01-02</td>\n",
       "      <td>N</td>\n",
       "      <td>3</td>\n",
       "      <td>4</td>\n",
       "      <td>80.652166</td>\n",
       "    </tr>\n",
       "    <tr>\n",
       "      <th>4</th>\n",
       "      <td>2000-01-02</td>\n",
       "      <td>E</td>\n",
       "      <td>0</td>\n",
       "      <td>6</td>\n",
       "      <td>121.016801</td>\n",
       "    </tr>\n",
       "    <tr>\n",
       "      <th>5</th>\n",
       "      <td>2000-01-02</td>\n",
       "      <td>E</td>\n",
       "      <td>1</td>\n",
       "      <td>1</td>\n",
       "      <td>18.703388</td>\n",
       "    </tr>\n",
       "  </tbody>\n",
       "</table>\n",
       "</div>"
      ],
      "text/plain": [
       "        date region  store  Orders      Volume\n",
       "0 2000-01-02      N      0       4   87.768912\n",
       "1 2000-01-02      N      1       2   41.238936\n",
       "2 2000-01-02      N      2       5  105.195520\n",
       "3 2000-01-02      N      3       4   80.652166\n",
       "4 2000-01-02      E      0       6  121.016801\n",
       "5 2000-01-02      E      1       1   18.703388"
      ]
     },
     "execution_count": 24,
     "metadata": {},
     "output_type": "execute_result"
    }
   ],
   "source": [
    "df_flat = df.reset_index()\n",
    "df_flat[:6]"
   ]
  },
  {
   "cell_type": "code",
   "execution_count": 26,
   "metadata": {
    "collapsed": false,
    "scrolled": true
   },
   "outputs": [
    {
     "data": {
      "text/plain": [
       "0     True\n",
       "1     True\n",
       "2     True\n",
       "3     True\n",
       "4    False\n",
       "5    False\n",
       "6    False\n",
       "7    False\n",
       "8    False\n",
       "9    False\n",
       "Name: region, dtype: bool"
      ]
     },
     "execution_count": 26,
     "metadata": {},
     "output_type": "execute_result"
    }
   ],
   "source": [
    "(df_flat['region'] == 'N')[:10]"
   ]
  },
  {
   "cell_type": "code",
   "execution_count": 28,
   "metadata": {
    "collapsed": false
   },
   "outputs": [
    {
     "data": {
      "text/html": [
       "<div>\n",
       "<table border=\"1\" class=\"dataframe\">\n",
       "  <thead>\n",
       "    <tr style=\"text-align: right;\">\n",
       "      <th></th>\n",
       "      <th>date</th>\n",
       "      <th>region</th>\n",
       "      <th>store</th>\n",
       "      <th>Orders</th>\n",
       "      <th>Volume</th>\n",
       "    </tr>\n",
       "  </thead>\n",
       "  <tbody>\n",
       "    <tr>\n",
       "      <th>0</th>\n",
       "      <td>2000-01-02</td>\n",
       "      <td>N</td>\n",
       "      <td>0</td>\n",
       "      <td>4</td>\n",
       "      <td>87.768912</td>\n",
       "    </tr>\n",
       "    <tr>\n",
       "      <th>1</th>\n",
       "      <td>2000-01-02</td>\n",
       "      <td>N</td>\n",
       "      <td>1</td>\n",
       "      <td>2</td>\n",
       "      <td>41.238936</td>\n",
       "    </tr>\n",
       "    <tr>\n",
       "      <th>2</th>\n",
       "      <td>2000-01-02</td>\n",
       "      <td>N</td>\n",
       "      <td>2</td>\n",
       "      <td>5</td>\n",
       "      <td>105.195520</td>\n",
       "    </tr>\n",
       "    <tr>\n",
       "      <th>3</th>\n",
       "      <td>2000-01-02</td>\n",
       "      <td>N</td>\n",
       "      <td>3</td>\n",
       "      <td>4</td>\n",
       "      <td>80.652166</td>\n",
       "    </tr>\n",
       "    <tr>\n",
       "      <th>16</th>\n",
       "      <td>2000-01-09</td>\n",
       "      <td>N</td>\n",
       "      <td>0</td>\n",
       "      <td>4</td>\n",
       "      <td>88.456906</td>\n",
       "    </tr>\n",
       "  </tbody>\n",
       "</table>\n",
       "</div>"
      ],
      "text/plain": [
       "         date region  store  Orders      Volume\n",
       "0  2000-01-02      N      0       4   87.768912\n",
       "1  2000-01-02      N      1       2   41.238936\n",
       "2  2000-01-02      N      2       5  105.195520\n",
       "3  2000-01-02      N      3       4   80.652166\n",
       "16 2000-01-09      N      0       4   88.456906"
      ]
     },
     "execution_count": 28,
     "metadata": {},
     "output_type": "execute_result"
    }
   ],
   "source": [
    "df_flat[df_flat['region'] == 'N'].head()"
   ]
  },
  {
   "cell_type": "code",
   "execution_count": 29,
   "metadata": {
    "collapsed": false
   },
   "outputs": [
    {
     "data": {
      "text/html": [
       "<div>\n",
       "<table border=\"1\" class=\"dataframe\">\n",
       "  <thead>\n",
       "    <tr style=\"text-align: right;\">\n",
       "      <th></th>\n",
       "      <th>date</th>\n",
       "      <th>region</th>\n",
       "      <th>store</th>\n",
       "      <th>Orders</th>\n",
       "      <th>Volume</th>\n",
       "    </tr>\n",
       "  </thead>\n",
       "  <tbody>\n",
       "    <tr>\n",
       "      <th>0</th>\n",
       "      <td>2000-01-02</td>\n",
       "      <td>N</td>\n",
       "      <td>0</td>\n",
       "      <td>4</td>\n",
       "      <td>87.768912</td>\n",
       "    </tr>\n",
       "    <tr>\n",
       "      <th>16</th>\n",
       "      <td>2000-01-09</td>\n",
       "      <td>N</td>\n",
       "      <td>0</td>\n",
       "      <td>4</td>\n",
       "      <td>88.456906</td>\n",
       "    </tr>\n",
       "    <tr>\n",
       "      <th>32</th>\n",
       "      <td>2000-01-16</td>\n",
       "      <td>N</td>\n",
       "      <td>0</td>\n",
       "      <td>1</td>\n",
       "      <td>19.721603</td>\n",
       "    </tr>\n",
       "    <tr>\n",
       "      <th>48</th>\n",
       "      <td>2000-01-23</td>\n",
       "      <td>N</td>\n",
       "      <td>0</td>\n",
       "      <td>4</td>\n",
       "      <td>66.861079</td>\n",
       "    </tr>\n",
       "    <tr>\n",
       "      <th>64</th>\n",
       "      <td>2000-01-30</td>\n",
       "      <td>N</td>\n",
       "      <td>0</td>\n",
       "      <td>9</td>\n",
       "      <td>168.253887</td>\n",
       "    </tr>\n",
       "    <tr>\n",
       "      <th>80</th>\n",
       "      <td>2000-02-06</td>\n",
       "      <td>N</td>\n",
       "      <td>0</td>\n",
       "      <td>5</td>\n",
       "      <td>124.376055</td>\n",
       "    </tr>\n",
       "  </tbody>\n",
       "</table>\n",
       "</div>"
      ],
      "text/plain": [
       "         date region  store  Orders      Volume\n",
       "0  2000-01-02      N      0       4   87.768912\n",
       "16 2000-01-09      N      0       4   88.456906\n",
       "32 2000-01-16      N      0       1   19.721603\n",
       "48 2000-01-23      N      0       4   66.861079\n",
       "64 2000-01-30      N      0       9  168.253887\n",
       "80 2000-02-06      N      0       5  124.376055"
      ]
     },
     "execution_count": 29,
     "metadata": {},
     "output_type": "execute_result"
    }
   ],
   "source": [
    "df_store_n_0 = df_flat[(df_flat['region']=='N') & (df_flat['store'] == 0)]\n",
    "df_store_n_0[:6]"
   ]
  },
  {
   "cell_type": "code",
   "execution_count": 30,
   "metadata": {
    "collapsed": false
   },
   "outputs": [
    {
     "data": {
      "text/html": [
       "<div>\n",
       "<table border=\"1\" class=\"dataframe\">\n",
       "  <thead>\n",
       "    <tr style=\"text-align: right;\">\n",
       "      <th></th>\n",
       "      <th>date</th>\n",
       "      <th>region</th>\n",
       "      <th>store</th>\n",
       "      <th>Orders</th>\n",
       "      <th>Volume</th>\n",
       "    </tr>\n",
       "  </thead>\n",
       "  <tbody>\n",
       "    <tr>\n",
       "      <th>0</th>\n",
       "      <td>2000-01-02</td>\n",
       "      <td>N</td>\n",
       "      <td>0</td>\n",
       "      <td>4</td>\n",
       "      <td>87.768912</td>\n",
       "    </tr>\n",
       "    <tr>\n",
       "      <th>1</th>\n",
       "      <td>2000-01-02</td>\n",
       "      <td>N</td>\n",
       "      <td>1</td>\n",
       "      <td>2</td>\n",
       "      <td>41.238936</td>\n",
       "    </tr>\n",
       "    <tr>\n",
       "      <th>2</th>\n",
       "      <td>2000-01-02</td>\n",
       "      <td>N</td>\n",
       "      <td>2</td>\n",
       "      <td>5</td>\n",
       "      <td>105.195520</td>\n",
       "    </tr>\n",
       "    <tr>\n",
       "      <th>3</th>\n",
       "      <td>2000-01-02</td>\n",
       "      <td>N</td>\n",
       "      <td>3</td>\n",
       "      <td>4</td>\n",
       "      <td>80.652166</td>\n",
       "    </tr>\n",
       "    <tr>\n",
       "      <th>16</th>\n",
       "      <td>2000-01-09</td>\n",
       "      <td>N</td>\n",
       "      <td>0</td>\n",
       "      <td>4</td>\n",
       "      <td>88.456906</td>\n",
       "    </tr>\n",
       "    <tr>\n",
       "      <th>17</th>\n",
       "      <td>2000-01-09</td>\n",
       "      <td>N</td>\n",
       "      <td>1</td>\n",
       "      <td>4</td>\n",
       "      <td>74.845419</td>\n",
       "    </tr>\n",
       "  </tbody>\n",
       "</table>\n",
       "</div>"
      ],
      "text/plain": [
       "         date region  store  Orders      Volume\n",
       "0  2000-01-02      N      0       4   87.768912\n",
       "1  2000-01-02      N      1       2   41.238936\n",
       "2  2000-01-02      N      2       5  105.195520\n",
       "3  2000-01-02      N      3       4   80.652166\n",
       "16 2000-01-09      N      0       4   88.456906\n",
       "17 2000-01-09      N      1       4   74.845419"
      ]
     },
     "execution_count": 30,
     "metadata": {},
     "output_type": "execute_result"
    }
   ],
   "source": [
    "df_store_n = df_flat[df_flat['region']=='N']\n",
    "df_store_n[:6]"
   ]
  },
  {
   "cell_type": "markdown",
   "metadata": {},
   "source": [
    "### Pivot tables\n",
    "\n",
    "We can create a pivot table if we can identify a unique index and column:"
   ]
  },
  {
   "cell_type": "code",
   "execution_count": 31,
   "metadata": {
    "collapsed": false
   },
   "outputs": [
    {
     "data": {
      "text/html": [
       "<div>\n",
       "<table border=\"1\" class=\"dataframe\">\n",
       "  <thead>\n",
       "    <tr style=\"text-align: right;\">\n",
       "      <th>store</th>\n",
       "      <th>0</th>\n",
       "      <th>1</th>\n",
       "      <th>2</th>\n",
       "      <th>3</th>\n",
       "    </tr>\n",
       "    <tr>\n",
       "      <th>date</th>\n",
       "      <th></th>\n",
       "      <th></th>\n",
       "      <th></th>\n",
       "      <th></th>\n",
       "    </tr>\n",
       "  </thead>\n",
       "  <tbody>\n",
       "    <tr>\n",
       "      <th>2000-01-02</th>\n",
       "      <td>87.768912</td>\n",
       "      <td>41.238936</td>\n",
       "      <td>105.195520</td>\n",
       "      <td>80.652166</td>\n",
       "    </tr>\n",
       "    <tr>\n",
       "      <th>2000-01-09</th>\n",
       "      <td>88.456906</td>\n",
       "      <td>74.845419</td>\n",
       "      <td>91.660599</td>\n",
       "      <td>59.355779</td>\n",
       "    </tr>\n",
       "    <tr>\n",
       "      <th>2000-01-16</th>\n",
       "      <td>19.721603</td>\n",
       "      <td>108.577556</td>\n",
       "      <td>109.218392</td>\n",
       "      <td>76.259948</td>\n",
       "    </tr>\n",
       "    <tr>\n",
       "      <th>2000-01-23</th>\n",
       "      <td>66.861079</td>\n",
       "      <td>20.420387</td>\n",
       "      <td>129.942499</td>\n",
       "      <td>37.041638</td>\n",
       "    </tr>\n",
       "    <tr>\n",
       "      <th>2000-01-30</th>\n",
       "      <td>168.253887</td>\n",
       "      <td>74.929954</td>\n",
       "      <td>41.007438</td>\n",
       "      <td>122.339851</td>\n",
       "    </tr>\n",
       "    <tr>\n",
       "      <th>2000-02-06</th>\n",
       "      <td>124.376055</td>\n",
       "      <td>0.000000</td>\n",
       "      <td>18.872171</td>\n",
       "      <td>35.755030</td>\n",
       "    </tr>\n",
       "  </tbody>\n",
       "</table>\n",
       "</div>"
      ],
      "text/plain": [
       "store                0           1           2           3\n",
       "date                                                      \n",
       "2000-01-02   87.768912   41.238936  105.195520   80.652166\n",
       "2000-01-09   88.456906   74.845419   91.660599   59.355779\n",
       "2000-01-16   19.721603  108.577556  109.218392   76.259948\n",
       "2000-01-23   66.861079   20.420387  129.942499   37.041638\n",
       "2000-01-30  168.253887   74.929954   41.007438  122.339851\n",
       "2000-02-06  124.376055    0.000000   18.872171   35.755030"
      ]
     },
     "execution_count": 31,
     "metadata": {},
     "output_type": "execute_result"
    }
   ],
   "source": [
    "df_store_n_pivot = df_store_n.pivot(index='date', columns='store', values='Volume')\n",
    "df_store_n_pivot[:6]"
   ]
  },
  {
   "cell_type": "markdown",
   "metadata": {},
   "source": [
    "## File I/O\n",
    "\n",
    "Pandas has the ability to read and write csv files, of course, as well as many other data formats. Each format is accessed via the `read_{format}` functions and the `DataFrame.to_{format}` methods:\n",
    "\n",
    " - csv\n",
    " - excel\n",
    " - hdf\n",
    " - sql\n",
    " - json\n",
    " - msgpack (experimental)\n",
    " - html\n",
    " - gbq (experimental)\n",
    " - stata\n",
    " - sas\n",
    " - clipboard\n",
    " - pickle"
   ]
  },
  {
   "cell_type": "code",
   "execution_count": 32,
   "metadata": {
    "collapsed": false
   },
   "outputs": [],
   "source": [
    "df.to_csv('store_data.csv')"
   ]
  },
  {
   "cell_type": "code",
   "execution_count": 33,
   "metadata": {
    "collapsed": false
   },
   "outputs": [
    {
     "name": "stdout",
     "output_type": "stream",
     "text": [
      "date,region,store,Orders,Volume\n",
      "2000-01-02,N,0,4,87.7689115461\n",
      "2000-01-02,N,1,2,41.2389357947\n",
      "2000-01-02,N,2,5,105.195519741\n",
      "2000-01-02,N,3,4,80.6521658551\n",
      "2000-01-02,E,0,6,121.016800563\n",
      "\n"
     ]
    }
   ],
   "source": [
    "lines = open('store_data.csv').readlines()[:6]\n",
    "print ''.join(lines)"
   ]
  },
  {
   "cell_type": "code",
   "execution_count": 34,
   "metadata": {
    "collapsed": true
   },
   "outputs": [],
   "source": [
    "df_csv = pd.read_csv('store_data.csv')"
   ]
  },
  {
   "cell_type": "code",
   "execution_count": 35,
   "metadata": {
    "collapsed": false
   },
   "outputs": [
    {
     "data": {
      "text/html": [
       "<div>\n",
       "<table border=\"1\" class=\"dataframe\">\n",
       "  <thead>\n",
       "    <tr style=\"text-align: right;\">\n",
       "      <th></th>\n",
       "      <th>date</th>\n",
       "      <th>region</th>\n",
       "      <th>store</th>\n",
       "      <th>Orders</th>\n",
       "      <th>Volume</th>\n",
       "    </tr>\n",
       "  </thead>\n",
       "  <tbody>\n",
       "    <tr>\n",
       "      <th>0</th>\n",
       "      <td>2000-01-02</td>\n",
       "      <td>N</td>\n",
       "      <td>0</td>\n",
       "      <td>4</td>\n",
       "      <td>87.768912</td>\n",
       "    </tr>\n",
       "    <tr>\n",
       "      <th>1</th>\n",
       "      <td>2000-01-02</td>\n",
       "      <td>N</td>\n",
       "      <td>1</td>\n",
       "      <td>2</td>\n",
       "      <td>41.238936</td>\n",
       "    </tr>\n",
       "    <tr>\n",
       "      <th>2</th>\n",
       "      <td>2000-01-02</td>\n",
       "      <td>N</td>\n",
       "      <td>2</td>\n",
       "      <td>5</td>\n",
       "      <td>105.195520</td>\n",
       "    </tr>\n",
       "    <tr>\n",
       "      <th>3</th>\n",
       "      <td>2000-01-02</td>\n",
       "      <td>N</td>\n",
       "      <td>3</td>\n",
       "      <td>4</td>\n",
       "      <td>80.652166</td>\n",
       "    </tr>\n",
       "    <tr>\n",
       "      <th>4</th>\n",
       "      <td>2000-01-02</td>\n",
       "      <td>E</td>\n",
       "      <td>0</td>\n",
       "      <td>6</td>\n",
       "      <td>121.016801</td>\n",
       "    </tr>\n",
       "    <tr>\n",
       "      <th>5</th>\n",
       "      <td>2000-01-02</td>\n",
       "      <td>E</td>\n",
       "      <td>1</td>\n",
       "      <td>1</td>\n",
       "      <td>18.703388</td>\n",
       "    </tr>\n",
       "  </tbody>\n",
       "</table>\n",
       "</div>"
      ],
      "text/plain": [
       "         date region  store  Orders      Volume\n",
       "0  2000-01-02      N      0       4   87.768912\n",
       "1  2000-01-02      N      1       2   41.238936\n",
       "2  2000-01-02      N      2       5  105.195520\n",
       "3  2000-01-02      N      3       4   80.652166\n",
       "4  2000-01-02      E      0       6  121.016801\n",
       "5  2000-01-02      E      1       1   18.703388"
      ]
     },
     "execution_count": 35,
     "metadata": {},
     "output_type": "execute_result"
    }
   ],
   "source": [
    "df_csv[:6]"
   ]
  },
  {
   "cell_type": "code",
   "execution_count": 36,
   "metadata": {
    "collapsed": false
   },
   "outputs": [
    {
     "data": {
      "text/html": [
       "<div>\n",
       "<table border=\"1\" class=\"dataframe\">\n",
       "  <thead>\n",
       "    <tr style=\"text-align: right;\">\n",
       "      <th></th>\n",
       "      <th></th>\n",
       "      <th></th>\n",
       "      <th>date</th>\n",
       "      <th>region</th>\n",
       "      <th>store</th>\n",
       "      <th>Orders</th>\n",
       "      <th>Volume</th>\n",
       "    </tr>\n",
       "    <tr>\n",
       "      <th>date</th>\n",
       "      <th>region</th>\n",
       "      <th>store</th>\n",
       "      <th></th>\n",
       "      <th></th>\n",
       "      <th></th>\n",
       "      <th></th>\n",
       "      <th></th>\n",
       "    </tr>\n",
       "  </thead>\n",
       "  <tbody>\n",
       "    <tr>\n",
       "      <th rowspan=\"6\" valign=\"top\">2000-01-02</th>\n",
       "      <th rowspan=\"4\" valign=\"top\">N</th>\n",
       "      <th>0</th>\n",
       "      <td>2000-01-02</td>\n",
       "      <td>N</td>\n",
       "      <td>0</td>\n",
       "      <td>4</td>\n",
       "      <td>87.768912</td>\n",
       "    </tr>\n",
       "    <tr>\n",
       "      <th>1</th>\n",
       "      <td>2000-01-02</td>\n",
       "      <td>N</td>\n",
       "      <td>1</td>\n",
       "      <td>2</td>\n",
       "      <td>41.238936</td>\n",
       "    </tr>\n",
       "    <tr>\n",
       "      <th>2</th>\n",
       "      <td>2000-01-02</td>\n",
       "      <td>N</td>\n",
       "      <td>2</td>\n",
       "      <td>5</td>\n",
       "      <td>105.195520</td>\n",
       "    </tr>\n",
       "    <tr>\n",
       "      <th>3</th>\n",
       "      <td>2000-01-02</td>\n",
       "      <td>N</td>\n",
       "      <td>3</td>\n",
       "      <td>4</td>\n",
       "      <td>80.652166</td>\n",
       "    </tr>\n",
       "    <tr>\n",
       "      <th rowspan=\"2\" valign=\"top\">E</th>\n",
       "      <th>0</th>\n",
       "      <td>2000-01-02</td>\n",
       "      <td>E</td>\n",
       "      <td>0</td>\n",
       "      <td>6</td>\n",
       "      <td>121.016801</td>\n",
       "    </tr>\n",
       "    <tr>\n",
       "      <th>1</th>\n",
       "      <td>2000-01-02</td>\n",
       "      <td>E</td>\n",
       "      <td>1</td>\n",
       "      <td>1</td>\n",
       "      <td>18.703388</td>\n",
       "    </tr>\n",
       "  </tbody>\n",
       "</table>\n",
       "</div>"
      ],
      "text/plain": [
       "                               date region  store  Orders      Volume\n",
       "date       region store                                              \n",
       "2000-01-02 N      0      2000-01-02      N      0       4   87.768912\n",
       "                  1      2000-01-02      N      1       2   41.238936\n",
       "                  2      2000-01-02      N      2       5  105.195520\n",
       "                  3      2000-01-02      N      3       4   80.652166\n",
       "           E      0      2000-01-02      E      0       6  121.016801\n",
       "                  1      2000-01-02      E      1       1   18.703388"
      ]
     },
     "execution_count": 36,
     "metadata": {},
     "output_type": "execute_result"
    }
   ],
   "source": [
    "df_csv.index = ind\n",
    "df_csv[:6]"
   ]
  },
  {
   "cell_type": "markdown",
   "metadata": {},
   "source": [
    "We can also use pandas to scrape data from the web:"
   ]
  },
  {
   "cell_type": "code",
   "execution_count": 39,
   "metadata": {
    "collapsed": false
   },
   "outputs": [],
   "source": [
    "tables = pd.read_html(\n",
    "    'http://finance.yahoo.com/q/hp?s=IBM+Historical+Prices', \n",
    "    'Volume', \n",
    "    flavor='bs4',\n",
    "    header=0)\n"
   ]
  },
  {
   "cell_type": "code",
   "execution_count": 44,
   "metadata": {
    "collapsed": false,
    "scrolled": true
   },
   "outputs": [
    {
     "data": {
      "text/html": [
       "<div>\n",
       "<table border=\"1\" class=\"dataframe\">\n",
       "  <thead>\n",
       "    <tr style=\"text-align: right;\">\n",
       "      <th></th>\n",
       "      <th>Date</th>\n",
       "      <th>Open</th>\n",
       "      <th>High</th>\n",
       "      <th>Low</th>\n",
       "      <th>Close</th>\n",
       "      <th>Volume</th>\n",
       "      <th>Adj Close*</th>\n",
       "    </tr>\n",
       "  </thead>\n",
       "  <tbody>\n",
       "    <tr>\n",
       "      <th>0</th>\n",
       "      <td>Apr 26, 2016</td>\n",
       "      <td>148.65</td>\n",
       "      <td>149.79</td>\n",
       "      <td>147.90</td>\n",
       "      <td>149.08</td>\n",
       "      <td>2974800.0</td>\n",
       "      <td>149.08</td>\n",
       "    </tr>\n",
       "    <tr>\n",
       "      <th>1</th>\n",
       "      <td>Apr 25, 2016</td>\n",
       "      <td>148.16</td>\n",
       "      <td>148.90</td>\n",
       "      <td>147.11</td>\n",
       "      <td>148.81</td>\n",
       "      <td>2848900.0</td>\n",
       "      <td>148.81</td>\n",
       "    </tr>\n",
       "    <tr>\n",
       "      <th>2</th>\n",
       "      <td>Apr 22, 2016</td>\n",
       "      <td>149.44</td>\n",
       "      <td>151.00</td>\n",
       "      <td>147.50</td>\n",
       "      <td>148.50</td>\n",
       "      <td>5191900.0</td>\n",
       "      <td>148.50</td>\n",
       "    </tr>\n",
       "    <tr>\n",
       "      <th>3</th>\n",
       "      <td>Apr 21, 2016</td>\n",
       "      <td>146.58</td>\n",
       "      <td>150.12</td>\n",
       "      <td>146.46</td>\n",
       "      <td>149.30</td>\n",
       "      <td>6017700.0</td>\n",
       "      <td>149.30</td>\n",
       "    </tr>\n",
       "    <tr>\n",
       "      <th>4</th>\n",
       "      <td>Apr 20, 2016</td>\n",
       "      <td>144.24</td>\n",
       "      <td>147.20</td>\n",
       "      <td>144.00</td>\n",
       "      <td>146.11</td>\n",
       "      <td>6754300.0</td>\n",
       "      <td>146.11</td>\n",
       "    </tr>\n",
       "  </tbody>\n",
       "</table>\n",
       "</div>"
      ],
      "text/plain": [
       "           Date    Open    High     Low   Close     Volume  Adj Close*\n",
       "0  Apr 26, 2016  148.65  149.79  147.90  149.08  2974800.0      149.08\n",
       "1  Apr 25, 2016  148.16  148.90  147.11  148.81  2848900.0      148.81\n",
       "2  Apr 22, 2016  149.44  151.00  147.50  148.50  5191900.0      148.50\n",
       "3  Apr 21, 2016  146.58  150.12  146.46  149.30  6017700.0      149.30\n",
       "4  Apr 20, 2016  144.24  147.20  144.00  146.11  6754300.0      146.11"
      ]
     },
     "execution_count": 44,
     "metadata": {},
     "output_type": "execute_result"
    }
   ],
   "source": [
    "tables[2].head()"
   ]
  },
  {
   "cell_type": "code",
   "execution_count": 48,
   "metadata": {
    "collapsed": false
   },
   "outputs": [
    {
     "data": {
      "text/plain": [
       "Date          * Close price adjusted for dividends and splits.\n",
       "Open                                                       NaN\n",
       "High                                                       NaN\n",
       "Low                                                        NaN\n",
       "Close                                                      NaN\n",
       "Volume                                                     NaN\n",
       "Adj Close*                                                 NaN\n",
       "Name: 67, dtype: object"
      ]
     },
     "execution_count": 48,
     "metadata": {},
     "output_type": "execute_result"
    }
   ],
   "source": [
    "tables[2].iloc[-1]"
   ]
  },
  {
   "cell_type": "code",
   "execution_count": 49,
   "metadata": {
    "collapsed": false
   },
   "outputs": [
    {
     "data": {
      "text/html": [
       "<div>\n",
       "<table border=\"1\" class=\"dataframe\">\n",
       "  <thead>\n",
       "    <tr style=\"text-align: right;\">\n",
       "      <th></th>\n",
       "      <th>Date</th>\n",
       "      <th>Open</th>\n",
       "      <th>High</th>\n",
       "      <th>Low</th>\n",
       "      <th>Close</th>\n",
       "      <th>Volume</th>\n",
       "      <th>Adj Close*</th>\n",
       "    </tr>\n",
       "  </thead>\n",
       "  <tbody>\n",
       "    <tr>\n",
       "      <th>0</th>\n",
       "      <td>Apr 26, 2016</td>\n",
       "      <td>148.65</td>\n",
       "      <td>149.79</td>\n",
       "      <td>147.90</td>\n",
       "      <td>149.08</td>\n",
       "      <td>2974800.0</td>\n",
       "      <td>149.08</td>\n",
       "    </tr>\n",
       "    <tr>\n",
       "      <th>1</th>\n",
       "      <td>Apr 25, 2016</td>\n",
       "      <td>148.16</td>\n",
       "      <td>148.90</td>\n",
       "      <td>147.11</td>\n",
       "      <td>148.81</td>\n",
       "      <td>2848900.0</td>\n",
       "      <td>148.81</td>\n",
       "    </tr>\n",
       "    <tr>\n",
       "      <th>2</th>\n",
       "      <td>Apr 22, 2016</td>\n",
       "      <td>149.44</td>\n",
       "      <td>151.00</td>\n",
       "      <td>147.50</td>\n",
       "      <td>148.50</td>\n",
       "      <td>5191900.0</td>\n",
       "      <td>148.50</td>\n",
       "    </tr>\n",
       "    <tr>\n",
       "      <th>3</th>\n",
       "      <td>Apr 21, 2016</td>\n",
       "      <td>146.58</td>\n",
       "      <td>150.12</td>\n",
       "      <td>146.46</td>\n",
       "      <td>149.30</td>\n",
       "      <td>6017700.0</td>\n",
       "      <td>149.30</td>\n",
       "    </tr>\n",
       "    <tr>\n",
       "      <th>4</th>\n",
       "      <td>Apr 20, 2016</td>\n",
       "      <td>144.24</td>\n",
       "      <td>147.20</td>\n",
       "      <td>144.00</td>\n",
       "      <td>146.11</td>\n",
       "      <td>6754300.0</td>\n",
       "      <td>146.11</td>\n",
       "    </tr>\n",
       "  </tbody>\n",
       "</table>\n",
       "</div>"
      ],
      "text/plain": [
       "           Date    Open    High     Low   Close     Volume  Adj Close*\n",
       "0  Apr 26, 2016  148.65  149.79  147.90  149.08  2974800.0      149.08\n",
       "1  Apr 25, 2016  148.16  148.90  147.11  148.81  2848900.0      148.81\n",
       "2  Apr 22, 2016  149.44  151.00  147.50  148.50  5191900.0      148.50\n",
       "3  Apr 21, 2016  146.58  150.12  146.46  149.30  6017700.0      149.30\n",
       "4  Apr 20, 2016  144.24  147.20  144.00  146.11  6754300.0      146.11"
      ]
     },
     "execution_count": 49,
     "metadata": {},
     "output_type": "execute_result"
    }
   ],
   "source": [
    "df_ibm = tables[2][:-1]    # strip off a footnote\n",
    "df_ibm.head()"
   ]
  },
  {
   "cell_type": "code",
   "execution_count": 50,
   "metadata": {
    "collapsed": false
   },
   "outputs": [],
   "source": [
    "df_ibm.index = pd.to_datetime(df_ibm['Date'], format='%b %d, %Y')"
   ]
  },
  {
   "cell_type": "code",
   "execution_count": 51,
   "metadata": {
    "collapsed": false
   },
   "outputs": [
    {
     "data": {
      "text/html": [
       "<div>\n",
       "<table border=\"1\" class=\"dataframe\">\n",
       "  <thead>\n",
       "    <tr style=\"text-align: right;\">\n",
       "      <th></th>\n",
       "      <th>Date</th>\n",
       "      <th>Open</th>\n",
       "      <th>High</th>\n",
       "      <th>Low</th>\n",
       "      <th>Close</th>\n",
       "      <th>Volume</th>\n",
       "      <th>Adj Close*</th>\n",
       "    </tr>\n",
       "    <tr>\n",
       "      <th>Date</th>\n",
       "      <th></th>\n",
       "      <th></th>\n",
       "      <th></th>\n",
       "      <th></th>\n",
       "      <th></th>\n",
       "      <th></th>\n",
       "      <th></th>\n",
       "    </tr>\n",
       "  </thead>\n",
       "  <tbody>\n",
       "    <tr>\n",
       "      <th>2016-04-26</th>\n",
       "      <td>Apr 26, 2016</td>\n",
       "      <td>148.65</td>\n",
       "      <td>149.79</td>\n",
       "      <td>147.90</td>\n",
       "      <td>149.08</td>\n",
       "      <td>2974800.0</td>\n",
       "      <td>149.08</td>\n",
       "    </tr>\n",
       "    <tr>\n",
       "      <th>2016-04-25</th>\n",
       "      <td>Apr 25, 2016</td>\n",
       "      <td>148.16</td>\n",
       "      <td>148.90</td>\n",
       "      <td>147.11</td>\n",
       "      <td>148.81</td>\n",
       "      <td>2848900.0</td>\n",
       "      <td>148.81</td>\n",
       "    </tr>\n",
       "    <tr>\n",
       "      <th>2016-04-22</th>\n",
       "      <td>Apr 22, 2016</td>\n",
       "      <td>149.44</td>\n",
       "      <td>151.00</td>\n",
       "      <td>147.50</td>\n",
       "      <td>148.50</td>\n",
       "      <td>5191900.0</td>\n",
       "      <td>148.50</td>\n",
       "    </tr>\n",
       "    <tr>\n",
       "      <th>2016-04-21</th>\n",
       "      <td>Apr 21, 2016</td>\n",
       "      <td>146.58</td>\n",
       "      <td>150.12</td>\n",
       "      <td>146.46</td>\n",
       "      <td>149.30</td>\n",
       "      <td>6017700.0</td>\n",
       "      <td>149.30</td>\n",
       "    </tr>\n",
       "    <tr>\n",
       "      <th>2016-04-20</th>\n",
       "      <td>Apr 20, 2016</td>\n",
       "      <td>144.24</td>\n",
       "      <td>147.20</td>\n",
       "      <td>144.00</td>\n",
       "      <td>146.11</td>\n",
       "      <td>6754300.0</td>\n",
       "      <td>146.11</td>\n",
       "    </tr>\n",
       "    <tr>\n",
       "      <th>2016-04-19</th>\n",
       "      <td>Apr 19, 2016</td>\n",
       "      <td>146.47</td>\n",
       "      <td>146.95</td>\n",
       "      <td>142.61</td>\n",
       "      <td>144.00</td>\n",
       "      <td>13190200.0</td>\n",
       "      <td>144.00</td>\n",
       "    </tr>\n",
       "  </tbody>\n",
       "</table>\n",
       "</div>"
      ],
      "text/plain": [
       "                    Date    Open    High     Low   Close      Volume  \\\n",
       "Date                                                                   \n",
       "2016-04-26  Apr 26, 2016  148.65  149.79  147.90  149.08   2974800.0   \n",
       "2016-04-25  Apr 25, 2016  148.16  148.90  147.11  148.81   2848900.0   \n",
       "2016-04-22  Apr 22, 2016  149.44  151.00  147.50  148.50   5191900.0   \n",
       "2016-04-21  Apr 21, 2016  146.58  150.12  146.46  149.30   6017700.0   \n",
       "2016-04-20  Apr 20, 2016  144.24  147.20  144.00  146.11   6754300.0   \n",
       "2016-04-19  Apr 19, 2016  146.47  146.95  142.61  144.00  13190200.0   \n",
       "\n",
       "            Adj Close*  \n",
       "Date                    \n",
       "2016-04-26      149.08  \n",
       "2016-04-25      148.81  \n",
       "2016-04-22      148.50  \n",
       "2016-04-21      149.30  \n",
       "2016-04-20      146.11  \n",
       "2016-04-19      144.00  "
      ]
     },
     "execution_count": 51,
     "metadata": {},
     "output_type": "execute_result"
    }
   ],
   "source": [
    "df_ibm[:6]"
   ]
  },
  {
   "cell_type": "code",
   "execution_count": 53,
   "metadata": {
    "collapsed": false
   },
   "outputs": [
    {
     "name": "stderr",
     "output_type": "stream",
     "text": [
      "/Users/rick446/.virtualenvs/intermediate-python/lib/python2.7/site-packages/ipykernel/__main__.py:1: FutureWarning: .resample() is now a deferred operation\n",
      "use .resample(...).mean() instead of .resample(...)\n",
      "  if __name__ == '__main__':\n"
     ]
    },
    {
     "data": {
      "text/html": [
       "<div>\n",
       "<table border=\"1\" class=\"dataframe\">\n",
       "  <thead>\n",
       "    <tr style=\"text-align: right;\">\n",
       "      <th></th>\n",
       "      <th>High</th>\n",
       "      <th>Low</th>\n",
       "      <th>Close</th>\n",
       "      <th>Volume</th>\n",
       "      <th>Adj Close*</th>\n",
       "    </tr>\n",
       "    <tr>\n",
       "      <th>Date</th>\n",
       "      <th></th>\n",
       "      <th></th>\n",
       "      <th></th>\n",
       "      <th></th>\n",
       "      <th></th>\n",
       "    </tr>\n",
       "  </thead>\n",
       "  <tbody>\n",
       "    <tr>\n",
       "      <th>2016-01-24</th>\n",
       "      <td>124.7400</td>\n",
       "      <td>121.770</td>\n",
       "      <td>122.5000</td>\n",
       "      <td>9238400.0</td>\n",
       "      <td>121.2600</td>\n",
       "    </tr>\n",
       "    <tr>\n",
       "      <th>2016-01-31</th>\n",
       "      <td>123.7660</td>\n",
       "      <td>121.700</td>\n",
       "      <td>122.5280</td>\n",
       "      <td>5456160.0</td>\n",
       "      <td>121.2900</td>\n",
       "    </tr>\n",
       "    <tr>\n",
       "      <th>2016-02-07</th>\n",
       "      <td>126.4040</td>\n",
       "      <td>123.898</td>\n",
       "      <td>125.7420</td>\n",
       "      <td>5105980.0</td>\n",
       "      <td>124.4720</td>\n",
       "    </tr>\n",
       "    <tr>\n",
       "      <th>2016-02-14</th>\n",
       "      <td>124.0880</td>\n",
       "      <td>120.598</td>\n",
       "      <td>122.0260</td>\n",
       "      <td>6406880.0</td>\n",
       "      <td>122.0260</td>\n",
       "    </tr>\n",
       "    <tr>\n",
       "      <th>2016-02-21</th>\n",
       "      <td>129.3275</td>\n",
       "      <td>126.295</td>\n",
       "      <td>128.5925</td>\n",
       "      <td>5989825.0</td>\n",
       "      <td>128.5925</td>\n",
       "    </tr>\n",
       "  </tbody>\n",
       "</table>\n",
       "</div>"
      ],
      "text/plain": [
       "                High      Low     Close     Volume  Adj Close*\n",
       "Date                                                          \n",
       "2016-01-24  124.7400  121.770  122.5000  9238400.0    121.2600\n",
       "2016-01-31  123.7660  121.700  122.5280  5456160.0    121.2900\n",
       "2016-02-07  126.4040  123.898  125.7420  5105980.0    124.4720\n",
       "2016-02-14  124.0880  120.598  122.0260  6406880.0    122.0260\n",
       "2016-02-21  129.3275  126.295  128.5925  5989825.0    128.5925"
      ]
     },
     "execution_count": 53,
     "metadata": {},
     "output_type": "execute_result"
    }
   ],
   "source": [
    "df_ibm.resample('w').head()"
   ]
  },
  {
   "cell_type": "code",
   "execution_count": 54,
   "metadata": {
    "collapsed": false
   },
   "outputs": [
    {
     "data": {
      "text/html": [
       "<div>\n",
       "<table border=\"1\" class=\"dataframe\">\n",
       "  <thead>\n",
       "    <tr style=\"text-align: right;\">\n",
       "      <th></th>\n",
       "      <th>High</th>\n",
       "      <th>Low</th>\n",
       "      <th>Close</th>\n",
       "      <th>Volume</th>\n",
       "      <th>Adj Close*</th>\n",
       "    </tr>\n",
       "  </thead>\n",
       "  <tbody>\n",
       "    <tr>\n",
       "      <th>count</th>\n",
       "      <td>66.000000</td>\n",
       "      <td>66.000000</td>\n",
       "      <td>66.000000</td>\n",
       "      <td>6.600000e+01</td>\n",
       "      <td>66.000000</td>\n",
       "    </tr>\n",
       "    <tr>\n",
       "      <th>mean</th>\n",
       "      <td>139.540606</td>\n",
       "      <td>136.955152</td>\n",
       "      <td>138.472576</td>\n",
       "      <td>5.035314e+06</td>\n",
       "      <td>138.263788</td>\n",
       "    </tr>\n",
       "    <tr>\n",
       "      <th>std</th>\n",
       "      <td>10.843938</td>\n",
       "      <td>11.032611</td>\n",
       "      <td>10.993318</td>\n",
       "      <td>2.013714e+06</td>\n",
       "      <td>11.278235</td>\n",
       "    </tr>\n",
       "    <tr>\n",
       "      <th>min</th>\n",
       "      <td>119.660000</td>\n",
       "      <td>116.900000</td>\n",
       "      <td>117.850000</td>\n",
       "      <td>2.848900e+06</td>\n",
       "      <td>117.850000</td>\n",
       "    </tr>\n",
       "    <tr>\n",
       "      <th>25%</th>\n",
       "      <td>128.535000</td>\n",
       "      <td>125.212500</td>\n",
       "      <td>127.880000</td>\n",
       "      <td>3.738325e+06</td>\n",
       "      <td>127.052500</td>\n",
       "    </tr>\n",
       "    <tr>\n",
       "      <th>50%</th>\n",
       "      <td>141.820000</td>\n",
       "      <td>138.660000</td>\n",
       "      <td>140.300000</td>\n",
       "      <td>4.414200e+06</td>\n",
       "      <td>140.300000</td>\n",
       "    </tr>\n",
       "    <tr>\n",
       "      <th>75%</th>\n",
       "      <td>149.720000</td>\n",
       "      <td>147.500000</td>\n",
       "      <td>148.597500</td>\n",
       "      <td>5.545825e+06</td>\n",
       "      <td>148.597500</td>\n",
       "    </tr>\n",
       "    <tr>\n",
       "      <th>max</th>\n",
       "      <td>153.520000</td>\n",
       "      <td>151.910000</td>\n",
       "      <td>152.530000</td>\n",
       "      <td>1.319020e+07</td>\n",
       "      <td>152.530000</td>\n",
       "    </tr>\n",
       "  </tbody>\n",
       "</table>\n",
       "</div>"
      ],
      "text/plain": [
       "             High         Low       Close        Volume  Adj Close*\n",
       "count   66.000000   66.000000   66.000000  6.600000e+01   66.000000\n",
       "mean   139.540606  136.955152  138.472576  5.035314e+06  138.263788\n",
       "std     10.843938   11.032611   10.993318  2.013714e+06   11.278235\n",
       "min    119.660000  116.900000  117.850000  2.848900e+06  117.850000\n",
       "25%    128.535000  125.212500  127.880000  3.738325e+06  127.052500\n",
       "50%    141.820000  138.660000  140.300000  4.414200e+06  140.300000\n",
       "75%    149.720000  147.500000  148.597500  5.545825e+06  148.597500\n",
       "max    153.520000  151.910000  152.530000  1.319020e+07  152.530000"
      ]
     },
     "execution_count": 54,
     "metadata": {},
     "output_type": "execute_result"
    }
   ],
   "source": [
    "df_ibm.describe()"
   ]
  },
  {
   "cell_type": "code",
   "execution_count": 55,
   "metadata": {
    "collapsed": true
   },
   "outputs": [],
   "source": [
    "from datetime import datetime\n",
    "from pandas_datareader import data, wb\n",
    "start = datetime(2010, 1, 1)\n",
    "end = datetime(2010, 1, 27)"
   ]
  },
  {
   "cell_type": "code",
   "execution_count": 56,
   "metadata": {
    "collapsed": false
   },
   "outputs": [
    {
     "data": {
      "text/html": [
       "<div>\n",
       "<table border=\"1\" class=\"dataframe\">\n",
       "  <thead>\n",
       "    <tr style=\"text-align: right;\">\n",
       "      <th></th>\n",
       "      <th>Open</th>\n",
       "      <th>High</th>\n",
       "      <th>Low</th>\n",
       "      <th>Close</th>\n",
       "      <th>Volume</th>\n",
       "      <th>Adj Close</th>\n",
       "    </tr>\n",
       "    <tr>\n",
       "      <th>Date</th>\n",
       "      <th></th>\n",
       "      <th></th>\n",
       "      <th></th>\n",
       "      <th></th>\n",
       "      <th></th>\n",
       "      <th></th>\n",
       "    </tr>\n",
       "  </thead>\n",
       "  <tbody>\n",
       "    <tr>\n",
       "      <th>2010-01-04</th>\n",
       "      <td>131.179993</td>\n",
       "      <td>132.970001</td>\n",
       "      <td>130.850006</td>\n",
       "      <td>132.449997</td>\n",
       "      <td>6155300</td>\n",
       "      <td>115.385996</td>\n",
       "    </tr>\n",
       "    <tr>\n",
       "      <th>2010-01-05</th>\n",
       "      <td>131.679993</td>\n",
       "      <td>131.850006</td>\n",
       "      <td>130.100006</td>\n",
       "      <td>130.850006</td>\n",
       "      <td>6841400</td>\n",
       "      <td>113.992138</td>\n",
       "    </tr>\n",
       "    <tr>\n",
       "      <th>2010-01-06</th>\n",
       "      <td>130.679993</td>\n",
       "      <td>131.490005</td>\n",
       "      <td>129.809998</td>\n",
       "      <td>130.000000</td>\n",
       "      <td>5605300</td>\n",
       "      <td>113.251641</td>\n",
       "    </tr>\n",
       "    <tr>\n",
       "      <th>2010-01-07</th>\n",
       "      <td>129.869995</td>\n",
       "      <td>130.250000</td>\n",
       "      <td>128.910004</td>\n",
       "      <td>129.550003</td>\n",
       "      <td>5840600</td>\n",
       "      <td>112.859619</td>\n",
       "    </tr>\n",
       "    <tr>\n",
       "      <th>2010-01-08</th>\n",
       "      <td>129.070007</td>\n",
       "      <td>130.919998</td>\n",
       "      <td>129.050003</td>\n",
       "      <td>130.850006</td>\n",
       "      <td>4197200</td>\n",
       "      <td>113.992138</td>\n",
       "    </tr>\n",
       "  </tbody>\n",
       "</table>\n",
       "</div>"
      ],
      "text/plain": [
       "                  Open        High         Low       Close   Volume  \\\n",
       "Date                                                                  \n",
       "2010-01-04  131.179993  132.970001  130.850006  132.449997  6155300   \n",
       "2010-01-05  131.679993  131.850006  130.100006  130.850006  6841400   \n",
       "2010-01-06  130.679993  131.490005  129.809998  130.000000  5605300   \n",
       "2010-01-07  129.869995  130.250000  128.910004  129.550003  5840600   \n",
       "2010-01-08  129.070007  130.919998  129.050003  130.850006  4197200   \n",
       "\n",
       "             Adj Close  \n",
       "Date                    \n",
       "2010-01-04  115.385996  \n",
       "2010-01-05  113.992138  \n",
       "2010-01-06  113.251641  \n",
       "2010-01-07  112.859619  \n",
       "2010-01-08  113.992138  "
      ]
     },
     "execution_count": 56,
     "metadata": {},
     "output_type": "execute_result"
    }
   ],
   "source": [
    "df_ibm = data.DataReader(\"IBM\", 'yahoo', start, end)\n",
    "df_ibm.head()"
   ]
  },
  {
   "cell_type": "code",
   "execution_count": 57,
   "metadata": {
    "collapsed": false
   },
   "outputs": [
    {
     "data": {
      "image/png": "[encoded data removed]",
      "text/plain": [
       "<matplotlib.figure.Figure at 0x10a278e90>"
      ]
     },
     "metadata": {},
     "output_type": "display_data"
    }
   ],
   "source": [
    "candlestick_plot(df_ibm)"
   ]
  },
  {
   "cell_type": "code",
   "execution_count": 59,
   "metadata": {
    "collapsed": false
   },
   "outputs": [
    {
     "data": {
      "text/plain": [
       "['PANDAS_0170',\n",
       " 'WorldBankReader',\n",
       " '_BaseReader',\n",
       " '__builtins__',\n",
       " '__doc__',\n",
       " '__file__',\n",
       " '__name__',\n",
       " '__package__',\n",
       " '_cached_series',\n",
       " 'country_codes',\n",
       " 'download',\n",
       " 'get_countries',\n",
       " 'get_indicators',\n",
       " 'lrange',\n",
       " 'np',\n",
       " 'pd',\n",
       " 'reduce',\n",
       " 'search',\n",
       " 'string_types',\n",
       " 'warnings']"
      ]
     },
     "execution_count": 59,
     "metadata": {},
     "output_type": "execute_result"
    }
   ],
   "source": [
    "dir(wb)"
   ]
  },
  {
   "cell_type": "code",
   "execution_count": 62,
   "metadata": {
    "collapsed": false,
    "scrolled": true
   },
   "outputs": [
    {
     "data": {
      "text/html": [
       "<div>\n",
       "<table border=\"1\" class=\"dataframe\">\n",
       "  <thead>\n",
       "    <tr style=\"text-align: right;\">\n",
       "      <th></th>\n",
       "      <th>Open</th>\n",
       "      <th>High</th>\n",
       "      <th>Low</th>\n",
       "      <th>Close</th>\n",
       "      <th>Volume</th>\n",
       "      <th>Adj Close</th>\n",
       "    </tr>\n",
       "    <tr>\n",
       "      <th>Date</th>\n",
       "      <th></th>\n",
       "      <th></th>\n",
       "      <th></th>\n",
       "      <th></th>\n",
       "      <th></th>\n",
       "      <th></th>\n",
       "    </tr>\n",
       "  </thead>\n",
       "  <tbody>\n",
       "    <tr>\n",
       "      <th>2010-01-04</th>\n",
       "      <td>131.179993</td>\n",
       "      <td>132.970001</td>\n",
       "      <td>130.850006</td>\n",
       "      <td>132.449997</td>\n",
       "      <td>6155300</td>\n",
       "      <td>115.385996</td>\n",
       "    </tr>\n",
       "    <tr>\n",
       "      <th>2010-01-05</th>\n",
       "      <td>131.679993</td>\n",
       "      <td>131.850006</td>\n",
       "      <td>130.100006</td>\n",
       "      <td>130.850006</td>\n",
       "      <td>6841400</td>\n",
       "      <td>113.992138</td>\n",
       "    </tr>\n",
       "    <tr>\n",
       "      <th>2010-01-06</th>\n",
       "      <td>130.679993</td>\n",
       "      <td>131.490005</td>\n",
       "      <td>129.809998</td>\n",
       "      <td>130.000000</td>\n",
       "      <td>5605300</td>\n",
       "      <td>113.251641</td>\n",
       "    </tr>\n",
       "    <tr>\n",
       "      <th>2010-01-07</th>\n",
       "      <td>129.869995</td>\n",
       "      <td>130.250000</td>\n",
       "      <td>128.910004</td>\n",
       "      <td>129.550003</td>\n",
       "      <td>5840600</td>\n",
       "      <td>112.859619</td>\n",
       "    </tr>\n",
       "    <tr>\n",
       "      <th>2010-01-08</th>\n",
       "      <td>129.070007</td>\n",
       "      <td>130.919998</td>\n",
       "      <td>129.050003</td>\n",
       "      <td>130.850006</td>\n",
       "      <td>4197200</td>\n",
       "      <td>113.992138</td>\n",
       "    </tr>\n",
       "  </tbody>\n",
       "</table>\n",
       "</div>"
      ],
      "text/plain": [
       "                  Open        High         Low       Close   Volume  \\\n",
       "Date                                                                  \n",
       "2010-01-04  131.179993  132.970001  130.850006  132.449997  6155300   \n",
       "2010-01-05  131.679993  131.850006  130.100006  130.850006  6841400   \n",
       "2010-01-06  130.679993  131.490005  129.809998  130.000000  5605300   \n",
       "2010-01-07  129.869995  130.250000  128.910004  129.550003  5840600   \n",
       "2010-01-08  129.070007  130.919998  129.050003  130.850006  4197200   \n",
       "\n",
       "             Adj Close  \n",
       "Date                    \n",
       "2010-01-04  115.385996  \n",
       "2010-01-05  113.992138  \n",
       "2010-01-06  113.251641  \n",
       "2010-01-07  112.859619  \n",
       "2010-01-08  113.992138  "
      ]
     },
     "execution_count": 62,
     "metadata": {},
     "output_type": "execute_result"
    }
   ],
   "source": [
    "df_ibm.head()"
   ]
  },
  {
   "cell_type": "code",
   "execution_count": 75,
   "metadata": {
    "collapsed": false
   },
   "outputs": [
    {
     "data": {
      "text/plain": [
       "Open         1.316800e+02\n",
       "High         1.318500e+02\n",
       "Low          1.301000e+02\n",
       "Close        1.308500e+02\n",
       "Volume       6.841400e+06\n",
       "Adj Close    1.139921e+02\n",
       "Name: 2010-01-05 00:00:00, dtype: float64"
      ]
     },
     "execution_count": 75,
     "metadata": {},
     "output_type": "execute_result"
    }
   ],
   "source": [
    "df_ibm.loc[datetime(2010,1,5)]"
   ]
  },
  {
   "cell_type": "code",
   "execution_count": 76,
   "metadata": {
    "collapsed": false
   },
   "outputs": [
    {
     "data": {
      "text/plain": [
       "130.10000600000001"
      ]
     },
     "execution_count": 76,
     "metadata": {},
     "output_type": "execute_result"
    }
   ],
   "source": [
    "df_ibm.loc[datetime(2010,1,5), 'Low']"
   ]
  },
  {
   "cell_type": "code",
   "execution_count": 77,
   "metadata": {
    "collapsed": false
   },
   "outputs": [
    {
     "data": {
      "text/html": [
       "<div>\n",
       "<table border=\"1\" class=\"dataframe\">\n",
       "  <thead>\n",
       "    <tr style=\"text-align: right;\">\n",
       "      <th></th>\n",
       "      <th>Open</th>\n",
       "      <th>High</th>\n",
       "    </tr>\n",
       "    <tr>\n",
       "      <th>Date</th>\n",
       "      <th></th>\n",
       "      <th></th>\n",
       "    </tr>\n",
       "  </thead>\n",
       "  <tbody>\n",
       "    <tr>\n",
       "      <th>2010-01-04</th>\n",
       "      <td>131.179993</td>\n",
       "      <td>132.970001</td>\n",
       "    </tr>\n",
       "    <tr>\n",
       "      <th>2010-01-05</th>\n",
       "      <td>131.679993</td>\n",
       "      <td>131.850006</td>\n",
       "    </tr>\n",
       "  </tbody>\n",
       "</table>\n",
       "</div>"
      ],
      "text/plain": [
       "                  Open        High\n",
       "Date                              \n",
       "2010-01-04  131.179993  132.970001\n",
       "2010-01-05  131.679993  131.850006"
      ]
     },
     "execution_count": 77,
     "metadata": {},
     "output_type": "execute_result"
    }
   ],
   "source": [
    "df_ibm.iloc[:2, :2]"
   ]
  },
  {
   "cell_type": "code",
   "execution_count": 78,
   "metadata": {
    "collapsed": false
   },
   "outputs": [
    {
     "data": {
      "text/html": [
       "<div>\n",
       "<table border=\"1\" class=\"dataframe\">\n",
       "  <thead>\n",
       "    <tr style=\"text-align: right;\">\n",
       "      <th></th>\n",
       "      <th>High</th>\n",
       "      <th>Low</th>\n",
       "    </tr>\n",
       "    <tr>\n",
       "      <th>Date</th>\n",
       "      <th></th>\n",
       "      <th></th>\n",
       "    </tr>\n",
       "  </thead>\n",
       "  <tbody>\n",
       "    <tr>\n",
       "      <th>2010-01-04</th>\n",
       "      <td>132.970001</td>\n",
       "      <td>130.850006</td>\n",
       "    </tr>\n",
       "    <tr>\n",
       "      <th>2010-01-05</th>\n",
       "      <td>131.850006</td>\n",
       "      <td>130.100006</td>\n",
       "    </tr>\n",
       "  </tbody>\n",
       "</table>\n",
       "</div>"
      ],
      "text/plain": [
       "                  High         Low\n",
       "Date                              \n",
       "2010-01-04  132.970001  130.850006\n",
       "2010-01-05  131.850006  130.100006"
      ]
     },
     "execution_count": 78,
     "metadata": {},
     "output_type": "execute_result"
    }
   ],
   "source": [
    "df_ibm.ix[:2, ['High', 'Low']]"
   ]
  },
  {
   "cell_type": "code",
   "execution_count": 80,
   "metadata": {
    "collapsed": false
   },
   "outputs": [],
   "source": [
    "del df_ibm['Volume']"
   ]
  },
  {
   "cell_type": "code",
   "execution_count": 81,
   "metadata": {
    "collapsed": false
   },
   "outputs": [
    {
     "data": {
      "text/plain": [
       "<matplotlib.axes._subplots.AxesSubplot at 0x10a976090>"
      ]
     },
     "execution_count": 81,
     "metadata": {},
     "output_type": "execute_result"
    },
    {
     "data": {
      "image/png": "[encoded data removed]",
      "text/plain": [
       "<matplotlib.figure.Figure at 0x10a836b90>"
      ]
     },
     "metadata": {},
     "output_type": "display_data"
    }
   ],
   "source": [
    "df_ibm.plot()"
   ]
  },
  {
   "cell_type": "markdown",
   "metadata": {},
   "source": [
    "### Exercises:\n",
    "`df = pd.read_csv('http://ichart.finance.yahoo.com/table.csv?d=6&e=1&f=2009&g=d&a=7&b=19&c=2004&ignore=.csv&s=IBM')`\n",
    "\n",
    "Using the previous IBM dataframe, complete the following:\n",
    "- Using numpy, determine the average price on June 30, 2009. (For our purposes here, 'average' will just be the mean of min and max)\n",
    "- Using numpy, determine the min, max, and median closing price for the dataset.\n",
    "- Limit the dataframe with Pandas to find the min, max, and median closing price for only 2005."
   ]
  },
  {
   "cell_type": "code",
   "execution_count": 91,
   "metadata": {
    "collapsed": true
   },
   "outputs": [],
   "source": [
    "df = pd.read_csv('http://ichart.finance.yahoo.com/table.csv?d=6&e=1&f=2009&g=d&a=7&b=19&c=2004&ignore=.csv&s=IBM')\n",
    "df.index = df.Date"
   ]
  },
  {
   "cell_type": "code",
   "execution_count": 92,
   "metadata": {
    "collapsed": false
   },
   "outputs": [
    {
     "data": {
      "text/html": [
       "<div>\n",
       "<table border=\"1\" class=\"dataframe\">\n",
       "  <thead>\n",
       "    <tr style=\"text-align: right;\">\n",
       "      <th></th>\n",
       "      <th>Open</th>\n",
       "      <th>High</th>\n",
       "      <th>Low</th>\n",
       "      <th>Close</th>\n",
       "      <th>Volume</th>\n",
       "      <th>Adj Close</th>\n",
       "    </tr>\n",
       "  </thead>\n",
       "  <tbody>\n",
       "    <tr>\n",
       "      <th>count</th>\n",
       "      <td>252.000000</td>\n",
       "      <td>252.000000</td>\n",
       "      <td>252.000000</td>\n",
       "      <td>252.000000</td>\n",
       "      <td>2.520000e+02</td>\n",
       "      <td>252.000000</td>\n",
       "    </tr>\n",
       "    <tr>\n",
       "      <th>mean</th>\n",
       "      <td>83.814286</td>\n",
       "      <td>84.452302</td>\n",
       "      <td>83.265476</td>\n",
       "      <td>83.786191</td>\n",
       "      <td>6.107654e+06</td>\n",
       "      <td>68.120109</td>\n",
       "    </tr>\n",
       "    <tr>\n",
       "      <th>std</th>\n",
       "      <td>6.532709</td>\n",
       "      <td>6.480783</td>\n",
       "      <td>6.575411</td>\n",
       "      <td>6.501398</td>\n",
       "      <td>2.731251e+06</td>\n",
       "      <td>5.203407</td>\n",
       "    </tr>\n",
       "    <tr>\n",
       "      <th>min</th>\n",
       "      <td>72.529999</td>\n",
       "      <td>73.690002</td>\n",
       "      <td>71.849998</td>\n",
       "      <td>72.010002</td>\n",
       "      <td>2.199300e+06</td>\n",
       "      <td>58.382045</td>\n",
       "    </tr>\n",
       "    <tr>\n",
       "      <th>25%</th>\n",
       "      <td>78.247498</td>\n",
       "      <td>79.519997</td>\n",
       "      <td>77.467501</td>\n",
       "      <td>78.577497</td>\n",
       "      <td>4.457125e+06</td>\n",
       "      <td>64.029466</td>\n",
       "    </tr>\n",
       "    <tr>\n",
       "      <th>50%</th>\n",
       "      <td>82.840000</td>\n",
       "      <td>83.619999</td>\n",
       "      <td>82.474998</td>\n",
       "      <td>83.020001</td>\n",
       "      <td>5.460550e+06</td>\n",
       "      <td>67.693782</td>\n",
       "    </tr>\n",
       "    <tr>\n",
       "      <th>75%</th>\n",
       "      <td>89.467499</td>\n",
       "      <td>90.025001</td>\n",
       "      <td>89.132497</td>\n",
       "      <td>89.334999</td>\n",
       "      <td>7.009550e+06</td>\n",
       "      <td>72.779940</td>\n",
       "    </tr>\n",
       "    <tr>\n",
       "      <th>max</th>\n",
       "      <td>98.970001</td>\n",
       "      <td>99.099998</td>\n",
       "      <td>97.250000</td>\n",
       "      <td>97.750000</td>\n",
       "      <td>2.790630e+07</td>\n",
       "      <td>79.099823</td>\n",
       "    </tr>\n",
       "  </tbody>\n",
       "</table>\n",
       "</div>"
      ],
      "text/plain": [
       "             Open        High         Low       Close        Volume  \\\n",
       "count  252.000000  252.000000  252.000000  252.000000  2.520000e+02   \n",
       "mean    83.814286   84.452302   83.265476   83.786191  6.107654e+06   \n",
       "std      6.532709    6.480783    6.575411    6.501398  2.731251e+06   \n",
       "min     72.529999   73.690002   71.849998   72.010002  2.199300e+06   \n",
       "25%     78.247498   79.519997   77.467501   78.577497  4.457125e+06   \n",
       "50%     82.840000   83.619999   82.474998   83.020001  5.460550e+06   \n",
       "75%     89.467499   90.025001   89.132497   89.334999  7.009550e+06   \n",
       "max     98.970001   99.099998   97.250000   97.750000  2.790630e+07   \n",
       "\n",
       "        Adj Close  \n",
       "count  252.000000  \n",
       "mean    68.120109  \n",
       "std      5.203407  \n",
       "min     58.382045  \n",
       "25%     64.029466  \n",
       "50%     67.693782  \n",
       "75%     72.779940  \n",
       "max     79.099823  "
      ]
     },
     "execution_count": 92,
     "metadata": {},
     "output_type": "execute_result"
    }
   ],
   "source": [
    "df[df.index.str.startswith('2005-')].describe()"
   ]
  },
  {
   "cell_type": "code",
   "execution_count": null,
   "metadata": {
    "collapsed": true
   },
   "outputs": [],
   "source": []
  }
 ],
 "metadata": {
  "kernelspec": {
   "display_name": "Python 2",
   "language": "python",
   "name": "python2"
  },
  "language_info": {
   "codemirror_mode": {
    "name": "ipython",
    "version": 2
   },
   "file_extension": ".py",
   "mimetype": "text/x-python",
   "name": "python",
   "nbconvert_exporter": "python",
   "pygments_lexer": "ipython2",
   "version": "2.7.11"
  }
 },
 "nbformat": 4,
 "nbformat_minor": 0
}
