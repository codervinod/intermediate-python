{
 "metadata": {
  "name": "17-Subprocess"
 }, 
 "nbformat": 2, 
 "worksheets": [
  {
   "cells": [
    {
     "cell_type": "markdown", 
     "source": [
      "# Subprocess"
     ]
    }, 
    {
     "cell_type": "code", 
     "collapsed": true, 
     "input": [
      "import subprocess"
     ], 
     "language": "python", 
     "outputs": [], 
     "prompt_number": 1
    }, 
    {
     "cell_type": "markdown", 
     "source": [
      "## Calling subprocesses", 
      "", 
      "There are several convenience methods for calling subprocesses, either using or", 
      "discarding their output:", 
      "", 
      "- `call()`", 
      "- `check_call()`", 
      "- `check_output()`"
     ]
    }, 
    {
     "cell_type": "code", 
     "collapsed": false, 
     "input": [
      "subprocess.call('ls')"
     ], 
     "language": "python", 
     "outputs": [
      {
       "output_type": "pyout", 
       "prompt_number": 2, 
       "text": [
        "0"
       ]
      }
     ], 
     "prompt_number": 2
    }, 
    {
     "cell_type": "code", 
     "collapsed": false, 
     "input": [
      "subprocess.check_call('ls')"
     ], 
     "language": "python", 
     "outputs": [
      {
       "output_type": "pyout", 
       "prompt_number": 3, 
       "text": [
        "0"
       ]
      }
     ], 
     "prompt_number": 3
    }, 
    {
     "cell_type": "code", 
     "collapsed": false, 
     "input": [
      "subprocess.check_output('ls')"
     ], 
     "language": "python", 
     "outputs": [
      {
       "output_type": "pyout", 
       "prompt_number": 4, 
       "text": [
        "'01-BasicPythonSyntax\\n01-BasicPythonSyntax_files\\n01-BasicPythonSyntax.html\\n01-BasicPythonSyntax.ipynb\\n02-Builtins\\n02-Builtins_files\\n02-Builtins.html\\n02-Builtins.ipynb\\n03-FileIO\\n03-FileIO_files\\n03-FileIO.html\\n03-FileIO.ipynb\\n04-UsingModules\\n04-UsingModules_files\\n04-UsingModules.html\\n04-UsingModules.ipynb\\n05-Strings\\n05-Strings_files\\n05-Strings.html\\n05-Strings.ipynb\\n06a-Packages\\n06-Regex\\n06-Regex_files\\n06-Regex.html\\n06-Regex.ipynb\\n07-Functions\\n07-Functions_files\\n07-Functions.html\\n07-Functions.ipynb\\n08-AdvancedFunctions\\n08-AdvancedFunctions_files\\n08-AdvancedFunctions.html\\n08-AdvancedFunctions.ipynb\\n09-Logging\\n09-Logging_files\\n09-Logging.html\\n09-Logging.ipynb\\n10-OOP1\\n10-OOP1_files\\n10-OOP1.html\\n10-OOP1.ipynb\\n11-OOP2\\n11-OOP2_files\\n11-OOP2.html\\n11-OOP2.ipynb\\n12-Decorators\\n12-Decorators_files\\n12-Decorators.html\\n12-Decorators.ipynb\\n13-Generators\\n13-GeneratorsAndIterators_files\\n13-GeneratorsAndIterators.html\\n13-GeneratorsAndIterators.ipynb\\n14-ContextManagers\\n14-ContextManagers_files\\n14-ContextManagers.html\\n14-ContextManagers.ipynb\\n15-Threading\\n16-Multiprocessing\\n17-Subprocess\\n17-Subprocess.ipynb\\n18-Virtualenv\\n19-Testing\\n20-MoreModules.ipynb\\nfabfile.py\\nfabfile.pyc\\nFastTrackToPython.pdf\\nindex.md\\nVagrantfile\\n'"
       ]
      }
     ], 
     "prompt_number": 4
    }, 
    {
     "cell_type": "code", 
     "collapsed": false, 
     "input": [
      "subprocess.check_output(['ls', '-a'])"
     ], 
     "language": "python", 
     "outputs": [
      {
       "output_type": "pyout", 
       "prompt_number": 5, 
       "text": [
        "'.\\n..\\n01-BasicPythonSyntax\\n01-BasicPythonSyntax_files\\n01-BasicPythonSyntax.html\\n01-BasicPythonSyntax.ipynb\\n02-Builtins\\n02-Builtins_files\\n02-Builtins.html\\n02-Builtins.ipynb\\n03-FileIO\\n03-FileIO_files\\n03-FileIO.html\\n03-FileIO.ipynb\\n04-UsingModules\\n04-UsingModules_files\\n04-UsingModules.html\\n04-UsingModules.ipynb\\n05-Strings\\n05-Strings_files\\n05-Strings.html\\n05-Strings.ipynb\\n06a-Packages\\n06-Regex\\n06-Regex_files\\n06-Regex.html\\n06-Regex.ipynb\\n07-Functions\\n07-Functions_files\\n07-Functions.html\\n07-Functions.ipynb\\n08-AdvancedFunctions\\n08-AdvancedFunctions_files\\n08-AdvancedFunctions.html\\n08-AdvancedFunctions.ipynb\\n09-Logging\\n09-Logging_files\\n09-Logging.html\\n09-Logging.ipynb\\n10-OOP1\\n10-OOP1_files\\n10-OOP1.html\\n10-OOP1.ipynb\\n11-OOP2\\n11-OOP2_files\\n11-OOP2.html\\n11-OOP2.ipynb\\n12-Decorators\\n12-Decorators_files\\n12-Decorators.html\\n12-Decorators.ipynb\\n13-Generators\\n13-GeneratorsAndIterators_files\\n13-GeneratorsAndIterators.html\\n13-GeneratorsAndIterators.ipynb\\n14-ContextManagers\\n14-ContextManagers_files\\n14-ContextManagers.html\\n14-ContextManagers.ipynb\\n15-Threading\\n16-Multiprocessing\\n17-Subprocess\\n17-Subprocess.ipynb\\n18-Virtualenv\\n19-Testing\\n20-MoreModules.ipynb\\nfabfile.py\\nfabfile.pyc\\nFastTrackToPython.pdf\\n.git\\nindex.md\\n.vagrant\\nVagrantfile\\n'"
       ]
      }
     ], 
     "prompt_number": 5
    }, 
    {
     "cell_type": "code", 
     "collapsed": false, 
     "input": [
      "subprocess.call(['ls', '/directory/does/not/exist'])"
     ], 
     "language": "python", 
     "outputs": [
      {
       "output_type": "pyout", 
       "prompt_number": 6, 
       "text": [
        "2"
       ]
      }
     ], 
     "prompt_number": 6
    }, 
    {
     "cell_type": "code", 
     "collapsed": false, 
     "input": [
      "try:", 
      "    subprocess.check_output(['ls', '-a', '/directory/does/not/exist'])", 
      "except subprocess.CalledProcessError, error:", 
      "    print 'Exception raised: %s' % error"
     ], 
     "language": "python", 
     "outputs": [
      {
       "output_type": "stream", 
       "stream": "stdout", 
       "text": [
        "Exception raised: Command '['ls', '-a', '/directory/does/not/exist']' returned non-zero exit status 2"
       ]
      }
     ], 
     "prompt_number": 7
    }, 
    {
     "cell_type": "code", 
     "collapsed": false, 
     "input": [
      "try:", 
      "    subprocess.check_call(['ls', '-a', '/directory/does/not/exist'])", 
      "except subprocess.CalledProcessError, error:", 
      "    print 'Exception raised: %s' % error"
     ], 
     "language": "python", 
     "outputs": [
      {
       "output_type": "stream", 
       "stream": "stdout", 
       "text": [
        "Exception raised: Command '['ls', '-a', '/directory/does/not/exist']' returned non-zero exit status 2"
       ]
      }
     ], 
     "prompt_number": 8
    }, 
    {
     "cell_type": "code", 
     "collapsed": false, 
     "input": [
      "subprocess.check_output('ls -a', shell=True)"
     ], 
     "language": "python", 
     "outputs": [
      {
       "output_type": "pyout", 
       "prompt_number": 9, 
       "text": [
        "'.\\n..\\n01-BasicPythonSyntax\\n01-BasicPythonSyntax_files\\n01-BasicPythonSyntax.html\\n01-BasicPythonSyntax.ipynb\\n02-Builtins\\n02-Builtins_files\\n02-Builtins.html\\n02-Builtins.ipynb\\n03-FileIO\\n03-FileIO_files\\n03-FileIO.html\\n03-FileIO.ipynb\\n04-UsingModules\\n04-UsingModules_files\\n04-UsingModules.html\\n04-UsingModules.ipynb\\n05-Strings\\n05-Strings_files\\n05-Strings.html\\n05-Strings.ipynb\\n06a-Packages\\n06-Regex\\n06-Regex_files\\n06-Regex.html\\n06-Regex.ipynb\\n07-Functions\\n07-Functions_files\\n07-Functions.html\\n07-Functions.ipynb\\n08-AdvancedFunctions\\n08-AdvancedFunctions_files\\n08-AdvancedFunctions.html\\n08-AdvancedFunctions.ipynb\\n09-Logging\\n09-Logging_files\\n09-Logging.html\\n09-Logging.ipynb\\n10-OOP1\\n10-OOP1_files\\n10-OOP1.html\\n10-OOP1.ipynb\\n11-OOP2\\n11-OOP2_files\\n11-OOP2.html\\n11-OOP2.ipynb\\n12-Decorators\\n12-Decorators_files\\n12-Decorators.html\\n12-Decorators.ipynb\\n13-Generators\\n13-GeneratorsAndIterators_files\\n13-GeneratorsAndIterators.html\\n13-GeneratorsAndIterators.ipynb\\n14-ContextManagers\\n14-ContextManagers_files\\n14-ContextManagers.html\\n14-ContextManagers.ipynb\\n15-Threading\\n16-Multiprocessing\\n17-Subprocess\\n17-Subprocess.ipynb\\n18-Virtualenv\\n19-Testing\\n20-MoreModules.ipynb\\nfabfile.py\\nfabfile.pyc\\nFastTrackToPython.pdf\\n.git\\nindex.md\\n.vagrant\\nVagrantfile\\n'"
       ]
      }
     ], 
     "prompt_number": 9
    }, 
    {
     "cell_type": "code", 
     "collapsed": false, 
     "input": [
      "import shlex", 
      "command_string = 'ls -l -a'", 
      "print shlex.split(command_string)", 
      "subprocess.check_output(shlex.split(command_string))"
     ], 
     "language": "python", 
     "outputs": [
      {
       "output_type": "stream", 
       "stream": "stdout", 
       "text": [
        "['ls', '-l', '-a']"
       ]
      }, 
      {
       "output_type": "pyout", 
       "prompt_number": 10, 
       "text": [
        "'total 2824\\ndrwxr-xr-x  1 vagrant vagrant    2482 Oct  9 20:46 .\\ndrwxr-xr-x 24 root    root       4096 Oct  3 03:20 ..\\ndrwxr-xr-x  1 vagrant vagrant     238 Oct  9 06:52 01-BasicPythonSyntax\\ndrwxr-xr-x  1 vagrant vagrant     510 Oct  8 08:14 01-BasicPythonSyntax_files\\n-rw-r--r--  1 vagrant vagrant  167970 Oct  8 08:14 01-BasicPythonSyntax.html\\n-rw-r--r--  1 vagrant vagrant   37640 Oct  7 10:58 01-BasicPythonSyntax.ipynb\\ndrwxr-xr-x  1 vagrant vagrant     136 Oct  8 13:17 02-Builtins\\ndrwxr-xr-x  1 vagrant vagrant     510 Oct  8 08:15 02-Builtins_files\\n-rw-r--r--  1 vagrant vagrant   73444 Oct  8 08:15 02-Builtins.html\\n-rw-r--r--  1 vagrant vagrant   16244 Oct  7 10:58 02-Builtins.ipynb\\ndrwxr-xr-x  1 vagrant vagrant     102 Oct  8 13:41 03-FileIO\\ndrwxr-xr-x  1 vagrant vagrant     510 Oct  8 08:15 03-FileIO_files\\n-rw-r--r--  1 vagrant vagrant   41620 Oct  8 08:15 03-FileIO.html\\n-rw-r--r--  1 vagrant vagrant    9576 Oct  7 10:58 03-FileIO.ipynb\\ndrwxr-xr-x  1 vagrant vagrant     374 Oct  9 06:52 04-UsingModules\\ndrwxr-xr-x  1 vagrant vagrant     510 Oct  8 08:15 04-UsingModules_files\\n-rw-r--r--  1 vagrant vagrant  137356 Oct  8 08:15 04-UsingModules.html\\n-rw-r--r--  1 vagrant vagrant   45766 Oct  7 10:59 04-UsingModules.ipynb\\ndrwxr-xr-x  1 vagrant vagrant     170 Oct  8 15:59 05-Strings\\ndrwxr-xr-x  1 vagrant vagrant     510 Oct  8 08:15 05-Strings_files\\n-rw-r--r--  1 vagrant vagrant   79928 Oct  8 08:15 05-Strings.html\\n-rw-r--r--  1 vagrant vagrant   17750 Oct  7 10:59 05-Strings.ipynb\\ndrwxr-xr-x  1 vagrant vagrant     238 Oct  8 18:02 06a-Packages\\ndrwxr-xr-x  1 vagrant vagrant     102 Oct  8 16:26 06-Regex\\ndrwxr-xr-x  1 vagrant vagrant     510 Oct  8 08:15 06-Regex_files\\n-rw-r--r--  1 vagrant vagrant   64794 Oct  8 08:15 06-Regex.html\\n-rw-r--r--  1 vagrant vagrant   12896 Oct  7 10:59 06-Regex.ipynb\\ndrwxr-xr-x  1 vagrant vagrant     102 Oct  9 10:12 07-Functions\\ndrwxr-xr-x  1 vagrant vagrant     510 Oct  8 08:16 07-Functions_files\\n-rw-r--r--  1 vagrant vagrant   45536 Oct  8 08:16 07-Functions.html\\n-rw-r--r--  1 vagrant vagrant    8062 Oct  9 08:01 07-Functions.ipynb\\ndrwxr-xr-x  1 vagrant vagrant     136 Oct  9 10:59 08-AdvancedFunctions\\ndrwxr-xr-x  1 vagrant vagrant     510 Oct  8 08:16 08-AdvancedFunctions_files\\n-rw-r--r--  1 vagrant vagrant   34295 Oct  8 08:16 08-AdvancedFunctions.html\\n-rw-r--r--  1 vagrant vagrant    5848 Oct  7 17:05 08-AdvancedFunctions.ipynb\\ndrwxr-xr-x  1 vagrant vagrant     170 Oct  7 16:25 09-Logging\\ndrwxr-xr-x  1 vagrant vagrant     510 Oct  8 08:16 09-Logging_files\\n-rw-r--r--  1 vagrant vagrant   47018 Oct  8 08:16 09-Logging.html\\n-rw-r--r--  1 vagrant vagrant   10741 Oct  7 16:48 09-Logging.ipynb\\ndrwxr-xr-x  1 vagrant vagrant     102 Oct  9 19:35 10-OOP1\\ndrwxr-xr-x  1 vagrant vagrant     510 Oct  8 08:16 10-OOP1_files\\n-rw-r--r--  1 vagrant vagrant   35789 Oct  8 08:16 10-OOP1.html\\n-rw-r--r--  1 vagrant vagrant    6375 Oct  7 17:05 10-OOP1.ipynb\\ndrwxr-xr-x  1 vagrant vagrant     136 Oct  9 14:19 11-OOP2\\ndrwxr-xr-x  1 vagrant vagrant     510 Oct  8 08:17 11-OOP2_files\\n-rw-r--r--  1 vagrant vagrant   72396 Oct  8 08:17 11-OOP2.html\\n-rw-r--r--  1 vagrant vagrant   14740 Oct  7 17:50 11-OOP2.ipynb\\ndrwxr-xr-x  1 vagrant vagrant     170 Oct  9 15:13 12-Decorators\\ndrwxr-xr-x  1 vagrant vagrant     510 Oct  8 08:17 12-Decorators_files\\n-rw-r--r--  1 vagrant vagrant   64594 Oct  8 08:17 12-Decorators.html\\n-rw-r--r--  1 vagrant vagrant   12311 Oct  7 18:36 12-Decorators.ipynb\\ndrwxr-xr-x  1 vagrant vagrant     102 Oct  9 16:17 13-Generators\\ndrwxr-xr-x  1 vagrant vagrant     510 Oct  8 08:17 13-GeneratorsAndIterators_files\\n-rw-r--r--  1 vagrant vagrant   71092 Oct  8 08:17 13-GeneratorsAndIterators.html\\n-rw-r--r--  1 vagrant vagrant   12557 Oct  7 19:06 13-GeneratorsAndIterators.ipynb\\ndrwxr-xr-x  1 vagrant vagrant     204 Oct  9 17:36 14-ContextManagers\\ndrwxr-xr-x  1 vagrant vagrant     510 Oct  8 08:18 14-ContextManagers_files\\n-rw-r--r--  1 vagrant vagrant   47276 Oct  8 08:18 14-ContextManagers.html\\n-rw-r--r--  1 vagrant vagrant    9241 Oct  7 19:42 14-ContextManagers.ipynb\\ndrwxr-xr-x  1 vagrant vagrant     544 Oct  8 07:42 15-Threading\\ndrwxr-xr-x  1 vagrant vagrant     272 Oct  8 07:46 16-Multiprocessing\\ndrwxr-xr-x  1 vagrant vagrant     136 Oct  9 19:30 17-Subprocess\\n-rw-r--r--  1 vagrant vagrant   19419 Oct  9 20:09 17-Subprocess.ipynb\\ndrwxr-xr-x  1 vagrant vagrant     204 Oct  9 18:54 18-Virtualenv\\ndrwxr-xr-x  1 vagrant vagrant     850 Oct  9 20:42 19-Testing\\n-rw-r--r--  1 vagrant vagrant   25677 Oct  9 20:45 20-MoreModules.ipynb\\n-rw-r--r--  1 vagrant vagrant    1211 Oct  8 08:32 fabfile.py\\n-rw-r--r--  1 vagrant vagrant    1823 Oct  8 08:33 fabfile.pyc\\n-rw-r--r--  1 vagrant vagrant 1548914 Oct  8 08:20 FastTrackToPython.pdf\\ndrwxr-xr-x  1 vagrant vagrant     442 Oct  9 19:44 .git\\n-rw-r--r--  1 vagrant vagrant    1358 Oct  9 20:46 index.md\\n-rw-r--r--  1 vagrant vagrant      61 Oct  3 03:19 .vagrant\\n-rw-r--r--  1 vagrant vagrant    4008 Oct  3 03:20 Vagrantfile\\n'"
       ]
      }
     ], 
     "prompt_number": 10
    }, 
    {
     "cell_type": "markdown", 
     "source": [
      "## Popen", 
      "", 
      "The above methods are just wrappers around the `Popen` constructor:"
     ]
    }, 
    {
     "cell_type": "code", 
     "collapsed": false, 
     "input": [
      "help(subprocess.Popen.__init__)"
     ], 
     "language": "python", 
     "outputs": [
      {
       "output_type": "stream", 
       "stream": "stdout", 
       "text": [
        "Help on method __init__ in module subprocess:", 
        "", 
        "__init__(self, args, bufsize=0, executable=None, stdin=None, stdout=None, stderr=None, preexec_fn=None, close_fds=False, shell=False, cwd=None, env=None, universal_newlines=False, startupinfo=None, creationflags=0) unbound subprocess.Popen method", 
        "    Create new Popen instance.", 
        ""
       ]
      }
     ], 
     "prompt_number": 11
    }, 
    {
     "cell_type": "code", 
     "collapsed": false, 
     "input": [
      "sp = subprocess.Popen('ls', stdout=subprocess.PIPE)", 
      "print sp.stdout"
     ], 
     "language": "python", 
     "outputs": [
      {
       "output_type": "stream", 
       "stream": "stdout", 
       "text": [
        "<open file '<fdopen>', mode 'rb' at 0x185e930>"
       ]
      }
     ], 
     "prompt_number": 12
    }, 
    {
     "cell_type": "code", 
     "collapsed": false, 
     "input": [
      "print sp.stdout.read(20)"
     ], 
     "language": "python", 
     "outputs": [
      {
       "output_type": "stream", 
       "stream": "stdout", 
       "text": [
        "01-BasicPythonSyntax"
       ]
      }
     ], 
     "prompt_number": 13
    }, 
    {
     "cell_type": "code", 
     "collapsed": false, 
     "input": [
      "sp.wait()"
     ], 
     "language": "python", 
     "outputs": [
      {
       "output_type": "pyout", 
       "prompt_number": 14, 
       "text": [
        "0"
       ]
      }
     ], 
     "prompt_number": 14
    }, 
    {
     "cell_type": "code", 
     "collapsed": true, 
     "input": [
      "sp = subprocess.Popen('vi')"
     ], 
     "language": "python", 
     "outputs": [], 
     "prompt_number": 15
    }, 
    {
     "cell_type": "code", 
     "collapsed": true, 
     "input": [
      "sp.poll()"
     ], 
     "language": "python", 
     "outputs": [], 
     "prompt_number": 16
    }, 
    {
     "cell_type": "code", 
     "collapsed": true, 
     "input": [
      "sp.terminate()"
     ], 
     "language": "python", 
     "outputs": [], 
     "prompt_number": 17
    }, 
    {
     "cell_type": "code", 
     "collapsed": false, 
     "input": [
      "sp.wait()"
     ], 
     "language": "python", 
     "outputs": [
      {
       "output_type": "pyout", 
       "prompt_number": 18, 
       "text": [
        "-15"
       ]
      }
     ], 
     "prompt_number": 18
    }, 
    {
     "cell_type": "code", 
     "collapsed": false, 
     "input": [
      "sp = subprocess.Popen(", 
      "    'ls',", 
      "    stdout=subprocess.PIPE)", 
      "print sp.communicate()"
     ], 
     "language": "python", 
     "outputs": [
      {
       "output_type": "stream", 
       "stream": "stdout", 
       "text": [
        "('01-BasicPythonSyntax\\n01-BasicPythonSyntax_files\\n01-BasicPythonSyntax.html\\n01-BasicPythonSyntax.ipynb\\n02-Builtins\\n02-Builtins_files\\n02-Builtins.html\\n02-Builtins.ipynb\\n03-FileIO\\n03-FileIO_files\\n03-FileIO.html\\n03-FileIO.ipynb\\n04-UsingModules\\n04-UsingModules_files\\n04-UsingModules.html\\n04-UsingModules.ipynb\\n05-Strings\\n05-Strings_files\\n05-Strings.html\\n05-Strings.ipynb\\n06a-Packages\\n06-Regex\\n06-Regex_files\\n06-Regex.html\\n06-Regex.ipynb\\n07-Functions\\n07-Functions_files\\n07-Functions.html\\n07-Functions.ipynb\\n08-AdvancedFunctions\\n08-AdvancedFunctions_files\\n08-AdvancedFunctions.html\\n08-AdvancedFunctions.ipynb\\n09-Logging\\n09-Logging_files\\n09-Logging.html\\n09-Logging.ipynb\\n10-OOP1\\n10-OOP1_files\\n10-OOP1.html\\n10-OOP1.ipynb\\n11-OOP2\\n11-OOP2_files\\n11-OOP2.html\\n11-OOP2.ipynb\\n12-Decorators\\n12-Decorators_files\\n12-Decorators.html\\n12-Decorators.ipynb\\n13-Generators\\n13-GeneratorsAndIterators_files\\n13-GeneratorsAndIterators.html\\n13-GeneratorsAndIterators.ipynb\\n14-ContextManagers\\n14-ContextManagers_files\\n14-ContextManagers.html\\n14-ContextManagers.ipynb\\n15-Threading\\n16-Multiprocessing\\n17-Subprocess\\n17-Subprocess.ipynb\\n18-Virtualenv\\n19-Testing\\n20-MoreModules.ipynb\\nfabfile.py\\nfabfile.pyc\\nFastTrackToPython.pdf\\nindex.md\\nVagrantfile\\n', None)"
       ]
      }
     ], 
     "prompt_number": 19
    }, 
    {
     "cell_type": "markdown", 
     "source": [
      "## Pipelines"
     ]
    }, 
    {
     "cell_type": "code", 
     "collapsed": false, 
     "input": [
      "sp1 = subprocess.Popen(", 
      "    [ 'ls', '-l' ],", 
      "    stdin=subprocess.PIPE,", 
      "    stdout=subprocess.PIPE)", 
      "sp2 = subprocess.Popen(", 
      "    ['grep', 'FileIO'],", 
      "    stdin=sp1.stdout,", 
      "    stdout=subprocess.PIPE)", 
      "sp1.stdin.close()    ", 
      "print sp2.communicate('FileIO\\nSomethingElse')[0]"
     ], 
     "language": "python", 
     "outputs": [
      {
       "output_type": "stream", 
       "stream": "stdout", 
       "text": [
        "drwxr-xr-x 1 vagrant vagrant     102 Oct  8 13:41 03-FileIO", 
        "drwxr-xr-x 1 vagrant vagrant     510 Oct  8 08:15 03-FileIO_files", 
        "-rw-r--r-- 1 vagrant vagrant   41620 Oct  8 08:15 03-FileIO.html", 
        "-rw-r--r-- 1 vagrant vagrant    9576 Oct  7 10:58 03-FileIO.ipynb", 
        ""
       ]
      }
     ], 
     "prompt_number": 20
    }, 
    {
     "cell_type": "markdown", 
     "source": [
      "### Exercises", 
      "", 
      "- Write a script that uses `os.listdir()` and `subprocess.check_output()` to run ", 
      "  a command on every file in a directory (for instance, the `stat` command)", 
      "- Write a script that creates a pipeline containing two or more commands"
     ]
    }, 
    {
     "cell_type": "code", 
     "collapsed": true, 
     "input": [], 
     "language": "python", 
     "outputs": [], 
     "prompt_number": 20
    }
   ]
  }
 ]
}