{
 "cells": [
  {
   "cell_type": "markdown",
   "metadata": {},
   "source": [
    "# Networking\n",
    "\n",
    "Python has support for both high-level network protocols (HTTP/HTTPS/FTP/SMTP) as well as low-level protocols (sockets)."
   ]
  },
  {
   "cell_type": "markdown",
   "metadata": {},
   "source": [
    "## Fetching web resources with urllib/urllib2\n",
    "\n",
    "The `urllib` and `urllib2` standard library modules allow you to open a URL (almost) just like a file. For example:"
   ]
  },
  {
   "cell_type": "code",
   "execution_count": null,
   "metadata": {
    "collapsed": true
   },
   "outputs": [],
   "source": [
    "import urllib\n",
    "import urllib2"
   ]
  },
  {
   "cell_type": "code",
   "execution_count": null,
   "metadata": {
    "collapsed": false
   },
   "outputs": [],
   "source": [
    "resp = urllib2.urlopen('http://www.bloomberg.net')\n",
    "html = resp.read()\n",
    "len(html)"
   ]
  },
  {
   "cell_type": "markdown",
   "metadata": {
    "collapsed": false
   },
   "source": [
    "You can also POST data to a URL using a `Request` and get the response:"
   ]
  },
  {
   "cell_type": "code",
   "execution_count": null,
   "metadata": {
    "collapsed": false
   },
   "outputs": [],
   "source": [
    "url = 'http://localhost:8000/cgi-bin/print_request.py'\n",
    "values = {'name' : 'Rick Copeland',\n",
    "          'state' : 'Georgia' }\n",
    "\n",
    "data = urllib.urlencode(values)\n",
    "req = urllib2.Request(url, data)\n",
    "response = urllib2.urlopen(req)\n",
    "print response.read()"
   ]
  },
  {
   "cell_type": "code",
   "execution_count": null,
   "metadata": {
    "collapsed": false
   },
   "outputs": [],
   "source": [
    "url = 'http://localhost:8000/cgi-bin/print_json.py'\n",
    "values = {'name' : 'Rick Copeland',\n",
    "          'state' : 'Georgia' }\n",
    "\n",
    "data = urllib.urlencode(values)\n",
    "req = urllib2.Request(url, data)\n",
    "response = urllib2.urlopen(req)\n",
    "print response.read()"
   ]
  },
  {
   "cell_type": "markdown",
   "metadata": {},
   "source": [
    "You can also pass query parameters to a request using `urlencode`:"
   ]
  },
  {
   "cell_type": "code",
   "execution_count": null,
   "metadata": {
    "collapsed": false
   },
   "outputs": [],
   "source": [
    "encoded_values = urllib.urlencode(values)\n",
    "encoded_values"
   ]
  },
  {
   "cell_type": "code",
   "execution_count": null,
   "metadata": {
    "collapsed": false
   },
   "outputs": [],
   "source": [
    "print urllib.urlopen(url + '?' + encoded_values).read()"
   ]
  },
  {
   "cell_type": "markdown",
   "metadata": {},
   "source": [
    "## Sending email with `smtplib`\n",
    "\n",
    "It's frequently useful to send emails from long-running scripts; Python makes this easy with `smtplib`:"
   ]
  },
  {
   "cell_type": "code",
   "execution_count": null,
   "metadata": {
    "collapsed": true
   },
   "outputs": [],
   "source": [
    "import smtplib"
   ]
  },
  {
   "cell_type": "markdown",
   "metadata": {},
   "source": [
    "Most of the time, you'll be connecting to either your ISP's SMTP server, or some other server with authentication. In order to avoid exposing my password and such, I'll just use a local proxy server to print some debugging information:\n",
    "\n",
    "(You can run the proxy with `python -m smtpd -nd`)"
   ]
  },
  {
   "cell_type": "code",
   "execution_count": null,
   "metadata": {
    "collapsed": false
   },
   "outputs": [],
   "source": [
    "conn = smtplib.SMTP('localhost', 8025)\n",
    "conn.set_debuglevel(1)\n",
    "# conn.login(username, password)\n",
    "addr_from = 'rick@arborian.com'\n",
    "addr_to = 'rick446@usa.net'\n",
    "msg = '''Subject: This is a test\n",
    "From: <{}>\n",
    "To: <{}>\n",
    "\n",
    "Test message\n",
    "'''.format(addr_from, addr_to)\n",
    "conn.sendmail(addr_from, [addr_to], msg)"
   ]
  },
  {
   "cell_type": "markdown",
   "metadata": {},
   "source": [
    "If you're going to be putting together more complicated emails, the `email` module is extremely useful (for multipart messages, attachments, etc.):"
   ]
  },
  {
   "cell_type": "code",
   "execution_count": null,
   "metadata": {
    "collapsed": true
   },
   "outputs": [],
   "source": [
    "from email.mime.text import MIMEText"
   ]
  },
  {
   "cell_type": "code",
   "execution_count": null,
   "metadata": {
    "collapsed": false
   },
   "outputs": [],
   "source": [
    "msg = MIMEText('This is a text message')\n",
    "msg['Subject'] = 'This is a test message'\n",
    "msg['From'] = addr_from\n",
    "msg['To'] = addr_to\n",
    "conn.sendmail(addr_from, [addr_to], msg.as_string())"
   ]
  },
  {
   "cell_type": "code",
   "execution_count": null,
   "metadata": {
    "collapsed": false
   },
   "outputs": [],
   "source": [
    "conn.quit()"
   ]
  },
  {
   "cell_type": "markdown",
   "metadata": {},
   "source": [
    "# Socket programmming\n",
    "\n",
    "If you want to use a protocol that Python doesn't support natively (or just want to use your own protocol), you can always use the lower-level `socket` module in the standard library:"
   ]
  },
  {
   "cell_type": "code",
   "execution_count": null,
   "metadata": {
    "collapsed": true
   },
   "outputs": [],
   "source": [
    "import socket"
   ]
  },
  {
   "cell_type": "code",
   "execution_count": null,
   "metadata": {
    "collapsed": true
   },
   "outputs": [],
   "source": [
    "# sock = socket.socket(socket.AF_INET, socket.SOCK_STREAM)\n",
    "sock = socket.socket()"
   ]
  },
  {
   "cell_type": "code",
   "execution_count": null,
   "metadata": {
    "collapsed": false
   },
   "outputs": [],
   "source": [
    "sock.connect(('www.bloomberg.com', 80))\n",
    "http_req = '''GET / HTTP/1.1\n",
    "Host: www.bloomberg.com\n",
    "User-Agent: curl/7.43.0\n",
    "Accept: */*\n",
    "\n",
    "'''\n",
    "sock.sendall(http_req)\n",
    "response = sock.recv(1024)\n",
    "sock.close()\n",
    "print len(response)"
   ]
  },
  {
   "cell_type": "code",
   "execution_count": null,
   "metadata": {
    "collapsed": false
   },
   "outputs": [],
   "source": [
    "print response"
   ]
  },
  {
   "cell_type": "markdown",
   "metadata": {},
   "source": [
    "You can, of course, also build a socket server:"
   ]
  },
  {
   "cell_type": "code",
   "execution_count": null,
   "metadata": {
    "collapsed": false
   },
   "outputs": [],
   "source": [
    "sock_srv = socket.socket()\n",
    "sock_srv.bind(('127.0.0.1', 8042))\n",
    "sock_srv.listen(1)\n",
    "sock_conn, cli_addr = sock_srv.accept()\n",
    "print 'Got a connection from', cli_addr\n",
    "msg = sock_conn.recv(1024)\n",
    "print msg\n",
    "sock_conn.sendall(msg)\n",
    "sock_conn.close()"
   ]
  },
  {
   "cell_type": "markdown",
   "metadata": {},
   "source": [
    "Normally, you'd do something more like the following:"
   ]
  },
  {
   "cell_type": "code",
   "execution_count": null,
   "metadata": {
    "collapsed": false
   },
   "outputs": [],
   "source": [
    "import threading\n",
    "\n",
    "def handle_echo_connection(sock, addr):\n",
    "    print 'Handling connection from', addr\n",
    "    while True:\n",
    "        msg = sock.recv(1024)\n",
    "        if not msg:\n",
    "            break\n",
    "        print 'Got', msg.rstrip()\n",
    "        sock.sendall(msg)\n",
    "    sock.close()\n",
    "    print 'Exiting handler'\n",
    "        \n",
    "sock_srv = socket.socket()\n",
    "sock_srv.bind(('127.0.0.1', 8043))\n",
    "sock_srv.listen(1)\n",
    "\n",
    "while True:\n",
    "    sock_conn, cli_addr = sock_srv.accept()\n",
    "    thd = threading.Thread(target=handle_echo_connection, args=(sock_conn, cli_addr))\n",
    "    thd.setDaemon(True)\n",
    "    thd.start()\n",
    "    break   # normally we'd keep looping\n",
    "\n",
    "print 'Closing server socket'\n",
    "sock_srv.close()"
   ]
  },
  {
   "cell_type": "markdown",
   "metadata": {},
   "source": [
    "## Building a simple JSON REST API client\n",
    "\n",
    "We're going to use a simple in-memory key/value store with a few endpoints:\n",
    "\n",
    " - GET / - return a list of collection names\n",
    " - GET /{cname} - return a list of ids for documents in a collection\n",
    " - POST /{cname} - insert a document (with auto-generated id) in a collection\n",
    " - DELETE /{cname} - drop a collection\n",
    " - GET /{cname}/{id} - return a document\n",
    " - PUT /{cname}/{id} - insert/replace a document\n",
    " - DELETE /{cname}/{id} - delete a document"
   ]
  },
  {
   "cell_type": "code",
   "execution_count": null,
   "metadata": {
    "collapsed": true
   },
   "outputs": [],
   "source": [
    "import json\n",
    "import httplib\n",
    "\n",
    "class Database(object):\n",
    "    \n",
    "    def __init__(self, url):\n",
    "        self._url = url\n",
    "        \n",
    "    def collections(self):\n",
    "        resp = json.load(urllib2.urlopen(self._url))\n",
    "        return resp"
   ]
  },
  {
   "cell_type": "code",
   "execution_count": null,
   "metadata": {
    "collapsed": false
   },
   "outputs": [],
   "source": [
    "db = Database('http://localhost:5000')\n",
    "db.collections()"
   ]
  },
  {
   "cell_type": "markdown",
   "metadata": {},
   "source": [
    "Unfortunately, `urllib2` requests are a little broken when it comes to HTTP methods, so we'll have to subclass them:"
   ]
  },
  {
   "cell_type": "code",
   "execution_count": null,
   "metadata": {
    "collapsed": true
   },
   "outputs": [],
   "source": [
    "class PUT(urllib2.Request):\n",
    "    def get_method(self):\n",
    "        return 'PUT'\n",
    "\n",
    "class DELETE(urllib2.Request):\n",
    "    def get_method(self):\n",
    "        return 'DELETE'"
   ]
  },
  {
   "cell_type": "code",
   "execution_count": null,
   "metadata": {
    "collapsed": true
   },
   "outputs": [],
   "source": [
    "class Database(object):\n",
    "    \n",
    "    def __init__(self, url):\n",
    "        self._url = url\n",
    "        \n",
    "    def collections(self):\n",
    "        resp = json.load(urllib2.urlopen(self._url))\n",
    "        return resp\n",
    "    \n",
    "    def _href_collection(self, cname):\n",
    "        return '%s/%s' % (self._url, cname)\n",
    "    \n",
    "    def __getitem__(self, cname):\n",
    "        return Collection(self._href_collection(cname))\n",
    "    \n",
    "    def __delitem__(self, cname):\n",
    "        req = DELETE(self._href_collection(cname))\n",
    "        return json.load(urllib2.urlopen(req))\n",
    "\n",
    "class Collection(object):\n",
    "    \n",
    "    def __init__(self, url):\n",
    "        self._url = url\n",
    "        \n",
    "    def documents(self):\n",
    "        resp = json.load(urllib2.urlopen(self._url))\n",
    "        return resp\n",
    "    \n",
    "    def drop(self):\n",
    "        req = DELETE(self._url)\n",
    "        return json.load(urllib2.urlopen(req))\n",
    "    \n",
    "    def insert(self, doc):\n",
    "        return json.load(urllib2.urlopen(\n",
    "            self._url, json.dumps(doc)))\n",
    "    \n",
    "    def _href_doc(self, id):\n",
    "        return '%s/%s' % (self._url, id)\n",
    "    \n",
    "    def __getitem__(self, id):\n",
    "        return json.load(urllib2.urlopen(self._href_doc(id)))\n",
    "    \n",
    "    def __setitem__(self, id, value):\n",
    "        req = PUT(\n",
    "            self._href_doc(id), \n",
    "            json.dumps(value), \n",
    "            {'Content-Type': 'application/json'})\n",
    "        return json.load(urllib2.urlopen(req))\n",
    "    \n",
    "    def __delitem__(self, id):\n",
    "        req = DELETE(self._href_doc(id))\n",
    "        response = urllib2.urlopen(req)\n",
    "        return json.load(urllib2.urlopen(req))\n",
    "    \n",
    "    "
   ]
  },
  {
   "cell_type": "code",
   "execution_count": null,
   "metadata": {
    "collapsed": false
   },
   "outputs": [],
   "source": [
    "db = Database('http://localhost:5000')\n",
    "coll = db['foo']\n",
    "coll['0'] = {'name': 'Foo'}\n",
    "db.collections()"
   ]
  },
  {
   "cell_type": "code",
   "execution_count": null,
   "metadata": {
    "collapsed": false
   },
   "outputs": [],
   "source": [
    "coll.documents()"
   ]
  },
  {
   "cell_type": "code",
   "execution_count": null,
   "metadata": {
    "collapsed": false
   },
   "outputs": [],
   "source": [
    "coll.insert({'name': 'Bar'})"
   ]
  },
  {
   "cell_type": "code",
   "execution_count": null,
   "metadata": {
    "collapsed": false
   },
   "outputs": [],
   "source": [
    "docs = coll.documents()\n",
    "docs = dict((d['id'], d['href']) for d in docs['docs'])\n",
    "docs"
   ]
  },
  {
   "cell_type": "code",
   "execution_count": null,
   "metadata": {
    "collapsed": false
   },
   "outputs": [],
   "source": [
    "coll[0]"
   ]
  },
  {
   "cell_type": "code",
   "execution_count": null,
   "metadata": {
    "collapsed": false
   },
   "outputs": [],
   "source": [
    "del db['foo']['0']"
   ]
  },
  {
   "cell_type": "code",
   "execution_count": null,
   "metadata": {
    "collapsed": false
   },
   "outputs": [],
   "source": [
    "coll.documents()"
   ]
  },
  {
   "cell_type": "code",
   "execution_count": null,
   "metadata": {
    "collapsed": false
   },
   "outputs": [],
   "source": [
    "coll.drop()"
   ]
  },
  {
   "cell_type": "code",
   "execution_count": null,
   "metadata": {
    "collapsed": false
   },
   "outputs": [],
   "source": [
    "db.collections()"
   ]
  },
  {
   "cell_type": "markdown",
   "metadata": {},
   "source": [
    "### Exercises:\n",
    "- Do a GET request to the \"ARRPI Talk like a Pirate Translation\" API to translate \"Hello world!\" into pirate speak.\n",
    "    (http://isithackday.com/arrpi.php?) \n"
   ]
  }
 ],
 "metadata": {
  "kernelspec": {
   "display_name": "Python 2",
   "language": "python",
   "name": "python2"
  },
  "language_info": {
   "codemirror_mode": {
    "name": "ipython",
    "version": 2
   },
   "file_extension": ".py",
   "mimetype": "text/x-python",
   "name": "python",
   "nbconvert_exporter": "python",
   "pygments_lexer": "ipython2",
   "version": "2.7.11"
  }
 },
 "nbformat": 4,
 "nbformat_minor": 0
}
