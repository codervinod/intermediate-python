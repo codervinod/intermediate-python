{
 "cells": [
  {
   "cell_type": "markdown",
   "metadata": {},
   "source": [
    "# Convenient data manipulation using Pandas\n",
    "\n",
    "Although NumPy and SciPy provide useful functionality for manipulating numerical data, the semantic meaning of the data can be easily lost. Pandas provides a few versatile data structures and functionality to keep things together."
   ]
  },
  {
   "cell_type": "code",
   "execution_count": 1,
   "metadata": {
    "collapsed": true
   },
   "outputs": [],
   "source": [
    "%matplotlib inline\n",
    "import numpy as np\n",
    "import matplotlib as mpl\n",
    "import matplotlib.pyplot as plt\n",
    "import pandas as pd"
   ]
  },
  {
   "cell_type": "markdown",
   "metadata": {},
   "source": [
    "## The DataFrame"
   ]
  },
  {
   "cell_type": "code",
   "execution_count": 2,
   "metadata": {
    "collapsed": false
   },
   "outputs": [
    {
     "data": {
      "text/plain": [
       "pandas.core.frame.DataFrame"
      ]
     },
     "execution_count": 2,
     "metadata": {},
     "output_type": "execute_result"
    }
   ],
   "source": [
    "df = pd.read_csv('http://ichart.finance.yahoo.com/table.csv?d=6&e=1&f=2009&g=d&a=7&b=19&c=2004&ignore=.csv&s=IBM')\n",
    "type(df)"
   ]
  },
  {
   "cell_type": "code",
   "execution_count": 3,
   "metadata": {
    "collapsed": false
   },
   "outputs": [
    {
     "data": {
      "text/html": [
       "<div>\n",
       "<table border=\"1\" class=\"dataframe\">\n",
       "  <thead>\n",
       "    <tr style=\"text-align: right;\">\n",
       "      <th></th>\n",
       "      <th>Date</th>\n",
       "      <th>Open</th>\n",
       "      <th>High</th>\n",
       "      <th>Low</th>\n",
       "      <th>Close</th>\n",
       "      <th>Volume</th>\n",
       "      <th>Adj Close</th>\n",
       "    </tr>\n",
       "  </thead>\n",
       "  <tbody>\n",
       "    <tr>\n",
       "      <th>0</th>\n",
       "      <td>2009-07-01</td>\n",
       "      <td>105.000000</td>\n",
       "      <td>106.269997</td>\n",
       "      <td>104.730003</td>\n",
       "      <td>104.839996</td>\n",
       "      <td>5537300</td>\n",
       "      <td>90.502904</td>\n",
       "    </tr>\n",
       "    <tr>\n",
       "      <th>1</th>\n",
       "      <td>2009-06-30</td>\n",
       "      <td>105.690002</td>\n",
       "      <td>106.029999</td>\n",
       "      <td>103.809998</td>\n",
       "      <td>104.419998</td>\n",
       "      <td>7512600</td>\n",
       "      <td>90.140341</td>\n",
       "    </tr>\n",
       "    <tr>\n",
       "      <th>2</th>\n",
       "      <td>2009-06-29</td>\n",
       "      <td>105.989998</td>\n",
       "      <td>106.180000</td>\n",
       "      <td>105.160004</td>\n",
       "      <td>105.830002</td>\n",
       "      <td>4681800</td>\n",
       "      <td>91.357524</td>\n",
       "    </tr>\n",
       "    <tr>\n",
       "      <th>3</th>\n",
       "      <td>2009-06-26</td>\n",
       "      <td>106.500000</td>\n",
       "      <td>106.500000</td>\n",
       "      <td>105.050003</td>\n",
       "      <td>105.680000</td>\n",
       "      <td>5127900</td>\n",
       "      <td>91.228035</td>\n",
       "    </tr>\n",
       "  </tbody>\n",
       "</table>\n",
       "</div>"
      ],
      "text/plain": [
       "         Date        Open        High         Low       Close   Volume  \\\n",
       "0  2009-07-01  105.000000  106.269997  104.730003  104.839996  5537300   \n",
       "1  2009-06-30  105.690002  106.029999  103.809998  104.419998  7512600   \n",
       "2  2009-06-29  105.989998  106.180000  105.160004  105.830002  4681800   \n",
       "3  2009-06-26  106.500000  106.500000  105.050003  105.680000  5127900   \n",
       "\n",
       "   Adj Close  \n",
       "0  90.502904  \n",
       "1  90.140341  \n",
       "2  91.357524  \n",
       "3  91.228035  "
      ]
     },
     "execution_count": 3,
     "metadata": {},
     "output_type": "execute_result"
    }
   ],
   "source": [
    "df[:4]"
   ]
  },
  {
   "cell_type": "code",
   "execution_count": 4,
   "metadata": {
    "collapsed": true
   },
   "outputs": [],
   "source": [
    "df = pd.read_csv(\n",
    "    'http://ichart.finance.yahoo.com/table.csv?d=6&e=1&f=2009&g=d&a=7&b=19&c=2004&ignore=.csv&s=IBM',\n",
    "    parse_dates='Date', index_col='Date')\n"
   ]
  },
  {
   "cell_type": "code",
   "execution_count": 5,
   "metadata": {
    "collapsed": false
   },
   "outputs": [
    {
     "data": {
      "text/html": [
       "<div>\n",
       "<table border=\"1\" class=\"dataframe\">\n",
       "  <thead>\n",
       "    <tr style=\"text-align: right;\">\n",
       "      <th></th>\n",
       "      <th>Open</th>\n",
       "      <th>High</th>\n",
       "      <th>Low</th>\n",
       "      <th>Close</th>\n",
       "      <th>Volume</th>\n",
       "      <th>Adj Close</th>\n",
       "    </tr>\n",
       "    <tr>\n",
       "      <th>Date</th>\n",
       "      <th></th>\n",
       "      <th></th>\n",
       "      <th></th>\n",
       "      <th></th>\n",
       "      <th></th>\n",
       "      <th></th>\n",
       "    </tr>\n",
       "  </thead>\n",
       "  <tbody>\n",
       "    <tr>\n",
       "      <th>2009-07-01</th>\n",
       "      <td>105.000000</td>\n",
       "      <td>106.269997</td>\n",
       "      <td>104.730003</td>\n",
       "      <td>104.839996</td>\n",
       "      <td>5537300</td>\n",
       "      <td>90.502904</td>\n",
       "    </tr>\n",
       "    <tr>\n",
       "      <th>2009-06-30</th>\n",
       "      <td>105.690002</td>\n",
       "      <td>106.029999</td>\n",
       "      <td>103.809998</td>\n",
       "      <td>104.419998</td>\n",
       "      <td>7512600</td>\n",
       "      <td>90.140341</td>\n",
       "    </tr>\n",
       "    <tr>\n",
       "      <th>2009-06-29</th>\n",
       "      <td>105.989998</td>\n",
       "      <td>106.180000</td>\n",
       "      <td>105.160004</td>\n",
       "      <td>105.830002</td>\n",
       "      <td>4681800</td>\n",
       "      <td>91.357524</td>\n",
       "    </tr>\n",
       "    <tr>\n",
       "      <th>2009-06-26</th>\n",
       "      <td>106.500000</td>\n",
       "      <td>106.500000</td>\n",
       "      <td>105.050003</td>\n",
       "      <td>105.680000</td>\n",
       "      <td>5127900</td>\n",
       "      <td>91.228035</td>\n",
       "    </tr>\n",
       "  </tbody>\n",
       "</table>\n",
       "</div>"
      ],
      "text/plain": [
       "                  Open        High         Low       Close   Volume  Adj Close\n",
       "Date                                                                          \n",
       "2009-07-01  105.000000  106.269997  104.730003  104.839996  5537300  90.502904\n",
       "2009-06-30  105.690002  106.029999  103.809998  104.419998  7512600  90.140341\n",
       "2009-06-29  105.989998  106.180000  105.160004  105.830002  4681800  91.357524\n",
       "2009-06-26  106.500000  106.500000  105.050003  105.680000  5127900  91.228035"
      ]
     },
     "execution_count": 5,
     "metadata": {},
     "output_type": "execute_result"
    }
   ],
   "source": [
    "df[:4]"
   ]
  },
  {
   "cell_type": "code",
   "execution_count": 6,
   "metadata": {
    "collapsed": false
   },
   "outputs": [
    {
     "data": {
      "text/plain": [
       "pandas.core.series.Series"
      ]
     },
     "execution_count": 6,
     "metadata": {},
     "output_type": "execute_result"
    }
   ],
   "source": [
    "type(df['Open'])"
   ]
  },
  {
   "cell_type": "code",
   "execution_count": 7,
   "metadata": {
    "collapsed": false
   },
   "outputs": [
    {
     "data": {
      "text/plain": [
       "pandas.core.frame.DataFrame"
      ]
     },
     "execution_count": 7,
     "metadata": {},
     "output_type": "execute_result"
    }
   ],
   "source": [
    "type(df)"
   ]
  },
  {
   "cell_type": "code",
   "execution_count": 8,
   "metadata": {
    "collapsed": false
   },
   "outputs": [
    {
     "data": {
      "text/plain": [
       "<matplotlib.axes._subplots.AxesSubplot at 0x1089ba810>"
      ]
     },
     "execution_count": 8,
     "metadata": {},
     "output_type": "execute_result"
    },
    {
     "data": {
      "image/png": "[encoded data removed]",
      "text/plain": [
       "<matplotlib.figure.Figure at 0x106544ad0>"
      ]
     },
     "metadata": {},
     "output_type": "display_data"
    }
   ],
   "source": [
    "df['Close'].plot()"
   ]
  },
  {
   "cell_type": "code",
   "execution_count": 9,
   "metadata": {
    "collapsed": false
   },
   "outputs": [
    {
     "data": {
      "text/html": [
       "<div>\n",
       "<table border=\"1\" class=\"dataframe\">\n",
       "  <thead>\n",
       "    <tr style=\"text-align: right;\">\n",
       "      <th></th>\n",
       "      <th>Open</th>\n",
       "      <th>High</th>\n",
       "      <th>Low</th>\n",
       "      <th>Close</th>\n",
       "      <th>Volume</th>\n",
       "      <th>Adj Close</th>\n",
       "    </tr>\n",
       "    <tr>\n",
       "      <th>Date</th>\n",
       "      <th></th>\n",
       "      <th></th>\n",
       "      <th></th>\n",
       "      <th></th>\n",
       "      <th></th>\n",
       "      <th></th>\n",
       "    </tr>\n",
       "  </thead>\n",
       "  <tbody>\n",
       "    <tr>\n",
       "      <th>2009-07-01</th>\n",
       "      <td>105.000000</td>\n",
       "      <td>106.269997</td>\n",
       "      <td>104.730003</td>\n",
       "      <td>104.839996</td>\n",
       "      <td>5537300</td>\n",
       "      <td>90.502904</td>\n",
       "    </tr>\n",
       "    <tr>\n",
       "      <th>2009-06-30</th>\n",
       "      <td>105.690002</td>\n",
       "      <td>106.029999</td>\n",
       "      <td>103.809998</td>\n",
       "      <td>104.419998</td>\n",
       "      <td>7512600</td>\n",
       "      <td>90.140341</td>\n",
       "    </tr>\n",
       "    <tr>\n",
       "      <th>2009-06-29</th>\n",
       "      <td>105.989998</td>\n",
       "      <td>106.180000</td>\n",
       "      <td>105.160004</td>\n",
       "      <td>105.830002</td>\n",
       "      <td>4681800</td>\n",
       "      <td>91.357524</td>\n",
       "    </tr>\n",
       "    <tr>\n",
       "      <th>2009-06-26</th>\n",
       "      <td>106.500000</td>\n",
       "      <td>106.500000</td>\n",
       "      <td>105.050003</td>\n",
       "      <td>105.680000</td>\n",
       "      <td>5127900</td>\n",
       "      <td>91.228035</td>\n",
       "    </tr>\n",
       "    <tr>\n",
       "      <th>2009-06-25</th>\n",
       "      <td>103.699997</td>\n",
       "      <td>106.790001</td>\n",
       "      <td>103.510002</td>\n",
       "      <td>106.059998</td>\n",
       "      <td>6900600</td>\n",
       "      <td>91.556067</td>\n",
       "    </tr>\n",
       "  </tbody>\n",
       "</table>\n",
       "</div>"
      ],
      "text/plain": [
       "                  Open        High         Low       Close   Volume  Adj Close\n",
       "Date                                                                          \n",
       "2009-07-01  105.000000  106.269997  104.730003  104.839996  5537300  90.502904\n",
       "2009-06-30  105.690002  106.029999  103.809998  104.419998  7512600  90.140341\n",
       "2009-06-29  105.989998  106.180000  105.160004  105.830002  4681800  91.357524\n",
       "2009-06-26  106.500000  106.500000  105.050003  105.680000  5127900  91.228035\n",
       "2009-06-25  103.699997  106.790001  103.510002  106.059998  6900600  91.556067"
      ]
     },
     "execution_count": 9,
     "metadata": {},
     "output_type": "execute_result"
    }
   ],
   "source": [
    "df.head()"
   ]
  },
  {
   "cell_type": "code",
   "execution_count": 24,
   "metadata": {
    "collapsed": false
   },
   "outputs": [
    {
     "data": {
      "image/png": "[encoded data removed]",
      "text/plain": [
       "<matplotlib.figure.Figure at 0x10fd26d90>"
      ]
     },
     "metadata": {},
     "output_type": "display_data"
    }
   ],
   "source": [
    "from matplotlib.finance import candlestick_ohlc\n",
    "from matplotlib.dates import DateFormatter, WeekdayLocator,\\\n",
    "    DayLocator, MONDAY\n",
    "    \n",
    "def candlestick_plot(df):\n",
    "    df_lower_cols = df.copy()\n",
    "    df_lower_cols.columns = [colname.lower() for colname in df_lower_cols.columns]\n",
    "    to_plot = df_lower_cols[['open', 'high', 'low', 'close']]\n",
    "    seconds_since_epoch = to_plot.index.astype(np.int64) // 1e9\n",
    "    to_plot.insert(0, 'Date', 1 + seconds_since_epoch / (24 * 60 * 60))\n",
    "\n",
    "    fig, ax = plt.subplots()\n",
    "\n",
    "    mondays = WeekdayLocator(MONDAY)        # major ticks on the mondays\n",
    "    alldays = DayLocator()              # minor ticks on the days\n",
    "    weekFormatter = DateFormatter('%b %d')  # e.g., Jan 12\n",
    "    dayFormatter = DateFormatter('%d')      # e.g., 12\n",
    "\n",
    "    ax.xaxis.set_major_locator(mondays)\n",
    "    ax.xaxis.set_minor_locator(alldays)\n",
    "    ax.xaxis.set_major_formatter(weekFormatter)\n",
    "\n",
    "    candlestick_ohlc(ax, to_plot.values, width=0.6)\n",
    "\n",
    "    ax.xaxis_date()\n",
    "    ax.autoscale_view()\n",
    "    plt.setp(plt.gca().get_xticklabels(), rotation=45, horizontalalignment='right')\n",
    "\n",
    "    plt.show()\n",
    "    \n",
    "candlestick_plot(df[-20:])\n"
   ]
  },
  {
   "cell_type": "markdown",
   "metadata": {},
   "source": [
    "But suppose you don't have open/high/low/close data. Maybe you just have a list of trades:"
   ]
  },
  {
   "cell_type": "code",
   "execution_count": 25,
   "metadata": {
    "collapsed": false
   },
   "outputs": [
    {
     "data": {
      "text/plain": [
       "<matplotlib.axes._subplots.AxesSubplot at 0x10967dfd0>"
      ]
     },
     "execution_count": 25,
     "metadata": {},
     "output_type": "execute_result"
    },
    {
     "data": {
      "image/png": "[encoded data removed]",
      "text/plain": [
       "<matplotlib.figure.Figure at 0x1092e0390>"
      ]
     },
     "metadata": {},
     "output_type": "display_data"
    }
   ],
   "source": [
    "samples = 14 * 24 * 60 * 60      # per-second data\n",
    "deltas = pd.Series(np.r_[100, np.random.randn(samples-1)], index=pd.date_range('1/1/2000', periods=samples, freq='S'))\n",
    "trades = deltas.cumsum()\n",
    "trades[::3600].plot()"
   ]
  },
  {
   "cell_type": "code",
   "execution_count": 26,
   "metadata": {
    "collapsed": false
   },
   "outputs": [
    {
     "data": {
      "text/html": [
       "<div>\n",
       "<table border=\"1\" class=\"dataframe\">\n",
       "  <thead>\n",
       "    <tr style=\"text-align: right;\">\n",
       "      <th></th>\n",
       "      <th>Trades</th>\n",
       "    </tr>\n",
       "  </thead>\n",
       "  <tbody>\n",
       "    <tr>\n",
       "      <th>2000-01-01 00:00:00</th>\n",
       "      <td>100.000000</td>\n",
       "    </tr>\n",
       "    <tr>\n",
       "      <th>2000-01-01 00:00:01</th>\n",
       "      <td>100.127314</td>\n",
       "    </tr>\n",
       "    <tr>\n",
       "      <th>2000-01-01 00:00:02</th>\n",
       "      <td>100.117543</td>\n",
       "    </tr>\n",
       "    <tr>\n",
       "      <th>2000-01-01 00:00:03</th>\n",
       "      <td>98.811196</td>\n",
       "    </tr>\n",
       "    <tr>\n",
       "      <th>2000-01-01 00:00:04</th>\n",
       "      <td>97.614413</td>\n",
       "    </tr>\n",
       "  </tbody>\n",
       "</table>\n",
       "</div>"
      ],
      "text/plain": [
       "                         Trades\n",
       "2000-01-01 00:00:00  100.000000\n",
       "2000-01-01 00:00:01  100.127314\n",
       "2000-01-01 00:00:02  100.117543\n",
       "2000-01-01 00:00:03   98.811196\n",
       "2000-01-01 00:00:04   97.614413"
      ]
     },
     "execution_count": 26,
     "metadata": {},
     "output_type": "execute_result"
    }
   ],
   "source": [
    "df2 = pd.DataFrame({'Trades': trades})\n",
    "df2[:5]"
   ]
  },
  {
   "cell_type": "code",
   "execution_count": 27,
   "metadata": {
    "collapsed": false
   },
   "outputs": [],
   "source": [
    "df3 = df2['Trades'].resample('D').ohlc()\n",
    "df3.rename?"
   ]
  },
  {
   "cell_type": "code",
   "execution_count": 28,
   "metadata": {
    "collapsed": false
   },
   "outputs": [
    {
     "data": {
      "image/png": "[encoded data removed]",
      "text/plain": [
       "<matplotlib.figure.Figure at 0x10bef9a50>"
      ]
     },
     "metadata": {},
     "output_type": "display_data"
    }
   ],
   "source": [
    "candlestick_plot(df3)"
   ]
  },
  {
   "cell_type": "markdown",
   "metadata": {},
   "source": [
    "## Pivoting and hierarchical indexes\n",
    "\n",
    "Pandas also provides the ability to look at rows and columns in a hierarchical way:"
   ]
  },
  {
   "cell_type": "code",
   "execution_count": 29,
   "metadata": {
    "collapsed": false
   },
   "outputs": [],
   "source": [
    "dates = pd.date_range('1/1/2000', periods=365, freq='W')\n",
    "regions = np.array(list('NESW'))\n",
    "stores_per_region = np.arange(4)\n",
    "total_stores = dates.size * regions.size * stores_per_region.size\n",
    "num_sales_per_store = np.random.poisson(4, total_stores)\n",
    "vol_sales_per_store = np.random.normal(20, 2.0, total_stores) * num_sales_per_store"
   ]
  },
  {
   "cell_type": "code",
   "execution_count": 30,
   "metadata": {
    "collapsed": false
   },
   "outputs": [],
   "source": [
    "ind = pd.MultiIndex.from_product([dates, regions, stores_per_region], names=['date', 'region', 'store'])"
   ]
  },
  {
   "cell_type": "code",
   "execution_count": 31,
   "metadata": {
    "collapsed": false
   },
   "outputs": [
    {
     "data": {
      "text/html": [
       "<div>\n",
       "<table border=\"1\" class=\"dataframe\">\n",
       "  <thead>\n",
       "    <tr style=\"text-align: right;\">\n",
       "      <th></th>\n",
       "      <th></th>\n",
       "      <th></th>\n",
       "      <th>Orders</th>\n",
       "      <th>Volume</th>\n",
       "    </tr>\n",
       "    <tr>\n",
       "      <th>date</th>\n",
       "      <th>region</th>\n",
       "      <th>store</th>\n",
       "      <th></th>\n",
       "      <th></th>\n",
       "    </tr>\n",
       "  </thead>\n",
       "  <tbody>\n",
       "    <tr>\n",
       "      <th rowspan=\"6\" valign=\"top\">2000-01-02</th>\n",
       "      <th rowspan=\"4\" valign=\"top\">N</th>\n",
       "      <th>0</th>\n",
       "      <td>5</td>\n",
       "      <td>100.476289</td>\n",
       "    </tr>\n",
       "    <tr>\n",
       "      <th>1</th>\n",
       "      <td>2</td>\n",
       "      <td>48.776415</td>\n",
       "    </tr>\n",
       "    <tr>\n",
       "      <th>2</th>\n",
       "      <td>3</td>\n",
       "      <td>59.717854</td>\n",
       "    </tr>\n",
       "    <tr>\n",
       "      <th>3</th>\n",
       "      <td>2</td>\n",
       "      <td>37.345779</td>\n",
       "    </tr>\n",
       "    <tr>\n",
       "      <th rowspan=\"2\" valign=\"top\">E</th>\n",
       "      <th>0</th>\n",
       "      <td>2</td>\n",
       "      <td>41.332271</td>\n",
       "    </tr>\n",
       "    <tr>\n",
       "      <th>1</th>\n",
       "      <td>3</td>\n",
       "      <td>62.262338</td>\n",
       "    </tr>\n",
       "  </tbody>\n",
       "</table>\n",
       "</div>"
      ],
      "text/plain": [
       "                         Orders      Volume\n",
       "date       region store                    \n",
       "2000-01-02 N      0           5  100.476289\n",
       "                  1           2   48.776415\n",
       "                  2           3   59.717854\n",
       "                  3           2   37.345779\n",
       "           E      0           2   41.332271\n",
       "                  1           3   62.262338"
      ]
     },
     "execution_count": 31,
     "metadata": {},
     "output_type": "execute_result"
    }
   ],
   "source": [
    "df = pd.DataFrame({'Volume': vol_sales_per_store, 'Orders': num_sales_per_store}, index=ind)\n",
    "df[:6]"
   ]
  },
  {
   "cell_type": "code",
   "execution_count": 32,
   "metadata": {
    "collapsed": false
   },
   "outputs": [
    {
     "data": {
      "text/html": [
       "<div>\n",
       "<table border=\"1\" class=\"dataframe\">\n",
       "  <thead>\n",
       "    <tr>\n",
       "      <th></th>\n",
       "      <th colspan=\"10\" halign=\"left\">Orders</th>\n",
       "      <th>...</th>\n",
       "      <th colspan=\"10\" halign=\"left\">Volume</th>\n",
       "    </tr>\n",
       "    <tr>\n",
       "      <th>region</th>\n",
       "      <th colspan=\"4\" halign=\"left\">N</th>\n",
       "      <th colspan=\"4\" halign=\"left\">E</th>\n",
       "      <th colspan=\"2\" halign=\"left\">S</th>\n",
       "      <th>...</th>\n",
       "      <th colspan=\"2\" halign=\"left\">E</th>\n",
       "      <th colspan=\"4\" halign=\"left\">S</th>\n",
       "      <th colspan=\"4\" halign=\"left\">W</th>\n",
       "    </tr>\n",
       "    <tr>\n",
       "      <th>store</th>\n",
       "      <th>0</th>\n",
       "      <th>1</th>\n",
       "      <th>2</th>\n",
       "      <th>3</th>\n",
       "      <th>0</th>\n",
       "      <th>1</th>\n",
       "      <th>2</th>\n",
       "      <th>3</th>\n",
       "      <th>0</th>\n",
       "      <th>1</th>\n",
       "      <th>...</th>\n",
       "      <th>2</th>\n",
       "      <th>3</th>\n",
       "      <th>0</th>\n",
       "      <th>1</th>\n",
       "      <th>2</th>\n",
       "      <th>3</th>\n",
       "      <th>0</th>\n",
       "      <th>1</th>\n",
       "      <th>2</th>\n",
       "      <th>3</th>\n",
       "    </tr>\n",
       "    <tr>\n",
       "      <th>date</th>\n",
       "      <th></th>\n",
       "      <th></th>\n",
       "      <th></th>\n",
       "      <th></th>\n",
       "      <th></th>\n",
       "      <th></th>\n",
       "      <th></th>\n",
       "      <th></th>\n",
       "      <th></th>\n",
       "      <th></th>\n",
       "      <th></th>\n",
       "      <th></th>\n",
       "      <th></th>\n",
       "      <th></th>\n",
       "      <th></th>\n",
       "      <th></th>\n",
       "      <th></th>\n",
       "      <th></th>\n",
       "      <th></th>\n",
       "      <th></th>\n",
       "      <th></th>\n",
       "    </tr>\n",
       "  </thead>\n",
       "  <tbody>\n",
       "    <tr>\n",
       "      <th>2000-01-02</th>\n",
       "      <td>5.0</td>\n",
       "      <td>2.0</td>\n",
       "      <td>3.0</td>\n",
       "      <td>2.0</td>\n",
       "      <td>2.0</td>\n",
       "      <td>3.0</td>\n",
       "      <td>2.0</td>\n",
       "      <td>4.0</td>\n",
       "      <td>6.0</td>\n",
       "      <td>3.0</td>\n",
       "      <td>...</td>\n",
       "      <td>33.153001</td>\n",
       "      <td>86.278203</td>\n",
       "      <td>108.318439</td>\n",
       "      <td>65.987046</td>\n",
       "      <td>52.640831</td>\n",
       "      <td>57.671703</td>\n",
       "      <td>41.979331</td>\n",
       "      <td>136.997013</td>\n",
       "      <td>55.183323</td>\n",
       "      <td>36.347742</td>\n",
       "    </tr>\n",
       "    <tr>\n",
       "      <th>2000-01-09</th>\n",
       "      <td>4.0</td>\n",
       "      <td>6.0</td>\n",
       "      <td>4.0</td>\n",
       "      <td>3.0</td>\n",
       "      <td>7.0</td>\n",
       "      <td>7.0</td>\n",
       "      <td>7.0</td>\n",
       "      <td>5.0</td>\n",
       "      <td>2.0</td>\n",
       "      <td>7.0</td>\n",
       "      <td>...</td>\n",
       "      <td>103.137595</td>\n",
       "      <td>105.323262</td>\n",
       "      <td>46.117509</td>\n",
       "      <td>143.322487</td>\n",
       "      <td>55.369683</td>\n",
       "      <td>103.386427</td>\n",
       "      <td>136.330823</td>\n",
       "      <td>57.865488</td>\n",
       "      <td>64.636315</td>\n",
       "      <td>38.333133</td>\n",
       "    </tr>\n",
       "    <tr>\n",
       "      <th>2000-01-16</th>\n",
       "      <td>4.0</td>\n",
       "      <td>5.0</td>\n",
       "      <td>3.0</td>\n",
       "      <td>2.0</td>\n",
       "      <td>4.0</td>\n",
       "      <td>3.0</td>\n",
       "      <td>6.0</td>\n",
       "      <td>2.0</td>\n",
       "      <td>3.0</td>\n",
       "      <td>5.0</td>\n",
       "      <td>...</td>\n",
       "      <td>111.267450</td>\n",
       "      <td>41.387088</td>\n",
       "      <td>66.631559</td>\n",
       "      <td>126.280950</td>\n",
       "      <td>60.452621</td>\n",
       "      <td>101.104321</td>\n",
       "      <td>183.078433</td>\n",
       "      <td>37.487499</td>\n",
       "      <td>176.848457</td>\n",
       "      <td>0.000000</td>\n",
       "    </tr>\n",
       "    <tr>\n",
       "      <th>2000-01-23</th>\n",
       "      <td>2.0</td>\n",
       "      <td>2.0</td>\n",
       "      <td>2.0</td>\n",
       "      <td>8.0</td>\n",
       "      <td>4.0</td>\n",
       "      <td>3.0</td>\n",
       "      <td>4.0</td>\n",
       "      <td>7.0</td>\n",
       "      <td>3.0</td>\n",
       "      <td>5.0</td>\n",
       "      <td>...</td>\n",
       "      <td>82.407295</td>\n",
       "      <td>134.804079</td>\n",
       "      <td>59.244112</td>\n",
       "      <td>102.554862</td>\n",
       "      <td>22.090081</td>\n",
       "      <td>94.822011</td>\n",
       "      <td>77.701250</td>\n",
       "      <td>150.443435</td>\n",
       "      <td>89.493443</td>\n",
       "      <td>106.284384</td>\n",
       "    </tr>\n",
       "    <tr>\n",
       "      <th>2000-01-30</th>\n",
       "      <td>4.0</td>\n",
       "      <td>2.0</td>\n",
       "      <td>2.0</td>\n",
       "      <td>5.0</td>\n",
       "      <td>3.0</td>\n",
       "      <td>3.0</td>\n",
       "      <td>4.0</td>\n",
       "      <td>4.0</td>\n",
       "      <td>2.0</td>\n",
       "      <td>3.0</td>\n",
       "      <td>...</td>\n",
       "      <td>69.769629</td>\n",
       "      <td>74.827652</td>\n",
       "      <td>40.612153</td>\n",
       "      <td>69.891697</td>\n",
       "      <td>112.096597</td>\n",
       "      <td>115.937362</td>\n",
       "      <td>19.009053</td>\n",
       "      <td>81.459646</td>\n",
       "      <td>83.689730</td>\n",
       "      <td>98.704683</td>\n",
       "    </tr>\n",
       "    <tr>\n",
       "      <th>2000-02-06</th>\n",
       "      <td>7.0</td>\n",
       "      <td>3.0</td>\n",
       "      <td>6.0</td>\n",
       "      <td>1.0</td>\n",
       "      <td>1.0</td>\n",
       "      <td>5.0</td>\n",
       "      <td>4.0</td>\n",
       "      <td>4.0</td>\n",
       "      <td>3.0</td>\n",
       "      <td>2.0</td>\n",
       "      <td>...</td>\n",
       "      <td>77.498747</td>\n",
       "      <td>86.831274</td>\n",
       "      <td>74.882172</td>\n",
       "      <td>41.399778</td>\n",
       "      <td>98.959548</td>\n",
       "      <td>113.040834</td>\n",
       "      <td>21.393731</td>\n",
       "      <td>0.000000</td>\n",
       "      <td>23.622461</td>\n",
       "      <td>54.007884</td>\n",
       "    </tr>\n",
       "  </tbody>\n",
       "</table>\n",
       "<p>6 rows × 32 columns</p>\n",
       "</div>"
      ],
      "text/plain": [
       "           Orders                                                  ...      \\\n",
       "region          N                   E                   S          ...       \n",
       "store           0    1    2    3    0    1    2    3    0    1     ...       \n",
       "date                                                               ...       \n",
       "2000-01-02    5.0  2.0  3.0  2.0  2.0  3.0  2.0  4.0  6.0  3.0     ...       \n",
       "2000-01-09    4.0  6.0  4.0  3.0  7.0  7.0  7.0  5.0  2.0  7.0     ...       \n",
       "2000-01-16    4.0  5.0  3.0  2.0  4.0  3.0  6.0  2.0  3.0  5.0     ...       \n",
       "2000-01-23    2.0  2.0  2.0  8.0  4.0  3.0  4.0  7.0  3.0  5.0     ...       \n",
       "2000-01-30    4.0  2.0  2.0  5.0  3.0  3.0  4.0  4.0  2.0  3.0     ...       \n",
       "2000-02-06    7.0  3.0  6.0  1.0  1.0  5.0  4.0  4.0  3.0  2.0     ...       \n",
       "\n",
       "                Volume                                                  \\\n",
       "region               E                       S                           \n",
       "store                2           3           0           1           2   \n",
       "date                                                                     \n",
       "2000-01-02   33.153001   86.278203  108.318439   65.987046   52.640831   \n",
       "2000-01-09  103.137595  105.323262   46.117509  143.322487   55.369683   \n",
       "2000-01-16  111.267450   41.387088   66.631559  126.280950   60.452621   \n",
       "2000-01-23   82.407295  134.804079   59.244112  102.554862   22.090081   \n",
       "2000-01-30   69.769629   74.827652   40.612153   69.891697  112.096597   \n",
       "2000-02-06   77.498747   86.831274   74.882172   41.399778   98.959548   \n",
       "\n",
       "                                                                        \n",
       "region                           W                                      \n",
       "store                3           0           1           2           3  \n",
       "date                                                                    \n",
       "2000-01-02   57.671703   41.979331  136.997013   55.183323   36.347742  \n",
       "2000-01-09  103.386427  136.330823   57.865488   64.636315   38.333133  \n",
       "2000-01-16  101.104321  183.078433   37.487499  176.848457    0.000000  \n",
       "2000-01-23   94.822011   77.701250  150.443435   89.493443  106.284384  \n",
       "2000-01-30  115.937362   19.009053   81.459646   83.689730   98.704683  \n",
       "2000-02-06  113.040834   21.393731    0.000000   23.622461   54.007884  \n",
       "\n",
       "[6 rows x 32 columns]"
      ]
     },
     "execution_count": 32,
     "metadata": {},
     "output_type": "execute_result"
    }
   ],
   "source": [
    "df2 = df.unstack(['region', 'store'])\n",
    "df2[:6]"
   ]
  },
  {
   "cell_type": "code",
   "execution_count": 33,
   "metadata": {
    "collapsed": false
   },
   "outputs": [
    {
     "data": {
      "text/plain": [
       "date\n",
       "2000-01-02    2.0\n",
       "2000-01-09    3.0\n",
       "2000-01-16    2.0\n",
       "2000-01-23    8.0\n",
       "2000-01-30    5.0\n",
       "2000-02-06    1.0\n",
       "Freq: W-SUN, Name: (Orders, N, 3), dtype: float64"
      ]
     },
     "execution_count": 33,
     "metadata": {},
     "output_type": "execute_result"
    }
   ],
   "source": [
    "df2['Orders', 'N', 3][:6]"
   ]
  },
  {
   "cell_type": "code",
   "execution_count": 34,
   "metadata": {
    "collapsed": false
   },
   "outputs": [
    {
     "data": {
      "text/html": [
       "<div>\n",
       "<table border=\"1\" class=\"dataframe\">\n",
       "  <thead>\n",
       "    <tr style=\"text-align: right;\">\n",
       "      <th></th>\n",
       "      <th>date</th>\n",
       "      <th>region</th>\n",
       "      <th>store</th>\n",
       "      <th>Orders</th>\n",
       "      <th>Volume</th>\n",
       "    </tr>\n",
       "  </thead>\n",
       "  <tbody>\n",
       "    <tr>\n",
       "      <th>0</th>\n",
       "      <td>2000-01-02</td>\n",
       "      <td>N</td>\n",
       "      <td>0</td>\n",
       "      <td>5</td>\n",
       "      <td>100.476289</td>\n",
       "    </tr>\n",
       "    <tr>\n",
       "      <th>1</th>\n",
       "      <td>2000-01-02</td>\n",
       "      <td>N</td>\n",
       "      <td>1</td>\n",
       "      <td>2</td>\n",
       "      <td>48.776415</td>\n",
       "    </tr>\n",
       "    <tr>\n",
       "      <th>2</th>\n",
       "      <td>2000-01-02</td>\n",
       "      <td>N</td>\n",
       "      <td>2</td>\n",
       "      <td>3</td>\n",
       "      <td>59.717854</td>\n",
       "    </tr>\n",
       "    <tr>\n",
       "      <th>3</th>\n",
       "      <td>2000-01-02</td>\n",
       "      <td>N</td>\n",
       "      <td>3</td>\n",
       "      <td>2</td>\n",
       "      <td>37.345779</td>\n",
       "    </tr>\n",
       "    <tr>\n",
       "      <th>4</th>\n",
       "      <td>2000-01-02</td>\n",
       "      <td>E</td>\n",
       "      <td>0</td>\n",
       "      <td>2</td>\n",
       "      <td>41.332271</td>\n",
       "    </tr>\n",
       "    <tr>\n",
       "      <th>5</th>\n",
       "      <td>2000-01-02</td>\n",
       "      <td>E</td>\n",
       "      <td>1</td>\n",
       "      <td>3</td>\n",
       "      <td>62.262338</td>\n",
       "    </tr>\n",
       "  </tbody>\n",
       "</table>\n",
       "</div>"
      ],
      "text/plain": [
       "        date region  store  Orders      Volume\n",
       "0 2000-01-02      N      0       5  100.476289\n",
       "1 2000-01-02      N      1       2   48.776415\n",
       "2 2000-01-02      N      2       3   59.717854\n",
       "3 2000-01-02      N      3       2   37.345779\n",
       "4 2000-01-02      E      0       2   41.332271\n",
       "5 2000-01-02      E      1       3   62.262338"
      ]
     },
     "execution_count": 34,
     "metadata": {},
     "output_type": "execute_result"
    }
   ],
   "source": [
    "df_flat = df.reset_index()\n",
    "df_flat[:6]"
   ]
  },
  {
   "cell_type": "code",
   "execution_count": 35,
   "metadata": {
    "collapsed": false
   },
   "outputs": [
    {
     "name": "stderr",
     "output_type": "stream",
     "text": [
      "/Users/rick446/.virtualenvs/intermediate-python/lib/python2.7/site-packages/ipykernel/__main__.py:1: UserWarning: Boolean Series key will be reindexed to match DataFrame index.\n",
      "  if __name__ == '__main__':\n"
     ]
    },
    {
     "data": {
      "text/html": [
       "<div>\n",
       "<table border=\"1\" class=\"dataframe\">\n",
       "  <thead>\n",
       "    <tr style=\"text-align: right;\">\n",
       "      <th></th>\n",
       "      <th>date</th>\n",
       "      <th>region</th>\n",
       "      <th>store</th>\n",
       "      <th>Orders</th>\n",
       "      <th>Volume</th>\n",
       "    </tr>\n",
       "  </thead>\n",
       "  <tbody>\n",
       "    <tr>\n",
       "      <th>0</th>\n",
       "      <td>2000-01-02</td>\n",
       "      <td>N</td>\n",
       "      <td>0</td>\n",
       "      <td>5</td>\n",
       "      <td>100.476289</td>\n",
       "    </tr>\n",
       "    <tr>\n",
       "      <th>16</th>\n",
       "      <td>2000-01-09</td>\n",
       "      <td>N</td>\n",
       "      <td>0</td>\n",
       "      <td>4</td>\n",
       "      <td>73.916804</td>\n",
       "    </tr>\n",
       "    <tr>\n",
       "      <th>32</th>\n",
       "      <td>2000-01-16</td>\n",
       "      <td>N</td>\n",
       "      <td>0</td>\n",
       "      <td>4</td>\n",
       "      <td>80.869940</td>\n",
       "    </tr>\n",
       "    <tr>\n",
       "      <th>48</th>\n",
       "      <td>2000-01-23</td>\n",
       "      <td>N</td>\n",
       "      <td>0</td>\n",
       "      <td>2</td>\n",
       "      <td>36.456102</td>\n",
       "    </tr>\n",
       "    <tr>\n",
       "      <th>64</th>\n",
       "      <td>2000-01-30</td>\n",
       "      <td>N</td>\n",
       "      <td>0</td>\n",
       "      <td>4</td>\n",
       "      <td>87.267897</td>\n",
       "    </tr>\n",
       "    <tr>\n",
       "      <th>80</th>\n",
       "      <td>2000-02-06</td>\n",
       "      <td>N</td>\n",
       "      <td>0</td>\n",
       "      <td>7</td>\n",
       "      <td>154.610131</td>\n",
       "    </tr>\n",
       "  </tbody>\n",
       "</table>\n",
       "</div>"
      ],
      "text/plain": [
       "         date region  store  Orders      Volume\n",
       "0  2000-01-02      N      0       5  100.476289\n",
       "16 2000-01-09      N      0       4   73.916804\n",
       "32 2000-01-16      N      0       4   80.869940\n",
       "48 2000-01-23      N      0       2   36.456102\n",
       "64 2000-01-30      N      0       4   87.267897\n",
       "80 2000-02-06      N      0       7  154.610131"
      ]
     },
     "execution_count": 35,
     "metadata": {},
     "output_type": "execute_result"
    }
   ],
   "source": [
    "df_store_n_0 = df_flat[df_flat['region']=='N'][df_flat['store'] == 0]\n",
    "df_store_n_0[:6]"
   ]
  },
  {
   "cell_type": "code",
   "execution_count": 36,
   "metadata": {
    "collapsed": false
   },
   "outputs": [
    {
     "data": {
      "text/html": [
       "<div>\n",
       "<table border=\"1\" class=\"dataframe\">\n",
       "  <thead>\n",
       "    <tr style=\"text-align: right;\">\n",
       "      <th></th>\n",
       "      <th>date</th>\n",
       "      <th>region</th>\n",
       "      <th>store</th>\n",
       "      <th>Orders</th>\n",
       "      <th>Volume</th>\n",
       "    </tr>\n",
       "  </thead>\n",
       "  <tbody>\n",
       "    <tr>\n",
       "      <th>0</th>\n",
       "      <td>2000-01-02</td>\n",
       "      <td>N</td>\n",
       "      <td>0</td>\n",
       "      <td>5</td>\n",
       "      <td>100.476289</td>\n",
       "    </tr>\n",
       "    <tr>\n",
       "      <th>1</th>\n",
       "      <td>2000-01-02</td>\n",
       "      <td>N</td>\n",
       "      <td>1</td>\n",
       "      <td>2</td>\n",
       "      <td>48.776415</td>\n",
       "    </tr>\n",
       "    <tr>\n",
       "      <th>2</th>\n",
       "      <td>2000-01-02</td>\n",
       "      <td>N</td>\n",
       "      <td>2</td>\n",
       "      <td>3</td>\n",
       "      <td>59.717854</td>\n",
       "    </tr>\n",
       "    <tr>\n",
       "      <th>3</th>\n",
       "      <td>2000-01-02</td>\n",
       "      <td>N</td>\n",
       "      <td>3</td>\n",
       "      <td>2</td>\n",
       "      <td>37.345779</td>\n",
       "    </tr>\n",
       "    <tr>\n",
       "      <th>16</th>\n",
       "      <td>2000-01-09</td>\n",
       "      <td>N</td>\n",
       "      <td>0</td>\n",
       "      <td>4</td>\n",
       "      <td>73.916804</td>\n",
       "    </tr>\n",
       "    <tr>\n",
       "      <th>17</th>\n",
       "      <td>2000-01-09</td>\n",
       "      <td>N</td>\n",
       "      <td>1</td>\n",
       "      <td>6</td>\n",
       "      <td>111.912192</td>\n",
       "    </tr>\n",
       "  </tbody>\n",
       "</table>\n",
       "</div>"
      ],
      "text/plain": [
       "         date region  store  Orders      Volume\n",
       "0  2000-01-02      N      0       5  100.476289\n",
       "1  2000-01-02      N      1       2   48.776415\n",
       "2  2000-01-02      N      2       3   59.717854\n",
       "3  2000-01-02      N      3       2   37.345779\n",
       "16 2000-01-09      N      0       4   73.916804\n",
       "17 2000-01-09      N      1       6  111.912192"
      ]
     },
     "execution_count": 36,
     "metadata": {},
     "output_type": "execute_result"
    }
   ],
   "source": [
    "df_store_n = df_flat[df_flat['region']=='N']\n",
    "df_store_n[:6]"
   ]
  },
  {
   "cell_type": "markdown",
   "metadata": {},
   "source": [
    "### Pivot tables\n",
    "\n",
    "We can create a pivot table if we can identify a unique index and column:"
   ]
  },
  {
   "cell_type": "code",
   "execution_count": 37,
   "metadata": {
    "collapsed": false
   },
   "outputs": [
    {
     "data": {
      "text/html": [
       "<div>\n",
       "<table border=\"1\" class=\"dataframe\">\n",
       "  <thead>\n",
       "    <tr style=\"text-align: right;\">\n",
       "      <th>store</th>\n",
       "      <th>0</th>\n",
       "      <th>1</th>\n",
       "      <th>2</th>\n",
       "      <th>3</th>\n",
       "    </tr>\n",
       "    <tr>\n",
       "      <th>date</th>\n",
       "      <th></th>\n",
       "      <th></th>\n",
       "      <th></th>\n",
       "      <th></th>\n",
       "    </tr>\n",
       "  </thead>\n",
       "  <tbody>\n",
       "    <tr>\n",
       "      <th>2000-01-02</th>\n",
       "      <td>100.476289</td>\n",
       "      <td>48.776415</td>\n",
       "      <td>59.717854</td>\n",
       "      <td>37.345779</td>\n",
       "    </tr>\n",
       "    <tr>\n",
       "      <th>2000-01-09</th>\n",
       "      <td>73.916804</td>\n",
       "      <td>111.912192</td>\n",
       "      <td>68.410333</td>\n",
       "      <td>68.471897</td>\n",
       "    </tr>\n",
       "    <tr>\n",
       "      <th>2000-01-16</th>\n",
       "      <td>80.869940</td>\n",
       "      <td>96.615428</td>\n",
       "      <td>59.872155</td>\n",
       "      <td>42.314607</td>\n",
       "    </tr>\n",
       "    <tr>\n",
       "      <th>2000-01-23</th>\n",
       "      <td>36.456102</td>\n",
       "      <td>41.996219</td>\n",
       "      <td>36.109636</td>\n",
       "      <td>157.894130</td>\n",
       "    </tr>\n",
       "    <tr>\n",
       "      <th>2000-01-30</th>\n",
       "      <td>87.267897</td>\n",
       "      <td>43.860671</td>\n",
       "      <td>38.174325</td>\n",
       "      <td>93.237183</td>\n",
       "    </tr>\n",
       "    <tr>\n",
       "      <th>2000-02-06</th>\n",
       "      <td>154.610131</td>\n",
       "      <td>55.633411</td>\n",
       "      <td>115.705521</td>\n",
       "      <td>19.353140</td>\n",
       "    </tr>\n",
       "  </tbody>\n",
       "</table>\n",
       "</div>"
      ],
      "text/plain": [
       "store                0           1           2           3\n",
       "date                                                      \n",
       "2000-01-02  100.476289   48.776415   59.717854   37.345779\n",
       "2000-01-09   73.916804  111.912192   68.410333   68.471897\n",
       "2000-01-16   80.869940   96.615428   59.872155   42.314607\n",
       "2000-01-23   36.456102   41.996219   36.109636  157.894130\n",
       "2000-01-30   87.267897   43.860671   38.174325   93.237183\n",
       "2000-02-06  154.610131   55.633411  115.705521   19.353140"
      ]
     },
     "execution_count": 37,
     "metadata": {},
     "output_type": "execute_result"
    }
   ],
   "source": [
    "df_store_n_pivot = df_store_n.pivot(index='date', columns='store', values='Volume')\n",
    "df_store_n_pivot[:6]"
   ]
  },
  {
   "cell_type": "markdown",
   "metadata": {},
   "source": [
    "## File I/O\n",
    "\n",
    "Pandas has the ability to read and write csv files, of course, as well as many other data formats. Each format is accessed via the `read_{format}` functions and the `DataFrame.to_{format}` methods:\n",
    "\n",
    " - csv\n",
    " - excel\n",
    " - hdf\n",
    " - sql\n",
    " - json\n",
    " - msgpack (experimental)\n",
    " - html\n",
    " - gbq (experimental)\n",
    " - stata\n",
    " - sas\n",
    " - clipboard\n",
    " - pickle"
   ]
  },
  {
   "cell_type": "code",
   "execution_count": 38,
   "metadata": {
    "collapsed": false
   },
   "outputs": [],
   "source": [
    "df.to_csv('store_data.csv')"
   ]
  },
  {
   "cell_type": "code",
   "execution_count": 39,
   "metadata": {
    "collapsed": false
   },
   "outputs": [
    {
     "name": "stdout",
     "output_type": "stream",
     "text": [
      "date,region,store,Orders,Volume\n",
      "2000-01-02,N,0,5,100.476289298\n",
      "2000-01-02,N,1,2,48.7764146112\n",
      "2000-01-02,N,2,3,59.7178544882\n",
      "2000-01-02,N,3,2,37.3457794617\n",
      "2000-01-02,E,0,2,41.3322711685\n",
      "\n"
     ]
    }
   ],
   "source": [
    "lines = open('store_data.csv').readlines()[:6]\n",
    "print ''.join(lines)"
   ]
  },
  {
   "cell_type": "code",
   "execution_count": 40,
   "metadata": {
    "collapsed": true
   },
   "outputs": [],
   "source": [
    "df_csv = pd.read_csv('store_data.csv')"
   ]
  },
  {
   "cell_type": "code",
   "execution_count": 41,
   "metadata": {
    "collapsed": false
   },
   "outputs": [
    {
     "data": {
      "text/html": [
       "<div>\n",
       "<table border=\"1\" class=\"dataframe\">\n",
       "  <thead>\n",
       "    <tr style=\"text-align: right;\">\n",
       "      <th></th>\n",
       "      <th>date</th>\n",
       "      <th>region</th>\n",
       "      <th>store</th>\n",
       "      <th>Orders</th>\n",
       "      <th>Volume</th>\n",
       "    </tr>\n",
       "  </thead>\n",
       "  <tbody>\n",
       "    <tr>\n",
       "      <th>0</th>\n",
       "      <td>2000-01-02</td>\n",
       "      <td>N</td>\n",
       "      <td>0</td>\n",
       "      <td>5</td>\n",
       "      <td>100.476289</td>\n",
       "    </tr>\n",
       "    <tr>\n",
       "      <th>1</th>\n",
       "      <td>2000-01-02</td>\n",
       "      <td>N</td>\n",
       "      <td>1</td>\n",
       "      <td>2</td>\n",
       "      <td>48.776415</td>\n",
       "    </tr>\n",
       "    <tr>\n",
       "      <th>2</th>\n",
       "      <td>2000-01-02</td>\n",
       "      <td>N</td>\n",
       "      <td>2</td>\n",
       "      <td>3</td>\n",
       "      <td>59.717854</td>\n",
       "    </tr>\n",
       "    <tr>\n",
       "      <th>3</th>\n",
       "      <td>2000-01-02</td>\n",
       "      <td>N</td>\n",
       "      <td>3</td>\n",
       "      <td>2</td>\n",
       "      <td>37.345779</td>\n",
       "    </tr>\n",
       "    <tr>\n",
       "      <th>4</th>\n",
       "      <td>2000-01-02</td>\n",
       "      <td>E</td>\n",
       "      <td>0</td>\n",
       "      <td>2</td>\n",
       "      <td>41.332271</td>\n",
       "    </tr>\n",
       "    <tr>\n",
       "      <th>5</th>\n",
       "      <td>2000-01-02</td>\n",
       "      <td>E</td>\n",
       "      <td>1</td>\n",
       "      <td>3</td>\n",
       "      <td>62.262338</td>\n",
       "    </tr>\n",
       "  </tbody>\n",
       "</table>\n",
       "</div>"
      ],
      "text/plain": [
       "         date region  store  Orders      Volume\n",
       "0  2000-01-02      N      0       5  100.476289\n",
       "1  2000-01-02      N      1       2   48.776415\n",
       "2  2000-01-02      N      2       3   59.717854\n",
       "3  2000-01-02      N      3       2   37.345779\n",
       "4  2000-01-02      E      0       2   41.332271\n",
       "5  2000-01-02      E      1       3   62.262338"
      ]
     },
     "execution_count": 41,
     "metadata": {},
     "output_type": "execute_result"
    }
   ],
   "source": [
    "df_csv[:6]"
   ]
  },
  {
   "cell_type": "code",
   "execution_count": 42,
   "metadata": {
    "collapsed": false
   },
   "outputs": [
    {
     "data": {
      "text/html": [
       "<div>\n",
       "<table border=\"1\" class=\"dataframe\">\n",
       "  <thead>\n",
       "    <tr style=\"text-align: right;\">\n",
       "      <th></th>\n",
       "      <th></th>\n",
       "      <th></th>\n",
       "      <th>date</th>\n",
       "      <th>region</th>\n",
       "      <th>store</th>\n",
       "      <th>Orders</th>\n",
       "      <th>Volume</th>\n",
       "    </tr>\n",
       "    <tr>\n",
       "      <th>date</th>\n",
       "      <th>region</th>\n",
       "      <th>store</th>\n",
       "      <th></th>\n",
       "      <th></th>\n",
       "      <th></th>\n",
       "      <th></th>\n",
       "      <th></th>\n",
       "    </tr>\n",
       "  </thead>\n",
       "  <tbody>\n",
       "    <tr>\n",
       "      <th rowspan=\"6\" valign=\"top\">2000-01-02</th>\n",
       "      <th rowspan=\"4\" valign=\"top\">N</th>\n",
       "      <th>0</th>\n",
       "      <td>2000-01-02</td>\n",
       "      <td>N</td>\n",
       "      <td>0</td>\n",
       "      <td>5</td>\n",
       "      <td>100.476289</td>\n",
       "    </tr>\n",
       "    <tr>\n",
       "      <th>1</th>\n",
       "      <td>2000-01-02</td>\n",
       "      <td>N</td>\n",
       "      <td>1</td>\n",
       "      <td>2</td>\n",
       "      <td>48.776415</td>\n",
       "    </tr>\n",
       "    <tr>\n",
       "      <th>2</th>\n",
       "      <td>2000-01-02</td>\n",
       "      <td>N</td>\n",
       "      <td>2</td>\n",
       "      <td>3</td>\n",
       "      <td>59.717854</td>\n",
       "    </tr>\n",
       "    <tr>\n",
       "      <th>3</th>\n",
       "      <td>2000-01-02</td>\n",
       "      <td>N</td>\n",
       "      <td>3</td>\n",
       "      <td>2</td>\n",
       "      <td>37.345779</td>\n",
       "    </tr>\n",
       "    <tr>\n",
       "      <th rowspan=\"2\" valign=\"top\">E</th>\n",
       "      <th>0</th>\n",
       "      <td>2000-01-02</td>\n",
       "      <td>E</td>\n",
       "      <td>0</td>\n",
       "      <td>2</td>\n",
       "      <td>41.332271</td>\n",
       "    </tr>\n",
       "    <tr>\n",
       "      <th>1</th>\n",
       "      <td>2000-01-02</td>\n",
       "      <td>E</td>\n",
       "      <td>1</td>\n",
       "      <td>3</td>\n",
       "      <td>62.262338</td>\n",
       "    </tr>\n",
       "  </tbody>\n",
       "</table>\n",
       "</div>"
      ],
      "text/plain": [
       "                               date region  store  Orders      Volume\n",
       "date       region store                                              \n",
       "2000-01-02 N      0      2000-01-02      N      0       5  100.476289\n",
       "                  1      2000-01-02      N      1       2   48.776415\n",
       "                  2      2000-01-02      N      2       3   59.717854\n",
       "                  3      2000-01-02      N      3       2   37.345779\n",
       "           E      0      2000-01-02      E      0       2   41.332271\n",
       "                  1      2000-01-02      E      1       3   62.262338"
      ]
     },
     "execution_count": 42,
     "metadata": {},
     "output_type": "execute_result"
    }
   ],
   "source": [
    "df_csv.index = ind\n",
    "df_csv[:6]"
   ]
  },
  {
   "cell_type": "markdown",
   "metadata": {},
   "source": [
    "We can also use pandas to scrape data from the web:"
   ]
  },
  {
   "cell_type": "code",
   "execution_count": 43,
   "metadata": {
    "collapsed": false
   },
   "outputs": [],
   "source": [
    "tables = pd.read_html(\n",
    "    'http://finance.yahoo.com/q/hp?s=IBM+Historical+Prices', \n",
    "    'Volume', \n",
    "    flavor='bs4',\n",
    "    header=0)\n"
   ]
  },
  {
   "cell_type": "code",
   "execution_count": 44,
   "metadata": {
    "collapsed": false
   },
   "outputs": [
    {
     "data": {
      "text/html": [
       "<div>\n",
       "<table border=\"1\" class=\"dataframe\">\n",
       "  <thead>\n",
       "    <tr style=\"text-align: right;\">\n",
       "      <th></th>\n",
       "      <th>Date</th>\n",
       "      <th>Open</th>\n",
       "      <th>High</th>\n",
       "      <th>Low</th>\n",
       "      <th>Close</th>\n",
       "      <th>Volume</th>\n",
       "      <th>Adj Close*</th>\n",
       "    </tr>\n",
       "  </thead>\n",
       "  <tbody>\n",
       "    <tr>\n",
       "      <th>0</th>\n",
       "      <td>Apr 26, 2016</td>\n",
       "      <td>148.65</td>\n",
       "      <td>149.79</td>\n",
       "      <td>147.90</td>\n",
       "      <td>149.08</td>\n",
       "      <td>2974800.0</td>\n",
       "      <td>149.08</td>\n",
       "    </tr>\n",
       "    <tr>\n",
       "      <th>1</th>\n",
       "      <td>Apr 25, 2016</td>\n",
       "      <td>148.16</td>\n",
       "      <td>148.90</td>\n",
       "      <td>147.11</td>\n",
       "      <td>148.81</td>\n",
       "      <td>2848900.0</td>\n",
       "      <td>148.81</td>\n",
       "    </tr>\n",
       "    <tr>\n",
       "      <th>2</th>\n",
       "      <td>Apr 22, 2016</td>\n",
       "      <td>149.44</td>\n",
       "      <td>151.00</td>\n",
       "      <td>147.50</td>\n",
       "      <td>148.50</td>\n",
       "      <td>5191900.0</td>\n",
       "      <td>148.50</td>\n",
       "    </tr>\n",
       "    <tr>\n",
       "      <th>3</th>\n",
       "      <td>Apr 21, 2016</td>\n",
       "      <td>146.58</td>\n",
       "      <td>150.12</td>\n",
       "      <td>146.46</td>\n",
       "      <td>149.30</td>\n",
       "      <td>6017700.0</td>\n",
       "      <td>149.30</td>\n",
       "    </tr>\n",
       "    <tr>\n",
       "      <th>4</th>\n",
       "      <td>Apr 20, 2016</td>\n",
       "      <td>144.24</td>\n",
       "      <td>147.20</td>\n",
       "      <td>144.00</td>\n",
       "      <td>146.11</td>\n",
       "      <td>6754300.0</td>\n",
       "      <td>146.11</td>\n",
       "    </tr>\n",
       "    <tr>\n",
       "      <th>5</th>\n",
       "      <td>Apr 19, 2016</td>\n",
       "      <td>146.47</td>\n",
       "      <td>146.95</td>\n",
       "      <td>142.61</td>\n",
       "      <td>144.00</td>\n",
       "      <td>13190200.0</td>\n",
       "      <td>144.00</td>\n",
       "    </tr>\n",
       "  </tbody>\n",
       "</table>\n",
       "</div>"
      ],
      "text/plain": [
       "           Date    Open    High     Low   Close      Volume  Adj Close*\n",
       "0  Apr 26, 2016  148.65  149.79  147.90  149.08   2974800.0      149.08\n",
       "1  Apr 25, 2016  148.16  148.90  147.11  148.81   2848900.0      148.81\n",
       "2  Apr 22, 2016  149.44  151.00  147.50  148.50   5191900.0      148.50\n",
       "3  Apr 21, 2016  146.58  150.12  146.46  149.30   6017700.0      149.30\n",
       "4  Apr 20, 2016  144.24  147.20  144.00  146.11   6754300.0      146.11\n",
       "5  Apr 19, 2016  146.47  146.95  142.61  144.00  13190200.0      144.00"
      ]
     },
     "execution_count": 44,
     "metadata": {},
     "output_type": "execute_result"
    }
   ],
   "source": [
    "df_ibm = tables[2][:-1]    # strip off a footnote\n",
    "df_ibm[:6]"
   ]
  },
  {
   "cell_type": "code",
   "execution_count": 45,
   "metadata": {
    "collapsed": false
   },
   "outputs": [],
   "source": [
    "df_ibm.index = pd.to_datetime(df_ibm['Date'], format='%b %d, %Y')"
   ]
  },
  {
   "cell_type": "code",
   "execution_count": 46,
   "metadata": {
    "collapsed": false
   },
   "outputs": [
    {
     "data": {
      "text/html": [
       "<div>\n",
       "<table border=\"1\" class=\"dataframe\">\n",
       "  <thead>\n",
       "    <tr style=\"text-align: right;\">\n",
       "      <th></th>\n",
       "      <th>Date</th>\n",
       "      <th>Open</th>\n",
       "      <th>High</th>\n",
       "      <th>Low</th>\n",
       "      <th>Close</th>\n",
       "      <th>Volume</th>\n",
       "      <th>Adj Close*</th>\n",
       "    </tr>\n",
       "    <tr>\n",
       "      <th>Date</th>\n",
       "      <th></th>\n",
       "      <th></th>\n",
       "      <th></th>\n",
       "      <th></th>\n",
       "      <th></th>\n",
       "      <th></th>\n",
       "      <th></th>\n",
       "    </tr>\n",
       "  </thead>\n",
       "  <tbody>\n",
       "    <tr>\n",
       "      <th>2016-04-26</th>\n",
       "      <td>Apr 26, 2016</td>\n",
       "      <td>148.65</td>\n",
       "      <td>149.79</td>\n",
       "      <td>147.90</td>\n",
       "      <td>149.08</td>\n",
       "      <td>2974800.0</td>\n",
       "      <td>149.08</td>\n",
       "    </tr>\n",
       "    <tr>\n",
       "      <th>2016-04-25</th>\n",
       "      <td>Apr 25, 2016</td>\n",
       "      <td>148.16</td>\n",
       "      <td>148.90</td>\n",
       "      <td>147.11</td>\n",
       "      <td>148.81</td>\n",
       "      <td>2848900.0</td>\n",
       "      <td>148.81</td>\n",
       "    </tr>\n",
       "    <tr>\n",
       "      <th>2016-04-22</th>\n",
       "      <td>Apr 22, 2016</td>\n",
       "      <td>149.44</td>\n",
       "      <td>151.00</td>\n",
       "      <td>147.50</td>\n",
       "      <td>148.50</td>\n",
       "      <td>5191900.0</td>\n",
       "      <td>148.50</td>\n",
       "    </tr>\n",
       "    <tr>\n",
       "      <th>2016-04-21</th>\n",
       "      <td>Apr 21, 2016</td>\n",
       "      <td>146.58</td>\n",
       "      <td>150.12</td>\n",
       "      <td>146.46</td>\n",
       "      <td>149.30</td>\n",
       "      <td>6017700.0</td>\n",
       "      <td>149.30</td>\n",
       "    </tr>\n",
       "    <tr>\n",
       "      <th>2016-04-20</th>\n",
       "      <td>Apr 20, 2016</td>\n",
       "      <td>144.24</td>\n",
       "      <td>147.20</td>\n",
       "      <td>144.00</td>\n",
       "      <td>146.11</td>\n",
       "      <td>6754300.0</td>\n",
       "      <td>146.11</td>\n",
       "    </tr>\n",
       "    <tr>\n",
       "      <th>2016-04-19</th>\n",
       "      <td>Apr 19, 2016</td>\n",
       "      <td>146.47</td>\n",
       "      <td>146.95</td>\n",
       "      <td>142.61</td>\n",
       "      <td>144.00</td>\n",
       "      <td>13190200.0</td>\n",
       "      <td>144.00</td>\n",
       "    </tr>\n",
       "  </tbody>\n",
       "</table>\n",
       "</div>"
      ],
      "text/plain": [
       "                    Date    Open    High     Low   Close      Volume  \\\n",
       "Date                                                                   \n",
       "2016-04-26  Apr 26, 2016  148.65  149.79  147.90  149.08   2974800.0   \n",
       "2016-04-25  Apr 25, 2016  148.16  148.90  147.11  148.81   2848900.0   \n",
       "2016-04-22  Apr 22, 2016  149.44  151.00  147.50  148.50   5191900.0   \n",
       "2016-04-21  Apr 21, 2016  146.58  150.12  146.46  149.30   6017700.0   \n",
       "2016-04-20  Apr 20, 2016  144.24  147.20  144.00  146.11   6754300.0   \n",
       "2016-04-19  Apr 19, 2016  146.47  146.95  142.61  144.00  13190200.0   \n",
       "\n",
       "            Adj Close*  \n",
       "Date                    \n",
       "2016-04-26      149.08  \n",
       "2016-04-25      148.81  \n",
       "2016-04-22      148.50  \n",
       "2016-04-21      149.30  \n",
       "2016-04-20      146.11  \n",
       "2016-04-19      144.00  "
      ]
     },
     "execution_count": 46,
     "metadata": {},
     "output_type": "execute_result"
    }
   ],
   "source": [
    "df_ibm[:6]"
   ]
  },
  {
   "cell_type": "code",
   "execution_count": 47,
   "metadata": {
    "collapsed": false
   },
   "outputs": [
    {
     "name": "stderr",
     "output_type": "stream",
     "text": [
      "/Users/rick446/.virtualenvs/intermediate-python/lib/python2.7/site-packages/IPython/lib/pretty.py:108: FutureWarning: .resample() is now a deferred operation\n",
      "use .resample(...).mean() instead of .resample(...)\n",
      "  return getattr(obj, attr, default)\n"
     ]
    },
    {
     "data": {
      "text/html": [
       "<div>\n",
       "<table border=\"1\" class=\"dataframe\">\n",
       "  <thead>\n",
       "    <tr style=\"text-align: right;\">\n",
       "      <th></th>\n",
       "      <th>High</th>\n",
       "      <th>Low</th>\n",
       "      <th>Close</th>\n",
       "      <th>Volume</th>\n",
       "      <th>Adj Close*</th>\n",
       "    </tr>\n",
       "    <tr>\n",
       "      <th>Date</th>\n",
       "      <th></th>\n",
       "      <th></th>\n",
       "      <th></th>\n",
       "      <th></th>\n",
       "      <th></th>\n",
       "    </tr>\n",
       "  </thead>\n",
       "  <tbody>\n",
       "    <tr>\n",
       "      <th>2016-01-24</th>\n",
       "      <td>124.7400</td>\n",
       "      <td>121.770</td>\n",
       "      <td>122.5000</td>\n",
       "      <td>9238400.0</td>\n",
       "      <td>121.2600</td>\n",
       "    </tr>\n",
       "    <tr>\n",
       "      <th>2016-01-31</th>\n",
       "      <td>123.7660</td>\n",
       "      <td>121.700</td>\n",
       "      <td>122.5280</td>\n",
       "      <td>5456160.0</td>\n",
       "      <td>121.2900</td>\n",
       "    </tr>\n",
       "    <tr>\n",
       "      <th>2016-02-07</th>\n",
       "      <td>126.4040</td>\n",
       "      <td>123.898</td>\n",
       "      <td>125.7420</td>\n",
       "      <td>5105980.0</td>\n",
       "      <td>124.4720</td>\n",
       "    </tr>\n",
       "    <tr>\n",
       "      <th>2016-02-14</th>\n",
       "      <td>124.0880</td>\n",
       "      <td>120.598</td>\n",
       "      <td>122.0260</td>\n",
       "      <td>6406880.0</td>\n",
       "      <td>122.0260</td>\n",
       "    </tr>\n",
       "    <tr>\n",
       "      <th>2016-02-21</th>\n",
       "      <td>129.3275</td>\n",
       "      <td>126.295</td>\n",
       "      <td>128.5925</td>\n",
       "      <td>5989825.0</td>\n",
       "      <td>128.5925</td>\n",
       "    </tr>\n",
       "    <tr>\n",
       "      <th>2016-02-28</th>\n",
       "      <td>134.1280</td>\n",
       "      <td>131.386</td>\n",
       "      <td>133.1000</td>\n",
       "      <td>4152840.0</td>\n",
       "      <td>133.1000</td>\n",
       "    </tr>\n",
       "    <tr>\n",
       "      <th>2016-03-06</th>\n",
       "      <td>136.5640</td>\n",
       "      <td>133.848</td>\n",
       "      <td>135.4600</td>\n",
       "      <td>4511700.0</td>\n",
       "      <td>135.4600</td>\n",
       "    </tr>\n",
       "    <tr>\n",
       "      <th>2016-03-13</th>\n",
       "      <td>141.4840</td>\n",
       "      <td>138.424</td>\n",
       "      <td>140.4360</td>\n",
       "      <td>4719820.0</td>\n",
       "      <td>140.4360</td>\n",
       "    </tr>\n",
       "    <tr>\n",
       "      <th>2016-03-20</th>\n",
       "      <td>145.2460</td>\n",
       "      <td>142.930</td>\n",
       "      <td>144.9320</td>\n",
       "      <td>5977900.0</td>\n",
       "      <td>144.9320</td>\n",
       "    </tr>\n",
       "    <tr>\n",
       "      <th>2016-03-27</th>\n",
       "      <td>148.5600</td>\n",
       "      <td>146.045</td>\n",
       "      <td>147.5200</td>\n",
       "      <td>4403050.0</td>\n",
       "      <td>147.5200</td>\n",
       "    </tr>\n",
       "    <tr>\n",
       "      <th>2016-04-03</th>\n",
       "      <td>150.9760</td>\n",
       "      <td>148.532</td>\n",
       "      <td>150.0220</td>\n",
       "      <td>4088180.0</td>\n",
       "      <td>150.0220</td>\n",
       "    </tr>\n",
       "    <tr>\n",
       "      <th>2016-04-10</th>\n",
       "      <td>150.9720</td>\n",
       "      <td>149.098</td>\n",
       "      <td>149.9380</td>\n",
       "      <td>3683920.0</td>\n",
       "      <td>149.9380</td>\n",
       "    </tr>\n",
       "    <tr>\n",
       "      <th>2016-04-17</th>\n",
       "      <td>151.6300</td>\n",
       "      <td>149.754</td>\n",
       "      <td>150.5980</td>\n",
       "      <td>3488880.0</td>\n",
       "      <td>150.5980</td>\n",
       "    </tr>\n",
       "    <tr>\n",
       "      <th>2016-04-24</th>\n",
       "      <td>149.6820</td>\n",
       "      <td>146.412</td>\n",
       "      <td>148.0880</td>\n",
       "      <td>7547160.0</td>\n",
       "      <td>148.0880</td>\n",
       "    </tr>\n",
       "    <tr>\n",
       "      <th>2016-05-01</th>\n",
       "      <td>149.3450</td>\n",
       "      <td>147.505</td>\n",
       "      <td>148.9450</td>\n",
       "      <td>2911850.0</td>\n",
       "      <td>148.9450</td>\n",
       "    </tr>\n",
       "  </tbody>\n",
       "</table>\n",
       "</div>"
      ],
      "text/plain": [
       "DatetimeIndexResampler [freq=<Week: weekday=6>, axis=0, closed=right, label=right, convention=start, base=0]"
      ]
     },
     "execution_count": 47,
     "metadata": {},
     "output_type": "execute_result"
    }
   ],
   "source": [
    "df_ibm.resample('w')"
   ]
  },
  {
   "cell_type": "code",
   "execution_count": 48,
   "metadata": {
    "collapsed": false
   },
   "outputs": [
    {
     "data": {
      "text/html": [
       "<div>\n",
       "<table border=\"1\" class=\"dataframe\">\n",
       "  <thead>\n",
       "    <tr style=\"text-align: right;\">\n",
       "      <th></th>\n",
       "      <th>High</th>\n",
       "      <th>Low</th>\n",
       "      <th>Close</th>\n",
       "      <th>Volume</th>\n",
       "      <th>Adj Close*</th>\n",
       "    </tr>\n",
       "  </thead>\n",
       "  <tbody>\n",
       "    <tr>\n",
       "      <th>count</th>\n",
       "      <td>66.000000</td>\n",
       "      <td>66.000000</td>\n",
       "      <td>66.000000</td>\n",
       "      <td>6.600000e+01</td>\n",
       "      <td>66.000000</td>\n",
       "    </tr>\n",
       "    <tr>\n",
       "      <th>mean</th>\n",
       "      <td>139.540606</td>\n",
       "      <td>136.955152</td>\n",
       "      <td>138.472576</td>\n",
       "      <td>5.035314e+06</td>\n",
       "      <td>138.263788</td>\n",
       "    </tr>\n",
       "    <tr>\n",
       "      <th>std</th>\n",
       "      <td>10.843938</td>\n",
       "      <td>11.032611</td>\n",
       "      <td>10.993318</td>\n",
       "      <td>2.013714e+06</td>\n",
       "      <td>11.278235</td>\n",
       "    </tr>\n",
       "    <tr>\n",
       "      <th>min</th>\n",
       "      <td>119.660000</td>\n",
       "      <td>116.900000</td>\n",
       "      <td>117.850000</td>\n",
       "      <td>2.848900e+06</td>\n",
       "      <td>117.850000</td>\n",
       "    </tr>\n",
       "    <tr>\n",
       "      <th>25%</th>\n",
       "      <td>128.535000</td>\n",
       "      <td>125.212500</td>\n",
       "      <td>127.880000</td>\n",
       "      <td>3.738325e+06</td>\n",
       "      <td>127.052500</td>\n",
       "    </tr>\n",
       "    <tr>\n",
       "      <th>50%</th>\n",
       "      <td>141.820000</td>\n",
       "      <td>138.660000</td>\n",
       "      <td>140.300000</td>\n",
       "      <td>4.414200e+06</td>\n",
       "      <td>140.300000</td>\n",
       "    </tr>\n",
       "    <tr>\n",
       "      <th>75%</th>\n",
       "      <td>149.720000</td>\n",
       "      <td>147.500000</td>\n",
       "      <td>148.597500</td>\n",
       "      <td>5.545825e+06</td>\n",
       "      <td>148.597500</td>\n",
       "    </tr>\n",
       "    <tr>\n",
       "      <th>max</th>\n",
       "      <td>153.520000</td>\n",
       "      <td>151.910000</td>\n",
       "      <td>152.530000</td>\n",
       "      <td>1.319020e+07</td>\n",
       "      <td>152.530000</td>\n",
       "    </tr>\n",
       "  </tbody>\n",
       "</table>\n",
       "</div>"
      ],
      "text/plain": [
       "             High         Low       Close        Volume  Adj Close*\n",
       "count   66.000000   66.000000   66.000000  6.600000e+01   66.000000\n",
       "mean   139.540606  136.955152  138.472576  5.035314e+06  138.263788\n",
       "std     10.843938   11.032611   10.993318  2.013714e+06   11.278235\n",
       "min    119.660000  116.900000  117.850000  2.848900e+06  117.850000\n",
       "25%    128.535000  125.212500  127.880000  3.738325e+06  127.052500\n",
       "50%    141.820000  138.660000  140.300000  4.414200e+06  140.300000\n",
       "75%    149.720000  147.500000  148.597500  5.545825e+06  148.597500\n",
       "max    153.520000  151.910000  152.530000  1.319020e+07  152.530000"
      ]
     },
     "execution_count": 48,
     "metadata": {},
     "output_type": "execute_result"
    }
   ],
   "source": [
    "df_ibm.describe()"
   ]
  },
  {
   "cell_type": "code",
   "execution_count": 54,
   "metadata": {
    "collapsed": true
   },
   "outputs": [],
   "source": [
    "from datetime import datetime\n",
    "from pandas_datareader import data, wb\n",
    "start = datetime(2010, 1, 1)\n",
    "end = datetime(2010, 1, 27)"
   ]
  },
  {
   "cell_type": "code",
   "execution_count": 55,
   "metadata": {
    "collapsed": false
   },
   "outputs": [
    {
     "data": {
      "text/html": [
       "<div>\n",
       "<table border=\"1\" class=\"dataframe\">\n",
       "  <thead>\n",
       "    <tr style=\"text-align: right;\">\n",
       "      <th></th>\n",
       "      <th>Open</th>\n",
       "      <th>High</th>\n",
       "      <th>Low</th>\n",
       "      <th>Close</th>\n",
       "      <th>Volume</th>\n",
       "      <th>Adj Close</th>\n",
       "    </tr>\n",
       "    <tr>\n",
       "      <th>Date</th>\n",
       "      <th></th>\n",
       "      <th></th>\n",
       "      <th></th>\n",
       "      <th></th>\n",
       "      <th></th>\n",
       "      <th></th>\n",
       "    </tr>\n",
       "  </thead>\n",
       "  <tbody>\n",
       "    <tr>\n",
       "      <th>2010-01-04</th>\n",
       "      <td>131.179993</td>\n",
       "      <td>132.970001</td>\n",
       "      <td>130.850006</td>\n",
       "      <td>132.449997</td>\n",
       "      <td>6155300</td>\n",
       "      <td>115.385996</td>\n",
       "    </tr>\n",
       "    <tr>\n",
       "      <th>2010-01-05</th>\n",
       "      <td>131.679993</td>\n",
       "      <td>131.850006</td>\n",
       "      <td>130.100006</td>\n",
       "      <td>130.850006</td>\n",
       "      <td>6841400</td>\n",
       "      <td>113.992138</td>\n",
       "    </tr>\n",
       "    <tr>\n",
       "      <th>2010-01-06</th>\n",
       "      <td>130.679993</td>\n",
       "      <td>131.490005</td>\n",
       "      <td>129.809998</td>\n",
       "      <td>130.000000</td>\n",
       "      <td>5605300</td>\n",
       "      <td>113.251641</td>\n",
       "    </tr>\n",
       "    <tr>\n",
       "      <th>2010-01-07</th>\n",
       "      <td>129.869995</td>\n",
       "      <td>130.250000</td>\n",
       "      <td>128.910004</td>\n",
       "      <td>129.550003</td>\n",
       "      <td>5840600</td>\n",
       "      <td>112.859619</td>\n",
       "    </tr>\n",
       "    <tr>\n",
       "      <th>2010-01-08</th>\n",
       "      <td>129.070007</td>\n",
       "      <td>130.919998</td>\n",
       "      <td>129.050003</td>\n",
       "      <td>130.850006</td>\n",
       "      <td>4197200</td>\n",
       "      <td>113.992138</td>\n",
       "    </tr>\n",
       "  </tbody>\n",
       "</table>\n",
       "</div>"
      ],
      "text/plain": [
       "                  Open        High         Low       Close   Volume  \\\n",
       "Date                                                                  \n",
       "2010-01-04  131.179993  132.970001  130.850006  132.449997  6155300   \n",
       "2010-01-05  131.679993  131.850006  130.100006  130.850006  6841400   \n",
       "2010-01-06  130.679993  131.490005  129.809998  130.000000  5605300   \n",
       "2010-01-07  129.869995  130.250000  128.910004  129.550003  5840600   \n",
       "2010-01-08  129.070007  130.919998  129.050003  130.850006  4197200   \n",
       "\n",
       "             Adj Close  \n",
       "Date                    \n",
       "2010-01-04  115.385996  \n",
       "2010-01-05  113.992138  \n",
       "2010-01-06  113.251641  \n",
       "2010-01-07  112.859619  \n",
       "2010-01-08  113.992138  "
      ]
     },
     "execution_count": 55,
     "metadata": {},
     "output_type": "execute_result"
    }
   ],
   "source": [
    "df_ibm = data.DataReader(\"IBM\", 'yahoo', start, end)\n",
    "df_ibm.head()"
   ]
  },
  {
   "cell_type": "code",
   "execution_count": 56,
   "metadata": {
    "collapsed": false
   },
   "outputs": [
    {
     "data": {
      "image/png": "[encoded data removed]",
      "text/plain": [
       "<matplotlib.figure.Figure at 0x114c95510>"
      ]
     },
     "metadata": {},
     "output_type": "display_data"
    }
   ],
   "source": [
    "candlestick_plot(df_ibm)"
   ]
  },
  {
   "cell_type": "markdown",
   "metadata": {},
   "source": [
    "### Exercises:\n",
    "`df = pd.read_csv('http://ichart.finance.yahoo.com/table.csv?d=6&e=1&f=2009&g=d&a=7&b=19&c=2004&ignore=.csv&s=IBM')`\n",
    "\n",
    "Using the previous IBM dataframe, complete the following:\n",
    "- Using numpy, determine the average price on June 30, 2009.\n",
    "- Using numpy, determine the min, max, and median closing price for the dataset.\n",
    "- Limit the dataframe with Pandas to find the min, max, and median closing price for only 2005."
   ]
  }
 ],
 "metadata": {
  "kernelspec": {
   "display_name": "Python 2",
   "language": "python",
   "name": "python2"
  },
  "language_info": {
   "codemirror_mode": {
    "name": "ipython",
    "version": 2
   },
   "file_extension": ".py",
   "mimetype": "text/x-python",
   "name": "python",
   "nbconvert_exporter": "python",
   "pygments_lexer": "ipython2",
   "version": "2.7.11"
  }
 },
 "nbformat": 4,
 "nbformat_minor": 0
}
