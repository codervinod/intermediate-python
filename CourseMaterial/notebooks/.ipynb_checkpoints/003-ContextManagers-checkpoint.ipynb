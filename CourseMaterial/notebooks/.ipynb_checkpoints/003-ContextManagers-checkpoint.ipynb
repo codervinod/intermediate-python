{
 "cells": [
  {
   "cell_type": "markdown",
   "metadata": {},
   "source": [
    "# Context Managers"
   ]
  },
  {
   "cell_type": "code",
   "execution_count": null,
   "metadata": {
    "collapsed": false
   },
   "outputs": [],
   "source": [
    "with open('/etc/hosts') as fp:\n",
    "    print fp.read()\n",
    "print fp"
   ]
  },
  {
   "cell_type": "code",
   "execution_count": null,
   "metadata": {
    "collapsed": false
   },
   "outputs": [],
   "source": [
    "try:\n",
    "    with open('/etc/hosts') as fp:\n",
    "        raise KeyError\n",
    "        print fp.read()\n",
    "except KeyError:\n",
    "    print 'handle keyerror'\n",
    "\n",
    "print fp"
   ]
  },
  {
   "cell_type": "code",
   "execution_count": null,
   "metadata": {
    "collapsed": false
   },
   "outputs": [],
   "source": [
    "with open('/etc/hosts') as fp_i, open('/tmp/hosts', 'w') as fp_o:\n",
    "    fp_o.write(fp_i.read())"
   ]
  },
  {
   "cell_type": "code",
   "execution_count": null,
   "metadata": {
    "collapsed": false
   },
   "outputs": [],
   "source": [
    "with open('/tmp/hosts') as fp:\n",
    "    print fp.read()"
   ]
  },
  {
   "cell_type": "markdown",
   "metadata": {},
   "source": [
    "## Context manager protocol"
   ]
  },
  {
   "cell_type": "code",
   "execution_count": null,
   "metadata": {
    "collapsed": true
   },
   "outputs": [],
   "source": [
    "class CM(object):\n",
    "    def __enter__(self):\n",
    "        print 'Entering CM'\n",
    "        return self\n",
    "    def __exit__(self, ex_type, ex_val, ex_tb):\n",
    "        print 'Exiting CM'\n",
    "        if ex_type == KeyError: \n",
    "            # Re-raise same exception\n",
    "            return False\n",
    "        # Don't re-raise\n",
    "        print 'Swallowing %s inside CM' % ex_type\n",
    "        return True"
   ]
  },
  {
   "cell_type": "code",
   "execution_count": null,
   "metadata": {
    "collapsed": false
   },
   "outputs": [],
   "source": [
    "with CM() as cm:\n",
    "    print 'Inside with statement', cm"
   ]
  },
  {
   "cell_type": "code",
   "execution_count": null,
   "metadata": {
    "collapsed": false
   },
   "outputs": [],
   "source": [
    "try:\n",
    "    with CM():\n",
    "        print 'About to raise KeyError'\n",
    "        raise KeyError\n",
    "except KeyError:\n",
    "    print 'Catching KeyError outside CM'"
   ]
  },
  {
   "cell_type": "code",
   "execution_count": null,
   "metadata": {
    "collapsed": false
   },
   "outputs": [],
   "source": [
    "with CM():\n",
    "    print 'About to raise ValueError'\n",
    "    raise ValueError"
   ]
  },
  {
   "cell_type": "markdown",
   "metadata": {},
   "source": [
    "### Exercises\n",
    "\n",
    "- Write a context manager that logs the entry and exit of a block of code (similar to the\n",
    "  decorator before)\n",
    "- Write a context manager that prints out balanced XML nodes. Use the test code below.\n",
    "\n",
    "Test code:\n",
    "\n",
    "    with node('html'):\n",
    "        with node('body'):\n",
    "            with node('h1'):\n",
    "                 print 'Page Title'\n",
    "\n",
    "You should see the following result:\n",
    "\n",
    "    <html>\n",
    "    <body>\n",
    "    <h1>\n",
    "    Page Title\n",
    "    </h1>\n",
    "    </body>\n",
    "    </html>"
   ]
  },
  {
   "cell_type": "markdown",
   "metadata": {},
   "source": [
    "## Contextlib"
   ]
  },
  {
   "cell_type": "code",
   "execution_count": null,
   "metadata": {
    "collapsed": true
   },
   "outputs": [],
   "source": [
    "import contextlib"
   ]
  },
  {
   "cell_type": "code",
   "execution_count": null,
   "metadata": {
    "collapsed": false
   },
   "outputs": [],
   "source": [
    "@contextlib.contextmanager\n",
    "def so_much_easier():\n",
    "    print 'Entering block'\n",
    "    try:\n",
    "        yield \n",
    "        print 'Exiting block cleanly'\n",
    "    except:\n",
    "        print 'Exiting block with exception'"
   ]
  },
  {
   "cell_type": "code",
   "execution_count": null,
   "metadata": {
    "collapsed": false
   },
   "outputs": [],
   "source": [
    "with so_much_easier():\n",
    "    print 'Inside block'"
   ]
  },
  {
   "cell_type": "code",
   "execution_count": null,
   "metadata": {
    "collapsed": false
   },
   "outputs": [],
   "source": [
    "with so_much_easier():\n",
    "    print 'Raising ValueError'\n",
    "    raise ValueError"
   ]
  },
  {
   "cell_type": "markdown",
   "metadata": {},
   "source": [
    "`contextlib` also provides a facility to support the `with` statement with context manager-like\n",
    "objects that don't actually support the protocol, but *do* have a `close()` method:"
   ]
  },
  {
   "cell_type": "code",
   "execution_count": null,
   "metadata": {
    "collapsed": true
   },
   "outputs": [],
   "source": [
    "class MyClass(object):\n",
    "    def __init__(self):\n",
    "        print 'Perform some resource acquisition'\n",
    "    def close(self):\n",
    "        print 'Close the resource'"
   ]
  },
  {
   "cell_type": "code",
   "execution_count": null,
   "metadata": {
    "collapsed": false
   },
   "outputs": [],
   "source": [
    "with contextlib.closing(MyClass()) as myobj:\n",
    "    print 'myobj is', myobj"
   ]
  },
  {
   "cell_type": "code",
   "execution_count": null,
   "metadata": {
    "collapsed": false
   },
   "outputs": [],
   "source": [
    "try:\n",
    "    with contextlib.closing(MyClass()) as myobj:\n",
    "        print 'raising ValueError'\n",
    "        raise ValueError\n",
    "except:\n",
    "    print 'handling exception'\n",
    "        "
   ]
  },
  {
   "cell_type": "markdown",
   "metadata": {},
   "source": [
    "### Exercises \n",
    "\n",
    "- Update your context managers from the previous exercise to use the `@contextmanager` decorator"
   ]
  },
  {
   "cell_type": "code",
   "execution_count": null,
   "metadata": {
    "collapsed": true
   },
   "outputs": [],
   "source": []
  }
 ],
 "metadata": {
  "kernelspec": {
   "display_name": "Python 2",
   "language": "python",
   "name": "python2"
  },
  "language_info": {
   "codemirror_mode": {
    "name": "ipython",
    "version": 2
   },
   "file_extension": ".py",
   "mimetype": "text/x-python",
   "name": "python",
   "nbconvert_exporter": "python",
   "pygments_lexer": "ipython2",
   "version": "2.7.11"
  }
 },
 "nbformat": 4,
 "nbformat_minor": 0
}
