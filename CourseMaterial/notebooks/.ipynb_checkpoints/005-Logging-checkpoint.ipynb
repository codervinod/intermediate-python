{
 "cells": [
  {
   "cell_type": "markdown",
   "metadata": {},
   "source": [
    "# Logging\n",
    "\n",
    "Python provides a standard and configurable logging facility. You can set up the collection\n",
    "of loggers &amp; handlers separately from their actual *use* in your program."
   ]
  },
  {
   "cell_type": "code",
   "execution_count": null,
   "metadata": {
    "collapsed": false
   },
   "outputs": [],
   "source": [
    "import logging\n",
    "logging.basicConfig()\n",
    "\n",
    "log = logging.getLogger()\n",
    "log"
   ]
  },
  {
   "cell_type": "code",
   "execution_count": null,
   "metadata": {
    "collapsed": false
   },
   "outputs": [],
   "source": [
    "log.log(logging.CRITICAL, 'This is a critical message')\n",
    "log.log(logging.FATAL, 'This is a fatal message')"
   ]
  },
  {
   "cell_type": "code",
   "execution_count": null,
   "metadata": {
    "collapsed": false
   },
   "outputs": [],
   "source": [
    "logging.CRITICAL, logging.ERROR, logging.WARN, logging.INFO, logging.DEBUG"
   ]
  },
  {
   "cell_type": "code",
   "execution_count": null,
   "metadata": {
    "collapsed": false
   },
   "outputs": [],
   "source": [
    "log.critical('This is critical')"
   ]
  },
  {
   "cell_type": "code",
   "execution_count": null,
   "metadata": {
    "collapsed": false
   },
   "outputs": [],
   "source": [
    "log.error('This is an error')\n",
    "log.warn('This is a warning')\n",
    "log.info('This is info')\n",
    "log.debug('This is debug')"
   ]
  },
  {
   "cell_type": "code",
   "execution_count": null,
   "metadata": {
    "collapsed": true
   },
   "outputs": [],
   "source": [
    "log.setLevel(logging.DEBUG)"
   ]
  },
  {
   "cell_type": "code",
   "execution_count": null,
   "metadata": {
    "collapsed": false
   },
   "outputs": [],
   "source": [
    "log.error('This is an error')\n",
    "log.warn('This is a warning')\n",
    "log.info('This is info')\n",
    "log.debug('This is debug')"
   ]
  },
  {
   "cell_type": "code",
   "execution_count": null,
   "metadata": {
    "collapsed": false
   },
   "outputs": [],
   "source": [
    "log.info('This is a message with an argument %r', 'The argument')"
   ]
  },
  {
   "cell_type": "markdown",
   "metadata": {},
   "source": [
    "# Sub-loggers\n",
    "\n",
    "We can configure \"child loggers\" of the root logger by passing a name to the `getLogger` \n",
    "function:"
   ]
  },
  {
   "cell_type": "code",
   "execution_count": null,
   "metadata": {
    "collapsed": false
   },
   "outputs": [],
   "source": [
    "root = logging.getLogger()\n",
    "mylogger = logging.getLogger('mylogger')\n",
    "mylogger.setLevel(logging.INFO)\n",
    "root.debug('The root logger will print debug information')\n",
    "mylogger.debug('mylogger will not')"
   ]
  },
  {
   "cell_type": "code",
   "execution_count": null,
   "metadata": {
    "collapsed": false
   },
   "outputs": [],
   "source": [
    "mylogger.info('Information will propagate up to other loggers')\n",
    "mylogger.propagate = 0\n",
    "mylogger.info('But not if we set propagate to 0')"
   ]
  },
  {
   "cell_type": "markdown",
   "metadata": {},
   "source": [
    "## Handlers and formatters"
   ]
  },
  {
   "cell_type": "code",
   "execution_count": null,
   "metadata": {
    "collapsed": false
   },
   "outputs": [],
   "source": [
    "handler = logging.StreamHandler()\n",
    "mylogger.handlers = [handler]\n",
    "mylogger.info('Now this is being handled by mylogger')"
   ]
  },
  {
   "cell_type": "code",
   "execution_count": null,
   "metadata": {
    "collapsed": true
   },
   "outputs": [],
   "source": [
    "handler.setLevel(logging.WARN)\n",
    "mylogger.info('Now this is suppressed by the handler')"
   ]
  },
  {
   "cell_type": "code",
   "execution_count": null,
   "metadata": {
    "collapsed": false
   },
   "outputs": [],
   "source": [
    "handler.setLevel(logging.INFO)\n",
    "handler.formatter = logging.Formatter('%(levelname)s:%(message)s')\n",
    "mylogger.info('This is a message')"
   ]
  },
  {
   "cell_type": "markdown",
   "metadata": {},
   "source": [
    "If we set propagate back to 1, we'll see \"doubled\" messages:"
   ]
  },
  {
   "cell_type": "code",
   "execution_count": null,
   "metadata": {
    "collapsed": false
   },
   "outputs": [],
   "source": [
    "mylogger.propagate = 1\n",
    "mylogger.info('Hello, there')"
   ]
  },
  {
   "cell_type": "markdown",
   "metadata": {},
   "source": [
    "## Logging Configuration"
   ]
  },
  {
   "cell_type": "code",
   "execution_count": null,
   "metadata": {
    "collapsed": false
   },
   "outputs": [],
   "source": [
    "import sys\n",
    "import logging.config\n",
    "\n",
    "\n",
    "config = {\n",
    "    'version': 1,\n",
    "    'loggers': {\n",
    "        'root': {\n",
    "            'level': logging.ERROR,\n",
    "            'handlers': ['stream' ] },\n",
    "        'mylogger2': {\n",
    "            'level': logging.INFO,\n",
    "            'handlers': [ 'stream', 'file'] } },\n",
    "    'handlers': {\n",
    "        'stream': {\n",
    "            'class': 'logging.StreamHandler',\n",
    "            'formatter': 'basic',\n",
    "            'stream': sys.stdout },\n",
    "        'file': {\n",
    "            'class': 'logging.FileHandler',\n",
    "            'formatter': 'precise',\n",
    "            'filename': '/tmp/logfile.log',\n",
    "            'mode': 'w' } },\n",
    "    'formatters': {\n",
    "        'basic': {\n",
    "            'format': '%(levelname)-8s %(message)s' },\n",
    "        'precise': {\n",
    "            'format': '%(asctime)s %(levelname)-8s %(name)-15s %(message)s',\n",
    "            'datefmt': '%Y-%m-%d %H:%M:%S' } }\n",
    "}\n",
    "\n",
    "\n",
    "logging.config.dictConfig(config)\n",
    "\n",
    "root = logging.getLogger()\n",
    "mylogger2 = logging.getLogger('mylogger2')\n",
    "\n",
    "root.error('error from root')\n",
    "print\n",
    "mylogger2.error('error from mylogger')\n",
    "print\n",
    "mylogger2.info('info from mylogger')"
   ]
  },
  {
   "cell_type": "code",
   "execution_count": null,
   "metadata": {
    "collapsed": false
   },
   "outputs": [],
   "source": [
    "print open('/tmp/logfile.log').read()"
   ]
  },
  {
   "cell_type": "code",
   "execution_count": null,
   "metadata": {
    "collapsed": true
   },
   "outputs": [],
   "source": []
  }
 ],
 "metadata": {
  "kernelspec": {
   "display_name": "Python 2",
   "language": "python",
   "name": "python2"
  },
  "language_info": {
   "codemirror_mode": {
    "name": "ipython",
    "version": 2
   },
   "file_extension": ".py",
   "mimetype": "text/x-python",
   "name": "python",
   "nbconvert_exporter": "python",
   "pygments_lexer": "ipython2",
   "version": "2.7.11"
  }
 },
 "nbformat": 4,
 "nbformat_minor": 0
}
