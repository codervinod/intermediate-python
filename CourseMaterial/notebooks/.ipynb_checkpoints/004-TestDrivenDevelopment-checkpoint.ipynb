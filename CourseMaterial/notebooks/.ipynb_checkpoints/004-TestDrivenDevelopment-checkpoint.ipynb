{
 "cells": [
  {
   "cell_type": "markdown",
   "metadata": {},
   "source": [
    "# Test-driven development example\n",
    "\n",
    "Though this is a contrived example, it illustrates the ideas behind test-driven development. Suppose we wish to build a calculator class that adds numbers. Let's start test-first:"
   ]
  },
  {
   "cell_type": "code",
   "execution_count": null,
   "metadata": {
    "collapsed": true
   },
   "outputs": [],
   "source": [
    "import unittest\n",
    "# normally we'd use unittest.main() or nosetests to run our tests. In this case, we're going to \\\n",
    "# manually create our own test loader/runner\n",
    "runner = unittest.runner.TextTestRunner()\n",
    "loader = unittest.TestLoader()"
   ]
  },
  {
   "cell_type": "code",
   "execution_count": null,
   "metadata": {
    "collapsed": true
   },
   "outputs": [],
   "source": [
    "class TestCalculatorAdd(unittest.TestCase):\n",
    "\n",
    "    def test_calculator_add_returns_correct_result(self):\n",
    "        calc = Calculator()\n",
    "        result = calc.add(2,2)\n",
    "        self.assertEqual(4, result)\n",
    "        \n",
    "def run_test():\n",
    "    runner.run(loader.loadTestsFromTestCase(TestCalculatorAdd))"
   ]
  },
  {
   "cell_type": "code",
   "execution_count": null,
   "metadata": {
    "collapsed": false
   },
   "outputs": [],
   "source": [
    "run_test()"
   ]
  },
  {
   "cell_type": "code",
   "execution_count": null,
   "metadata": {
    "collapsed": false
   },
   "outputs": [],
   "source": [
    "class Calculator(object):\n",
    "    \n",
    "    def add(self, a, b):\n",
    "        pass\n",
    "    \n",
    "run_test()"
   ]
  },
  {
   "cell_type": "code",
   "execution_count": null,
   "metadata": {
    "collapsed": false
   },
   "outputs": [],
   "source": [
    "class Calculator(object):\n",
    "    \n",
    "    def add(self, a, b):\n",
    "        return a + b\n",
    "    \n",
    "run_test()"
   ]
  },
  {
   "cell_type": "markdown",
   "metadata": {},
   "source": [
    "## Handling exceptions\n",
    "\n",
    "This works fine, but what about unexpected inputs? Python lets almost anything add, but let's make our calculator \n",
    "more selective:"
   ]
  },
  {
   "cell_type": "code",
   "execution_count": null,
   "metadata": {
    "collapsed": false
   },
   "outputs": [],
   "source": [
    "class TestCalculatorAdd(unittest.TestCase):\n",
    "\n",
    "    def setUp(self):\n",
    "        self.calc = Calculator()\n",
    "        \n",
    "    def test_calculator_add_returns_correct_result(self):\n",
    "        result = self.calc.add(2,2)\n",
    "        self.assertEqual(4, result)\n",
    "        \n",
    "    def test_calculator_raises_error_if_both_args_not_numbers(self):\n",
    "        self.assertRaises(ValueError, self.calc.add, 'two', 'three')\n",
    "\n",
    "        \n",
    "run_test()"
   ]
  },
  {
   "cell_type": "code",
   "execution_count": null,
   "metadata": {
    "collapsed": false
   },
   "outputs": [],
   "source": [
    "class Calculator(object):\n",
    "    valid_types = (int, long, float, complex)\n",
    "    def add(self, x, y):\n",
    "        if not isinstance(x, self.valid_types):\n",
    "            raise ValueError()\n",
    "        if not isinstance(y, self.valid_types):\n",
    "            raise ValueError()\n",
    "        return x + y\n",
    "\n",
    "run_test()"
   ]
  },
  {
   "cell_type": "code",
   "execution_count": null,
   "metadata": {
    "collapsed": false
   },
   "outputs": [],
   "source": [
    "class TestCalculatorAdd(unittest.TestCase):\n",
    "\n",
    "    def setUp(self):\n",
    "        self.calc = Calculator()\n",
    "        \n",
    "    def test_calculator_add_returns_correct_result(self):\n",
    "        result = self.calc.add(2,2)\n",
    "        self.assertEqual(4, result)\n",
    "        \n",
    "    def test_calculator_raises_error_if_both_args_not_numbers(self):\n",
    "        self.assertRaises(ValueError, self.calc.add, 'two', 'three')\n",
    "\n",
    "    def test_calculator_raises_error_if_x_not_number(self):\n",
    "        self.assertRaises(ValueError, self.calc.add, 'two', 3)\n",
    "\n",
    "    def test_calculator_raises_error_if_y_not_number(self):\n",
    "        self.assertRaises(ValueError, self.calc.add, 2, 'three')\n",
    "\n",
    "        \n",
    "run_test()"
   ]
  },
  {
   "cell_type": "code",
   "execution_count": null,
   "metadata": {
    "collapsed": true
   },
   "outputs": [],
   "source": []
  },
  {
   "cell_type": "code",
   "execution_count": null,
   "metadata": {
    "collapsed": true
   },
   "outputs": [],
   "source": []
  }
 ],
 "metadata": {
  "kernelspec": {
   "display_name": "Python 2",
   "language": "python",
   "name": "python2"
  },
  "language_info": {
   "codemirror_mode": {
    "name": "ipython",
    "version": 2
   },
   "file_extension": ".py",
   "mimetype": "text/x-python",
   "name": "python",
   "nbconvert_exporter": "python",
   "pygments_lexer": "ipython2",
   "version": "2.7.11"
  }
 },
 "nbformat": 4,
 "nbformat_minor": 0
}
