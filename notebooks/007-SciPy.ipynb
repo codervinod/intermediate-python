{
 "cells": [
  {
   "cell_type": "markdown",
   "metadata": {},
   "source": [
    "# Scientific processing with SciPy\n",
    "\n",
    "> SciPy is a collection of mathematical algorithms and convenience functions built on the Numpy extension of Python.\n",
    "\n",
    "SciPy has a number of modules, so this will be more of a whirlwind tour than an in-depth explanation of each module. "
   ]
  },
  {
   "cell_type": "code",
   "execution_count": 4,
   "metadata": {
    "collapsed": true
   },
   "outputs": [],
   "source": [
    "%matplotlib inline\n",
    "import numpy as np\n",
    "import matplotlib as mpl\n",
    "import matplotlib.pyplot as plt"
   ]
  },
  {
   "cell_type": "markdown",
   "metadata": {},
   "source": [
    "## Polynomials\n",
    "\n",
    "SciPy has a built-in representation of polynomials:"
   ]
  },
  {
   "cell_type": "code",
   "execution_count": null,
   "metadata": {
    "collapsed": true
   },
   "outputs": [],
   "source": [
    "from scipy import poly1d"
   ]
  },
  {
   "cell_type": "code",
   "execution_count": null,
   "metadata": {
    "collapsed": false
   },
   "outputs": [],
   "source": [
    "p = poly1d([3,4,5])\n",
    "print p"
   ]
  },
  {
   "cell_type": "code",
   "execution_count": null,
   "metadata": {
    "collapsed": false
   },
   "outputs": [],
   "source": [
    "print p * p"
   ]
  },
  {
   "cell_type": "markdown",
   "metadata": {},
   "source": [
    "## \"Special\" functions in `scipy.special`\n",
    "\n",
    "SciPy provides several functions useful in mathematical physics in the `special` module. For instance, the Bessel functions are included as `jn` and `jn_zeros`:"
   ]
  },
  {
   "cell_type": "code",
   "execution_count": null,
   "metadata": {
    "collapsed": false
   },
   "outputs": [],
   "source": [
    "from scipy import special\n",
    "def height(n, k, distance, angle, t):\n",
    "   kth_zero = special.jn_zeros(n, k)[-1]\n",
    "   return np.cos(t) * np.cos(n*angle) * special.jn(n, distance*kth_zero)\n",
    "theta = np.r_[0:2*np.pi:50j]\n",
    "radius = np.r_[0:1:50j]\n",
    "x = np.array([r * np.cos(theta) for r in radius])\n",
    "y = np.array([r * np.sin(theta) for r in radius])\n",
    "z = np.array([height(1, 1, r, theta, 0.5) for r in radius])\n"
   ]
  },
  {
   "cell_type": "code",
   "execution_count": null,
   "metadata": {
    "collapsed": true
   },
   "outputs": [],
   "source": [
    "from mpl_toolkits.mplot3d import Axes3D\n",
    "from matplotlib import cm"
   ]
  },
  {
   "cell_type": "code",
   "execution_count": null,
   "metadata": {
    "collapsed": false
   },
   "outputs": [],
   "source": [
    "fig = plt.figure()\n",
    "ax = Axes3D(fig)\n",
    "ax.plot_surface(x, y, z, rstride=1, cstride=1, cmap=cm.jet)\n",
    "ax.set_xlabel('X')\n",
    "ax.set_ylabel('Y')\n",
    "ax.set_zlabel('Z')\n",
    "plt.show()"
   ]
  },
  {
   "cell_type": "markdown",
   "metadata": {},
   "source": [
    "## Numerical integration in `scipy.integrate`"
   ]
  },
  {
   "cell_type": "code",
   "execution_count": null,
   "metadata": {
    "collapsed": false
   },
   "outputs": [],
   "source": [
    "from scipy import integrate"
   ]
  },
  {
   "cell_type": "code",
   "execution_count": null,
   "metadata": {
    "collapsed": false
   },
   "outputs": [],
   "source": [
    "result, ub_error = integrate.quad(lambda x: special.jv(2.5,x), 0, 4.5)\n",
    "result"
   ]
  },
  {
   "cell_type": "code",
   "execution_count": null,
   "metadata": {
    "collapsed": false
   },
   "outputs": [],
   "source": [
    "result, ub_error = integrate.quad(lambda x: x, 0, 4)\n",
    "result"
   ]
  },
  {
   "cell_type": "markdown",
   "metadata": {},
   "source": [
    "## Optimization in `scipy.optimize`\n",
    "\n",
    "SciPy also provides a number of algorithms for optimization:"
   ]
  },
  {
   "cell_type": "code",
   "execution_count": null,
   "metadata": {
    "collapsed": false
   },
   "outputs": [],
   "source": [
    "p = poly1d([1,2,3])\n",
    "print p"
   ]
  },
  {
   "cell_type": "code",
   "execution_count": null,
   "metadata": {
    "collapsed": false
   },
   "outputs": [],
   "source": [
    "xs = np.r_[-5:5:20j]\n",
    "ys = p(xs)\n",
    "plt.plot(xs, ys)\n",
    "plt.show()"
   ]
  },
  {
   "cell_type": "code",
   "execution_count": null,
   "metadata": {
    "collapsed": true
   },
   "outputs": [],
   "source": [
    "from scipy import optimize"
   ]
  },
  {
   "cell_type": "code",
   "execution_count": null,
   "metadata": {
    "collapsed": false
   },
   "outputs": [],
   "source": [
    "result = optimize.minimize(p, [-10], method='nelder-mead')\n",
    "result"
   ]
  },
  {
   "cell_type": "markdown",
   "metadata": {},
   "source": [
    "We can also use the least-squares algorithm to find a curve to fit an equation so long as we can define a `residuals` and a `peval` function where:\n",
    "\n",
    " - `residuals(p, y, x)` returns the residuals given a parameter being optimized `p`, as well as `y` and `x`\n",
    " - `peval(x, p)` returns the `y` value given the parameter `p` and `x`"
   ]
  },
  {
   "cell_type": "code",
   "execution_count": null,
   "metadata": {
    "collapsed": false
   },
   "outputs": [],
   "source": [
    "from numpy import arange, sin, pi, random, array\n",
    "x = arange(0, 6e-2, 6e-2 / 30)\n",
    "A, k, theta = 10, 1.0 / 3e-2, pi / 6\n",
    "y_true = A * sin(2 * pi * k * x + theta)\n",
    "y_meas = y_true + 2*random.randn(len(x))\n"
   ]
  },
  {
   "cell_type": "code",
   "execution_count": null,
   "metadata": {
    "collapsed": true
   },
   "outputs": [],
   "source": [
    "def residuals(p, y, x):\n",
    "    A, k, theta = p\n",
    "    err = y - A * sin(2 * pi * k * x + theta)\n",
    "    return err\n",
    "\n",
    "def peval(x, p):\n",
    "    return p[0] * sin(2 * pi * p[1] * x + p[2])\n"
   ]
  },
  {
   "cell_type": "code",
   "execution_count": null,
   "metadata": {
    "collapsed": false
   },
   "outputs": [],
   "source": [
    "# Initial guess for A, k, theta\n",
    "p0 = [8, 1 / 2.3e-2, pi / 3]\n",
    "array(p0)"
   ]
  },
  {
   "cell_type": "code",
   "execution_count": null,
   "metadata": {
    "collapsed": false
   },
   "outputs": [],
   "source": [
    "plsq = optimize.leastsq(residuals, p0, args=(y_meas, x))\n",
    "plsq[0]"
   ]
  },
  {
   "cell_type": "code",
   "execution_count": null,
   "metadata": {
    "collapsed": false
   },
   "outputs": [],
   "source": [
    "A, k, theta"
   ]
  },
  {
   "cell_type": "code",
   "execution_count": null,
   "metadata": {
    "collapsed": false
   },
   "outputs": [],
   "source": [
    "plt.plot(x, peval(x, plsq[0]),x,y_meas,'o',x,y_true)\n",
    "plt.title('Least-squares fit to noisy data')\n",
    "plt.legend(['Fit', 'Noisy', 'True'])\n",
    "plt.show()"
   ]
  },
  {
   "cell_type": "markdown",
   "metadata": {},
   "source": [
    "## Interpolation"
   ]
  },
  {
   "cell_type": "code",
   "execution_count": null,
   "metadata": {
    "collapsed": false
   },
   "outputs": [],
   "source": [
    "from scipy.interpolate import interp1d"
   ]
  },
  {
   "cell_type": "code",
   "execution_count": null,
   "metadata": {
    "collapsed": false
   },
   "outputs": [],
   "source": [
    "xs = np.r_[0:10:11j]\n",
    "ys = np.cos(-xs**2/9.0)\n",
    "f = interp1d(xs, ys)\n",
    "f2 = interp1d(xs, ys, kind='cubic')"
   ]
  },
  {
   "cell_type": "code",
   "execution_count": null,
   "metadata": {
    "collapsed": false
   },
   "outputs": [],
   "source": [
    "xnew = np.r_[0:10:41j]\n",
    "plt.plot(xs, ys, 'o', xnew, f(xnew), '-',xnew, f2(xnew), '--')\n",
    "plt.legend(['data', 'linear', 'cubic'], loc='best')\n",
    "plt.show()"
   ]
  },
  {
   "cell_type": "markdown",
   "metadata": {},
   "source": [
    "## Fast Fourier Transforms with `fftpack`\n",
    "\n",
    "> PyFFTW provides a way to replace a number of functions in scipy.fftpack with its own functions, which are usually significantly faster, via pyfftw.interfaces. Because PyFFTW relies on the GPL-licensed FFTW it cannot be included in Scipy. Users for whom the speed of FFT routines is critical should consider installing PyFFTW."
   ]
  },
  {
   "cell_type": "code",
   "execution_count": null,
   "metadata": {
    "collapsed": true
   },
   "outputs": [],
   "source": [
    "from scipy.fftpack import fft"
   ]
  },
  {
   "cell_type": "code",
   "execution_count": null,
   "metadata": {
    "collapsed": true
   },
   "outputs": [],
   "source": [
    "# Number of sample points\n",
    "N = 600\n",
    "# sample spacing\n",
    "T = 1.0 / 800.0"
   ]
  },
  {
   "cell_type": "code",
   "execution_count": null,
   "metadata": {
    "collapsed": false
   },
   "outputs": [],
   "source": [
    "xs = np.r_[0.0: N*T: N * 1j]\n",
    "ys = np.sin(50.0 * 2.0*np.pi*xs) + 0.5*np.sin(80.0 * 2.0*np.pi*xs)\n",
    "yf = fft(ys)\n",
    "xf = np.r_[0.0 : 1.0/(2.0*T) : 1j * N/2]"
   ]
  },
  {
   "cell_type": "code",
   "execution_count": null,
   "metadata": {
    "collapsed": false
   },
   "outputs": [],
   "source": [
    "plt.plot(xf, 2.0/N * np.abs(yf[0:N/2]))\n",
    "plt.grid()\n",
    "plt.show()"
   ]
  },
  {
   "cell_type": "markdown",
   "metadata": {},
   "source": [
    "## Signal processing with `scipy.signal`"
   ]
  },
  {
   "cell_type": "code",
   "execution_count": null,
   "metadata": {
    "collapsed": false
   },
   "outputs": [],
   "source": [
    "from scipy import misc, signal\n",
    "image = misc.face(gray=True).astype(np.float32)\n",
    "derfilt = np.array([1.0, -2, 1.0], dtype=np.float32)\n",
    "ck = signal.cspline2d(image, 8.0)\n",
    "deriv = (signal.sepfir2d(ck, derfilt, [1]) +\n",
    "         signal.sepfir2d(ck, [1], derfilt))"
   ]
  },
  {
   "cell_type": "code",
   "execution_count": null,
   "metadata": {
    "collapsed": false
   },
   "outputs": [],
   "source": [
    "plt.figure()\n",
    "plt.imshow(image)\n",
    "plt.gray()\n",
    "plt.title('Original image')\n",
    "plt.show()"
   ]
  },
  {
   "cell_type": "code",
   "execution_count": null,
   "metadata": {
    "collapsed": false
   },
   "outputs": [],
   "source": [
    "plt.figure()\n",
    "plt.imshow(deriv)\n",
    "plt.gray()\n",
    "plt.title('Output of spline edge filter')\n",
    "plt.show()"
   ]
  },
  {
   "cell_type": "markdown",
   "metadata": {},
   "source": [
    "## Linear algebra with `scipy.linalg`\n",
    "\n",
    "While NumPy also has linear algebra support, `scipy.linalg` is a superset of its functionality, and is always compiled with acceleration via BLAS/LAPACK, so use `scipy.linalg` over `numpy.linalg`."
   ]
  },
  {
   "cell_type": "code",
   "execution_count": null,
   "metadata": {
    "collapsed": true
   },
   "outputs": [],
   "source": [
    "from scipy import linalg"
   ]
  },
  {
   "cell_type": "code",
   "execution_count": null,
   "metadata": {
    "collapsed": false
   },
   "outputs": [],
   "source": [
    "A = np.array([[1,2], [3,4]])\n",
    "A"
   ]
  },
  {
   "cell_type": "code",
   "execution_count": null,
   "metadata": {
    "collapsed": false
   },
   "outputs": [],
   "source": [
    "linalg.inv(A)"
   ]
  },
  {
   "cell_type": "code",
   "execution_count": null,
   "metadata": {
    "collapsed": false
   },
   "outputs": [],
   "source": [
    "A.dot(linalg.inv(A))"
   ]
  },
  {
   "cell_type": "code",
   "execution_count": null,
   "metadata": {
    "collapsed": false
   },
   "outputs": [],
   "source": [
    "b = np.array([[5], [6]])\n",
    "b"
   ]
  },
  {
   "cell_type": "code",
   "execution_count": null,
   "metadata": {
    "collapsed": false
   },
   "outputs": [],
   "source": [
    "linalg.inv(A).dot(b)"
   ]
  },
  {
   "cell_type": "code",
   "execution_count": null,
   "metadata": {
    "collapsed": false
   },
   "outputs": [],
   "source": [
    "linalg.solve(A, b)"
   ]
  },
  {
   "cell_type": "code",
   "execution_count": null,
   "metadata": {
    "collapsed": false
   },
   "outputs": [],
   "source": [
    "A.dot(linalg.solve(A, b))"
   ]
  },
  {
   "cell_type": "code",
   "execution_count": null,
   "metadata": {
    "collapsed": false
   },
   "outputs": [],
   "source": [
    "linalg.det(A)"
   ]
  },
  {
   "cell_type": "markdown",
   "metadata": {},
   "source": [
    "## Clustering with `scipy.cluster`\n",
    "\n",
    "SciPy provides vector quantization (vq) and hierarchical clustering routines as well in the `cluster` package."
   ]
  },
  {
   "cell_type": "code",
   "execution_count": null,
   "metadata": {
    "collapsed": true
   },
   "outputs": [],
   "source": [
    "N = 50\n",
    "mean_0 = [5, 8]\n",
    "size_0 = [1, 1]\n",
    "mean_1 = [-1, -1]\n",
    "size_1 = [0.5, 0.5]\n",
    "\n",
    "xy_0 = np.array([np.random.normal(mean_0, size_0) for i in range(N)])\n",
    "xy_1 = np.array([np.random.normal(mean_1, size_1) for i in range(N)])\n",
    "xy = np.r_[xy_0, xy_1]\n",
    "\n",
    "xs = xy[:,0]\n",
    "ys = xy[:,1]"
   ]
  },
  {
   "cell_type": "code",
   "execution_count": null,
   "metadata": {
    "collapsed": false
   },
   "outputs": [],
   "source": [
    "plt.scatter(xs, ys)\n",
    "plt.show()"
   ]
  },
  {
   "cell_type": "code",
   "execution_count": null,
   "metadata": {
    "collapsed": true
   },
   "outputs": [],
   "source": [
    "from scipy import cluster"
   ]
  },
  {
   "cell_type": "code",
   "execution_count": null,
   "metadata": {
    "collapsed": false
   },
   "outputs": [],
   "source": [
    "codebook, dist = cluster.vq.kmeans(xy, 2)\n",
    "codebook"
   ]
  },
  {
   "cell_type": "code",
   "execution_count": null,
   "metadata": {
    "collapsed": false
   },
   "outputs": [],
   "source": [
    "classes, distortions = cluster.vq.vq(xy, codebook)\n",
    "classes"
   ]
  },
  {
   "cell_type": "code",
   "execution_count": null,
   "metadata": {
    "collapsed": false
   },
   "outputs": [],
   "source": [
    "plt.scatter(xs, ys, color=['red' if c else 'blue' for c in classes])\n",
    "plt.scatter(codebook[:,0], codebook[:, 1], color='green', marker='o', s=80)\n",
    "plt.show()"
   ]
  },
  {
   "cell_type": "markdown",
   "metadata": {},
   "source": [
    "# File I/O\n",
    "\n",
    "NumPy and SciPy provide some convenience methods for loading and saving numeric data"
   ]
  },
  {
   "cell_type": "code",
   "execution_count": null,
   "metadata": {
    "collapsed": false
   },
   "outputs": [],
   "source": [
    "A"
   ]
  },
  {
   "cell_type": "code",
   "execution_count": null,
   "metadata": {
    "collapsed": true
   },
   "outputs": [],
   "source": [
    "import scipy.io as sio"
   ]
  },
  {
   "cell_type": "markdown",
   "metadata": {},
   "source": [
    "Matlab files can be loaded and saved"
   ]
  },
  {
   "cell_type": "code",
   "execution_count": null,
   "metadata": {
    "collapsed": false
   },
   "outputs": [],
   "source": [
    "sio.savemat('test.mat', {'A': A})"
   ]
  },
  {
   "cell_type": "code",
   "execution_count": null,
   "metadata": {
    "collapsed": false
   },
   "outputs": [],
   "source": [
    "sio.loadmat('test.mat')"
   ]
  },
  {
   "cell_type": "markdown",
   "metadata": {},
   "source": [
    "If you dont need compatibility with other packages, you can use `np.load`, `np.save` and `np.savez`:"
   ]
  },
  {
   "cell_type": "code",
   "execution_count": null,
   "metadata": {
    "collapsed": true
   },
   "outputs": [],
   "source": [
    "np.save('test', A)"
   ]
  },
  {
   "cell_type": "code",
   "execution_count": null,
   "metadata": {
    "collapsed": false
   },
   "outputs": [],
   "source": [
    "np.load('test.npy')"
   ]
  },
  {
   "cell_type": "code",
   "execution_count": null,
   "metadata": {
    "collapsed": true
   },
   "outputs": [],
   "source": [
    "np.savez('test1', A=A, b=np.arange(5))"
   ]
  },
  {
   "cell_type": "code",
   "execution_count": null,
   "metadata": {
    "collapsed": false
   },
   "outputs": [],
   "source": [
    "f = np.load('test1.npz')\n",
    "f"
   ]
  },
  {
   "cell_type": "code",
   "execution_count": null,
   "metadata": {
    "collapsed": false
   },
   "outputs": [],
   "source": [
    "f.files"
   ]
  },
  {
   "cell_type": "code",
   "execution_count": null,
   "metadata": {
    "collapsed": false
   },
   "outputs": [],
   "source": [
    "f['A']"
   ]
  },
  {
   "cell_type": "code",
   "execution_count": null,
   "metadata": {
    "collapsed": false
   },
   "outputs": [],
   "source": [
    "f['b']"
   ]
  },
  {
   "cell_type": "markdown",
   "metadata": {},
   "source": [
    "SciPy can also read and write matrix market files:"
   ]
  },
  {
   "cell_type": "code",
   "execution_count": null,
   "metadata": {
    "collapsed": true
   },
   "outputs": [],
   "source": [
    "sio.mmwrite('test_mm', A)"
   ]
  },
  {
   "cell_type": "code",
   "execution_count": null,
   "metadata": {
    "collapsed": false
   },
   "outputs": [],
   "source": [
    "sio.mminfo('test_mm')"
   ]
  },
  {
   "cell_type": "code",
   "execution_count": null,
   "metadata": {
    "collapsed": false
   },
   "outputs": [],
   "source": [
    "sio.mmread('test_mm')"
   ]
  },
  {
   "cell_type": "markdown",
   "metadata": {},
   "source": [
    "Of course, our old friend the CSV file is supported as well:"
   ]
  },
  {
   "cell_type": "code",
   "execution_count": null,
   "metadata": {
    "collapsed": false
   },
   "outputs": [],
   "source": [
    "np.savetxt('test.csv', A, delimiter=',')\n",
    "print open('test.csv').read()"
   ]
  },
  {
   "cell_type": "code",
   "execution_count": null,
   "metadata": {
    "collapsed": false
   },
   "outputs": [],
   "source": [
    "np.loadtxt('test.csv', delimiter=',')"
   ]
  },
  {
   "cell_type": "code",
   "execution_count": null,
   "metadata": {
    "collapsed": false
   },
   "outputs": [],
   "source": [
    "np.savetxt('test.csv', A, fmt='%d', delimiter=',')\n",
    "np.loadtxt('test.csv', dtype=int, delimiter=',')"
   ]
  },
  {
   "cell_type": "markdown",
   "metadata": {},
   "source": [
    "### Other file types\n",
    "\n",
    "You can also access the following file types with `scipy.io` (some are read-only):\n",
    "\n",
    " - IDL (`readsav`) - read-only\n",
    " - Wav sound files (`read`, `write`)\n",
    " - Arff files (`loadarf`) - read-only\n",
    " - NetCDF files (`netcdf_file`) - read-only"
   ]
  },
  {
   "cell_type": "markdown",
   "metadata": {},
   "source": [
    "## C Acceleration via Weave\n",
    "\n",
    "If all the functions in NumPy and SciPy are still too slow for you, you can always rewrite them in C and use `scipy.weave` to call them:"
   ]
  },
  {
   "cell_type": "code",
   "execution_count": 1,
   "metadata": {
    "collapsed": false
   },
   "outputs": [],
   "source": [
    "from scipy import weave"
   ]
  },
  {
   "cell_type": "code",
   "execution_count": 2,
   "metadata": {
    "collapsed": false
   },
   "outputs": [
    {
     "data": {
      "text/plain": [
       "'5 / 10'"
      ]
     },
     "execution_count": 2,
     "metadata": {},
     "output_type": "execute_result"
    }
   ],
   "source": [
    "code = \"\"\"\n",
    "    char buffer[100];\n",
    "    std::sprintf(buffer, fmt.c_str(), a, b);\n",
    "    return_val = std::string(buffer);\n",
    "       \"\"\"\n",
    "fmt = '%d / %d'\n",
    "a = 5\n",
    "b = 10\n",
    "weave.inline(code, ['fmt', 'a', 'b'])"
   ]
  },
  {
   "cell_type": "markdown",
   "metadata": {},
   "source": [
    "You can also use `weave.blitz` to speed up numpy code:"
   ]
  },
  {
   "cell_type": "code",
   "execution_count": 5,
   "metadata": {
    "collapsed": false
   },
   "outputs": [
    {
     "name": "stdout",
     "output_type": "stream",
     "text": [
      "100 loops, best of 3: 6.48 ms per loop\n"
     ]
    }
   ],
   "source": [
    "a = np.ones((512,512), np.float64)\n",
    "b = np.ones((512,512), np.float64)\n",
    "# now average\n",
    "def avg(a, b):\n",
    "    a[1:-1,1:-1] =  (b[1:-1,1:-1] + b[2:,1:-1] + b[:-2,1:-1] \n",
    "                   + b[1:-1,2:] + b[1:-1,:-2]) / 5.\n",
    "    \n",
    "%timeit avg(a, b)"
   ]
  },
  {
   "cell_type": "code",
   "execution_count": 7,
   "metadata": {
    "collapsed": false
   },
   "outputs": [
    {
     "name": "stdout",
     "output_type": "stream",
     "text": [
      "#### ['clang', '-fno-strict-aliasing', '-fno-common', '-dynamic', '-isysroot', '/Applications/Xcode.app/Contents/Developer/Platforms/MacOSX.platform/Developer/SDKs/MacOSX10.11.sdk', '-I/Applications/Xcode.app/Contents/Developer/Platforms/MacOSX.platform/Developer/SDKs/MacOSX10.11.sdk/System/Library/Frameworks/Tk.framework/Versions/8.5/Headers', '-DNDEBUG', '-g', '-fwrapv', '-O3', '-Wall', '-Wstrict-prototypes'] #######\n",
      "The slowest run took 1381.25 times longer than the fastest. This could mean that an intermediate result is being cached.\n",
      "1 loop, best of 3: 2.71 ms per loop\n"
     ]
    }
   ],
   "source": [
    "s='''a[1:-1,1:-1] =  (b[1:-1,1:-1] + b[2:,1:-1] + b[:-2,1:-1] \n",
    "                   + b[1:-1,2:] + b[1:-1,:-2]) / 5. \n",
    "'''\n",
    "%timeit weave.blitz(s)"
   ]
  },
  {
   "cell_type": "code",
   "execution_count": 8,
   "metadata": {
    "collapsed": false
   },
   "outputs": [
    {
     "name": "stdout",
     "output_type": "stream",
     "text": [
      "100 loops, best of 3: 2.96 ms per loop\n"
     ]
    }
   ],
   "source": [
    "%timeit weave.blitz(s)"
   ]
  },
  {
   "cell_type": "markdown",
   "metadata": {},
   "source": [
    "There is also a lower-level interface that allows you to build extension modules:"
   ]
  },
  {
   "cell_type": "code",
   "execution_count": 9,
   "metadata": {
    "collapsed": false
   },
   "outputs": [
    {
     "name": "stdout",
     "output_type": "stream",
     "text": [
      "#### ['clang', '-fno-strict-aliasing', '-fno-common', '-dynamic', '-isysroot', '/Applications/Xcode.app/Contents/Developer/Platforms/MacOSX.platform/Developer/SDKs/MacOSX10.11.sdk', '-I/Applications/Xcode.app/Contents/Developer/Platforms/MacOSX.platform/Developer/SDKs/MacOSX10.11.sdk/System/Library/Frameworks/Tk.framework/Versions/8.5/Headers', '-DNDEBUG', '-g', '-fwrapv', '-O3', '-Wall', '-Wstrict-prototypes'] #######\n",
      "In file included from /Users/rick446/src/IntermediatePython/notebooks/fibonacci_ext.cpp:17:\n",
      "In file included from /Users/rick446/.virtualenvs/intermediate-python/lib/python2.7/site-packages/scipy/weave/scxx/list.h:16:\n",
      "/Users/rick446/.virtualenvs/intermediate-python/lib/python2.7/site-packages/scipy/weave/scxx/sequence.h:106:16: warning: 'py::sequence::set_item' hides overloaded virtual function [-Woverloaded-virtual]\n",
      "  virtual void set_item(int ndx, object& val) {\n",
      "               ^\n",
      "/Users/rick446/.virtualenvs/intermediate-python/lib/python2.7/site-packages/scipy/weave/scxx/object.h:781:16: note: hidden overloaded virtual function 'py::object::set_item' declared here: type mismatch at 1st parameter ('const py::object &' vs 'int')\n",
      "  virtual void set_item(const object& key, const object& val) {\n",
      "               ^\n",
      "In file included from /Users/rick446/src/IntermediatePython/notebooks/fibonacci_ext.cpp:19:\n",
      "/Users/rick446/.virtualenvs/intermediate-python/lib/python2.7/site-packages/scipy/weave/scxx/dict.h:173:16: warning: 'py::dict::set_item' hides overloaded virtual function [-Woverloaded-virtual]\n",
      "  virtual void set_item(const char* key, object& val) {\n",
      "               ^\n",
      "/Users/rick446/.virtualenvs/intermediate-python/lib/python2.7/site-packages/scipy/weave/scxx/object.h:781:16: note: hidden overloaded virtual function 'py::object::set_item' declared here: type mismatch at 1st parameter ('const py::object &' vs 'const char *')\n",
      "  virtual void set_item(const object& key, const object& val) {\n",
      "               ^\n",
      "In file included from /Users/rick446/src/IntermediatePython/notebooks/fibonacci_ext.cpp:19:\n",
      "/Users/rick446/.virtualenvs/intermediate-python/lib/python2.7/site-packages/scipy/weave/scxx/dict.h:179:16: warning: 'py::dict::set_item' hides overloaded virtual function [-Woverloaded-virtual]\n",
      "  virtual void set_item(object& key, object& val) const {\n",
      "               ^\n",
      "/Users/rick446/.virtualenvs/intermediate-python/lib/python2.7/site-packages/scipy/weave/scxx/object.h:781:16: note: hidden overloaded virtual function 'py::object::set_item' declared here: type mismatch at 1st parameter ('const py::object &' vs 'py::object &')\n",
      "  virtual void set_item(const object& key, const object& val) {\n",
      "               ^\n",
      "In file included from /Users/rick446/src/IntermediatePython/notebooks/fibonacci_ext.cpp:22:\n",
      "In file included from /Users/rick446/.virtualenvs/intermediate-python/lib/python2.7/site-packages/numpy/core/include/numpy/arrayobject.h:4:\n",
      "In file included from /Users/rick446/.virtualenvs/intermediate-python/lib/python2.7/site-packages/numpy/core/include/numpy/ndarrayobject.h:18:\n",
      "In file included from /Users/rick446/.virtualenvs/intermediate-python/lib/python2.7/site-packages/numpy/core/include/numpy/ndarraytypes.h:1777:\n",
      "/Users/rick446/.virtualenvs/intermediate-python/lib/python2.7/site-packages/numpy/core/include/numpy/npy_1_7_deprecated_api.h:15:2: warning: \"Using deprecated NumPy API, disable it by \"          \"#defining NPY_NO_DEPRECATED_API NPY_1_7_API_VERSION\" [-W#warnings]\n",
      "#warning \"Using deprecated NumPy API, disable it by \" \\\n",
      " ^\n",
      "/Users/rick446/src/IntermediatePython/notebooks/fibonacci_ext.cpp:639:14: warning: explicitly assigning value of variable of type 'PyObject *' (aka '_object *') to itself [-Wself-assign]\n",
      "        py_a = py_a;\n",
      "        ~~~~ ^ ~~~~\n",
      "/Users/rick446/src/IntermediatePython/notebooks/fibonacci_ext.cpp:645:41: error: use of undeclared identifier 'Py'\n",
      "                           return_val = Py::new_reference_to(Py::Int(val));\n",
      "                                        ^\n",
      "/Users/rick446/src/IntermediatePython/notebooks/fibonacci_ext.cpp:645:62: error: use of undeclared identifier 'Py'\n",
      "                           return_val = Py::new_reference_to(Py::Int(val));\n",
      "                                                             ^\n",
      "5 warnings and 2 errors generated.\n"
     ]
    },
    {
     "ename": "CompileError",
     "evalue": "error: Command \"clang++ -fno-strict-aliasing -fno-common -dynamic -isysroot /Applications/Xcode.app/Contents/Developer/Platforms/MacOSX.platform/Developer/SDKs/MacOSX10.11.sdk -I/Applications/Xcode.app/Contents/Developer/Platforms/MacOSX.platform/Developer/SDKs/MacOSX10.11.sdk/System/Library/Frameworks/Tk.framework/Versions/8.5/Headers -DNDEBUG -g -fwrapv -O3 -Wall -I/Users/rick446/.virtualenvs/intermediate-python/lib/python2.7/site-packages/scipy/weave -I/Users/rick446/.virtualenvs/intermediate-python/lib/python2.7/site-packages/scipy/weave/scxx -I/Users/rick446/.virtualenvs/intermediate-python/lib/python2.7/site-packages/numpy/core/include -I/usr/local/Cellar/python/2.7.11/Frameworks/Python.framework/Versions/2.7/include/python2.7 -c /Users/rick446/src/IntermediatePython/notebooks/fibonacci_ext.cpp -o /var/folders/9k/n5kcz5zn0yn6y3xcbv2kfxhr0000gn/T/scipy-rick446-lk_VS5/python27_intermediate/compiler_6ea762da6fa8e79ee6f7a51828cd7561/Users/rick446/src/IntermediatePython/notebooks/fibonacci_ext.o\" failed with exit status 1",
     "output_type": "error",
     "traceback": [
      "\u001b[0;31m---------------------------------------------------------------------------\u001b[0m",
      "\u001b[0;31mCompileError\u001b[0m                              Traceback (most recent call last)",
      "\u001b[0;32m<ipython-input-9-139b24daaa93>\u001b[0m in \u001b[0;36m<module>\u001b[0;34m()\u001b[0m\n\u001b[1;32m     28\u001b[0m     \u001b[0;32mreturn\u001b[0m \u001b[0mmod\u001b[0m\u001b[0;34m\u001b[0m\u001b[0m\n\u001b[1;32m     29\u001b[0m \u001b[0;34m\u001b[0m\u001b[0m\n\u001b[0;32m---> 30\u001b[0;31m \u001b[0mfib_mod\u001b[0m \u001b[0;34m=\u001b[0m \u001b[0mbuild_fibonacci\u001b[0m\u001b[0;34m(\u001b[0m\u001b[0;34m)\u001b[0m\u001b[0;34m\u001b[0m\u001b[0m\n\u001b[0m",
      "\u001b[0;32m<ipython-input-9-139b24daaa93>\u001b[0m in \u001b[0;36mbuild_fibonacci\u001b[0;34m()\u001b[0m\n\u001b[1;32m     25\u001b[0m     \u001b[0mmod\u001b[0m\u001b[0;34m.\u001b[0m\u001b[0madd_function\u001b[0m\u001b[0;34m(\u001b[0m\u001b[0mfib\u001b[0m\u001b[0;34m)\u001b[0m\u001b[0;34m\u001b[0m\u001b[0m\n\u001b[1;32m     26\u001b[0m \u001b[0;34m\u001b[0m\u001b[0m\n\u001b[0;32m---> 27\u001b[0;31m     \u001b[0mmod\u001b[0m\u001b[0;34m.\u001b[0m\u001b[0mcompile\u001b[0m\u001b[0;34m(\u001b[0m\u001b[0;34m)\u001b[0m\u001b[0;34m\u001b[0m\u001b[0m\n\u001b[0m\u001b[1;32m     28\u001b[0m     \u001b[0;32mreturn\u001b[0m \u001b[0mmod\u001b[0m\u001b[0;34m\u001b[0m\u001b[0m\n\u001b[1;32m     29\u001b[0m \u001b[0;34m\u001b[0m\u001b[0m\n",
      "\u001b[0;32m/Users/rick446/.virtualenvs/intermediate-python/lib/python2.7/site-packages/scipy/weave/ext_tools.pyc\u001b[0m in \u001b[0;36mcompile\u001b[0;34m(self, location, compiler, verbose, **kw)\u001b[0m\n\u001b[1;32m    371\u001b[0m         success = build_tools.build_extension(file, temp_dir=temp,\n\u001b[1;32m    372\u001b[0m                                               \u001b[0mcompiler_name\u001b[0m\u001b[0;34m=\u001b[0m\u001b[0mcompiler\u001b[0m\u001b[0;34m,\u001b[0m\u001b[0;34m\u001b[0m\u001b[0m\n\u001b[0;32m--> 373\u001b[0;31m                                               verbose=verbose, **kw)\n\u001b[0m\u001b[1;32m    374\u001b[0m         \u001b[0;32mif\u001b[0m \u001b[0;32mnot\u001b[0m \u001b[0msuccess\u001b[0m\u001b[0;34m:\u001b[0m\u001b[0;34m\u001b[0m\u001b[0m\n\u001b[1;32m    375\u001b[0m             \u001b[0;32mraise\u001b[0m \u001b[0mSystemError\u001b[0m\u001b[0;34m(\u001b[0m\u001b[0;34m'Compilation failed'\u001b[0m\u001b[0;34m)\u001b[0m\u001b[0;34m\u001b[0m\u001b[0m\n",
      "\u001b[0;32m/Users/rick446/.virtualenvs/intermediate-python/lib/python2.7/site-packages/scipy/weave/build_tools.pyc\u001b[0m in \u001b[0;36mbuild_extension\u001b[0;34m(module_path, compiler_name, build_dir, temp_dir, verbose, **kw)\u001b[0m\n\u001b[1;32m    277\u001b[0m         \u001b[0menviron\u001b[0m \u001b[0;34m=\u001b[0m \u001b[0mcopy\u001b[0m\u001b[0;34m.\u001b[0m\u001b[0mdeepcopy\u001b[0m\u001b[0;34m(\u001b[0m\u001b[0mos\u001b[0m\u001b[0;34m.\u001b[0m\u001b[0menviron\u001b[0m\u001b[0;34m)\u001b[0m\u001b[0;34m\u001b[0m\u001b[0m\n\u001b[1;32m    278\u001b[0m         \u001b[0;32mtry\u001b[0m\u001b[0;34m:\u001b[0m\u001b[0;34m\u001b[0m\u001b[0m\n\u001b[0;32m--> 279\u001b[0;31m             \u001b[0msetup\u001b[0m\u001b[0;34m(\u001b[0m\u001b[0mname\u001b[0m\u001b[0;34m=\u001b[0m\u001b[0mmodule_name\u001b[0m\u001b[0;34m,\u001b[0m \u001b[0mext_modules\u001b[0m\u001b[0;34m=\u001b[0m\u001b[0;34m[\u001b[0m\u001b[0mext\u001b[0m\u001b[0;34m]\u001b[0m\u001b[0;34m,\u001b[0m\u001b[0mverbose\u001b[0m\u001b[0;34m=\u001b[0m\u001b[0mverb\u001b[0m\u001b[0;34m)\u001b[0m\u001b[0;34m\u001b[0m\u001b[0m\n\u001b[0m\u001b[1;32m    280\u001b[0m         \u001b[0;32mfinally\u001b[0m\u001b[0;34m:\u001b[0m\u001b[0;34m\u001b[0m\u001b[0m\n\u001b[1;32m    281\u001b[0m             \u001b[0;31m# restore state\u001b[0m\u001b[0;34m\u001b[0m\u001b[0;34m\u001b[0m\u001b[0m\n",
      "\u001b[0;32m/Users/rick446/.virtualenvs/intermediate-python/lib/python2.7/site-packages/numpy/distutils/core.pyc\u001b[0m in \u001b[0;36msetup\u001b[0;34m(**attr)\u001b[0m\n\u001b[1;32m    167\u001b[0m     \u001b[0mnew_attr\u001b[0m\u001b[0;34m[\u001b[0m\u001b[0;34m'distclass'\u001b[0m\u001b[0;34m]\u001b[0m \u001b[0;34m=\u001b[0m \u001b[0mNumpyDistribution\u001b[0m\u001b[0;34m\u001b[0m\u001b[0m\n\u001b[1;32m    168\u001b[0m \u001b[0;34m\u001b[0m\u001b[0m\n\u001b[0;32m--> 169\u001b[0;31m     \u001b[0;32mreturn\u001b[0m \u001b[0mold_setup\u001b[0m\u001b[0;34m(\u001b[0m\u001b[0;34m**\u001b[0m\u001b[0mnew_attr\u001b[0m\u001b[0;34m)\u001b[0m\u001b[0;34m\u001b[0m\u001b[0m\n\u001b[0m\u001b[1;32m    170\u001b[0m \u001b[0;34m\u001b[0m\u001b[0m\n\u001b[1;32m    171\u001b[0m \u001b[0;32mdef\u001b[0m \u001b[0m_check_append_library\u001b[0m\u001b[0;34m(\u001b[0m\u001b[0mlibraries\u001b[0m\u001b[0;34m,\u001b[0m \u001b[0mitem\u001b[0m\u001b[0;34m)\u001b[0m\u001b[0;34m:\u001b[0m\u001b[0;34m\u001b[0m\u001b[0m\n",
      "\u001b[0;32m/usr/local/Cellar/python/2.7.11/Frameworks/Python.framework/Versions/2.7/lib/python2.7/distutils/core.pyc\u001b[0m in \u001b[0;36msetup\u001b[0;34m(**attrs)\u001b[0m\n\u001b[1;32m    164\u001b[0m                 \u001b[0;32mraise\u001b[0m\u001b[0;34m\u001b[0m\u001b[0m\n\u001b[1;32m    165\u001b[0m             \u001b[0;32melse\u001b[0m\u001b[0;34m:\u001b[0m\u001b[0;34m\u001b[0m\u001b[0m\n\u001b[0;32m--> 166\u001b[0;31m                 \u001b[0;32mraise\u001b[0m \u001b[0mSystemExit\u001b[0m\u001b[0;34m,\u001b[0m \u001b[0;34m\"error: \"\u001b[0m \u001b[0;34m+\u001b[0m \u001b[0mstr\u001b[0m\u001b[0;34m(\u001b[0m\u001b[0mmsg\u001b[0m\u001b[0;34m)\u001b[0m\u001b[0;34m\u001b[0m\u001b[0m\n\u001b[0m\u001b[1;32m    167\u001b[0m \u001b[0;34m\u001b[0m\u001b[0m\n\u001b[1;32m    168\u001b[0m     \u001b[0;32mreturn\u001b[0m \u001b[0mdist\u001b[0m\u001b[0;34m\u001b[0m\u001b[0m\n",
      "\u001b[0;31mCompileError\u001b[0m: error: Command \"clang++ -fno-strict-aliasing -fno-common -dynamic -isysroot /Applications/Xcode.app/Contents/Developer/Platforms/MacOSX.platform/Developer/SDKs/MacOSX10.11.sdk -I/Applications/Xcode.app/Contents/Developer/Platforms/MacOSX.platform/Developer/SDKs/MacOSX10.11.sdk/System/Library/Frameworks/Tk.framework/Versions/8.5/Headers -DNDEBUG -g -fwrapv -O3 -Wall -I/Users/rick446/.virtualenvs/intermediate-python/lib/python2.7/site-packages/scipy/weave -I/Users/rick446/.virtualenvs/intermediate-python/lib/python2.7/site-packages/scipy/weave/scxx -I/Users/rick446/.virtualenvs/intermediate-python/lib/python2.7/site-packages/numpy/core/include -I/usr/local/Cellar/python/2.7.11/Frameworks/Python.framework/Versions/2.7/include/python2.7 -c /Users/rick446/src/IntermediatePython/notebooks/fibonacci_ext.cpp -o /var/folders/9k/n5kcz5zn0yn6y3xcbv2kfxhr0000gn/T/scipy-rick446-lk_VS5/python27_intermediate/compiler_6ea762da6fa8e79ee6f7a51828cd7561/Users/rick446/src/IntermediatePython/notebooks/fibonacci_ext.o\" failed with exit status 1"
     ]
    }
   ],
   "source": [
    "from scipy.weave import ext_tools\n",
    "\n",
    "def build_fibonacci():\n",
    "    \"\"\" Builds an extension module with fibonacci calculators.\n",
    "    \"\"\"\n",
    "    mod = ext_tools.ext_module('fibonacci_ext')\n",
    "    a = 1 # this is effectively a type declaration\n",
    "\n",
    "    # recursive fibonacci in C\n",
    "    fib_code = \"\"\"\n",
    "                   int fib1(int a)\n",
    "                   {\n",
    "                       if(a <= 2)\n",
    "                           return 1;\n",
    "                       else\n",
    "                           return fib1(a-2) + fib1(a-1);\n",
    "                   }\n",
    "               \"\"\"\n",
    "    ext_code = \"\"\"\n",
    "                   int val = fib1(a);\n",
    "                   return_val = Py::new_reference_to(Py::Int(val));\n",
    "               \"\"\"\n",
    "    fib = ext_tools.ext_function('fib',ext_code,['a'])\n",
    "    fib.customize.add_support_code(fib_code)\n",
    "    mod.add_function(fib)\n",
    "\n",
    "    mod.compile()\n",
    "    return mod\n",
    "\n",
    "fib_mod = build_fibonacci()"
   ]
  },
  {
   "cell_type": "markdown",
   "metadata": {},
   "source": [
    "\n",
    "### Further Reading:\n",
    "- SciPy Arrays Tip Sheet:\n",
    "    - http://pages.physics.cornell.edu/~myers/teaching/ComputationalMethods/python/arrays.html\n",
    "- Modeling a Zombie Apocalypse with SciPy: \n",
    "    - http://scipy.github.io/old-wiki/pages/Cookbook/Zombie_Apocalypse_ODEINT.html"
   ]
  },
  {
   "cell_type": "code",
   "execution_count": null,
   "metadata": {
    "collapsed": true
   },
   "outputs": [],
   "source": [
    "from scipy import integrate\n",
    "integrate.odeint?"
   ]
  },
  {
   "cell_type": "code",
   "execution_count": 13,
   "metadata": {
    "collapsed": false
   },
   "outputs": [
    {
     "data": {
      "text/plain": [
       "<matplotlib.legend.Legend at 0x110054490>"
      ]
     },
     "execution_count": 13,
     "metadata": {},
     "output_type": "execute_result"
    },
    {
     "data": {
      "image/png": "[encoded data removed]",
      "text/plain": [
       "<matplotlib.figure.Figure at 0x1101b4650>"
      ]
     },
     "metadata": {},
     "output_type": "display_data"
    },
    {
     "data": {
      "image/png": "[encoded data removed]",
      "text/plain": [
       "<matplotlib.figure.Figure at 0x110618410>"
      ]
     },
     "metadata": {},
     "output_type": "display_data"
    },
    {
     "data": {
      "image/png": "[encoded data removed]",
      "text/plain": [
       "<matplotlib.figure.Figure at 0x10f82a090>"
      ]
     },
     "metadata": {},
     "output_type": "display_data"
    }
   ],
   "source": [
    "# zombie apocalypse modeling\n",
    "import numpy as np\n",
    "import matplotlib.pyplot as plt\n",
    "from scipy.integrate import odeint\n",
    "plt.ion()\n",
    "\n",
    "P = 0       # birth rate\n",
    "d = 0.0001  # natural death percent (per day)\n",
    "B = 0.0095  # transmission percent  (per day)\n",
    "G = 0.0001  # resurect percent (per day)\n",
    "A = 0.0001  # destroy percent  (per day)\n",
    "\n",
    "# solve the system dy/dt = f(y, t)\n",
    "def f(y, t):\n",
    "        Si = y[0]\n",
    "        Zi = y[1]\n",
    "        Ri = y[2]\n",
    "        # the model equations (see Munz et al. 2009)\n",
    "        f0 = P - B*Si*Zi - d*Si\n",
    "        f1 = B*Si*Zi + G*Ri - A*Si*Zi\n",
    "        f2 = d*Si - G*Ri + A*Si*Zi\n",
    "        return [f0, f1, f2]\n",
    "\n",
    "# initial conditions\n",
    "S0 = 500.               # initial population\n",
    "Z0 = 0                  # initial zombie population\n",
    "R0 = 0                  # initial death population\n",
    "y0 = [S0, Z0, R0]       # initial condition vector\n",
    "t  = np.linspace(0, 5., 1000)   # time grid\n",
    "\n",
    "# solve the DEs\n",
    "soln = odeint(f, y0, t)\n",
    "S = soln[:, 0]\n",
    "Z = soln[:, 1]\n",
    "R = soln[:, 2]\n",
    "\n",
    "# plot results\n",
    "plt.figure()\n",
    "plt.plot(t, S, label='Living')\n",
    "plt.plot(t, Z, label='Zombies')\n",
    "plt.xlabel('Days from outbreak')\n",
    "plt.ylabel('Population')\n",
    "plt.title('Zombie Apocalypse - No Init. Dead Pop.; No New Births.')\n",
    "plt.legend(loc=0)\n",
    "\n",
    "# change the initial conditions\n",
    "R0 = 0.01*S0   # 1% of initial pop is dead\n",
    "y0 = [S0, Z0, R0]\n",
    "\n",
    "# solve the DEs\n",
    "soln = odeint(f, y0, t)\n",
    "S = soln[:, 0]\n",
    "Z = soln[:, 1]\n",
    "R = soln[:, 2]\n",
    "\n",
    "plt.figure()\n",
    "plt.plot(t, S, label='Living')\n",
    "plt.plot(t, Z, label='Zombies')\n",
    "plt.xlabel('Days from outbreak')\n",
    "plt.ylabel('Population')\n",
    "plt.title('Zombie Apocalypse - 1% Init. Pop. is Dead; No New Births.')\n",
    "plt.legend(loc=0)\n",
    "\n",
    "# change the initial conditions\n",
    "R0 = 0.01*S0   # 1% of initial pop is dead\n",
    "P  = 10        # 10 new births daily\n",
    "y0 = [S0, Z0, R0]\n",
    "\n",
    "# solve the DEs\n",
    "soln = odeint(f, y0, t)\n",
    "S = soln[:, 0]\n",
    "Z = soln[:, 1]\n",
    "R = soln[:, 2]\n",
    "\n",
    "plt.figure()\n",
    "plt.plot(t, S, label='Living')\n",
    "plt.plot(t, Z, label='Zombies')\n",
    "plt.xlabel('Days from outbreak')\n",
    "plt.ylabel('Population')\n",
    "plt.title('Zombie Apocalypse - 1% Init. Pop. is Dead; 10 Daily Births')\n",
    "plt.legend(loc=0)"
   ]
  },
  {
   "cell_type": "code",
   "execution_count": null,
   "metadata": {
    "collapsed": true
   },
   "outputs": [],
   "source": []
  }
 ],
 "metadata": {
  "kernelspec": {
   "display_name": "Python 2",
   "language": "python",
   "name": "python2"
  },
  "language_info": {
   "codemirror_mode": {
    "name": "ipython",
    "version": 2
   },
   "file_extension": ".py",
   "mimetype": "text/x-python",
   "name": "python",
   "nbconvert_exporter": "python",
   "pygments_lexer": "ipython2",
   "version": "2.7.11"
  }
 },
 "nbformat": 4,
 "nbformat_minor": 0
}
