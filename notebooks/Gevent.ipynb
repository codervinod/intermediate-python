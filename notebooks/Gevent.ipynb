{
 "cells": [
  {
   "cell_type": "markdown",
   "metadata": {},
   "source": [
    "# Gevent\n",
    "\n",
    "To install:\n",
    "\n",
    "    $ sudo apt-get install python-dev libevent-dev\n",
    "    $ virtualenv gevent\n",
    "    $ source ~/gevent/bin/activate\n",
    "    (gevent)$ pip install gevent\n",
    "\n",
    "To use the notebook:\n",
    "\n",
    "    (gevent)$ sudo apt-get install libzmq-dev\n",
    "    (gevent)$ pip install tornado pyzmq ipython\n",
    "    (gevent)$ ipython notebook"
   ]
  },
  {
   "cell_type": "code",
   "execution_count": 2,
   "metadata": {
    "collapsed": false
   },
   "outputs": [
    {
     "name": "stdout",
     "output_type": "stream",
     "text": [
      "Collecting gevent\n",
      "  Using cached gevent-1.1.1-cp27-cp27m-macosx_10_6_intel.whl\n",
      "Collecting greenlet>=0.4.9 (from gevent)\n",
      "  Downloading greenlet-0.4.9.zip (78kB)\n",
      "\u001b[K    100% |████████████████████████████████| 81kB 2.2MB/s \n",
      "\u001b[?25hBuilding wheels for collected packages: greenlet\n",
      "  Running setup.py bdist_wheel for greenlet ... \u001b[?25l-\b \b\\\b \b|\b \bdone\n",
      "\u001b[?25h  Stored in directory: /Users/rick446/Library/Caches/pip/wheels/54/85/ff/b9794e7f8dd8b845a7712885d2f7e8513d0e8fc1c91e01bc6f\n",
      "Successfully built greenlet\n",
      "Installing collected packages: greenlet, gevent\n",
      "Successfully installed gevent-1.1.1 greenlet-0.4.9\n"
     ]
    }
   ],
   "source": [
    "!pip install gevent"
   ]
  },
  {
   "cell_type": "code",
   "execution_count": 66,
   "metadata": {
    "collapsed": false
   },
   "outputs": [],
   "source": [
    "import gevent"
   ]
  },
  {
   "cell_type": "markdown",
   "metadata": {},
   "source": [
    "## Creating a greenlet"
   ]
  },
  {
   "cell_type": "code",
   "execution_count": 67,
   "metadata": {
    "collapsed": false
   },
   "outputs": [],
   "source": [
    "def gl_target(a, b, c):\n",
    "    print a,b,c\n",
    "    return 42"
   ]
  },
  {
   "cell_type": "markdown",
   "metadata": {},
   "source": [
    "The easiest way is through the `spawn*` helpers"
   ]
  },
  {
   "cell_type": "code",
   "execution_count": 5,
   "metadata": {
    "collapsed": false
   },
   "outputs": [
    {
     "data": {
      "text/plain": [
       "<Greenlet at 0x1065bf690: gl_target(1, 2, c=3)>"
      ]
     },
     "execution_count": 5,
     "metadata": {},
     "output_type": "execute_result"
    }
   ],
   "source": [
    "gl = gevent.spawn(gl_target, 1, 2, c=3)\n",
    "gl"
   ]
  },
  {
   "cell_type": "code",
   "execution_count": 6,
   "metadata": {
    "collapsed": false
   },
   "outputs": [
    {
     "name": "stdout",
     "output_type": "stream",
     "text": [
      "1 2 3\n"
     ]
    },
    {
     "data": {
      "text/plain": [
       "42"
      ]
     },
     "execution_count": 6,
     "metadata": {},
     "output_type": "execute_result"
    }
   ],
   "source": [
    "gl.join()\n",
    "gl.value"
   ]
  },
  {
   "cell_type": "markdown",
   "metadata": {},
   "source": [
    "Sometimes you want to be notified when the greenlet completes. If you use `spawn_link`, you will receive an exception whenever the greenlet terminates:"
   ]
  },
  {
   "cell_type": "code",
   "execution_count": 17,
   "metadata": {
    "collapsed": false
   },
   "outputs": [],
   "source": [
    "gl = gevent.spawn(gl_target, 1, 2, c=3)\n",
    "def callback(g):\n",
    "    print 'Callback', g\n",
    "gl.link_value(callback)"
   ]
  },
  {
   "cell_type": "code",
   "execution_count": 21,
   "metadata": {
    "collapsed": false
   },
   "outputs": [],
   "source": [
    "try:\n",
    "    gevent.sleep(0)\n",
    "except gevent.greenlet.LinkedCompleted, err:\n",
    "    print 'err', err\n",
    "    gl.join()\n",
    "    print 'val', gl.value"
   ]
  },
  {
   "cell_type": "code",
   "execution_count": 22,
   "metadata": {
    "collapsed": false
   },
   "outputs": [],
   "source": [
    "def gl_target_err():\n",
    "    raise ValueError"
   ]
  },
  {
   "cell_type": "code",
   "execution_count": 23,
   "metadata": {
    "collapsed": false
   },
   "outputs": [
    {
     "ename": "AttributeError",
     "evalue": "'module' object has no attribute 'spawn_link'",
     "output_type": "error",
     "traceback": [
      "\u001b[0;31m---------------------------------------------------------------------------\u001b[0m",
      "\u001b[0;31mAttributeError\u001b[0m                            Traceback (most recent call last)",
      "\u001b[0;32m<ipython-input-23-485c6e8a46e7>\u001b[0m in \u001b[0;36m<module>\u001b[0;34m()\u001b[0m\n\u001b[0;32m----> 1\u001b[0;31m \u001b[0mgl\u001b[0m \u001b[0;34m=\u001b[0m \u001b[0mgevent\u001b[0m\u001b[0;34m.\u001b[0m\u001b[0mspawn_link\u001b[0m\u001b[0;34m(\u001b[0m\u001b[0mgl_target_err\u001b[0m\u001b[0;34m)\u001b[0m\u001b[0;34m\u001b[0m\u001b[0m\n\u001b[0m\u001b[1;32m      2\u001b[0m \u001b[0mgl\u001b[0m\u001b[0;34m\u001b[0m\u001b[0m\n",
      "\u001b[0;31mAttributeError\u001b[0m: 'module' object has no attribute 'spawn_link'"
     ]
    }
   ],
   "source": [
    "gl = gevent.spawn_link(gl_target_err)\n",
    "gl"
   ]
  },
  {
   "cell_type": "code",
   "execution_count": 9,
   "metadata": {
    "collapsed": false
   },
   "outputs": [
    {
     "name": "stdout",
     "output_type": "stream",
     "text": [
      "Error caught: <Greenlet at 0x19fd7d0: gl_target_err> failed with ValueError\n",
      "Greenlet joined\n"
     ]
    },
    {
     "name": "stderr",
     "output_type": "stream",
     "text": [
      "Traceback (most recent call last):\n",
      "  File \"/home/vagrant/bigdive/local/lib/python2.7/site-packages/gevent/greenlet.py\", line 390, in run\n",
      "    result = self._run(*self.args, **self.kwargs)\n",
      "  File \"<ipython-input-7-c006aea2c7a5>\", line 2, in gl_target_err\n",
      "    raise ValueError\n",
      "ValueError\n",
      "<Greenlet at 0x19fd7d0: gl_target_err> failed with ValueError\n",
      "\n"
     ]
    }
   ],
   "source": [
    "try:\n",
    "    gevent.sleep(0)\n",
    "except gevent.greenlet.LinkedExited, err:\n",
    "    print 'Error caught:', err\n",
    "    gl.join()\n",
    "    print 'Greenlet joined'"
   ]
  },
  {
   "cell_type": "markdown",
   "metadata": {},
   "source": [
    "You can also be notified *only* on successful completion or *only* on exception:"
   ]
  },
  {
   "cell_type": "code",
   "execution_count": 10,
   "metadata": {
    "collapsed": false
   },
   "outputs": [
    {
     "data": {
      "text/plain": [
       "<Greenlet at 0x19fd870: gl_target(1, 2, 3)>"
      ]
     },
     "execution_count": 10,
     "metadata": {},
     "output_type": "execute_result"
    }
   ],
   "source": [
    "gl = gevent.spawn_link_exception(gl_target, 1, 2, 3)\n",
    "gl"
   ]
  },
  {
   "cell_type": "code",
   "execution_count": 11,
   "metadata": {
    "collapsed": false
   },
   "outputs": [
    {
     "name": "stdout",
     "output_type": "stream",
     "text": [
      "1 2 3\n"
     ]
    }
   ],
   "source": [
    "gl.join()"
   ]
  },
  {
   "cell_type": "code",
   "execution_count": 12,
   "metadata": {
    "collapsed": false
   },
   "outputs": [
    {
     "data": {
      "text/plain": [
       "<Greenlet at 0x19fda50: gl_target_err>"
      ]
     },
     "execution_count": 12,
     "metadata": {},
     "output_type": "execute_result"
    }
   ],
   "source": [
    "gl = gevent.spawn_link_value(gl_target_err)\n",
    "gl"
   ]
  },
  {
   "cell_type": "code",
   "execution_count": 13,
   "metadata": {
    "collapsed": false
   },
   "outputs": [
    {
     "name": "stdout",
     "output_type": "stream",
     "text": [
      "No exception was raised\n",
      "gl.exception is  ValueError()\n"
     ]
    },
    {
     "name": "stderr",
     "output_type": "stream",
     "text": [
      "Traceback (most recent call last):\n",
      "  File \"/home/vagrant/bigdive/local/lib/python2.7/site-packages/gevent/greenlet.py\", line 390, in run\n",
      "    result = self._run(*self.args, **self.kwargs)\n",
      "  File \"<ipython-input-7-c006aea2c7a5>\", line 2, in gl_target_err\n",
      "    raise ValueError\n",
      "ValueError\n",
      "<Greenlet at 0x19fda50: gl_target_err> failed with ValueError\n",
      "\n"
     ]
    }
   ],
   "source": [
    "try:\n",
    "    gl.join()\n",
    "except:\n",
    "    print 'Exception was raised'\n",
    "else:\n",
    "    print 'No exception was raised'\n",
    "    print 'gl.exception is ', repr(gl.exception)"
   ]
  },
  {
   "cell_type": "markdown",
   "metadata": {},
   "source": [
    "## Using the `gevent.Greenlet` class directly"
   ]
  },
  {
   "cell_type": "code",
   "execution_count": 24,
   "metadata": {
    "collapsed": false
   },
   "outputs": [],
   "source": [
    "gl = gevent.Greenlet(gl_target, 1, 2, 3)"
   ]
  },
  {
   "cell_type": "code",
   "execution_count": 25,
   "metadata": {
    "collapsed": false
   },
   "outputs": [],
   "source": [
    "gevent.sleep(0)"
   ]
  },
  {
   "cell_type": "code",
   "execution_count": 26,
   "metadata": {
    "collapsed": false
   },
   "outputs": [],
   "source": [
    "gl.start()"
   ]
  },
  {
   "cell_type": "code",
   "execution_count": 27,
   "metadata": {
    "collapsed": false
   },
   "outputs": [
    {
     "name": "stdout",
     "output_type": "stream",
     "text": [
      "1 2 3\n"
     ]
    }
   ],
   "source": [
    "gevent.sleep(0)"
   ]
  },
  {
   "cell_type": "code",
   "execution_count": 28,
   "metadata": {
    "collapsed": false
   },
   "outputs": [],
   "source": [
    "gl.join()"
   ]
  },
  {
   "cell_type": "code",
   "execution_count": 29,
   "metadata": {
    "collapsed": false
   },
   "outputs": [
    {
     "ename": "TypeError",
     "evalue": "link() takes at least 2 arguments (1 given)",
     "output_type": "error",
     "traceback": [
      "\u001b[0;31m---------------------------------------------------------------------------\u001b[0m",
      "\u001b[0;31mTypeError\u001b[0m                                 Traceback (most recent call last)",
      "\u001b[0;32m<ipython-input-29-5b35f60b5fd5>\u001b[0m in \u001b[0;36m<module>\u001b[0;34m()\u001b[0m\n\u001b[1;32m      1\u001b[0m \u001b[0mgl\u001b[0m \u001b[0;34m=\u001b[0m \u001b[0mgevent\u001b[0m\u001b[0;34m.\u001b[0m\u001b[0mGreenlet\u001b[0m\u001b[0;34m(\u001b[0m\u001b[0mgl_target\u001b[0m\u001b[0;34m,\u001b[0m \u001b[0;36m1\u001b[0m\u001b[0;34m,\u001b[0m \u001b[0;36m2\u001b[0m\u001b[0;34m,\u001b[0m \u001b[0;36m3\u001b[0m\u001b[0;34m)\u001b[0m\u001b[0;34m\u001b[0m\u001b[0m\n\u001b[0;32m----> 2\u001b[0;31m \u001b[0mgl\u001b[0m\u001b[0;34m.\u001b[0m\u001b[0mlink\u001b[0m\u001b[0;34m(\u001b[0m\u001b[0;34m)\u001b[0m\u001b[0;34m\u001b[0m\u001b[0m\n\u001b[0m\u001b[1;32m      3\u001b[0m \u001b[0mgl\u001b[0m\u001b[0;34m.\u001b[0m\u001b[0mstart\u001b[0m\u001b[0;34m(\u001b[0m\u001b[0;34m)\u001b[0m\u001b[0;34m\u001b[0m\u001b[0m\n",
      "\u001b[0;31mTypeError\u001b[0m: link() takes at least 2 arguments (1 given)"
     ]
    }
   ],
   "source": [
    "gl = gevent.Greenlet(gl_target, 1, 2, 3)\n",
    "gl.link()\n",
    "gl.start()"
   ]
  },
  {
   "cell_type": "code",
   "execution_count": 30,
   "metadata": {
    "collapsed": false
   },
   "outputs": [],
   "source": [
    "try:\n",
    "    gevent.sleep(0)\n",
    "except gevent.greenlet.LinkedExited, err:\n",
    "    print err"
   ]
  },
  {
   "cell_type": "markdown",
   "metadata": {},
   "source": [
    "## Timeouts"
   ]
  },
  {
   "cell_type": "code",
   "execution_count": 32,
   "metadata": {
    "collapsed": false
   },
   "outputs": [
    {
     "name": "stdout",
     "output_type": "stream",
     "text": [
      "<class 'gevent.timeout.Timeout'> 2 seconds\n"
     ]
    }
   ],
   "source": [
    "t = gevent.Timeout(2)\n",
    "t.start()\n",
    "try:\n",
    "    gevent.sleep(2.1)\n",
    "except gevent.Timeout, err:\n",
    "    print type(err), err"
   ]
  },
  {
   "cell_type": "code",
   "execution_count": 33,
   "metadata": {
    "collapsed": false
   },
   "outputs": [
    {
     "name": "stdout",
     "output_type": "stream",
     "text": [
      "After timeout\n"
     ]
    }
   ],
   "source": [
    "t = gevent.Timeout(2)\n",
    "t.start()\n",
    "try:\n",
    "    gevent.sleep(1)\n",
    "    t.cancel()\n",
    "except gevent.Timeout, err:\n",
    "    print type(err), err\n",
    "print 'After timeout'"
   ]
  },
  {
   "cell_type": "code",
   "execution_count": 34,
   "metadata": {
    "collapsed": false
   },
   "outputs": [
    {
     "name": "stdout",
     "output_type": "stream",
     "text": [
      "2 seconds\n"
     ]
    }
   ],
   "source": [
    "try:\n",
    "    with gevent.Timeout(2):\n",
    "        gevent.sleep(2.1)\n",
    "except gevent.Timeout, err:\n",
    "    print err"
   ]
  },
  {
   "cell_type": "code",
   "execution_count": 35,
   "metadata": {
    "collapsed": false
   },
   "outputs": [
    {
     "name": "stdout",
     "output_type": "stream",
     "text": [
      "After timeout\n"
     ]
    }
   ],
   "source": [
    "try:\n",
    "    with gevent.Timeout(2):\n",
    "        gevent.sleep(1)\n",
    "    print 'After timeout'\n",
    "except gevent.Timeout, err:\n",
    "    print err"
   ]
  },
  {
   "cell_type": "markdown",
   "metadata": {},
   "source": [
    "## Working with multiple greenlets"
   ]
  },
  {
   "cell_type": "code",
   "execution_count": 36,
   "metadata": {
    "collapsed": false
   },
   "outputs": [],
   "source": [
    "gls = [ gevent.spawn(gl_target, 1, 2, 3) for x in range(10) ]"
   ]
  },
  {
   "cell_type": "code",
   "execution_count": 37,
   "metadata": {
    "collapsed": false
   },
   "outputs": [
    {
     "name": "stdout",
     "output_type": "stream",
     "text": [
      "1 2 3\n",
      "1 2 3\n",
      "1 2 3\n",
      "1 2 3\n",
      "1 2 3\n",
      "1 2 3\n",
      "1 2 3\n",
      "1 2 3\n",
      "1 2 3\n",
      "1 2 3\n"
     ]
    },
    {
     "data": {
      "text/plain": [
       "[<Greenlet at 0x1065bf7d0>,\n",
       " <Greenlet at 0x1065bfcd0>,\n",
       " <Greenlet at 0x106797550>,\n",
       " <Greenlet at 0x1067974b0>,\n",
       " <Greenlet at 0x106797230>,\n",
       " <Greenlet at 0x106797050>,\n",
       " <Greenlet at 0x1067970f0>,\n",
       " <Greenlet at 0x106797190>,\n",
       " <Greenlet at 0x1067972d0>,\n",
       " <Greenlet at 0x106797370>]"
      ]
     },
     "execution_count": 37,
     "metadata": {},
     "output_type": "execute_result"
    }
   ],
   "source": [
    "gevent.joinall(gls)"
   ]
  },
  {
   "cell_type": "markdown",
   "metadata": {},
   "source": [
    "## Killing a greenlet"
   ]
  },
  {
   "cell_type": "code",
   "execution_count": 38,
   "metadata": {
    "collapsed": false
   },
   "outputs": [],
   "source": [
    "import sys\n",
    "def runs_a_long_time():\n",
    "    for x in range(10):\n",
    "        print x\n",
    "        sys.stdout.flush()\n",
    "        gevent.sleep(0.5)\n",
    "    print 'Exit'"
   ]
  },
  {
   "cell_type": "code",
   "execution_count": 39,
   "metadata": {
    "collapsed": false
   },
   "outputs": [],
   "source": [
    "gl = gevent.spawn(runs_a_long_time)"
   ]
  },
  {
   "cell_type": "code",
   "execution_count": 40,
   "metadata": {
    "collapsed": false
   },
   "outputs": [
    {
     "name": "stdout",
     "output_type": "stream",
     "text": [
      "0\n",
      "1\n",
      "2\n",
      "3\n",
      "4\n",
      "5\n",
      "6\n",
      "7\n",
      "8\n",
      "9\n"
     ]
    }
   ],
   "source": [
    "gevent.sleep(5)"
   ]
  },
  {
   "cell_type": "code",
   "execution_count": 41,
   "metadata": {
    "collapsed": false
   },
   "outputs": [],
   "source": [
    "gl.kill()"
   ]
  },
  {
   "cell_type": "markdown",
   "metadata": {},
   "source": [
    "### Exercise\n",
    "\n",
    "- Install gevent\n",
    "- Use the function below as a DNS lookup. Spawn this function to do parallel DNS lookups for the following domains:\n",
    "  `['google.com', 'bing.com', 'baidu.com', 'axant.it', 'pypi.python.org' ]`\n",
    "\n",
    "Sample DNS code:\n",
    "\n",
    "    from gevent import socket\n",
    "    \n",
    "    def lookup_dns(name):\n",
    "        # try 3 times to handle DNS timeouts\n",
    "        for x in range(3):\n",
    "            try:\n",
    "                return socket.gethostbyname(name)\n",
    "            except socket.gaierror, ex:\n",
    "                print '%s: error %s' % (name, ex)\n",
    "                continue"
   ]
  },
  {
   "cell_type": "markdown",
   "metadata": {},
   "source": [
    "### Solution"
   ]
  },
  {
   "cell_type": "code",
   "execution_count": 42,
   "metadata": {
    "collapsed": false
   },
   "outputs": [],
   "source": [
    "from gevent import socket\n",
    "\n",
    "def lookup_dns(name):\n",
    "    # try 3 times to handle DNS timeouts\n",
    "    for x in range(3):\n",
    "        try:\n",
    "            return socket.gethostbyname(name)\n",
    "        except socket.gaierror, ex:\n",
    "            print '%s: error %s' % (name, ex)\n",
    "            continue\n"
   ]
  },
  {
   "cell_type": "code",
   "execution_count": 43,
   "metadata": {
    "collapsed": false
   },
   "outputs": [
    {
     "data": {
      "text/plain": [
       "'81.31.148.102'"
      ]
     },
     "execution_count": 43,
     "metadata": {},
     "output_type": "execute_result"
    }
   ],
   "source": [
    "lookup_dns('www.axant.it')"
   ]
  },
  {
   "cell_type": "code",
   "execution_count": 44,
   "metadata": {
    "collapsed": false
   },
   "outputs": [
    {
     "name": "stdout",
     "output_type": "stream",
     "text": [
      "google.com 216.58.217.174\n",
      "bing.com 204.79.197.200\n",
      "www.bigdive.eu 194.116.72.165\n",
      "www.axant.it 81.31.148.102\n",
      "pypi.python.org 199.27.76.223\n"
     ]
    }
   ],
   "source": [
    "names = ['google.com', 'bing.com', 'www.bigdive.eu', 'www.axant.it', 'pypi.python.org' ]\n",
    "gls = [ gevent.spawn(lookup_dns, name) for name in names ]\n",
    "gevent.joinall(gls)\n",
    "for name, gl in zip(names, gls):\n",
    "    print name, gl.value"
   ]
  },
  {
   "cell_type": "markdown",
   "metadata": {},
   "source": [
    "## Greenlet synchronization"
   ]
  },
  {
   "cell_type": "code",
   "execution_count": 45,
   "metadata": {
    "collapsed": false
   },
   "outputs": [],
   "source": [
    "def wait_for_event(ev):\n",
    "    ev.wait()\n",
    "    print '%s is set' % ev\n",
    "    sys.stdout.flush()"
   ]
  },
  {
   "cell_type": "code",
   "execution_count": 46,
   "metadata": {
    "collapsed": false
   },
   "outputs": [],
   "source": [
    "import gevent.event\n",
    "ev = gevent.event.Event()"
   ]
  },
  {
   "cell_type": "code",
   "execution_count": 47,
   "metadata": {
    "collapsed": false
   },
   "outputs": [],
   "source": [
    "gl = gevent.spawn(wait_for_event, ev)"
   ]
  },
  {
   "cell_type": "code",
   "execution_count": 48,
   "metadata": {
    "collapsed": false
   },
   "outputs": [],
   "source": [
    "gl.join(1.0)"
   ]
  },
  {
   "cell_type": "code",
   "execution_count": 49,
   "metadata": {
    "collapsed": false
   },
   "outputs": [],
   "source": [
    "ev.set()"
   ]
  },
  {
   "cell_type": "code",
   "execution_count": 50,
   "metadata": {
    "collapsed": false
   },
   "outputs": [
    {
     "name": "stdout",
     "output_type": "stream",
     "text": [
      "<Event set _links[0]> is set\n"
     ]
    }
   ],
   "source": [
    "gl.join(1.0)"
   ]
  },
  {
   "cell_type": "code",
   "execution_count": 51,
   "metadata": {
    "collapsed": false
   },
   "outputs": [
    {
     "ename": "AttributeError",
     "evalue": "'module' object has no attribute 'queue'",
     "output_type": "error",
     "traceback": [
      "\u001b[0;31m---------------------------------------------------------------------------\u001b[0m",
      "\u001b[0;31mAttributeError\u001b[0m                            Traceback (most recent call last)",
      "\u001b[0;32m<ipython-input-51-c3f59f25ead2>\u001b[0m in \u001b[0;36m<module>\u001b[0;34m()\u001b[0m\n\u001b[1;32m     11\u001b[0m \u001b[0;34m\u001b[0m\u001b[0m\n\u001b[1;32m     12\u001b[0m \u001b[0;34m\u001b[0m\u001b[0m\n\u001b[0;32m---> 13\u001b[0;31m \u001b[0mq\u001b[0m \u001b[0;34m=\u001b[0m \u001b[0mgevent\u001b[0m\u001b[0;34m.\u001b[0m\u001b[0mqueue\u001b[0m\u001b[0;34m.\u001b[0m\u001b[0mQueue\u001b[0m\u001b[0;34m(\u001b[0m\u001b[0;34m)\u001b[0m\u001b[0;34m\u001b[0m\u001b[0m\n\u001b[0m\u001b[1;32m     14\u001b[0m \u001b[0mgls\u001b[0m \u001b[0;34m=\u001b[0m \u001b[0;34m[\u001b[0m \u001b[0mgevent\u001b[0m\u001b[0;34m.\u001b[0m\u001b[0mspawn\u001b[0m\u001b[0;34m(\u001b[0m\u001b[0mproducer\u001b[0m\u001b[0;34m,\u001b[0m \u001b[0mq\u001b[0m\u001b[0;34m)\u001b[0m\u001b[0;34m,\u001b[0m \u001b[0mgevent\u001b[0m\u001b[0;34m.\u001b[0m\u001b[0mspawn\u001b[0m\u001b[0;34m(\u001b[0m\u001b[0mconsumer\u001b[0m\u001b[0;34m,\u001b[0m \u001b[0mq\u001b[0m\u001b[0;34m)\u001b[0m \u001b[0;34m]\u001b[0m\u001b[0;34m\u001b[0m\u001b[0m\n",
      "\u001b[0;31mAttributeError\u001b[0m: 'module' object has no attribute 'queue'"
     ]
    }
   ],
   "source": [
    "def producer(q):\n",
    "    for x in range(10):\n",
    "        print 'Put %d' % x\n",
    "        sys.stdout.flush()\n",
    "        q.put(x)\n",
    "        gevent.sleep(0)\n",
    "        \n",
    "def consumer(q):\n",
    "    for x in q:\n",
    "        print 'Get %d' % x\n",
    "        \n",
    "\n",
    "q = gevent.queue.Queue()\n",
    "gls = [ gevent.spawn(producer, q), gevent.spawn(consumer, q) ]"
   ]
  },
  {
   "cell_type": "code",
   "execution_count": 53,
   "metadata": {
    "collapsed": false
   },
   "outputs": [],
   "source": [
    "gevent.sleep(5)"
   ]
  },
  {
   "cell_type": "code",
   "execution_count": 54,
   "metadata": {
    "collapsed": false
   },
   "outputs": [],
   "source": [
    "gevent.killall(gls)"
   ]
  },
  {
   "cell_type": "code",
   "execution_count": 55,
   "metadata": {
    "collapsed": false
   },
   "outputs": [],
   "source": [
    "def gl_worker(i):\n",
    "    for j in range(3):\n",
    "        print 'gl_worker %d: %d' % (i,j)\n",
    "        gevent.sleep(1)"
   ]
  },
  {
   "cell_type": "code",
   "execution_count": 56,
   "metadata": {
    "collapsed": false
   },
   "outputs": [
    {
     "name": "stderr",
     "output_type": "stream",
     "text": [
      "/Users/rick446/.virtualenvs/intermediate-python/lib/python2.7/site-packages/ipykernel/__main__.py:1: DeprecationWarning: gevent.coros has been renamed to gevent.lock\n",
      "  if __name__ == '__main__':\n"
     ]
    },
    {
     "name": "stdout",
     "output_type": "stream",
     "text": [
      "gl_worker 0: 0\n",
      "gl_worker 1: 0\n",
      "gl_worker 2: 0\n",
      "gl_worker 0: 1\n",
      "gl_worker 1: 1\n",
      "gl_worker 2: 1\n",
      "gl_worker 0: 2\n",
      "gl_worker 1: 2\n",
      "gl_worker 2: 2\n"
     ]
    },
    {
     "data": {
      "text/plain": [
       "[<Greenlet at 0x106797870>,\n",
       " <Greenlet at 0x106797eb0>,\n",
       " <Greenlet at 0x106797c30>]"
      ]
     },
     "execution_count": 56,
     "metadata": {},
     "output_type": "execute_result"
    }
   ],
   "source": [
    "from gevent.coros import Semaphore\n",
    "sem = Semaphore()\n",
    "gls = [ gevent.spawn(gl_worker, i) \n",
    "        for i in range(3) ]\n",
    "gevent.joinall(gls)"
   ]
  },
  {
   "cell_type": "code",
   "execution_count": 57,
   "metadata": {
    "collapsed": false
   },
   "outputs": [],
   "source": [
    "def gl_worker(i, sem):\n",
    "    sem.acquire()\n",
    "    for j in range(3):\n",
    "        print 'gl_worker %d: %d' % (i,j)\n",
    "        gevent.sleep(1)\n",
    "    sem.release()"
   ]
  },
  {
   "cell_type": "code",
   "execution_count": 58,
   "metadata": {
    "collapsed": false
   },
   "outputs": [
    {
     "name": "stdout",
     "output_type": "stream",
     "text": [
      "gl_worker 0: 0\n",
      "gl_worker 0: 1\n",
      "gl_worker 0: 2\n",
      "gl_worker 1: 0\n",
      "gl_worker 1: 1\n",
      "gl_worker 1: 2\n",
      "gl_worker 2: 0\n",
      "gl_worker 2: 1\n",
      "gl_worker 2: 2\n"
     ]
    },
    {
     "data": {
      "text/plain": [
       "[<Greenlet at 0x106797a50>,\n",
       " <Greenlet at 0x106797d70>,\n",
       " <Greenlet at 0x106797e10>]"
      ]
     },
     "execution_count": 58,
     "metadata": {},
     "output_type": "execute_result"
    }
   ],
   "source": [
    "sem = Semaphore()\n",
    "gls = [ gevent.spawn(gl_worker, i, sem) \n",
    "        for i in range(3) ]\n",
    "gevent.joinall(gls)"
   ]
  },
  {
   "cell_type": "code",
   "execution_count": 59,
   "metadata": {
    "collapsed": false
   },
   "outputs": [
    {
     "name": "stdout",
     "output_type": "stream",
     "text": [
      "gl_worker 0: 0\n",
      "gl_worker 1: 0\n",
      "gl_worker 0: 1\n",
      "gl_worker 1: 1\n",
      "gl_worker 0: 2\n",
      "gl_worker 1: 2\n",
      "gl_worker 2: 0\n",
      "gl_worker 2: 1\n",
      "gl_worker 2: 2\n"
     ]
    },
    {
     "data": {
      "text/plain": [
       "[<Greenlet at 0x1067979b0>,\n",
       " <Greenlet at 0x106797910>,\n",
       " <Greenlet at 0x106797af0>]"
      ]
     },
     "execution_count": 59,
     "metadata": {},
     "output_type": "execute_result"
    }
   ],
   "source": [
    "sem = Semaphore(2)\n",
    "gls = [ gevent.spawn(gl_worker, i, sem) \n",
    "        for i in range(3) ]\n",
    "gevent.joinall(gls)"
   ]
  },
  {
   "cell_type": "markdown",
   "metadata": {},
   "source": [
    "## Greenlet pools (limiting concurrency)"
   ]
  },
  {
   "cell_type": "code",
   "execution_count": 60,
   "metadata": {
    "collapsed": false
   },
   "outputs": [],
   "source": [
    "import gevent.pool\n",
    "pool = gevent.pool.Pool(4)"
   ]
  },
  {
   "cell_type": "code",
   "execution_count": 61,
   "metadata": {
    "collapsed": false
   },
   "outputs": [],
   "source": [
    "def gl_worker(x):\n",
    "    print 'Running worker %d' % x\n",
    "    gevent.sleep(1)\n",
    "    print 'Worker %d complete' % x"
   ]
  },
  {
   "cell_type": "code",
   "execution_count": 62,
   "metadata": {
    "collapsed": false
   },
   "outputs": [
    {
     "name": "stdout",
     "output_type": "stream",
     "text": [
      "Running worker 0\n",
      "Running worker 1\n",
      "Running worker 2\n",
      "Running worker 3\n",
      "Worker 0 complete\n",
      "Worker 1 complete\n",
      "Worker 2 complete\n",
      "Worker 3 complete\n",
      "Running worker 4\n",
      "Running worker 5\n",
      "Running worker 6\n",
      "Running worker 7\n",
      "Worker 4 complete\n",
      "Worker 5 complete\n",
      "Worker 6 complete\n",
      "Worker 7 complete\n",
      "Running worker 8\n",
      "Running worker 9\n",
      "Worker 8 complete\n",
      "Worker 9 complete\n"
     ]
    }
   ],
   "source": [
    "for x in range(10):\n",
    "    pool.spawn(gl_worker, x)\n",
    "gevent.sleep(4)"
   ]
  },
  {
   "cell_type": "markdown",
   "metadata": {},
   "source": [
    "### Exercise\n",
    "\n",
    "- Rewrite the DNS resolver above to limit concurrency to 2 using a Pool\n",
    "- Rewrite the DNS resolver above to limit concurrency to 2 using a Semaphore"
   ]
  },
  {
   "cell_type": "markdown",
   "metadata": {},
   "source": [
    "### Solution\n",
    "\n",
    "The pool solution is quite simple:"
   ]
  },
  {
   "cell_type": "code",
   "execution_count": 63,
   "metadata": {
    "collapsed": false
   },
   "outputs": [
    {
     "name": "stdout",
     "output_type": "stream",
     "text": [
      "google.com 216.58.217.174\n",
      "bing.com 204.79.197.200\n",
      "www.bigdive.eu 194.116.72.165\n",
      "www.axant.it 81.31.148.102\n",
      "pypi.python.org 199.27.76.223\n"
     ]
    }
   ],
   "source": [
    "names = ['google.com', 'bing.com', 'www.bigdive.eu', 'www.axant.it', 'pypi.python.org' ]\n",
    "pool = gevent.pool.Pool(2)\n",
    "gls = [ pool.spawn(lookup_dns, name) for name in names ]\n",
    "gevent.joinall(gls)\n",
    "for name, gl in zip(names, gls):\n",
    "    print name, gl.value"
   ]
  },
  {
   "cell_type": "markdown",
   "metadata": {},
   "source": [
    "Using a semaphore requires us to update our `lookup_dns` method to take a semaphore as its first argument:"
   ]
  },
  {
   "cell_type": "code",
   "execution_count": 64,
   "metadata": {
    "collapsed": false
   },
   "outputs": [],
   "source": [
    "def lookup_dns(name, sem):\n",
    "    with sem:\n",
    "        print 'Begin lookup %s' % name\n",
    "        sys.stdout.flush()\n",
    "        # try 3 times to handle DNS timeouts\n",
    "        for x in range(3):\n",
    "            try:\n",
    "                result = socket.gethostbyname(name)\n",
    "                print 'Lookup %s complete' % name\n",
    "                sys.stdout.flush()\n",
    "                return result\n",
    "            except socket.gaierror, ex:\n",
    "                print '%s: error %s' % (name, ex)\n",
    "                sys.stdout.flush()\n",
    "                continue"
   ]
  },
  {
   "cell_type": "code",
   "execution_count": 65,
   "metadata": {
    "collapsed": false
   },
   "outputs": [
    {
     "name": "stdout",
     "output_type": "stream",
     "text": [
      "Begin lookup google.com\n",
      "Begin lookup bing.com\n",
      "Lookup google.com complete\n",
      "Begin lookup www.bigdive.eu\n",
      "Lookup bing.com complete\n",
      "Begin lookup www.axant.it\n",
      "Lookup www.bigdive.eu complete\n",
      "Begin lookup pypi.python.org\n",
      "Lookup www.axant.it complete\n",
      "Lookup pypi.python.org complete\n",
      "google.com 216.58.217.174\n",
      "bing.com 204.79.197.200\n",
      "www.bigdive.eu 194.116.72.165\n",
      "www.axant.it 81.31.148.102\n",
      "pypi.python.org 199.27.76.223\n"
     ]
    }
   ],
   "source": [
    "sem = Semaphore(2)\n",
    "names = ['google.com', 'bing.com', 'www.bigdive.eu', 'www.axant.it', 'pypi.python.org' ]\n",
    "gls = [ gevent.spawn(lookup_dns, name, sem) for name in names ]\n",
    "gevent.joinall(gls)\n",
    "for name, gl in zip(names, gls):\n",
    "    print name, gl.value"
   ]
  },
  {
   "cell_type": "code",
   "execution_count": null,
   "metadata": {
    "collapsed": true
   },
   "outputs": [],
   "source": []
  }
 ],
 "metadata": {
  "kernelspec": {
   "display_name": "Python 2",
   "language": "python",
   "name": "python2"
  },
  "language_info": {
   "codemirror_mode": {
    "name": "ipython",
    "version": 2
   },
   "file_extension": ".py",
   "mimetype": "text/x-python",
   "name": "python",
   "nbconvert_exporter": "python",
   "pygments_lexer": "ipython2",
   "version": "2.7.11"
  }
 },
 "nbformat": 4,
 "nbformat_minor": 0
}
