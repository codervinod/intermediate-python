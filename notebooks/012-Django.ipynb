{
 "cells": [
  {
   "cell_type": "markdown",
   "metadata": {},
   "source": [
    "### Exercises:\n",
    "- In the previous section, you used the ARRPI Pirate Translation API. Now, mimic the behavior of this API by building a Django web app with a GET endpoint that translates \"Hello World\" into \"Ahoy World\".\n",
    "    - `GET translate/{phrase}` responds with \"Ahoy world\"\n",
    "    \n",
    "    \n",
    "- Create a simple html template for your endpoint. Change your `translate` endpoint so the temple renders with the response text when visited in a browser \n",
    "\n",
    "    - (for example: `localhost:8080/translate/hello+world/`)\n",
    "    \n",
    "    \n",
    "- Since your endpoint is only designed to handle one phrase (\"Hello World\"), make your endpoint raise a 404 if any other phrase is passed in. \n",
    "\n",
    "    - (for example: `localhost:8080/translate/foo/` raises `404`)"
   ]
  },
  {
   "cell_type": "code",
   "execution_count": null,
   "metadata": {
    "collapsed": true
   },
   "outputs": [],
   "source": []
  }
 ],
 "metadata": {
  "kernelspec": {
   "display_name": "Python 2",
   "language": "python",
   "name": "python2"
  },
  "language_info": {
   "codemirror_mode": {
    "name": "ipython",
    "version": 2
   },
   "file_extension": ".py",
   "mimetype": "text/x-python",
   "name": "python",
   "nbconvert_exporter": "python",
   "pygments_lexer": "ipython2",
   "version": "2.7.11"
  }
 },
 "nbformat": 4,
 "nbformat_minor": 0
}
