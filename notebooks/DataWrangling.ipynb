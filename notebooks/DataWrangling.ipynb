{
 "cells": [
  {
   "cell_type": "code",
   "execution_count": 1,
   "metadata": {
    "collapsed": true
   },
   "outputs": [],
   "source": [
    "import csv\n",
    "import json"
   ]
  },
  {
   "cell_type": "markdown",
   "metadata": {},
   "source": [
    "## Working with CSV data"
   ]
  },
  {
   "cell_type": "code",
   "execution_count": 2,
   "metadata": {
    "collapsed": false
   },
   "outputs": [
    {
     "name": "stdout",
     "output_type": "stream",
     "text": [
      "{'date': '2000-01-02', 'Volume': '100.476289298', 'region': 'N', 'Orders': '5', 'store': '0'}\n",
      "{'date': '2000-01-02', 'Volume': '48.7764146112', 'region': 'N', 'Orders': '2', 'store': '1'}\n",
      "{'date': '2000-01-02', 'Volume': '59.7178544882', 'region': 'N', 'Orders': '3', 'store': '2'}\n",
      "{'date': '2000-01-02', 'Volume': '37.3457794617', 'region': 'N', 'Orders': '2', 'store': '3'}\n",
      "{'date': '2000-01-02', 'Volume': '41.3322711685', 'region': 'E', 'Orders': '2', 'store': '0'}\n",
      "{'date': '2000-01-02', 'Volume': '62.2623378721', 'region': 'E', 'Orders': '3', 'store': '1'}\n",
      "{'date': '2000-01-02', 'Volume': '33.1530011664', 'region': 'E', 'Orders': '2', 'store': '2'}\n",
      "{'date': '2000-01-02', 'Volume': '86.278202688', 'region': 'E', 'Orders': '4', 'store': '3'}\n",
      "{'date': '2000-01-02', 'Volume': '108.318439119', 'region': 'S', 'Orders': '6', 'store': '0'}\n",
      "{'date': '2000-01-02', 'Volume': '65.9870455892', 'region': 'S', 'Orders': '3', 'store': '1'}\n",
      "{'date': '2000-01-02', 'Volume': '52.6408312531', 'region': 'S', 'Orders': '3', 'store': '2'}\n",
      "{'date': '2000-01-02', 'Volume': '57.6717027338', 'region': 'S', 'Orders': '3', 'store': '3'}\n"
     ]
    }
   ],
   "source": [
    "with open('store_data.csv') as fp:\n",
    "    rdr = csv.DictReader(fp)\n",
    "    for i, row in enumerate(rdr):\n",
    "        print row\n",
    "        if i > 10:\n",
    "            break\n",
    "        "
   ]
  },
  {
   "cell_type": "code",
   "execution_count": 3,
   "metadata": {
    "collapsed": false
   },
   "outputs": [
    {
     "name": "stdout",
     "output_type": "stream",
     "text": [
      "['date', 'region', 'store', 'Orders', 'Volume']\n",
      "['2000-01-02', 'N', '0', '5', '100.476289298']\n",
      "['2000-01-02', 'N', '1', '2', '48.7764146112']\n",
      "['2000-01-02', 'N', '2', '3', '59.7178544882']\n",
      "['2000-01-02', 'N', '3', '2', '37.3457794617']\n",
      "['2000-01-02', 'E', '0', '2', '41.3322711685']\n",
      "['2000-01-02', 'E', '1', '3', '62.2623378721']\n",
      "['2000-01-02', 'E', '2', '2', '33.1530011664']\n",
      "['2000-01-02', 'E', '3', '4', '86.278202688']\n",
      "['2000-01-02', 'S', '0', '6', '108.318439119']\n",
      "['2000-01-02', 'S', '1', '3', '65.9870455892']\n",
      "['2000-01-02', 'S', '2', '3', '52.6408312531']\n"
     ]
    }
   ],
   "source": [
    "with open('store_data.csv') as fp:\n",
    "    rdr = csv.reader(fp)\n",
    "    for i, row in enumerate(rdr):\n",
    "        print row\n",
    "        if i > 10:\n",
    "            break"
   ]
  },
  {
   "cell_type": "code",
   "execution_count": 4,
   "metadata": {
    "collapsed": true
   },
   "outputs": [],
   "source": [
    "from collections import namedtuple\n",
    "from datetime import datetime"
   ]
  },
  {
   "cell_type": "code",
   "execution_count": 8,
   "metadata": {
    "collapsed": false
   },
   "outputs": [
    {
     "name": "stdout",
     "output_type": "stream",
     "text": [
      "StoreOrders(date=datetime.datetime(2000, 1, 2, 0, 0), region='N', store='0', orders=5, volume=100.476289298)\n",
      "StoreOrders(date=datetime.datetime(2000, 1, 2, 0, 0), region='N', store='1', orders=2, volume=48.7764146112)\n",
      "StoreOrders(date=datetime.datetime(2000, 1, 2, 0, 0), region='N', store='2', orders=3, volume=59.7178544882)\n",
      "StoreOrders(date=datetime.datetime(2000, 1, 2, 0, 0), region='N', store='3', orders=2, volume=37.3457794617)\n",
      "StoreOrders(date=datetime.datetime(2000, 1, 2, 0, 0), region='E', store='0', orders=2, volume=41.3322711685)\n",
      "StoreOrders(date=datetime.datetime(2000, 1, 2, 0, 0), region='E', store='1', orders=3, volume=62.2623378721)\n",
      "StoreOrders(date=datetime.datetime(2000, 1, 2, 0, 0), region='E', store='2', orders=2, volume=33.1530011664)\n",
      "StoreOrders(date=datetime.datetime(2000, 1, 2, 0, 0), region='E', store='3', orders=4, volume=86.278202688)\n",
      "StoreOrders(date=datetime.datetime(2000, 1, 2, 0, 0), region='S', store='0', orders=6, volume=108.318439119)\n",
      "StoreOrders(date=datetime.datetime(2000, 1, 2, 0, 0), region='S', store='1', orders=3, volume=65.9870455892)\n",
      "StoreOrders(date=datetime.datetime(2000, 1, 2, 0, 0), region='S', store='2', orders=3, volume=52.6408312531)\n",
      "StoreOrders(date=datetime.datetime(2000, 1, 2, 0, 0), region='S', store='3', orders=3, volume=57.6717027338)\n"
     ]
    }
   ],
   "source": [
    "import logging\n",
    "log = logging.getLogger()\n",
    "StoreOrders = namedtuple('StoreOrders', 'date region store orders volume')\n",
    "\n",
    "def store_data_reader(fp):\n",
    "    rdr = csv.reader(fp)\n",
    "    header = rdr.next()\n",
    "    for row in rdr:\n",
    "        try:\n",
    "            d = StoreOrders(\n",
    "                date=datetime.strptime(row[0], '%Y-%m-%d'),\n",
    "                region=row[1],\n",
    "                store=row[2],\n",
    "                orders=int(row[3]),\n",
    "                volume=float(row[4]))\n",
    "            yield d\n",
    "        except Exception as err:\n",
    "            log.warning('Could not convert row: %s', row)\n",
    "            raise\n",
    "        \n",
    "with open('store_data.csv') as fp:\n",
    "    rdr = store_data_reader(fp)\n",
    "    for i, row in enumerate(rdr):\n",
    "        print row\n",
    "        if i > 10:\n",
    "            break\n",
    "    "
   ]
  },
  {
   "cell_type": "code",
   "execution_count": 11,
   "metadata": {
    "collapsed": false
   },
   "outputs": [
    {
     "name": "stdout",
     "output_type": "stream",
     "text": [
      "StoreOrders(date=datetime.datetime(2000, 1, 2, 0, 0), region='N', store='0', orders=5, volume=100.476289298)\n",
      "StoreOrders(date=datetime.datetime(2000, 1, 2, 0, 0), region='N', store='1', orders=2, volume=48.7764146112)\n",
      "StoreOrders(date=datetime.datetime(2000, 1, 2, 0, 0), region='N', store='2', orders=3, volume=59.7178544882)\n",
      "StoreOrders(date=datetime.datetime(2000, 1, 2, 0, 0), region='N', store='3', orders=2, volume=37.3457794617)\n",
      "StoreOrders(date=datetime.datetime(2000, 1, 2, 0, 0), region='E', store='0', orders=2, volume=41.3322711685)\n",
      "StoreOrders(date=datetime.datetime(2000, 1, 2, 0, 0), region='E', store='1', orders=3, volume=62.2623378721)\n",
      "StoreOrders(date=datetime.datetime(2000, 1, 2, 0, 0), region='E', store='2', orders=2, volume=33.1530011664)\n",
      "StoreOrders(date=datetime.datetime(2000, 1, 2, 0, 0), region='E', store='3', orders=4, volume=86.278202688)\n",
      "StoreOrders(date=datetime.datetime(2000, 1, 2, 0, 0), region='S', store='0', orders=6, volume=108.318439119)\n",
      "StoreOrders(date=datetime.datetime(2000, 1, 2, 0, 0), region='S', store='1', orders=3, volume=65.9870455892)\n",
      "StoreOrders(date=datetime.datetime(2000, 1, 2, 0, 0), region='S', store='2', orders=3, volume=52.6408312531)\n",
      "StoreOrders(date=datetime.datetime(2000, 1, 2, 0, 0), region='S', store='3', orders=3, volume=57.6717027338)\n"
     ]
    }
   ],
   "source": [
    "def store_data_converter(row):\n",
    "    d = StoreOrders(\n",
    "        date=datetime.strptime(row[0], '%Y-%m-%d'),\n",
    "        region=row[1],\n",
    "        store=row[2],\n",
    "        orders=int(row[3]),\n",
    "        volume=float(row[4]))\n",
    "    return d\n",
    "        \n",
    "with open('store_data.csv') as fp:\n",
    "    row_iter = csv.reader(fp)\n",
    "    row_iter.next()\n",
    "    data = (store_data_converter(row) for row in row_iter)\n",
    "    for i, row in enumerate(data):\n",
    "        print row\n",
    "        if i > 10:\n",
    "            break\n"
   ]
  },
  {
   "cell_type": "code",
   "execution_count": 12,
   "metadata": {
    "collapsed": false
   },
   "outputs": [
    {
     "name": "stdout",
     "output_type": "stream",
     "text": [
      "{'date': datetime.datetime(2000, 1, 2, 0, 0), 'mean_orders': 3.25, 'mean_volume': 64.02922362699374}\n",
      "{'date': datetime.datetime(2000, 1, 9, 0, 0), 'mean_orders': 4.75, 'mean_volume': 89.8130480785125}\n",
      "{'date': datetime.datetime(2000, 1, 16, 0, 0), 'mean_orders': 4.0625, 'mean_volume': 83.17484736618125}\n",
      "{'date': datetime.datetime(2000, 1, 23, 0, 0), 'mean_orders': 4.0625, 'mean_volume': 82.6870601348375}\n",
      "{'date': datetime.datetime(2000, 1, 30, 0, 0), 'mean_orders': 3.6875, 'mean_volume': 71.70034689815}\n",
      "{'date': datetime.datetime(2000, 2, 6, 0, 0), 'mean_orders': 3.25, 'mean_volume': 66.284875965325}\n",
      "{'date': datetime.datetime(2000, 2, 13, 0, 0), 'mean_orders': 3.125, 'mean_volume': 60.6093959807125}\n",
      "{'date': datetime.datetime(2000, 2, 20, 0, 0), 'mean_orders': 4.625, 'mean_volume': 90.9661316158625}\n",
      "{'date': datetime.datetime(2000, 2, 27, 0, 0), 'mean_orders': 4.875, 'mean_volume': 94.37770537670625}\n",
      "{'date': datetime.datetime(2000, 3, 5, 0, 0), 'mean_orders': 3.875, 'mean_volume': 78.3735972122375}\n",
      "{'date': datetime.datetime(2000, 3, 12, 0, 0), 'mean_orders': 4.875, 'mean_volume': 99.6756458888125}\n",
      "{'date': datetime.datetime(2000, 3, 19, 0, 0), 'mean_orders': 4.125, 'mean_volume': 82.73385631948125}\n"
     ]
    }
   ],
   "source": [
    "from itertools import groupby\n",
    "\n",
    "def agg_orders_by_date(sd_iter):\n",
    "    for dt, dt_iter in groupby(sd_iter, key=lambda sd: sd.date):\n",
    "        dt_data = list(dt_iter)\n",
    "        sum_orders = sum(sd.orders for sd in dt_data)\n",
    "        sum_volume = sum(sd.volume for sd in dt_data)\n",
    "        yield dict(\n",
    "            date=dt, \n",
    "            mean_orders=float(sum_orders) / len(dt_data),\n",
    "            mean_volume=1.0 * sum_volume / len(dt_data))\n",
    "\n",
    "with open('store_data.csv') as fp:\n",
    "    rdr = store_data_reader(fp)\n",
    "    for i, stats in enumerate(agg_orders_by_date(rdr)):\n",
    "        print stats\n",
    "        if i > 10:\n",
    "            break\n"
   ]
  },
  {
   "cell_type": "code",
   "execution_count": 17,
   "metadata": {
    "collapsed": false
   },
   "outputs": [],
   "source": [
    "with open('store_data.csv') as fp_i, open('store_data.jsonlines', 'wb') as fp_o:\n",
    "    rdr = store_data_reader(fp_i)\n",
    "    for i, stats in enumerate(agg_orders_by_date(rdr)):\n",
    "        stats['date'] = stats['date'].isoformat()\n",
    "        json.dump(stats, fp_o)\n",
    "        fp_o.write('\\n')"
   ]
  },
  {
   "cell_type": "code",
   "execution_count": 14,
   "metadata": {
    "collapsed": false
   },
   "outputs": [
    {
     "name": "stdout",
     "output_type": "stream",
     "text": [
      "1 {\"date\": \"2000-01-02T00:00:00\", \"mean_orders\": 3.25, \"mean_volume\": 64.02922362699374}\n",
      "2 {\"date\": \"2000-01-09T00:00:00\", \"mean_orders\": 4.75, \"mean_volume\": 89.8130480785125}\n",
      "3 {\"date\": \"2000-01-16T00:00:00\", \"mean_orders\": 4.0625, \"mean_volume\": 83.17484736618125}\n",
      "4 {\"date\": \"2000-01-23T00:00:00\", \"mean_orders\": 4.0625, \"mean_volume\": 82.6870601348375}\n",
      "5 {\"date\": \"2000-01-30T00:00:00\", \"mean_orders\": 3.6875, \"mean_volume\": 71.70034689815}\n",
      "6 {\"date\": \"2000-02-06T00:00:00\", \"mean_orders\": 3.25, \"mean_volume\": 66.284875965325}\n",
      "7 {\"date\": \"2000-02-13T00:00:00\", \"mean_orders\": 3.125, \"mean_volume\": 60.6093959807125}\n"
     ]
    }
   ],
   "source": [
    "with open('store_data.jsonlines') as fp:\n",
    "    for i, line in enumerate(fp):\n",
    "        print i+1, line.strip()\n",
    "        if i > 5: break"
   ]
  },
  {
   "cell_type": "code",
   "execution_count": 18,
   "metadata": {
    "collapsed": false
   },
   "outputs": [
    {
     "name": "stdout",
     "output_type": "stream",
     "text": [
      "{'S': 3.958219178082192, 'E': 4.1219178082191785, 'W': 4.067123287671233, 'N': 4.001369863013698}\n"
     ]
    }
   ],
   "source": [
    "from collections import defaultdict\n",
    "\n",
    "def agg_orders_by_region(sd_iter):\n",
    "    total = defaultdict(float)\n",
    "    count = defaultdict(int)\n",
    "    for sd in sd_iter:\n",
    "        total[sd.region] += sd.orders\n",
    "        count[sd.region] += 1\n",
    "    return dict(\n",
    "        (rgn, total[rgn] / count[rgn])\n",
    "        for rgn in total)\n",
    "\n",
    "with open('store_data.csv') as fp:\n",
    "    rdr = store_data_reader(fp)\n",
    "    print agg_orders_by_region(rdr)\n"
   ]
  },
  {
   "cell_type": "code",
   "execution_count": 9,
   "metadata": {
    "collapsed": false
   },
   "outputs": [
    {
     "name": "stdout",
     "output_type": "stream",
     "text": [
      "5841\n"
     ]
    }
   ],
   "source": [
    "with open('store_data.csv') as fp:\n",
    "    lines = fp.readlines()\n",
    "print len(lines)"
   ]
  },
  {
   "cell_type": "markdown",
   "metadata": {},
   "source": [
    "## Encoding"
   ]
  },
  {
   "cell_type": "code",
   "execution_count": 20,
   "metadata": {
    "collapsed": false
   },
   "outputs": [
    {
     "name": "stdout",
     "output_type": "stream",
     "text": [
      "Collecting chardet\n",
      "  Downloading chardet-2.3.0.tar.gz (164kB)\n",
      "\u001b[K    100% |████████████████████████████████| 174kB 386kB/s \n",
      "\u001b[?25hBuilding wheels for collected packages: chardet\n",
      "  Running setup.py bdist_wheel for chardet ... \u001b[?25l-\b \b\\\b \bdone\n",
      "\u001b[?25h  Stored in directory: /Users/rick446/Library/Caches/pip/wheels/28/8c/bf/a69199bd4901d84e13362f95a9ea7bc9a691fed2d655a90bc4\n",
      "Successfully built chardet\n",
      "Installing collected packages: chardet\n",
      "Successfully installed chardet-2.3.0\n"
     ]
    }
   ],
   "source": [
    "!pip install chardet"
   ]
  },
  {
   "cell_type": "code",
   "execution_count": 21,
   "metadata": {
    "collapsed": true
   },
   "outputs": [],
   "source": [
    "import chardet"
   ]
  },
  {
   "cell_type": "code",
   "execution_count": 23,
   "metadata": {
    "collapsed": false
   },
   "outputs": [
    {
     "data": {
      "text/plain": [
       "{'confidence': 1.0, 'encoding': 'ascii'}"
      ]
     },
     "execution_count": 23,
     "metadata": {},
     "output_type": "execute_result"
    }
   ],
   "source": [
    "chardet.detect(open('store_data.csv').read())"
   ]
  },
  {
   "cell_type": "code",
   "execution_count": 27,
   "metadata": {
    "collapsed": true
   },
   "outputs": [],
   "source": [
    "text = u'''信息和新闻资讯的领先提供商'''"
   ]
  },
  {
   "cell_type": "code",
   "execution_count": 31,
   "metadata": {
    "collapsed": false,
    "scrolled": true
   },
   "outputs": [
    {
     "data": {
      "text/plain": [
       "{'confidence': 0.99, 'encoding': 'utf-8'}"
      ]
     },
     "execution_count": 31,
     "metadata": {},
     "output_type": "execute_result"
    }
   ],
   "source": [
    "chardet.detect(text.encode('utf8'))"
   ]
  },
  {
   "cell_type": "code",
   "execution_count": 32,
   "metadata": {
    "collapsed": true
   },
   "outputs": [],
   "source": [
    "import re"
   ]
  },
  {
   "cell_type": "code",
   "execution_count": 33,
   "metadata": {
    "collapsed": true
   },
   "outputs": [],
   "source": [
    "s = '1 + 1'\n",
    "re_integer = re.compile(r'[\\d]+')\n",
    "re_operator = re.compile(r'[+-/*]')"
   ]
  },
  {
   "cell_type": "code",
   "execution_count": 50,
   "metadata": {
    "collapsed": false
   },
   "outputs": [
    {
     "data": {
      "text/plain": [
       "{'int': '1', 'op': None, 'ws': None}"
      ]
     },
     "execution_count": 50,
     "metadata": {},
     "output_type": "execute_result"
    }
   ],
   "source": [
    "re_either = re.compile(r'''\n",
    "(?P<int>[\\d]+)    # integers\n",
    "|(?P<op>[+-/*])   # operator\n",
    "|(?P<ws>[ ]+)\n",
    "''', re.VERBOSE)\n",
    "re_either.match(s).groupdict()"
   ]
  },
  {
   "cell_type": "code",
   "execution_count": 51,
   "metadata": {
    "collapsed": false
   },
   "outputs": [
    {
     "name": "stdout",
     "output_type": "stream",
     "text": [
      "{'int': '1', 'ws': None, 'op': None} 1\n",
      "{'int': None, 'ws': ' ', 'op': None}  \n",
      "{'int': None, 'ws': None, 'op': '+'} +\n",
      "{'int': None, 'ws': ' ', 'op': None}  \n",
      "{'int': '1', 'ws': None, 'op': None} 1\n"
     ]
    }
   ],
   "source": [
    "for token in re_either.finditer(s):\n",
    "    print token.groupdict(), token.group(0)"
   ]
  },
  {
   "cell_type": "code",
   "execution_count": 57,
   "metadata": {
    "collapsed": false,
    "scrolled": true
   },
   "outputs": [],
   "source": [
    "import tokenize\n",
    "import StringIO\n",
    "fp = StringIO.StringIO(s)"
   ]
  },
  {
   "cell_type": "code",
   "execution_count": 58,
   "metadata": {
    "collapsed": false,
    "scrolled": true
   },
   "outputs": [
    {
     "name": "stdout",
     "output_type": "stream",
     "text": [
      "1,0-1,1:\tNUMBER\t'1'\n",
      "1,2-1,3:\tOP\t'+'\n",
      "1,4-1,5:\tNUMBER\t'1'\n",
      "2,0-2,0:\tENDMARKER\t''\n"
     ]
    }
   ],
   "source": [
    "tokenize.tokenize(fp.readline)"
   ]
  },
  {
   "cell_type": "code",
   "execution_count": 59,
   "metadata": {
    "collapsed": true
   },
   "outputs": [],
   "source": [
    "import ast"
   ]
  },
  {
   "cell_type": "code",
   "execution_count": 69,
   "metadata": {
    "collapsed": false
   },
   "outputs": [
    {
     "data": {
      "text/plain": [
       "[1, 2, 3, 4, 5]"
      ]
     },
     "execution_count": 69,
     "metadata": {},
     "output_type": "execute_result"
    }
   ],
   "source": [
    "ast.literal_eval('[1,2,3,4,5]')"
   ]
  },
  {
   "cell_type": "code",
   "execution_count": null,
   "metadata": {
    "collapsed": true
   },
   "outputs": [],
   "source": []
  }
 ],
 "metadata": {
  "kernelspec": {
   "display_name": "Python 2",
   "language": "python",
   "name": "python2"
  },
  "language_info": {
   "codemirror_mode": {
    "name": "ipython",
    "version": 2
   },
   "file_extension": ".py",
   "mimetype": "text/x-python",
   "name": "python",
   "nbconvert_exporter": "python",
   "pygments_lexer": "ipython2",
   "version": "2.7.11"
  }
 },
 "nbformat": 4,
 "nbformat_minor": 0
}
